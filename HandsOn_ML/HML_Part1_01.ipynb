{
 "cells": [
  {
   "cell_type": "markdown",
   "metadata": {},
   "source": [
    "> # CHAPTER 1 한 눈에 보는 머신러닝"
   ]
  },
  {
   "cell_type": "markdown",
   "metadata": {},
   "source": [
    "- 우리 생활의 주류가 된 첫 번째 머신러닝 애플리케이션은 스팸 필터 (1990년대)\n",
    "- 이후 추천과 음성 검색으로 발전"
   ]
  },
  {
   "cell_type": "markdown",
   "metadata": {},
   "source": [
    "## 1.1 머신러닝이란?"
   ]
  },
  {
   "cell_type": "markdown",
   "metadata": {},
   "source": [
    "- 데이터로부터 학습하도록 컴퓨터를 프로그래밍 하는 과학(예술)\n",
    "- 시스템이 학습할 때 사용하는 것: training set(훈련 세트), training instance(훈련 사례 or 데이터, 샘플)\n",
    "- 작업 T에 대해 성능을 P로 측정하였을 때 경험 E로 학습"
   ]
  },
  {
   "cell_type": "markdown",
   "metadata": {},
   "source": [
    "## 1.2 왜 머신러닝을 사용하는가?"
   ]
  },
  {
   "cell_type": "markdown",
   "metadata": {},
   "source": [
    "- 전통적인 접근 방식으로는 문제 해결이 복잡해짐, 규칙 생성 多\n",
    "- 머신러닝을 기반하면 비교적 과정이 단순해지며 유지보수가 쉬워짐\n",
    "- 머신러닝 기술을 적용, 데이터를 분석하면 패턴을 발견할 수 있음: 데이터 마이닝"
   ]
  },
  {
   "cell_type": "markdown",
   "metadata": {},
   "source": [
    "## 1.3 머신러닝 시스템의 종류"
   ]
  },
  {
   "cell_type": "markdown",
   "metadata": {},
   "source": [
    "- 사람의 감독 하에 훈련하는 것인지? (지도, 비지도, 준지도, 강화 학습)\n",
    "- 실시간으로 점진적인 학습을 하는지? (온라인 학습, 배치 학습)\n",
    "- 알고 있는 데이터와 새 데이터를 비교하는 것인지? 예측 모델을 만드는? (사례 기반 학습, 모델 기반 학습)"
   ]
  },
  {
   "cell_type": "markdown",
   "metadata": {},
   "source": [
    "### 1.3.1 지도 학습과 비지도 학습"
   ]
  },
  {
   "cell_type": "markdown",
   "metadata": {},
   "source": [
    "#### 지도 학습"
   ]
  },
  {
   "cell_type": "markdown",
   "metadata": {},
   "source": [
    "- 알고리즘에 주입하는 훈련 데이터에 레이블이라는 답이 포함됨\n",
    "- Classification(분류)\n",
    "- Regression(회귀)\n",
    "\n",
    "※ 속성은 데이터 타입, 특성(feature)은 속성+값\n",
    "\n",
    "- k-Nearest Neighbors\n",
    "- Linear Regression\n",
    "- Logistic Regression\n",
    "- Support Vector Machines\n",
    "- Decision Tree, Random Forests\n",
    "- Neural networks"
   ]
  },
  {
   "cell_type": "markdown",
   "metadata": {},
   "source": [
    "#### 비지도 학습"
   ]
  },
  {
   "cell_type": "markdown",
   "metadata": {},
   "source": [
    "- 훈련 데이터에 레이블이 없는 경우\n",
    "\n",
    "\n",
    "- Clustering\n",
    "    - k-Means\n",
    "    - Hierarchical Cluster Analysis(HCA)\n",
    "    - Expectation Maximization\n",
    "- Visualization, Dimensionality reduction, Feature extraction, Anomaly detection\n",
    "    - Principal Component Analysis(PCA)\n",
    "    - kernel PCA\n",
    "    - Locally-Linear Embedding(LLE)\n",
    "    - t-distributed Stochastic Neighbor Embedding\n",
    "- Association Rule Learning\n",
    "    - Apriori\n",
    "    - Eclat"
   ]
  },
  {
   "cell_type": "markdown",
   "metadata": {},
   "source": [
    "#### 준지도 학습"
   ]
  },
  {
   "cell_type": "markdown",
   "metadata": {},
   "source": [
    "- 보통은 레이블이 없는 데이터가 많고, 레이블이 있는 데이터는 아주 조금\n",
    "- 구글의 포토 호스팅 서비스\n",
    "- 지도 학습과 비지도 학습의 조합\n",
    "- 심층 신뢰 신경망(deep belief network, DBN)은 제한된 볼츠만 머신(restricted Boltzmann machine, RBM)에 기초\n",
    "- RBM이 비지도 학습 방식으로 순차적으로 훈련, 지도 학습 방식으로 세밀하게 조정"
   ]
  },
  {
   "cell_type": "markdown",
   "metadata": {},
   "source": [
    "#### 강화 학습"
   ]
  },
  {
   "cell_type": "markdown",
   "metadata": {},
   "source": [
    "- 에이전트: 학습하는 시스템\n",
    "- 환경을 관찰해서 행동을 실행하고 보상 또는 벌점을 받음\n",
    "- 시간이 지나면서 가장 큰 보상을 위한 정책(policy)이라 불리는 최상의 전략을 학습"
   ]
  },
  {
   "cell_type": "markdown",
   "metadata": {},
   "source": [
    "### 1.3.2 배치 학습과 온라인 학습"
   ]
  },
  {
   "cell_type": "markdown",
   "metadata": {},
   "source": [
    "- 입력 데이터의 스트림으로부터 점진적으로 학습할 수 있는지 여부"
   ]
  },
  {
   "cell_type": "markdown",
   "metadata": {},
   "source": [
    "#### 배치 학습"
   ]
  },
  {
   "cell_type": "markdown",
   "metadata": {},
   "source": [
    "- 점진적으로 학습할 수 없음\n",
    "- 가용한 데이터를 모두 사용해 훈련\n",
    "- 오프라인에서 수행\n",
    "- 새로운 데이터에 대해 학습하려면 전체 데이터를 사용하여 처음부터 다시 훈련해야 함\n",
    "- 큰 비용 발생\n",
    "- 자원이 제한된 시스템일 경우 심각한 문제 유발"
   ]
  },
  {
   "cell_type": "markdown",
   "metadata": {},
   "source": [
    "#### 온라인 학습"
   ]
  },
  {
   "cell_type": "markdown",
   "metadata": {},
   "source": [
    "- 데이터를 순차적으로 한 개씩 또는 미니배치라는 작은 묶음 단위로 시스템 훈련\n",
    "- 데이터가 도착하는 대로 즉시 학습\n",
    "- 빠른 변화에 스스로 적응해야 하는 시스템에 적합\n",
    "- 컴퓨팅 자원이 제한된 경우에도 좋은 선택\n",
    "\n",
    "\n",
    "- 컴퓨터 한 대로 학습 불가능한 아주 큰 데이터셋을 분할하여 훈련\n",
    "- 외부 메모리 학습\n",
    "- 이 경우에 전체 프로세스는 보통 오프라인으로 진행\n",
    "- 점진적 학습"
   ]
  },
  {
   "cell_type": "markdown",
   "metadata": {},
   "source": [
    "#### 온라인 학습에서 중요한 '학습률'"
   ]
  },
  {
   "cell_type": "markdown",
   "metadata": {},
   "source": [
    "- 변화하는 데이터에 얼마나 빠르게 적응할 것인지?\n",
    "- 학습률을 높게 하면 시스템이 데이터에 빠르게 적응 / 예전 데이터는 금방 잊어버림\n",
    "- 학습률을 낮게 하면 잡음이나 대표성이 없는 데이터에 덜 민감해짐"
   ]
  },
  {
   "cell_type": "markdown",
   "metadata": {},
   "source": [
    "#### 온라인 학습에서의 문제점"
   ]
  },
  {
   "cell_type": "markdown",
   "metadata": {},
   "source": [
    "- 시스템에 나쁜 데이터가 주입되었을 때 시스템의 성능이 점점 감소\n",
    "- 따라서 시스템을 면밀히 모니터링하고 성능 감소가 감지되면 즉각 학습을 중지시켜야 함"
   ]
  },
  {
   "cell_type": "markdown",
   "metadata": {},
   "source": [
    "### 1.3.3 사례 기반 학습과 모델 기반 학습"
   ]
  },
  {
   "cell_type": "markdown",
   "metadata": {},
   "source": [
    "- 머신러닝 시스템은 어떻게 일반화되는가에 따라서 분류할 수도 있음"
   ]
  },
  {
   "cell_type": "markdown",
   "metadata": {},
   "source": [
    "#### 사례 기반 학습"
   ]
  },
  {
   "cell_type": "code",
   "execution_count": null,
   "metadata": {},
   "outputs": [],
   "source": []
  }
 ],
 "metadata": {
  "kernelspec": {
   "display_name": "Python 3",
   "language": "python",
   "name": "python3"
  },
  "language_info": {
   "codemirror_mode": {
    "name": "ipython",
    "version": 3
   },
   "file_extension": ".py",
   "mimetype": "text/x-python",
   "name": "python",
   "nbconvert_exporter": "python",
   "pygments_lexer": "ipython3",
   "version": "3.7.1"
  }
 },
 "nbformat": 4,
 "nbformat_minor": 2
}
