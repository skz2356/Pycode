{
 "cells": [
  {
   "cell_type": "markdown",
   "metadata": {},
   "source": [
    "> # CHAPTER 1 한 눈에 보는 머신러닝"
   ]
  },
  {
   "cell_type": "markdown",
   "metadata": {},
   "source": [
    "- 우리 생활의 주류가 된 첫 번째 머신러닝 애플리케이션은 스팸 필터 (1990년대)\n",
    "- 이후 추천과 음성 검색으로 발전"
   ]
  },
  {
   "cell_type": "markdown",
   "metadata": {},
   "source": [
    "## 1.1 머신러닝이란?"
   ]
  },
  {
   "cell_type": "markdown",
   "metadata": {},
   "source": [
    "- 데이터로부터 학습하도록 컴퓨터를 프로그래밍 하는 과학(예술)\n",
    "- 시스템이 학습할 때 사용하는 것: training set(훈련 세트), training instance(훈련 사례 or 데이터, 샘플)\n",
    "- 작업 T에 대해 성능을 P로 측정하였을 때 경험 E로 학습"
   ]
  },
  {
   "cell_type": "markdown",
   "metadata": {},
   "source": [
    "## 1.2 왜 머신러닝을 사용하는가?"
   ]
  },
  {
   "cell_type": "markdown",
   "metadata": {},
   "source": [
    "- 전통적인 접근 방식으로는 문제 해결이 복잡해짐, 규칙 생성 多\n",
    "- 머신러닝을 기반하면 비교적 과정이 단순해지며 유지보수가 쉬워짐\n",
    "- 머신러닝 기술을 적용, 데이터를 분석하면 패턴을 발견할 수 있음: 데이터 마이닝"
   ]
  },
  {
   "cell_type": "markdown",
   "metadata": {},
   "source": [
    "## 1.3 머신러닝 시스템의 종류"
   ]
  },
  {
   "cell_type": "markdown",
   "metadata": {},
   "source": [
    "- 사람의 감독 하에 훈련하는 것인지? (지도, 비지도, 준지도, 강화 학습)\n",
    "- 실시간으로 점진적인 학습을 하는지? (온라인 학습, 배치 학습)\n",
    "- 알고 있는 데이터와 새 데이터를 비교하는 것인지? 예측 모델을 만드는? (사례 기반 학습, 모델 기반 학습)"
   ]
  },
  {
   "cell_type": "markdown",
   "metadata": {},
   "source": [
    "### 1.3.1 지도 학습과 비지도 학습"
   ]
  },
  {
   "cell_type": "markdown",
   "metadata": {},
   "source": [
    "#### 지도 학습"
   ]
  },
  {
   "cell_type": "markdown",
   "metadata": {},
   "source": [
    "- 알고리즘에 주입하는 훈련 데이터에 레이블이라는 답이 포함됨\n",
    "- Classification(분류)\n",
    "- Regression(회귀)\n",
    "\n",
    "※ 속성은 데이터 타입, 특성(feature)은 속성+값\n",
    "\n",
    "- k-Nearest Neighbors\n",
    "- Linear Regression\n",
    "- Logistic Regression\n",
    "- Support Vector Machines\n",
    "- Decision Tree, Random Forests\n",
    "- Neural networks"
   ]
  },
  {
   "cell_type": "markdown",
   "metadata": {},
   "source": [
    "#### 비지도 학습"
   ]
  },
  {
   "cell_type": "markdown",
   "metadata": {},
   "source": [
    "- 훈련 데이터에 레이블이 없는 경우\n",
    "\n",
    "\n",
    "- Clustering\n",
    "    - k-Means\n",
    "    - Hierarchical Cluster Analysis(HCA)\n",
    "    - Expectation Maximization\n",
    "- Visualization, Dimensionality Reduction\n",
    "    - Principal Component Analysis(PCA)\n",
    "    - Kernel PCA\n",
    "    - Locally-Linear Embedding(LLE)\n",
    "    - t-distributed Stochastic Neighbor Embedding\n",
    "- Association Rule Learning\n",
    "    - Apriori\n",
    "    - Eclat"
   ]
  },
  {
   "cell_type": "code",
   "execution_count": null,
   "metadata": {},
   "outputs": [],
   "source": []
  },
  {
   "cell_type": "code",
   "execution_count": null,
   "metadata": {},
   "outputs": [],
   "source": []
  },
  {
   "cell_type": "code",
   "execution_count": null,
   "metadata": {},
   "outputs": [],
   "source": []
  },
  {
   "cell_type": "code",
   "execution_count": null,
   "metadata": {},
   "outputs": [],
   "source": []
  },
  {
   "cell_type": "code",
   "execution_count": null,
   "metadata": {},
   "outputs": [],
   "source": []
  },
  {
   "cell_type": "code",
   "execution_count": null,
   "metadata": {},
   "outputs": [],
   "source": []
  },
  {
   "cell_type": "code",
   "execution_count": null,
   "metadata": {},
   "outputs": [],
   "source": []
  },
  {
   "cell_type": "code",
   "execution_count": null,
   "metadata": {},
   "outputs": [],
   "source": []
  },
  {
   "cell_type": "code",
   "execution_count": null,
   "metadata": {},
   "outputs": [],
   "source": []
  },
  {
   "cell_type": "code",
   "execution_count": null,
   "metadata": {},
   "outputs": [],
   "source": []
  },
  {
   "cell_type": "code",
   "execution_count": null,
   "metadata": {},
   "outputs": [],
   "source": []
  }
 ],
 "metadata": {
  "kernelspec": {
   "display_name": "Python 3",
   "language": "python",
   "name": "python3"
  },
  "language_info": {
   "codemirror_mode": {
    "name": "ipython",
    "version": 3
   },
   "file_extension": ".py",
   "mimetype": "text/x-python",
   "name": "python",
   "nbconvert_exporter": "python",
   "pygments_lexer": "ipython3",
   "version": "3.7.1"
  }
 },
 "nbformat": 4,
 "nbformat_minor": 2
}
