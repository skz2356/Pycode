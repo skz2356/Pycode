{
 "cells": [
  {
   "cell_type": "markdown",
   "metadata": {},
   "source": [
    "> # CHAPTER 1 한 눈에 보는 머신러닝"
   ]
  },
  {
   "cell_type": "markdown",
   "metadata": {},
   "source": [
    "- 우리 생활의 주류가 된 첫 번째 머신러닝 애플리케이션은 스팸 필터 (1990년대)\n",
    "- 이후 추천과 음성 검색으로 발전"
   ]
  },
  {
   "cell_type": "markdown",
   "metadata": {},
   "source": [
    "## 1.1 머신러닝이란?"
   ]
  },
  {
   "cell_type": "markdown",
   "metadata": {},
   "source": [
    "- 데이터로부터 학습하도록 컴퓨터를 프로그래밍 하는 과학(예술)\n",
    "- 시스템이 학습할 때 사용하는 것: training set(훈련 세트), training instance(훈련 사례 or 데이터, 샘플)\n",
    "- 작업 T에 대해 성능을 P로 측정하였을 때 경험 E로 학습"
   ]
  },
  {
   "cell_type": "markdown",
   "metadata": {},
   "source": [
    "## 1.2 왜 머신러닝을 사용하는가?"
   ]
  },
  {
   "cell_type": "markdown",
   "metadata": {},
   "source": [
    "- 전통적인 접근 방식으로는 문제 해결이 복잡해짐, 규칙 생성 多\n",
    "- 머신러닝을 기반하면 비교적 과정이 단순해지며 유지보수가 쉬워짐\n",
    "- 머신러닝 기술을 적용, 데이터를 분석하면 패턴을 발견할 수 있음: 데이터 마이닝"
   ]
  },
  {
   "cell_type": "markdown",
   "metadata": {},
   "source": [
    "## 1.3 머신러닝 시스템의 종류"
   ]
  },
  {
   "cell_type": "markdown",
   "metadata": {},
   "source": [
    "- 사람의 감독 하에 훈련하는 것인지? (지도, 비지도, 준지도, 강화 학습)\n",
    "- 실시간으로 점진적인 학습을 하는지? (온라인 학습, 배치 학습)\n",
    "- 알고 있는 데이터와 새 데이터를 비교하는 것인지? 예측 모델을 만드는? (사례 기반 학습, 모델 기반 학습)"
   ]
  },
  {
   "cell_type": "markdown",
   "metadata": {},
   "source": [
    "### 1.3.1 지도 학습과 비지도 학습"
   ]
  },
  {
   "cell_type": "markdown",
   "metadata": {},
   "source": [
    "#### 지도 학습"
   ]
  },
  {
   "cell_type": "markdown",
   "metadata": {},
   "source": [
    "- 알고리즘에 주입하는 훈련 데이터에 레이블이라는 답이 포함됨\n",
    "- Classification(분류)\n",
    "- Regression(회귀)\n",
    "\n",
    "※ 속성은 데이터 타입, 특성(feature)은 속성+값\n",
    "\n",
    "- k-Nearest Neighbors\n",
    "- Linear Regression\n",
    "- Logistic Regression\n",
    "- Support Vector Machines\n",
    "- Decision Tree, Random Forests\n",
    "- Neural networks"
   ]
  },
  {
   "cell_type": "markdown",
   "metadata": {},
   "source": [
    "#### 비지도 학습"
   ]
  },
  {
   "cell_type": "markdown",
   "metadata": {},
   "source": [
    "- 훈련 데이터에 레이블이 없는 경우\n",
    "\n",
    "\n",
    "- Clustering\n",
    "    - k-Means\n",
    "    - Hierarchical Cluster Analysis(HCA)\n",
    "    - Expectation Maximization\n",
    "- Visualization, Dimensionality reduction, Feature extraction, Anomaly detection\n",
    "    - Principal Component Analysis(PCA)\n",
    "    - kernel PCA\n",
    "    - Locally-Linear Embedding(LLE)\n",
    "    - t-distributed Stochastic Neighbor Embedding\n",
    "- Association Rule Learning\n",
    "    - Apriori\n",
    "    - Eclat"
   ]
  },
  {
   "cell_type": "markdown",
   "metadata": {},
   "source": [
    "#### 준지도 학습"
   ]
  },
  {
   "cell_type": "markdown",
   "metadata": {},
   "source": [
    "- 보통은 레이블이 없는 데이터가 많고, 레이블이 있는 데이터는 아주 조금\n",
    "- 구글의 포토 호스팅 서비스\n",
    "- 지도 학습과 비지도 학습의 조합\n",
    "- 심층 신뢰 신경망(deep belief network, DBN)은 제한된 볼츠만 머신(restricted Boltzmann machine, RBM)에 기초\n",
    "- RBM이 비지도 학습 방식으로 순차적으로 훈련, 지도 학습 방식으로 세밀하게 조정"
   ]
  },
  {
   "cell_type": "markdown",
   "metadata": {},
   "source": [
    "#### 강화 학습"
   ]
  },
  {
   "cell_type": "markdown",
   "metadata": {},
   "source": [
    "- 에이전트: 학습하는 시스템\n",
    "- 환경을 관찰해서 행동을 실행하고 보상 또는 벌점을 받음\n",
    "- 시간이 지나면서 가장 큰 보상을 위한 정책(policy)이라 불리는 최상의 전략을 학습"
   ]
  },
  {
   "cell_type": "markdown",
   "metadata": {},
   "source": [
    "### 1.3.2 배치 학습과 온라인 학습"
   ]
  },
  {
   "cell_type": "markdown",
   "metadata": {},
   "source": [
    "- 입력 데이터의 스트림으로부터 점진적으로 학습할 수 있는지 여부"
   ]
  },
  {
   "cell_type": "markdown",
   "metadata": {},
   "source": [
    "#### 배치 학습"
   ]
  },
  {
   "cell_type": "markdown",
   "metadata": {},
   "source": [
    "- 점진적으로 학습할 수 없음\n",
    "- 가용한 데이터를 모두 사용해 훈련\n",
    "- 오프라인에서 수행\n",
    "- 새로운 데이터에 대해 학습하려면 전체 데이터를 사용하여 처음부터 다시 훈련해야 함\n",
    "- 큰 비용 발생\n",
    "- 자원이 제한된 시스템일 경우 심각한 문제 유발"
   ]
  },
  {
   "cell_type": "markdown",
   "metadata": {},
   "source": [
    "#### 온라인 학습"
   ]
  },
  {
   "cell_type": "markdown",
   "metadata": {},
   "source": [
    "- 데이터를 순차적으로 한 개씩 또는 미니배치라는 작은 묶음 단위로 시스템 훈련\n",
    "- 데이터가 도착하는 대로 즉시 학습\n",
    "- 빠른 변화에 스스로 적응해야 하는 시스템에 적합\n",
    "- 컴퓨팅 자원이 제한된 경우에도 좋은 선택\n",
    "\n",
    "\n",
    "- 컴퓨터 한 대로 학습 불가능한 아주 큰 데이터셋을 분할하여 훈련\n",
    "- 외부 메모리 학습\n",
    "- 이 경우에 전체 프로세스는 보통 오프라인으로 진행\n",
    "- 점진적 학습"
   ]
  },
  {
   "cell_type": "markdown",
   "metadata": {},
   "source": [
    "#### 온라인 학습에서 중요한 '학습률'"
   ]
  },
  {
   "cell_type": "markdown",
   "metadata": {},
   "source": [
    "- 변화하는 데이터에 얼마나 빠르게 적응할 것인지?\n",
    "- 학습률을 높게 하면 시스템이 데이터에 빠르게 적응 / 예전 데이터는 금방 잊어버림\n",
    "- 학습률을 낮게 하면 잡음이나 대표성이 없는 데이터에 덜 민감해짐"
   ]
  },
  {
   "cell_type": "markdown",
   "metadata": {},
   "source": [
    "#### 온라인 학습에서의 문제점"
   ]
  },
  {
   "cell_type": "markdown",
   "metadata": {},
   "source": [
    "- 시스템에 나쁜 데이터가 주입되었을 때 시스템의 성능이 점점 감소\n",
    "- 따라서 시스템을 면밀히 모니터링하고 성능 감소가 감지되면 즉각 학습을 중지시켜야 함"
   ]
  },
  {
   "cell_type": "markdown",
   "metadata": {},
   "source": [
    "### 1.3.3 사례 기반 학습과 모델 기반 학습"
   ]
  },
  {
   "cell_type": "markdown",
   "metadata": {},
   "source": [
    "- 머신러닝 시스템은 어떻게 일반화되는가에 따라서 분류할 수도 있음"
   ]
  },
  {
   "cell_type": "markdown",
   "metadata": {},
   "source": [
    "#### 사례 기반 학습"
   ]
  },
  {
   "cell_type": "markdown",
   "metadata": {},
   "source": [
    "- 가장 간단한 형태의 학습은 단순 기억\n",
    "- 스팸 메일과 동일한 메일을 스팸이라고 지정하는 대신 유사한 메일을 구분하도록 만든다면?\n",
    "    - 두 메일 사이의 유사도(similarity)를 측정해야 함\n",
    "    - 예) 공통으로 포함한 단어의 수를 세는 것\n",
    "    - 공통인 단어가 많으면 스팸으로 분류\n",
    "- 시스템이 사례를 기억함으로써 학습\n",
    "- 유사도 측정을 통해 새로운 데이터에 일반화"
   ]
  },
  {
   "cell_type": "markdown",
   "metadata": {},
   "source": [
    "#### 모델 기반 학습"
   ]
  },
  {
   "cell_type": "markdown",
   "metadata": {},
   "source": [
    "- 샘플들의 모델을 만들어 예측에 사용\n",
    "- 선형 함수로 삶의 만족도를 모델링한다?: 모델 선택\n",
    "- 모델이 얼마나 좋은지 측정하는 효용 함수(utility function)\n",
    "- 또는 적합도 함수(fitness function)을 정의\n",
    "- 또는 얼마나 나쁜지 측정하는 비용 함수(cost function)을 정의"
   ]
  },
  {
   "cell_type": "code",
   "execution_count": 1,
   "metadata": {},
   "outputs": [],
   "source": [
    "import matplotlib\n",
    "import matplotlib.pyplot as plt\n",
    "import numpy as np\n",
    "import pandas as pd\n",
    "import sklearn\n",
    "\n",
    "# 데이터 적재\n",
    "oecd_bli = pd.read_csv(\"C://Users//JH//Desktop//BLI2015_19032019155358382.csv\", thousands=',')\n",
    "gdp_per_capita = pd.read_csv(\"C://Users//JH//Desktop//WEO_Data.xls\", thousands=',', delimiter='\\t',\n",
    "                            encoding='latin1', na_values='n/a')\n"
   ]
  },
  {
   "cell_type": "code",
   "execution_count": 3,
   "metadata": {},
   "outputs": [],
   "source": [
    "# prepare_country_stats 함수\n",
    "def prepare_country_stats(oecd_bli, gdp_per_capita):\n",
    "    oecd_bli = oecd_bli[oecd_bli[\"INEQUALITY\"]==\"TOT\"]\n",
    "    oecd_bli = oecd_bli.pivot(index=\"Country\", columns=\"Indicator\", values=\"Value\")\n",
    "    gdp_per_capita.rename(columns={\"2015\": \"GDP per capita\"}, inplace=True)\n",
    "    gdp_per_capita.set_index(\"Country\", inplace=True)\n",
    "    full_country_stats = pd.merge(left=oecd_bli, right=gdp_per_capita,\n",
    "                                  left_index=True, right_index=True)\n",
    "    full_country_stats.sort_values(by=\"GDP per capita\", inplace=True)\n",
    "    remove_indices = [0, 1, 6, 8, 33, 34, 35]\n",
    "    keep_indices = list(set(range(36)) - set(remove_indices))\n",
    "    return full_country_stats[[\"GDP per capita\", 'Life satisfaction']].iloc[keep_indices]"
   ]
  },
  {
   "cell_type": "code",
   "execution_count": 5,
   "metadata": {},
   "outputs": [],
   "source": [
    "# 데이터 준비\n",
    "country_stats = prepare_country_stats(oecd_bli, gdp_per_capita)\n",
    "X = np.c_[country_stats[\"GDP per capita\"]]\n",
    "y = np.c_[country_stats[\"Life satisfaction\"]]"
   ]
  },
  {
   "cell_type": "code",
   "execution_count": 6,
   "metadata": {},
   "outputs": [
    {
     "data": {
      "image/png": "[encoded data removed]",
      "text/plain": [
       "<Figure size 432x288 with 1 Axes>"
      ]
     },
     "metadata": {
      "needs_background": "light"
     },
     "output_type": "display_data"
    }
   ],
   "source": [
    "# 데이터 시각화\n",
    "country_stats.plot(kind='scatter', x=\"GDP per capita\", y=\"Life satisfaction\")\n",
    "plt.show()"
   ]
  },
  {
   "cell_type": "code",
   "execution_count": 8,
   "metadata": {},
   "outputs": [
    {
     "name": "stdout",
     "output_type": "stream",
     "text": [
      "[[5.9624234]]\n"
     ]
    }
   ],
   "source": [
    "# 선형 모델 선택\n",
    "from sklearn.linear_model import LinearRegression\n",
    "model = LinearRegression()\n",
    "\n",
    "# 모델 훈련\n",
    "model.fit(X, y)\n",
    "\n",
    "# 키프로스에 대한 예측\n",
    "X_new = [[22587]] # 키프로스의 1인당 GDP\n",
    "print(model.predict(X_new))"
   ]
  },
  {
   "cell_type": "markdown",
   "metadata": {},
   "source": [
    "#### 사례 기반의 학습 알고리즘을 사용한다면?"
   ]
  },
  {
   "cell_type": "markdown",
   "metadata": {},
   "source": [
    "- 1인당 GDP가 키프로스와 가장 가까운 슬로베니아(20,732달러)를 찾음\n",
    "- 슬로베니아의 삶의 만족도가 5.7이므로 키프로스의 삶의 만족도를 5.7로 예측\n",
    "- k-최근접 이웃 회귀"
   ]
  },
  {
   "cell_type": "markdown",
   "metadata": {},
   "source": [
    "#### 전형적인 머신러닝 프로젝트의 형태"
   ]
  },
  {
   "cell_type": "markdown",
   "metadata": {},
   "source": [
    "- 데이터를 분석\n",
    "- 모델을 선택\n",
    "- 훈련 데이터로 모델을 훈련(학습 알고리즘이 비용 함수를 최소화하는 모델 파라미터를 찾음)\n",
    "- 새로운 데이터에 모델을 적용해 예측(추론), 모델이 잘 일반화되길 기대"
   ]
  },
  {
   "cell_type": "markdown",
   "metadata": {},
   "source": [
    "## 1.4 머신러닝의 주요 도전 과제"
   ]
  },
  {
   "cell_type": "markdown",
   "metadata": {},
   "source": [
    "- 문제가 될 수 있는 두 가지 '나쁜 알고리즘', '나쁜 데이터'"
   ]
  },
  {
   "cell_type": "markdown",
   "metadata": {},
   "source": [
    "### 1.4.1 충분하지 않은 양의 훈련 데이터"
   ]
  },
  {
   "cell_type": "code",
   "execution_count": null,
   "metadata": {},
   "outputs": [],
   "source": []
  }
 ],
 "metadata": {
  "kernelspec": {
   "display_name": "Python 3",
   "language": "python",
   "name": "python3"
  },
  "language_info": {
   "codemirror_mode": {
    "name": "ipython",
    "version": 3
   },
   "file_extension": ".py",
   "mimetype": "text/x-python",
   "name": "python",
   "nbconvert_exporter": "python",
   "pygments_lexer": "ipython3",
   "version": "3.7.1"
  }
 },
 "nbformat": 4,
 "nbformat_minor": 2
}
