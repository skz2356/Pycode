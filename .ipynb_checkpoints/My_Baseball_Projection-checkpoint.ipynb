{
 "cells": [
  {
   "cell_type": "markdown",
   "metadata": {},
   "source": [
    "># MLB 선수 성적 예측을 해보자"
   ]
  },
  {
   "cell_type": "markdown",
   "metadata": {},
   "source": [
    "## 스탯캐스트 데이터로 선수 예측 시스템을 만들어보자"
   ]
  },
  {
   "cell_type": "code",
   "execution_count": 1,
   "metadata": {
    "scrolled": false
   },
   "outputs": [
    {
     "name": "stderr",
     "output_type": "stream",
     "text": [
      "C:\\Users\\skz2356\\AppData\\Local\\Continuum\\anaconda3\\lib\\site-packages\\IPython\\core\\interactiveshell.py:3049: DtypeWarning: Columns (43) have mixed types. Specify dtype option on import or set low_memory=False.\n",
      "  interactivity=interactivity, compiler=compiler, result=result)\n"
     ]
    }
   ],
   "source": [
    "import pandas as pd\n",
    "\n",
    "savant2018 = pd.read_csv('D://statcast//savant2018.csv')\n",
    "savant2017 = pd.read_csv('D://statcast//savant2017.csv')\n",
    "savant2016 = pd.read_csv('D://statcast//savant2016.csv')\n",
    "savant2015 = pd.read_csv('D://statcast//savant2015.csv')"
   ]
  },
  {
   "cell_type": "code",
   "execution_count": 2,
   "metadata": {},
   "outputs": [],
   "source": [
    "fan2018 = pd.read_csv('D://fangraphs//fangraphs2018.csv')[['Name', 'IP', 'Age', 'SO', 'ERA']]\n",
    "fan2017 = pd.read_csv('D://fangraphs//fangraphs2017.csv')[['Name', 'IP', 'Age', 'SO', 'ERA']]\n",
    "fan2016 = pd.read_csv('D://fangraphs//fangraphs2016.csv')[['Name', 'IP', 'Age', 'SO', 'ERA']]\n",
    "fan2015 = pd.read_csv('D://fangraphs//fangraphs2015.csv')[['Name', 'IP', 'Age', 'SO', 'ERA']]"
   ]
  },
  {
   "cell_type": "code",
   "execution_count": 3,
   "metadata": {
    "scrolled": false
   },
   "outputs": [
    {
     "data": {
      "text/html": [
       "<div>\n",
       "<style scoped>\n",
       "    .dataframe tbody tr th:only-of-type {\n",
       "        vertical-align: middle;\n",
       "    }\n",
       "\n",
       "    .dataframe tbody tr th {\n",
       "        vertical-align: top;\n",
       "    }\n",
       "\n",
       "    .dataframe thead th {\n",
       "        text-align: right;\n",
       "    }\n",
       "</style>\n",
       "<table border=\"1\" class=\"dataframe\">\n",
       "  <thead>\n",
       "    <tr style=\"text-align: right;\">\n",
       "      <th></th>\n",
       "      <th>pitch_type</th>\n",
       "      <th>game_date</th>\n",
       "      <th>release_speed</th>\n",
       "      <th>release_pos_x</th>\n",
       "      <th>release_pos_z</th>\n",
       "      <th>player_name</th>\n",
       "      <th>batter</th>\n",
       "      <th>pitcher</th>\n",
       "      <th>events</th>\n",
       "      <th>description</th>\n",
       "      <th>...</th>\n",
       "      <th>home_score</th>\n",
       "      <th>away_score</th>\n",
       "      <th>bat_score</th>\n",
       "      <th>fld_score</th>\n",
       "      <th>post_away_score</th>\n",
       "      <th>post_home_score</th>\n",
       "      <th>post_bat_score</th>\n",
       "      <th>post_fld_score</th>\n",
       "      <th>if_fielding_alignment</th>\n",
       "      <th>of_fielding_alignment</th>\n",
       "    </tr>\n",
       "  </thead>\n",
       "  <tbody>\n",
       "    <tr>\n",
       "      <th>0</th>\n",
       "      <td>FF</td>\n",
       "      <td>2015-04-05</td>\n",
       "      <td>98.1</td>\n",
       "      <td>-0.8493</td>\n",
       "      <td>6.1647</td>\n",
       "      <td>Trevor Rosenthal</td>\n",
       "      <td>570489.0</td>\n",
       "      <td>572096.0</td>\n",
       "      <td>strikeout</td>\n",
       "      <td>swinging_strike</td>\n",
       "      <td>...</td>\n",
       "      <td>0.0</td>\n",
       "      <td>3.0</td>\n",
       "      <td>0.0</td>\n",
       "      <td>3.0</td>\n",
       "      <td>3.0</td>\n",
       "      <td>0.0</td>\n",
       "      <td>0.0</td>\n",
       "      <td>3.0</td>\n",
       "      <td>Standard</td>\n",
       "      <td>Strategic</td>\n",
       "    </tr>\n",
       "    <tr>\n",
       "      <th>1</th>\n",
       "      <td>CH</td>\n",
       "      <td>2015-04-05</td>\n",
       "      <td>86.6</td>\n",
       "      <td>-0.5303</td>\n",
       "      <td>6.1439</td>\n",
       "      <td>Trevor Rosenthal</td>\n",
       "      <td>570489.0</td>\n",
       "      <td>572096.0</td>\n",
       "      <td>NaN</td>\n",
       "      <td>ball</td>\n",
       "      <td>...</td>\n",
       "      <td>0.0</td>\n",
       "      <td>3.0</td>\n",
       "      <td>0.0</td>\n",
       "      <td>3.0</td>\n",
       "      <td>3.0</td>\n",
       "      <td>0.0</td>\n",
       "      <td>0.0</td>\n",
       "      <td>3.0</td>\n",
       "      <td>Standard</td>\n",
       "      <td>Strategic</td>\n",
       "    </tr>\n",
       "    <tr>\n",
       "      <th>2</th>\n",
       "      <td>FF</td>\n",
       "      <td>2015-04-05</td>\n",
       "      <td>97.4</td>\n",
       "      <td>-0.8470</td>\n",
       "      <td>6.1338</td>\n",
       "      <td>Trevor Rosenthal</td>\n",
       "      <td>570489.0</td>\n",
       "      <td>572096.0</td>\n",
       "      <td>NaN</td>\n",
       "      <td>foul</td>\n",
       "      <td>...</td>\n",
       "      <td>0.0</td>\n",
       "      <td>3.0</td>\n",
       "      <td>0.0</td>\n",
       "      <td>3.0</td>\n",
       "      <td>3.0</td>\n",
       "      <td>0.0</td>\n",
       "      <td>0.0</td>\n",
       "      <td>3.0</td>\n",
       "      <td>NaN</td>\n",
       "      <td>NaN</td>\n",
       "    </tr>\n",
       "    <tr>\n",
       "      <th>3</th>\n",
       "      <td>FF</td>\n",
       "      <td>2015-04-05</td>\n",
       "      <td>97.0</td>\n",
       "      <td>-0.8051</td>\n",
       "      <td>6.1222</td>\n",
       "      <td>Trevor Rosenthal</td>\n",
       "      <td>570489.0</td>\n",
       "      <td>572096.0</td>\n",
       "      <td>NaN</td>\n",
       "      <td>called_strike</td>\n",
       "      <td>...</td>\n",
       "      <td>0.0</td>\n",
       "      <td>3.0</td>\n",
       "      <td>0.0</td>\n",
       "      <td>3.0</td>\n",
       "      <td>3.0</td>\n",
       "      <td>0.0</td>\n",
       "      <td>0.0</td>\n",
       "      <td>3.0</td>\n",
       "      <td>Standard</td>\n",
       "      <td>Standard</td>\n",
       "    </tr>\n",
       "    <tr>\n",
       "      <th>4</th>\n",
       "      <td>FF</td>\n",
       "      <td>2015-04-05</td>\n",
       "      <td>98.0</td>\n",
       "      <td>-0.7251</td>\n",
       "      <td>6.0921</td>\n",
       "      <td>Trevor Rosenthal</td>\n",
       "      <td>570489.0</td>\n",
       "      <td>572096.0</td>\n",
       "      <td>NaN</td>\n",
       "      <td>ball</td>\n",
       "      <td>...</td>\n",
       "      <td>0.0</td>\n",
       "      <td>3.0</td>\n",
       "      <td>0.0</td>\n",
       "      <td>3.0</td>\n",
       "      <td>3.0</td>\n",
       "      <td>0.0</td>\n",
       "      <td>0.0</td>\n",
       "      <td>3.0</td>\n",
       "      <td>Standard</td>\n",
       "      <td>Strategic</td>\n",
       "    </tr>\n",
       "  </tbody>\n",
       "</table>\n",
       "<p>5 rows × 89 columns</p>\n",
       "</div>"
      ],
      "text/plain": [
       "  pitch_type   game_date  release_speed  release_pos_x  release_pos_z  \\\n",
       "0         FF  2015-04-05           98.1        -0.8493         6.1647   \n",
       "1         CH  2015-04-05           86.6        -0.5303         6.1439   \n",
       "2         FF  2015-04-05           97.4        -0.8470         6.1338   \n",
       "3         FF  2015-04-05           97.0        -0.8051         6.1222   \n",
       "4         FF  2015-04-05           98.0        -0.7251         6.0921   \n",
       "\n",
       "        player_name    batter   pitcher     events      description  ...  \\\n",
       "0  Trevor Rosenthal  570489.0  572096.0  strikeout  swinging_strike  ...   \n",
       "1  Trevor Rosenthal  570489.0  572096.0        NaN             ball  ...   \n",
       "2  Trevor Rosenthal  570489.0  572096.0        NaN             foul  ...   \n",
       "3  Trevor Rosenthal  570489.0  572096.0        NaN    called_strike  ...   \n",
       "4  Trevor Rosenthal  570489.0  572096.0        NaN             ball  ...   \n",
       "\n",
       "   home_score  away_score  bat_score  fld_score  post_away_score  \\\n",
       "0         0.0         3.0        0.0        3.0              3.0   \n",
       "1         0.0         3.0        0.0        3.0              3.0   \n",
       "2         0.0         3.0        0.0        3.0              3.0   \n",
       "3         0.0         3.0        0.0        3.0              3.0   \n",
       "4         0.0         3.0        0.0        3.0              3.0   \n",
       "\n",
       "  post_home_score post_bat_score post_fld_score if_fielding_alignment  \\\n",
       "0             0.0            0.0            3.0              Standard   \n",
       "1             0.0            0.0            3.0              Standard   \n",
       "2             0.0            0.0            3.0                   NaN   \n",
       "3             0.0            0.0            3.0              Standard   \n",
       "4             0.0            0.0            3.0              Standard   \n",
       "\n",
       "  of_fielding_alignment  \n",
       "0             Strategic  \n",
       "1             Strategic  \n",
       "2                   NaN  \n",
       "3              Standard  \n",
       "4             Strategic  \n",
       "\n",
       "[5 rows x 89 columns]"
      ]
     },
     "execution_count": 3,
     "metadata": {},
     "output_type": "execute_result"
    }
   ],
   "source": [
    "savant2015.head()"
   ]
  },
  {
   "cell_type": "code",
   "execution_count": 44,
   "metadata": {},
   "outputs": [],
   "source": [
    "savant2015['pfx_tot'] = (abs(savant2015['pfx_x']) + abs(savant2015['pfx_z']))\n",
    "savant2016['pfx_tot'] = (abs(savant2016['pfx_x']) + abs(savant2016['pfx_z']))\n",
    "savant2017['pfx_tot'] = (abs(savant2017['pfx_x']) + abs(savant2017['pfx_z']))\n",
    "savant2018['pfx_tot'] = (abs(savant2018['pfx_x']) + abs(savant2018['pfx_z']))"
   ]
  },
  {
   "cell_type": "code",
   "execution_count": 45,
   "metadata": {},
   "outputs": [
    {
     "data": {
      "text/plain": [
       "count    712805.000000\n",
       "mean         -0.246753\n",
       "std           0.874734\n",
       "min          -3.176358\n",
       "25%          -0.990050\n",
       "50%          -0.373542\n",
       "75%           0.454500\n",
       "max           2.934450\n",
       "Name: pfx_x, dtype: float64"
      ]
     },
     "execution_count": 45,
     "metadata": {},
     "output_type": "execute_result"
    }
   ],
   "source": [
    "savant2015['pfx_x'].describe()"
   ]
  },
  {
   "cell_type": "code",
   "execution_count": 46,
   "metadata": {
    "scrolled": true
   },
   "outputs": [
    {
     "data": {
      "text/plain": [
       "count    712805.000000\n",
       "mean          0.921525\n",
       "std           0.740883\n",
       "min          -2.411533\n",
       "25%           0.523933\n",
       "50%           1.062867\n",
       "75%           1.469933\n",
       "max           3.873633\n",
       "Name: pfx_z, dtype: float64"
      ]
     },
     "execution_count": 46,
     "metadata": {},
     "output_type": "execute_result"
    }
   ],
   "source": [
    "savant2015['pfx_z'].describe()"
   ]
  },
  {
   "cell_type": "code",
   "execution_count": 47,
   "metadata": {},
   "outputs": [],
   "source": [
    "\n",
    "name = set(savant2015['player_name'])\n",
    "stp2015 = []\n",
    "\n",
    "for i in name:\n",
    "    player = savant2015[savant2015['player_name'] == i]\n",
    "    tot = len(player)\n",
    "    st = len(player[player['zone'] < 10])\n",
    "    result = [i, (st / tot), tot]\n",
    "    stp2015.append(result)\n",
    "\n",
    "stp2015 = pd.DataFrame(stp2015)\n",
    "stp2015.columns = ['player_name', 'stp', 'pitch_count']\n",
    "\n",
    "name = set(savant2016['player_name'])\n",
    "stp2016 = []\n",
    "\n",
    "for i in name:\n",
    "    player = savant2016[savant2016['player_name'] == i]\n",
    "    tot = len(player)\n",
    "    st = len(player[player['zone'] < 10])\n",
    "    result = [i, (st / tot), tot]\n",
    "    stp2016.append(result)\n",
    "\n",
    "stp2016 = pd.DataFrame(stp2016)\n",
    "stp2016.columns = ['player_name', 'stp', 'pitch_count']\n",
    "\n",
    "name = set(savant2017['player_name'])\n",
    "stp2017 = []\n",
    "\n",
    "for i in name:\n",
    "    player = savant2017[savant2017['player_name'] == i]\n",
    "    tot = len(player)\n",
    "    st = len(player[player['zone'] < 10])\n",
    "    result = [i, (st / tot), tot]\n",
    "    stp2017.append(result)\n",
    "\n",
    "stp2017 = pd.DataFrame(stp2015)\n",
    "stp2017.columns = ['player_name', 'stp', 'pitch_count']\n",
    "\n",
    "name = set(savant2018['player_name'])\n",
    "stp2018 = []\n",
    "\n",
    "for i in name:\n",
    "    player = savant2018[savant2018['player_name'] == i]\n",
    "    tot = len(player)\n",
    "    st = len(player[player['zone'] < 10])\n",
    "    result = [i, (st / tot), tot]\n",
    "    stp2018.append(result)\n",
    "\n",
    "stp2018 = pd.DataFrame(stp2018)\n",
    "stp2018.columns = ['player_name', 'stp', 'pitch_count']\n",
    "\n",
    "        "
   ]
  },
  {
   "cell_type": "code",
   "execution_count": 48,
   "metadata": {
    "scrolled": true
   },
   "outputs": [
    {
     "data": {
      "text/html": [
       "<div>\n",
       "<style scoped>\n",
       "    .dataframe tbody tr th:only-of-type {\n",
       "        vertical-align: middle;\n",
       "    }\n",
       "\n",
       "    .dataframe tbody tr th {\n",
       "        vertical-align: top;\n",
       "    }\n",
       "\n",
       "    .dataframe thead th {\n",
       "        text-align: right;\n",
       "    }\n",
       "</style>\n",
       "<table border=\"1\" class=\"dataframe\">\n",
       "  <thead>\n",
       "    <tr style=\"text-align: right;\">\n",
       "      <th></th>\n",
       "      <th>player_name</th>\n",
       "      <th>stp</th>\n",
       "      <th>pitch_count</th>\n",
       "    </tr>\n",
       "  </thead>\n",
       "  <tbody>\n",
       "    <tr>\n",
       "      <th>0</th>\n",
       "      <td>Felix Hernandez</td>\n",
       "      <td>0.442105</td>\n",
       "      <td>3040</td>\n",
       "    </tr>\n",
       "    <tr>\n",
       "      <th>1</th>\n",
       "      <td>Chaz Roe</td>\n",
       "      <td>0.507123</td>\n",
       "      <td>702</td>\n",
       "    </tr>\n",
       "    <tr>\n",
       "      <th>2</th>\n",
       "      <td>Tyler Cravy</td>\n",
       "      <td>0.440210</td>\n",
       "      <td>761</td>\n",
       "    </tr>\n",
       "    <tr>\n",
       "      <th>3</th>\n",
       "      <td>Joe Thatcher</td>\n",
       "      <td>0.496350</td>\n",
       "      <td>411</td>\n",
       "    </tr>\n",
       "    <tr>\n",
       "      <th>4</th>\n",
       "      <td>Tyler Wagner</td>\n",
       "      <td>0.457490</td>\n",
       "      <td>247</td>\n",
       "    </tr>\n",
       "    <tr>\n",
       "      <th>5</th>\n",
       "      <td>Joakim Soria</td>\n",
       "      <td>0.488511</td>\n",
       "      <td>1175</td>\n",
       "    </tr>\n",
       "    <tr>\n",
       "      <th>6</th>\n",
       "      <td>Dustin McGowan</td>\n",
       "      <td>0.475687</td>\n",
       "      <td>473</td>\n",
       "    </tr>\n",
       "    <tr>\n",
       "      <th>7</th>\n",
       "      <td>Bobby Parnell</td>\n",
       "      <td>0.436275</td>\n",
       "      <td>408</td>\n",
       "    </tr>\n",
       "    <tr>\n",
       "      <th>8</th>\n",
       "      <td>Scott Kazmir</td>\n",
       "      <td>0.486504</td>\n",
       "      <td>3038</td>\n",
       "    </tr>\n",
       "    <tr>\n",
       "      <th>9</th>\n",
       "      <td>James Pazos</td>\n",
       "      <td>0.500000</td>\n",
       "      <td>86</td>\n",
       "    </tr>\n",
       "    <tr>\n",
       "      <th>10</th>\n",
       "      <td>Brett Anderson</td>\n",
       "      <td>0.498738</td>\n",
       "      <td>2773</td>\n",
       "    </tr>\n",
       "    <tr>\n",
       "      <th>11</th>\n",
       "      <td>Taylor Jungmann</td>\n",
       "      <td>0.467482</td>\n",
       "      <td>2045</td>\n",
       "    </tr>\n",
       "    <tr>\n",
       "      <th>12</th>\n",
       "      <td>David Carpenter</td>\n",
       "      <td>0.528509</td>\n",
       "      <td>456</td>\n",
       "    </tr>\n",
       "    <tr>\n",
       "      <th>13</th>\n",
       "      <td>Kyle Drabek</td>\n",
       "      <td>0.455556</td>\n",
       "      <td>90</td>\n",
       "    </tr>\n",
       "    <tr>\n",
       "      <th>14</th>\n",
       "      <td>Ryan Raburn</td>\n",
       "      <td>0.360000</td>\n",
       "      <td>25</td>\n",
       "    </tr>\n",
       "    <tr>\n",
       "      <th>15</th>\n",
       "      <td>Sam Freeman</td>\n",
       "      <td>0.484848</td>\n",
       "      <td>693</td>\n",
       "    </tr>\n",
       "    <tr>\n",
       "      <th>16</th>\n",
       "      <td>Aaron Laffey</td>\n",
       "      <td>0.428571</td>\n",
       "      <td>105</td>\n",
       "    </tr>\n",
       "    <tr>\n",
       "      <th>17</th>\n",
       "      <td>Dana Eveland</td>\n",
       "      <td>0.475410</td>\n",
       "      <td>61</td>\n",
       "    </tr>\n",
       "    <tr>\n",
       "      <th>18</th>\n",
       "      <td>Vince Velasquez</td>\n",
       "      <td>0.490779</td>\n",
       "      <td>976</td>\n",
       "    </tr>\n",
       "    <tr>\n",
       "      <th>19</th>\n",
       "      <td>Vance Worley</td>\n",
       "      <td>0.470691</td>\n",
       "      <td>1143</td>\n",
       "    </tr>\n",
       "    <tr>\n",
       "      <th>20</th>\n",
       "      <td>Ryan Dull</td>\n",
       "      <td>0.464567</td>\n",
       "      <td>254</td>\n",
       "    </tr>\n",
       "    <tr>\n",
       "      <th>21</th>\n",
       "      <td>Mike Morin</td>\n",
       "      <td>0.514440</td>\n",
       "      <td>554</td>\n",
       "    </tr>\n",
       "    <tr>\n",
       "      <th>22</th>\n",
       "      <td>Frank Garces</td>\n",
       "      <td>0.460857</td>\n",
       "      <td>677</td>\n",
       "    </tr>\n",
       "    <tr>\n",
       "      <th>23</th>\n",
       "      <td>Matt Thornton</td>\n",
       "      <td>0.489039</td>\n",
       "      <td>593</td>\n",
       "    </tr>\n",
       "    <tr>\n",
       "      <th>24</th>\n",
       "      <td>Heath Hembree</td>\n",
       "      <td>0.553571</td>\n",
       "      <td>392</td>\n",
       "    </tr>\n",
       "    <tr>\n",
       "      <th>25</th>\n",
       "      <td>Wily Peralta</td>\n",
       "      <td>0.452109</td>\n",
       "      <td>1754</td>\n",
       "    </tr>\n",
       "    <tr>\n",
       "      <th>26</th>\n",
       "      <td>Ken Roberts</td>\n",
       "      <td>0.519149</td>\n",
       "      <td>235</td>\n",
       "    </tr>\n",
       "    <tr>\n",
       "      <th>27</th>\n",
       "      <td>Casey Fien</td>\n",
       "      <td>0.523858</td>\n",
       "      <td>985</td>\n",
       "    </tr>\n",
       "    <tr>\n",
       "      <th>28</th>\n",
       "      <td>Justin Masterson</td>\n",
       "      <td>0.450495</td>\n",
       "      <td>1010</td>\n",
       "    </tr>\n",
       "    <tr>\n",
       "      <th>29</th>\n",
       "      <td>Severino Gonzalez</td>\n",
       "      <td>0.509946</td>\n",
       "      <td>553</td>\n",
       "    </tr>\n",
       "    <tr>\n",
       "      <th>...</th>\n",
       "      <td>...</td>\n",
       "      <td>...</td>\n",
       "      <td>...</td>\n",
       "    </tr>\n",
       "    <tr>\n",
       "      <th>705</th>\n",
       "      <td>Oliver Perez</td>\n",
       "      <td>0.491957</td>\n",
       "      <td>746</td>\n",
       "    </tr>\n",
       "    <tr>\n",
       "      <th>706</th>\n",
       "      <td>Francisco Liriano</td>\n",
       "      <td>0.408649</td>\n",
       "      <td>2983</td>\n",
       "    </tr>\n",
       "    <tr>\n",
       "      <th>707</th>\n",
       "      <td>Kendall Graveman</td>\n",
       "      <td>0.457850</td>\n",
       "      <td>1898</td>\n",
       "    </tr>\n",
       "    <tr>\n",
       "      <th>708</th>\n",
       "      <td>Scott Carroll</td>\n",
       "      <td>0.440932</td>\n",
       "      <td>601</td>\n",
       "    </tr>\n",
       "    <tr>\n",
       "      <th>709</th>\n",
       "      <td>Juan Jaime</td>\n",
       "      <td>0.333333</td>\n",
       "      <td>36</td>\n",
       "    </tr>\n",
       "    <tr>\n",
       "      <th>710</th>\n",
       "      <td>Nick Franklin</td>\n",
       "      <td>0.470588</td>\n",
       "      <td>17</td>\n",
       "    </tr>\n",
       "    <tr>\n",
       "      <th>711</th>\n",
       "      <td>Roman Mendez</td>\n",
       "      <td>0.491453</td>\n",
       "      <td>234</td>\n",
       "    </tr>\n",
       "    <tr>\n",
       "      <th>712</th>\n",
       "      <td>Brooks Brown</td>\n",
       "      <td>0.458188</td>\n",
       "      <td>574</td>\n",
       "    </tr>\n",
       "    <tr>\n",
       "      <th>713</th>\n",
       "      <td>Chris Rearick</td>\n",
       "      <td>0.396552</td>\n",
       "      <td>58</td>\n",
       "    </tr>\n",
       "    <tr>\n",
       "      <th>714</th>\n",
       "      <td>Zack Britton</td>\n",
       "      <td>0.478982</td>\n",
       "      <td>904</td>\n",
       "    </tr>\n",
       "    <tr>\n",
       "      <th>715</th>\n",
       "      <td>John Axford</td>\n",
       "      <td>0.488785</td>\n",
       "      <td>1070</td>\n",
       "    </tr>\n",
       "    <tr>\n",
       "      <th>716</th>\n",
       "      <td>Liam Hendriks</td>\n",
       "      <td>0.544065</td>\n",
       "      <td>1112</td>\n",
       "    </tr>\n",
       "    <tr>\n",
       "      <th>717</th>\n",
       "      <td>Kyle Kendrick</td>\n",
       "      <td>0.494149</td>\n",
       "      <td>2222</td>\n",
       "    </tr>\n",
       "    <tr>\n",
       "      <th>718</th>\n",
       "      <td>Al Alburquerque</td>\n",
       "      <td>0.489322</td>\n",
       "      <td>1077</td>\n",
       "    </tr>\n",
       "    <tr>\n",
       "      <th>719</th>\n",
       "      <td>Anibal Sanchez</td>\n",
       "      <td>0.492101</td>\n",
       "      <td>2532</td>\n",
       "    </tr>\n",
       "    <tr>\n",
       "      <th>720</th>\n",
       "      <td>Jake Arrieta</td>\n",
       "      <td>0.489311</td>\n",
       "      <td>3742</td>\n",
       "    </tr>\n",
       "    <tr>\n",
       "      <th>721</th>\n",
       "      <td>Ryan Weber</td>\n",
       "      <td>0.479115</td>\n",
       "      <td>407</td>\n",
       "    </tr>\n",
       "    <tr>\n",
       "      <th>722</th>\n",
       "      <td>Kirby Yates</td>\n",
       "      <td>0.477941</td>\n",
       "      <td>408</td>\n",
       "    </tr>\n",
       "    <tr>\n",
       "      <th>723</th>\n",
       "      <td>Joe Blanton</td>\n",
       "      <td>0.443576</td>\n",
       "      <td>1152</td>\n",
       "    </tr>\n",
       "    <tr>\n",
       "      <th>724</th>\n",
       "      <td>Andrew Faulkner</td>\n",
       "      <td>0.490446</td>\n",
       "      <td>157</td>\n",
       "    </tr>\n",
       "    <tr>\n",
       "      <th>725</th>\n",
       "      <td>Chi Chi Gonzalez</td>\n",
       "      <td>0.466421</td>\n",
       "      <td>1087</td>\n",
       "    </tr>\n",
       "    <tr>\n",
       "      <th>726</th>\n",
       "      <td>Sugar Ray Marimon</td>\n",
       "      <td>0.497608</td>\n",
       "      <td>418</td>\n",
       "    </tr>\n",
       "    <tr>\n",
       "      <th>727</th>\n",
       "      <td>Aroldis Chapman</td>\n",
       "      <td>0.459367</td>\n",
       "      <td>1169</td>\n",
       "    </tr>\n",
       "    <tr>\n",
       "      <th>728</th>\n",
       "      <td>Xavier Cedeno</td>\n",
       "      <td>0.471698</td>\n",
       "      <td>742</td>\n",
       "    </tr>\n",
       "    <tr>\n",
       "      <th>729</th>\n",
       "      <td>Jose Ramirez</td>\n",
       "      <td>0.446512</td>\n",
       "      <td>215</td>\n",
       "    </tr>\n",
       "    <tr>\n",
       "      <th>730</th>\n",
       "      <td>Chad Smith</td>\n",
       "      <td>0.354167</td>\n",
       "      <td>48</td>\n",
       "    </tr>\n",
       "    <tr>\n",
       "      <th>731</th>\n",
       "      <td>Garrett Richards</td>\n",
       "      <td>0.490769</td>\n",
       "      <td>3250</td>\n",
       "    </tr>\n",
       "    <tr>\n",
       "      <th>732</th>\n",
       "      <td>Miguel Castro</td>\n",
       "      <td>0.430034</td>\n",
       "      <td>293</td>\n",
       "    </tr>\n",
       "    <tr>\n",
       "      <th>733</th>\n",
       "      <td>Brett Cecil</td>\n",
       "      <td>0.462353</td>\n",
       "      <td>850</td>\n",
       "    </tr>\n",
       "    <tr>\n",
       "      <th>734</th>\n",
       "      <td>Christian Bergman</td>\n",
       "      <td>0.534821</td>\n",
       "      <td>1120</td>\n",
       "    </tr>\n",
       "  </tbody>\n",
       "</table>\n",
       "<p>735 rows × 3 columns</p>\n",
       "</div>"
      ],
      "text/plain": [
       "           player_name       stp  pitch_count\n",
       "0      Felix Hernandez  0.442105         3040\n",
       "1             Chaz Roe  0.507123          702\n",
       "2          Tyler Cravy  0.440210          761\n",
       "3         Joe Thatcher  0.496350          411\n",
       "4         Tyler Wagner  0.457490          247\n",
       "5         Joakim Soria  0.488511         1175\n",
       "6       Dustin McGowan  0.475687          473\n",
       "7        Bobby Parnell  0.436275          408\n",
       "8         Scott Kazmir  0.486504         3038\n",
       "9          James Pazos  0.500000           86\n",
       "10      Brett Anderson  0.498738         2773\n",
       "11     Taylor Jungmann  0.467482         2045\n",
       "12     David Carpenter  0.528509          456\n",
       "13         Kyle Drabek  0.455556           90\n",
       "14         Ryan Raburn  0.360000           25\n",
       "15         Sam Freeman  0.484848          693\n",
       "16        Aaron Laffey  0.428571          105\n",
       "17        Dana Eveland  0.475410           61\n",
       "18     Vince Velasquez  0.490779          976\n",
       "19        Vance Worley  0.470691         1143\n",
       "20           Ryan Dull  0.464567          254\n",
       "21          Mike Morin  0.514440          554\n",
       "22        Frank Garces  0.460857          677\n",
       "23       Matt Thornton  0.489039          593\n",
       "24       Heath Hembree  0.553571          392\n",
       "25        Wily Peralta  0.452109         1754\n",
       "26         Ken Roberts  0.519149          235\n",
       "27          Casey Fien  0.523858          985\n",
       "28    Justin Masterson  0.450495         1010\n",
       "29   Severino Gonzalez  0.509946          553\n",
       "..                 ...       ...          ...\n",
       "705       Oliver Perez  0.491957          746\n",
       "706  Francisco Liriano  0.408649         2983\n",
       "707   Kendall Graveman  0.457850         1898\n",
       "708      Scott Carroll  0.440932          601\n",
       "709         Juan Jaime  0.333333           36\n",
       "710      Nick Franklin  0.470588           17\n",
       "711       Roman Mendez  0.491453          234\n",
       "712       Brooks Brown  0.458188          574\n",
       "713      Chris Rearick  0.396552           58\n",
       "714       Zack Britton  0.478982          904\n",
       "715        John Axford  0.488785         1070\n",
       "716      Liam Hendriks  0.544065         1112\n",
       "717      Kyle Kendrick  0.494149         2222\n",
       "718    Al Alburquerque  0.489322         1077\n",
       "719     Anibal Sanchez  0.492101         2532\n",
       "720       Jake Arrieta  0.489311         3742\n",
       "721         Ryan Weber  0.479115          407\n",
       "722        Kirby Yates  0.477941          408\n",
       "723        Joe Blanton  0.443576         1152\n",
       "724    Andrew Faulkner  0.490446          157\n",
       "725   Chi Chi Gonzalez  0.466421         1087\n",
       "726  Sugar Ray Marimon  0.497608          418\n",
       "727    Aroldis Chapman  0.459367         1169\n",
       "728      Xavier Cedeno  0.471698          742\n",
       "729       Jose Ramirez  0.446512          215\n",
       "730         Chad Smith  0.354167           48\n",
       "731   Garrett Richards  0.490769         3250\n",
       "732      Miguel Castro  0.430034          293\n",
       "733        Brett Cecil  0.462353          850\n",
       "734  Christian Bergman  0.534821         1120\n",
       "\n",
       "[735 rows x 3 columns]"
      ]
     },
     "execution_count": 48,
     "metadata": {},
     "output_type": "execute_result"
    }
   ],
   "source": [
    "stp2015"
   ]
  },
  {
   "cell_type": "code",
   "execution_count": 49,
   "metadata": {
    "scrolled": true
   },
   "outputs": [
    {
     "data": {
      "text/html": [
       "<div>\n",
       "<style scoped>\n",
       "    .dataframe tbody tr th:only-of-type {\n",
       "        vertical-align: middle;\n",
       "    }\n",
       "\n",
       "    .dataframe tbody tr th {\n",
       "        vertical-align: top;\n",
       "    }\n",
       "\n",
       "    .dataframe thead th {\n",
       "        text-align: right;\n",
       "    }\n",
       "</style>\n",
       "<table border=\"1\" class=\"dataframe\">\n",
       "  <thead>\n",
       "    <tr style=\"text-align: right;\">\n",
       "      <th></th>\n",
       "      <th>Name</th>\n",
       "      <th>IP</th>\n",
       "      <th>Age</th>\n",
       "      <th>SO</th>\n",
       "      <th>ERA</th>\n",
       "    </tr>\n",
       "  </thead>\n",
       "  <tbody>\n",
       "    <tr>\n",
       "      <th>0</th>\n",
       "      <td>Joe Nathan</td>\n",
       "      <td>0.1</td>\n",
       "      <td>40</td>\n",
       "      <td>1</td>\n",
       "      <td>0.0</td>\n",
       "    </tr>\n",
       "    <tr>\n",
       "      <th>1</th>\n",
       "      <td>Adam Ottavino</td>\n",
       "      <td>10.1</td>\n",
       "      <td>29</td>\n",
       "      <td>13</td>\n",
       "      <td>0.0</td>\n",
       "    </tr>\n",
       "    <tr>\n",
       "      <th>2</th>\n",
       "      <td>David Ross</td>\n",
       "      <td>2.0</td>\n",
       "      <td>38</td>\n",
       "      <td>0</td>\n",
       "      <td>0.0</td>\n",
       "    </tr>\n",
       "    <tr>\n",
       "      <th>3</th>\n",
       "      <td>Adam LaRoche</td>\n",
       "      <td>1.0</td>\n",
       "      <td>35</td>\n",
       "      <td>1</td>\n",
       "      <td>0.0</td>\n",
       "    </tr>\n",
       "    <tr>\n",
       "      <th>4</th>\n",
       "      <td>Ryan Raburn</td>\n",
       "      <td>0.2</td>\n",
       "      <td>34</td>\n",
       "      <td>0</td>\n",
       "      <td>0.0</td>\n",
       "    </tr>\n",
       "  </tbody>\n",
       "</table>\n",
       "</div>"
      ],
      "text/plain": [
       "            Name    IP  Age  SO  ERA\n",
       "0     Joe Nathan   0.1   40   1  0.0\n",
       "1  Adam Ottavino  10.1   29  13  0.0\n",
       "2     David Ross   2.0   38   0  0.0\n",
       "3   Adam LaRoche   1.0   35   1  0.0\n",
       "4    Ryan Raburn   0.2   34   0  0.0"
      ]
     },
     "execution_count": 49,
     "metadata": {},
     "output_type": "execute_result"
    }
   ],
   "source": [
    "fan2015.head()"
   ]
  },
  {
   "cell_type": "code",
   "execution_count": 50,
   "metadata": {},
   "outputs": [],
   "source": [
    "fan2015['IP1'] = round(fan2015['IP'])\n",
    "fan2015['IP2'] = (fan2015['IP'] - fan2015['IP1']) * 10 / 3\n",
    "fan2015['IP'] = fan2015['IP1'] + fan2015['IP2']\n",
    "fan2015['player_name'] = fan2015['Name']\n",
    "fan2015['SO'] = fan2015['SO'] / fan2015['IP']\n",
    "fan2015 = fan2015[['player_name', 'Age', 'IP', 'SO', 'ERA']]\n",
    "fan2015 = fan2015[fan2015.IP >= 10]\n",
    "\n",
    "fan2016['IP1'] = round(fan2016['IP'])\n",
    "fan2016['IP2'] = (fan2016['IP'] - fan2016['IP1']) * 10 / 3\n",
    "fan2016['IP'] = fan2016['IP1'] + fan2016['IP2']\n",
    "fan2016['player_name'] = fan2016['Name']\n",
    "fan2016['SO'] = fan2016['SO'] / fan2016['IP']\n",
    "fan2016 = fan2016[['player_name', 'Age', 'IP', 'SO', 'ERA']]\n",
    "fan2016 = fan2016[fan2016.IP >= 10]\n",
    "\n",
    "fan2017['IP1'] = round(fan2017['IP'])\n",
    "fan2017['IP2'] = (fan2017['IP'] - fan2017['IP1']) * 10 / 3\n",
    "fan2017['IP'] = fan2017['IP1'] + fan2017['IP2']\n",
    "fan2017['player_name'] = fan2017['Name']\n",
    "fan2017['SO'] = fan2017['SO'] / fan2017['IP']\n",
    "fan2017 = fan2017[['player_name', 'Age', 'IP', 'SO', 'ERA']]\n",
    "fan2017 = fan2017[fan2017.IP >= 10]\n",
    "\n",
    "fan2018['IP1'] = round(fan2018['IP'])\n",
    "fan2018['IP2'] = (fan2018['IP'] - fan2018['IP1']) * 10 / 3\n",
    "fan2018['IP'] = fan2018['IP1'] + fan2018['IP2']\n",
    "fan2018['player_name'] = fan2018['Name']\n",
    "fan2018['SO'] = fan2018['SO'] / fan2018['IP']\n",
    "fan2018 = fan2018[['player_name', 'Age', 'IP', 'SO', 'ERA']]\n",
    "fan2018 = fan2018[fan2018.IP >= 10]"
   ]
  },
  {
   "cell_type": "code",
   "execution_count": 51,
   "metadata": {
    "scrolled": true
   },
   "outputs": [
    {
     "data": {
      "text/html": [
       "<div>\n",
       "<style scoped>\n",
       "    .dataframe tbody tr th:only-of-type {\n",
       "        vertical-align: middle;\n",
       "    }\n",
       "\n",
       "    .dataframe tbody tr th {\n",
       "        vertical-align: top;\n",
       "    }\n",
       "\n",
       "    .dataframe thead th {\n",
       "        text-align: right;\n",
       "    }\n",
       "</style>\n",
       "<table border=\"1\" class=\"dataframe\">\n",
       "  <thead>\n",
       "    <tr style=\"text-align: right;\">\n",
       "      <th></th>\n",
       "      <th>player_name</th>\n",
       "      <th>Age</th>\n",
       "      <th>IP</th>\n",
       "      <th>SO</th>\n",
       "      <th>ERA</th>\n",
       "    </tr>\n",
       "  </thead>\n",
       "  <tbody>\n",
       "    <tr>\n",
       "      <th>1</th>\n",
       "      <td>Adam Ottavino</td>\n",
       "      <td>29</td>\n",
       "      <td>10.333333</td>\n",
       "      <td>1.258065</td>\n",
       "      <td>0.00</td>\n",
       "    </tr>\n",
       "    <tr>\n",
       "      <th>38</th>\n",
       "      <td>Dalier Hinojosa</td>\n",
       "      <td>29</td>\n",
       "      <td>24.666667</td>\n",
       "      <td>0.932432</td>\n",
       "      <td>0.73</td>\n",
       "    </tr>\n",
       "    <tr>\n",
       "      <th>39</th>\n",
       "      <td>Jordan Walden</td>\n",
       "      <td>27</td>\n",
       "      <td>10.333333</td>\n",
       "      <td>1.161290</td>\n",
       "      <td>0.87</td>\n",
       "    </tr>\n",
       "    <tr>\n",
       "      <th>40</th>\n",
       "      <td>Jeff Manship</td>\n",
       "      <td>30</td>\n",
       "      <td>39.333333</td>\n",
       "      <td>0.838983</td>\n",
       "      <td>0.92</td>\n",
       "    </tr>\n",
       "    <tr>\n",
       "      <th>41</th>\n",
       "      <td>Wade Davis</td>\n",
       "      <td>29</td>\n",
       "      <td>67.333333</td>\n",
       "      <td>1.158416</td>\n",
       "      <td>0.94</td>\n",
       "    </tr>\n",
       "  </tbody>\n",
       "</table>\n",
       "</div>"
      ],
      "text/plain": [
       "        player_name  Age         IP        SO   ERA\n",
       "1     Adam Ottavino   29  10.333333  1.258065  0.00\n",
       "38  Dalier Hinojosa   29  24.666667  0.932432  0.73\n",
       "39    Jordan Walden   27  10.333333  1.161290  0.87\n",
       "40     Jeff Manship   30  39.333333  0.838983  0.92\n",
       "41       Wade Davis   29  67.333333  1.158416  0.94"
      ]
     },
     "execution_count": 51,
     "metadata": {},
     "output_type": "execute_result"
    }
   ],
   "source": [
    "fan2015.head()"
   ]
  },
  {
   "cell_type": "code",
   "execution_count": 52,
   "metadata": {},
   "outputs": [],
   "source": [
    "import numpy as np"
   ]
  },
  {
   "cell_type": "code",
   "execution_count": 93,
   "metadata": {
    "scrolled": true
   },
   "outputs": [],
   "source": [
    "gujong = ['FF', 'FT', 'FC', 'SI', 'FS', 'SL', 'CH', 'CU', 'KC', 'KN', 'FO']\n",
    "\n",
    "\n",
    "GU2015 = pd.DataFrame()\n",
    "GU2015['player_name'] = []\n",
    "for jong in gujong:\n",
    "      \n",
    "    GU = savant2015[savant2015.pitch_type == jong][['player_name', 'pitch_type', 'effective_speed', 'release_spin_rate', 'pfx_tot'\n",
    "                                                   , 'release_speed', 'release_extension']]\n",
    "    GU = GU.groupby('player_name').agg({'effective_speed':'mean', 'release_spin_rate':'mean', 'pfx_tot':'mean'\n",
    "                                       , 'release_speed':'mean', 'release_extension':'mean'})\n",
    "    GU = GU.dropna()\n",
    "    GU = GU.reset_index()\n",
    "    GU = GU[['player_name', 'effective_speed', 'release_spin_rate', 'pfx_tot'\n",
    "             , 'release_speed', 'release_extension']]\n",
    "    \n",
    "    GUcount = []\n",
    "    for j in GU['player_name']:\n",
    "        count = len(savant2015[(savant2015.player_name == j) & (savant2015.pitch_type == jong)])\n",
    "        tot = len(savant2015[savant2015.player_name == j])\n",
    "        \n",
    "        if tot == 0:   \n",
    "            result = 0\n",
    "        else:\n",
    "            result = count/tot\n",
    "            \n",
    "        GUcount.append(result)\n",
    "        \n",
    "    GU['_%'] = GUcount\n",
    "    \n",
    "    GU.columns = ['player_name', '{}_effective_speed'.format(jong), '{}_release_spin_rate'.format(jong), '{}_pfx_tot'.format(jong), '{}_%'.format(jong)\n",
    "                 , '{}_release_speed'.format(jong), '{}_release_extension'.format(jong)]\n",
    "    GU2015 = GU2015.merge(GU, on='player_name', how='outer')\n",
    "    GU2015['{}_%'.format(jong)] = GU2015['{}_%'.format(jong)].fillna(0)"
   ]
  },
  {
   "cell_type": "code",
   "execution_count": 94,
   "metadata": {},
   "outputs": [],
   "source": [
    "GU2016 = pd.DataFrame()\n",
    "GU2016['player_name'] = []\n",
    "for jong in gujong:\n",
    "      \n",
    "    GU = savant2016[savant2016.pitch_type == jong][['player_name', 'pitch_type', 'effective_speed', 'release_spin_rate', 'pfx_tot'\n",
    "                                                   , 'release_speed', 'release_extension']]\n",
    "    GU = GU.groupby('player_name').agg({'effective_speed':'mean', 'release_spin_rate':'mean', 'pfx_tot':'mean'\n",
    "                                       , 'release_speed':'mean', 'release_extension':'mean'})\n",
    "    GU = GU.dropna()\n",
    "    GU = GU.reset_index()\n",
    "    GU = GU[['player_name', 'effective_speed', 'release_spin_rate', 'pfx_tot'\n",
    "             , 'release_speed', 'release_extension']]\n",
    "    \n",
    "    GUcount = []\n",
    "    for j in GU['player_name']:\n",
    "        count = len(savant2016[(savant2016.player_name == j) & (savant2016.pitch_type == jong)])\n",
    "        tot = len(savant2016[savant2016.player_name == j])\n",
    "        \n",
    "        if tot == 0:   \n",
    "            result = 0\n",
    "        else:\n",
    "            result = count/tot\n",
    "            \n",
    "        GUcount.append(result)\n",
    "        \n",
    "    GU['_%'] = GUcount\n",
    "    \n",
    "    GU.columns = ['player_name', '{}_effective_speed'.format(jong), '{}_release_spin_rate'.format(jong), '{}_pfx_tot'.format(jong), '{}_%'.format(jong)\n",
    "                 , '{}_release_speed'.format(jong), '{}_release_extension'.format(jong)]\n",
    "    GU2016 = GU2016.merge(GU, on='player_name', how='outer')\n",
    "    GU2016['{}_%'.format(jong)] = GU2016['{}_%'.format(jong)].fillna(0)"
   ]
  },
  {
   "cell_type": "code",
   "execution_count": 95,
   "metadata": {},
   "outputs": [],
   "source": [
    "GU2017 = pd.DataFrame()\n",
    "GU2017['player_name'] = []\n",
    "for jong in gujong:\n",
    "      \n",
    "    GU = savant2017[savant2017.pitch_type == jong][['player_name', 'pitch_type', 'effective_speed', 'release_spin_rate', 'pfx_tot'\n",
    "                                                   , 'release_speed', 'release_extension']]\n",
    "    GU = GU.groupby('player_name').agg({'effective_speed':'mean', 'release_spin_rate':'mean', 'pfx_tot':'mean'\n",
    "                                       , 'release_speed':'mean', 'release_extension':'mean'})\n",
    "    GU = GU.dropna()\n",
    "    GU = GU.reset_index()\n",
    "    GU = GU[['player_name', 'effective_speed', 'release_spin_rate', 'pfx_tot'\n",
    "             , 'release_speed', 'release_extension']]\n",
    "    \n",
    "    GUcount = []\n",
    "    for j in GU['player_name']:\n",
    "        count = len(savant2017[(savant2017.player_name == j) & (savant2017.pitch_type == jong)])\n",
    "        tot = len(savant2017[savant2017.player_name == j])\n",
    "        \n",
    "        if tot == 0:   \n",
    "            result = 0\n",
    "        else:\n",
    "            result = count/tot\n",
    "            \n",
    "        GUcount.append(result)\n",
    "        \n",
    "    GU['_%'] = GUcount\n",
    "    \n",
    "    GU.columns = ['player_name', '{}_effective_speed'.format(jong), '{}_release_spin_rate'.format(jong), '{}_pfx_tot'.format(jong), '{}_%'.format(jong)\n",
    "                 , '{}_release_speed'.format(jong), '{}_release_extension'.format(jong)]\n",
    "    GU2017 = GU2017.merge(GU, on='player_name', how='outer')\n",
    "    GU2017['{}_%'.format(jong)] = GU2017['{}_%'.format(jong)].fillna(0)"
   ]
  },
  {
   "cell_type": "code",
   "execution_count": 96,
   "metadata": {},
   "outputs": [],
   "source": [
    "GU2018 = pd.DataFrame()\n",
    "GU2018['player_name'] = []\n",
    "for jong in gujong:\n",
    "      \n",
    "    GU = savant2018[savant2018.pitch_type == jong][['player_name', 'pitch_type', 'effective_speed', 'release_spin_rate', 'pfx_tot'\n",
    "                                                   , 'release_speed', 'release_extension']]\n",
    "    GU = GU.groupby('player_name').agg({'effective_speed':'mean', 'release_spin_rate':'mean', 'pfx_tot':'mean'\n",
    "                                       , 'release_speed':'mean', 'release_extension':'mean'})\n",
    "    GU = GU.dropna()\n",
    "    GU = GU.reset_index()\n",
    "    GU = GU[['player_name', 'effective_speed', 'release_spin_rate', 'pfx_tot'\n",
    "             , 'release_speed', 'release_extension']]\n",
    "    \n",
    "    GUcount = []\n",
    "    for j in GU['player_name']:\n",
    "        count = len(savant2018[(savant2018.player_name == j) & (savant2018.pitch_type == jong)])\n",
    "        tot = len(savant2018[savant2018.player_name == j])\n",
    "        \n",
    "        if tot == 0:   \n",
    "            result = 0\n",
    "        else:\n",
    "            result = count/tot\n",
    "            \n",
    "        GUcount.append(result)\n",
    "        \n",
    "    GU['_%'] = GUcount\n",
    "    \n",
    "    GU.columns = ['player_name', '{}_effective_speed'.format(jong), '{}_release_spin_rate'.format(jong), '{}_pfx_tot'.format(jong), '{}_%'.format(jong)\n",
    "                 , '{}_release_speed'.format(jong), '{}_release_extension'.format(jong)]\n",
    "    GU2018 = GU2018.merge(GU, on='player_name', how='outer')\n",
    "    GU2018['{}_%'.format(jong)] = GU2018['{}_%'.format(jong)].fillna(0)"
   ]
  },
  {
   "cell_type": "code",
   "execution_count": 97,
   "metadata": {},
   "outputs": [],
   "source": [
    "GU2015 = GU2015.merge(stp2015, on='player_name', how='inner')\n",
    "GU2016 = GU2016.merge(stp2016, on='player_name', how='inner')\n",
    "GU2017 = GU2017.merge(stp2017, on='player_name', how='inner')\n",
    "GU2018 = GU2018.merge(stp2018, on='player_name', how='inner')\n",
    "    \n",
    "GU2015 = GU2015.merge(fan2015, on='player_name', how='inner')\n",
    "GU2016 = GU2016.merge(fan2016, on='player_name', how='inner')\n",
    "GU2017 = GU2017.merge(fan2017, on='player_name', how='inner')\n",
    "GU2018 = GU2018.merge(fan2018, on='player_name', how='inner')"
   ]
  },
  {
   "cell_type": "code",
   "execution_count": 98,
   "metadata": {
    "scrolled": true
   },
   "outputs": [
    {
     "data": {
      "text/html": [
       "<div>\n",
       "<style scoped>\n",
       "    .dataframe tbody tr th:only-of-type {\n",
       "        vertical-align: middle;\n",
       "    }\n",
       "\n",
       "    .dataframe tbody tr th {\n",
       "        vertical-align: top;\n",
       "    }\n",
       "\n",
       "    .dataframe thead th {\n",
       "        text-align: right;\n",
       "    }\n",
       "</style>\n",
       "<table border=\"1\" class=\"dataframe\">\n",
       "  <thead>\n",
       "    <tr style=\"text-align: right;\">\n",
       "      <th></th>\n",
       "      <th>player_name</th>\n",
       "      <th>FF_effective_speed</th>\n",
       "      <th>FF_release_spin_rate</th>\n",
       "      <th>FF_pfx_tot</th>\n",
       "      <th>FF_%</th>\n",
       "      <th>FF_release_speed</th>\n",
       "      <th>FF_release_extension</th>\n",
       "      <th>FT_effective_speed</th>\n",
       "      <th>FT_release_spin_rate</th>\n",
       "      <th>FT_pfx_tot</th>\n",
       "      <th>...</th>\n",
       "      <th>FO_pfx_tot</th>\n",
       "      <th>FO_%</th>\n",
       "      <th>FO_release_speed</th>\n",
       "      <th>FO_release_extension</th>\n",
       "      <th>stp</th>\n",
       "      <th>pitch_count</th>\n",
       "      <th>Age</th>\n",
       "      <th>IP</th>\n",
       "      <th>SO</th>\n",
       "      <th>ERA</th>\n",
       "    </tr>\n",
       "  </thead>\n",
       "  <tbody>\n",
       "    <tr>\n",
       "      <th>0</th>\n",
       "      <td>A.J. Achter</td>\n",
       "      <td>91.056123</td>\n",
       "      <td>2369.794521</td>\n",
       "      <td>1.949433</td>\n",
       "      <td>90.469512</td>\n",
       "      <td>6.572068</td>\n",
       "      <td>0.359649</td>\n",
       "      <td>89.616250</td>\n",
       "      <td>2313.500000</td>\n",
       "      <td>2.194977</td>\n",
       "      <td>...</td>\n",
       "      <td>NaN</td>\n",
       "      <td>0.0</td>\n",
       "      <td>NaN</td>\n",
       "      <td>NaN</td>\n",
       "      <td>0.482456</td>\n",
       "      <td>228</td>\n",
       "      <td>26</td>\n",
       "      <td>13.333333</td>\n",
       "      <td>1.050000</td>\n",
       "      <td>6.75</td>\n",
       "    </tr>\n",
       "    <tr>\n",
       "      <th>1</th>\n",
       "      <td>A.J. Burnett</td>\n",
       "      <td>91.935262</td>\n",
       "      <td>2082.052817</td>\n",
       "      <td>1.907371</td>\n",
       "      <td>91.676370</td>\n",
       "      <td>6.577314</td>\n",
       "      <td>0.116800</td>\n",
       "      <td>NaN</td>\n",
       "      <td>NaN</td>\n",
       "      <td>NaN</td>\n",
       "      <td>...</td>\n",
       "      <td>NaN</td>\n",
       "      <td>0.0</td>\n",
       "      <td>NaN</td>\n",
       "      <td>NaN</td>\n",
       "      <td>0.482000</td>\n",
       "      <td>2500</td>\n",
       "      <td>38</td>\n",
       "      <td>164.000000</td>\n",
       "      <td>0.871951</td>\n",
       "      <td>3.18</td>\n",
       "    </tr>\n",
       "    <tr>\n",
       "      <th>2</th>\n",
       "      <td>AJ Ramos</td>\n",
       "      <td>92.138404</td>\n",
       "      <td>2526.945701</td>\n",
       "      <td>2.034139</td>\n",
       "      <td>93.102198</td>\n",
       "      <td>6.006337</td>\n",
       "      <td>0.418583</td>\n",
       "      <td>92.100333</td>\n",
       "      <td>2173.375000</td>\n",
       "      <td>2.124309</td>\n",
       "      <td>...</td>\n",
       "      <td>NaN</td>\n",
       "      <td>0.0</td>\n",
       "      <td>NaN</td>\n",
       "      <td>NaN</td>\n",
       "      <td>0.434223</td>\n",
       "      <td>1087</td>\n",
       "      <td>28</td>\n",
       "      <td>70.333333</td>\n",
       "      <td>1.236967</td>\n",
       "      <td>2.30</td>\n",
       "    </tr>\n",
       "    <tr>\n",
       "      <th>3</th>\n",
       "      <td>Aaron Barrett</td>\n",
       "      <td>93.857529</td>\n",
       "      <td>2089.529412</td>\n",
       "      <td>1.978116</td>\n",
       "      <td>94.726087</td>\n",
       "      <td>5.949015</td>\n",
       "      <td>0.144351</td>\n",
       "      <td>93.986943</td>\n",
       "      <td>2025.215311</td>\n",
       "      <td>2.348871</td>\n",
       "      <td>...</td>\n",
       "      <td>NaN</td>\n",
       "      <td>0.0</td>\n",
       "      <td>NaN</td>\n",
       "      <td>NaN</td>\n",
       "      <td>0.497908</td>\n",
       "      <td>478</td>\n",
       "      <td>27</td>\n",
       "      <td>29.333333</td>\n",
       "      <td>1.193182</td>\n",
       "      <td>4.60</td>\n",
       "    </tr>\n",
       "    <tr>\n",
       "      <th>4</th>\n",
       "      <td>Aaron Brooks</td>\n",
       "      <td>91.443683</td>\n",
       "      <td>2064.197772</td>\n",
       "      <td>2.506424</td>\n",
       "      <td>92.228729</td>\n",
       "      <td>5.894775</td>\n",
       "      <td>0.409040</td>\n",
       "      <td>90.940539</td>\n",
       "      <td>1966.820359</td>\n",
       "      <td>2.470535</td>\n",
       "      <td>...</td>\n",
       "      <td>NaN</td>\n",
       "      <td>0.0</td>\n",
       "      <td>NaN</td>\n",
       "      <td>NaN</td>\n",
       "      <td>0.510734</td>\n",
       "      <td>885</td>\n",
       "      <td>25</td>\n",
       "      <td>55.333333</td>\n",
       "      <td>0.686747</td>\n",
       "      <td>6.67</td>\n",
       "    </tr>\n",
       "  </tbody>\n",
       "</table>\n",
       "<p>5 rows × 73 columns</p>\n",
       "</div>"
      ],
      "text/plain": [
       "     player_name  FF_effective_speed  FF_release_spin_rate  FF_pfx_tot  \\\n",
       "0    A.J. Achter           91.056123           2369.794521    1.949433   \n",
       "1   A.J. Burnett           91.935262           2082.052817    1.907371   \n",
       "2       AJ Ramos           92.138404           2526.945701    2.034139   \n",
       "3  Aaron Barrett           93.857529           2089.529412    1.978116   \n",
       "4   Aaron Brooks           91.443683           2064.197772    2.506424   \n",
       "\n",
       "        FF_%  FF_release_speed  FF_release_extension  FT_effective_speed  \\\n",
       "0  90.469512          6.572068              0.359649           89.616250   \n",
       "1  91.676370          6.577314              0.116800                 NaN   \n",
       "2  93.102198          6.006337              0.418583           92.100333   \n",
       "3  94.726087          5.949015              0.144351           93.986943   \n",
       "4  92.228729          5.894775              0.409040           90.940539   \n",
       "\n",
       "   FT_release_spin_rate  FT_pfx_tot  ...   FO_pfx_tot  FO_%  FO_release_speed  \\\n",
       "0           2313.500000    2.194977  ...          NaN   0.0               NaN   \n",
       "1                   NaN         NaN  ...          NaN   0.0               NaN   \n",
       "2           2173.375000    2.124309  ...          NaN   0.0               NaN   \n",
       "3           2025.215311    2.348871  ...          NaN   0.0               NaN   \n",
       "4           1966.820359    2.470535  ...          NaN   0.0               NaN   \n",
       "\n",
       "   FO_release_extension       stp  pitch_count  Age          IP        SO  \\\n",
       "0                   NaN  0.482456          228   26   13.333333  1.050000   \n",
       "1                   NaN  0.482000         2500   38  164.000000  0.871951   \n",
       "2                   NaN  0.434223         1087   28   70.333333  1.236967   \n",
       "3                   NaN  0.497908          478   27   29.333333  1.193182   \n",
       "4                   NaN  0.510734          885   25   55.333333  0.686747   \n",
       "\n",
       "    ERA  \n",
       "0  6.75  \n",
       "1  3.18  \n",
       "2  2.30  \n",
       "3  4.60  \n",
       "4  6.67  \n",
       "\n",
       "[5 rows x 73 columns]"
      ]
     },
     "execution_count": 98,
     "metadata": {},
     "output_type": "execute_result"
    }
   ],
   "source": [
    "GU2015.head()"
   ]
  },
  {
   "cell_type": "code",
   "execution_count": 99,
   "metadata": {},
   "outputs": [],
   "source": [
    "GU2015 = GU2015.fillna(GU2015.mean())\n",
    "GU2016 = GU2016.fillna(GU2016.mean())\n",
    "GU2017 = GU2017.fillna(GU2017.mean())\n",
    "GU2018 = GU2018.fillna(GU2018.mean())\n",
    "\n",
    "GU2015 = GU2015[GU2015['pitch_count'] > 1000]\n",
    "GU2016 = GU2016[GU2016['pitch_count'] > 1000]\n",
    "GU2017 = GU2017[GU2017['pitch_count'] > 1000]\n",
    "GU2018 = GU2018[GU2018['pitch_count'] > 1000]"
   ]
  },
  {
   "cell_type": "code",
   "execution_count": 100,
   "metadata": {
    "scrolled": true
   },
   "outputs": [
    {
     "data": {
      "text/html": [
       "<div>\n",
       "<style scoped>\n",
       "    .dataframe tbody tr th:only-of-type {\n",
       "        vertical-align: middle;\n",
       "    }\n",
       "\n",
       "    .dataframe tbody tr th {\n",
       "        vertical-align: top;\n",
       "    }\n",
       "\n",
       "    .dataframe thead th {\n",
       "        text-align: right;\n",
       "    }\n",
       "</style>\n",
       "<table border=\"1\" class=\"dataframe\">\n",
       "  <thead>\n",
       "    <tr style=\"text-align: right;\">\n",
       "      <th></th>\n",
       "      <th>player_name</th>\n",
       "      <th>FF_effective_speed</th>\n",
       "      <th>FF_release_spin_rate</th>\n",
       "      <th>FF_pfx_tot</th>\n",
       "      <th>FF_%</th>\n",
       "      <th>FF_release_speed</th>\n",
       "      <th>FF_release_extension</th>\n",
       "      <th>FT_effective_speed</th>\n",
       "      <th>FT_release_spin_rate</th>\n",
       "      <th>FT_pfx_tot</th>\n",
       "      <th>...</th>\n",
       "      <th>FO_pfx_tot</th>\n",
       "      <th>FO_%</th>\n",
       "      <th>FO_release_speed</th>\n",
       "      <th>FO_release_extension</th>\n",
       "      <th>stp</th>\n",
       "      <th>pitch_count</th>\n",
       "      <th>Age</th>\n",
       "      <th>IP</th>\n",
       "      <th>SO</th>\n",
       "      <th>ERA</th>\n",
       "    </tr>\n",
       "  </thead>\n",
       "  <tbody>\n",
       "    <tr>\n",
       "      <th>1</th>\n",
       "      <td>A.J. Burnett</td>\n",
       "      <td>91.935262</td>\n",
       "      <td>2082.052817</td>\n",
       "      <td>1.907371</td>\n",
       "      <td>91.676370</td>\n",
       "      <td>6.577314</td>\n",
       "      <td>0.116800</td>\n",
       "      <td>92.096910</td>\n",
       "      <td>2154.419569</td>\n",
       "      <td>2.260088</td>\n",
       "      <td>...</td>\n",
       "      <td>1.837793</td>\n",
       "      <td>0.0</td>\n",
       "      <td>5.539924</td>\n",
       "      <td>0.207547</td>\n",
       "      <td>0.482000</td>\n",
       "      <td>2500</td>\n",
       "      <td>38</td>\n",
       "      <td>164.000000</td>\n",
       "      <td>0.871951</td>\n",
       "      <td>3.18</td>\n",
       "    </tr>\n",
       "    <tr>\n",
       "      <th>2</th>\n",
       "      <td>AJ Ramos</td>\n",
       "      <td>92.138404</td>\n",
       "      <td>2526.945701</td>\n",
       "      <td>2.034139</td>\n",
       "      <td>93.102198</td>\n",
       "      <td>6.006337</td>\n",
       "      <td>0.418583</td>\n",
       "      <td>92.100333</td>\n",
       "      <td>2173.375000</td>\n",
       "      <td>2.124309</td>\n",
       "      <td>...</td>\n",
       "      <td>1.837793</td>\n",
       "      <td>0.0</td>\n",
       "      <td>5.539924</td>\n",
       "      <td>0.207547</td>\n",
       "      <td>0.434223</td>\n",
       "      <td>1087</td>\n",
       "      <td>28</td>\n",
       "      <td>70.333333</td>\n",
       "      <td>1.236967</td>\n",
       "      <td>2.30</td>\n",
       "    </tr>\n",
       "    <tr>\n",
       "      <th>5</th>\n",
       "      <td>Aaron Harang</td>\n",
       "      <td>89.135846</td>\n",
       "      <td>2346.833156</td>\n",
       "      <td>2.542823</td>\n",
       "      <td>89.588843</td>\n",
       "      <td>6.318774</td>\n",
       "      <td>0.343530</td>\n",
       "      <td>89.424141</td>\n",
       "      <td>2251.540860</td>\n",
       "      <td>2.714636</td>\n",
       "      <td>...</td>\n",
       "      <td>1.837793</td>\n",
       "      <td>0.0</td>\n",
       "      <td>5.539924</td>\n",
       "      <td>0.207547</td>\n",
       "      <td>0.490506</td>\n",
       "      <td>2844</td>\n",
       "      <td>37</td>\n",
       "      <td>172.333333</td>\n",
       "      <td>0.626692</td>\n",
       "      <td>4.86</td>\n",
       "    </tr>\n",
       "    <tr>\n",
       "      <th>6</th>\n",
       "      <td>Aaron Nola</td>\n",
       "      <td>90.851383</td>\n",
       "      <td>2047.665663</td>\n",
       "      <td>2.345612</td>\n",
       "      <td>91.221289</td>\n",
       "      <td>6.344174</td>\n",
       "      <td>0.319606</td>\n",
       "      <td>93.127000</td>\n",
       "      <td>2222.000000</td>\n",
       "      <td>2.130583</td>\n",
       "      <td>...</td>\n",
       "      <td>1.837793</td>\n",
       "      <td>0.0</td>\n",
       "      <td>5.539924</td>\n",
       "      <td>0.207547</td>\n",
       "      <td>0.490600</td>\n",
       "      <td>1117</td>\n",
       "      <td>22</td>\n",
       "      <td>77.666667</td>\n",
       "      <td>0.875536</td>\n",
       "      <td>3.59</td>\n",
       "    </tr>\n",
       "    <tr>\n",
       "      <th>7</th>\n",
       "      <td>Aaron Sanchez</td>\n",
       "      <td>95.162712</td>\n",
       "      <td>2297.536797</td>\n",
       "      <td>2.200675</td>\n",
       "      <td>95.124153</td>\n",
       "      <td>6.438403</td>\n",
       "      <td>0.149936</td>\n",
       "      <td>95.716282</td>\n",
       "      <td>2286.167008</td>\n",
       "      <td>2.453357</td>\n",
       "      <td>...</td>\n",
       "      <td>1.837793</td>\n",
       "      <td>0.0</td>\n",
       "      <td>5.539924</td>\n",
       "      <td>0.207547</td>\n",
       "      <td>0.515248</td>\n",
       "      <td>1574</td>\n",
       "      <td>22</td>\n",
       "      <td>92.333333</td>\n",
       "      <td>0.660650</td>\n",
       "      <td>3.22</td>\n",
       "    </tr>\n",
       "  </tbody>\n",
       "</table>\n",
       "<p>5 rows × 73 columns</p>\n",
       "</div>"
      ],
      "text/plain": [
       "     player_name  FF_effective_speed  FF_release_spin_rate  FF_pfx_tot  \\\n",
       "1   A.J. Burnett           91.935262           2082.052817    1.907371   \n",
       "2       AJ Ramos           92.138404           2526.945701    2.034139   \n",
       "5   Aaron Harang           89.135846           2346.833156    2.542823   \n",
       "6     Aaron Nola           90.851383           2047.665663    2.345612   \n",
       "7  Aaron Sanchez           95.162712           2297.536797    2.200675   \n",
       "\n",
       "        FF_%  FF_release_speed  FF_release_extension  FT_effective_speed  \\\n",
       "1  91.676370          6.577314              0.116800           92.096910   \n",
       "2  93.102198          6.006337              0.418583           92.100333   \n",
       "5  89.588843          6.318774              0.343530           89.424141   \n",
       "6  91.221289          6.344174              0.319606           93.127000   \n",
       "7  95.124153          6.438403              0.149936           95.716282   \n",
       "\n",
       "   FT_release_spin_rate  FT_pfx_tot  ...   FO_pfx_tot  FO_%  FO_release_speed  \\\n",
       "1           2154.419569    2.260088  ...     1.837793   0.0          5.539924   \n",
       "2           2173.375000    2.124309  ...     1.837793   0.0          5.539924   \n",
       "5           2251.540860    2.714636  ...     1.837793   0.0          5.539924   \n",
       "6           2222.000000    2.130583  ...     1.837793   0.0          5.539924   \n",
       "7           2286.167008    2.453357  ...     1.837793   0.0          5.539924   \n",
       "\n",
       "   FO_release_extension       stp  pitch_count  Age          IP        SO  \\\n",
       "1              0.207547  0.482000         2500   38  164.000000  0.871951   \n",
       "2              0.207547  0.434223         1087   28   70.333333  1.236967   \n",
       "5              0.207547  0.490506         2844   37  172.333333  0.626692   \n",
       "6              0.207547  0.490600         1117   22   77.666667  0.875536   \n",
       "7              0.207547  0.515248         1574   22   92.333333  0.660650   \n",
       "\n",
       "    ERA  \n",
       "1  3.18  \n",
       "2  2.30  \n",
       "5  4.86  \n",
       "6  3.59  \n",
       "7  3.22  \n",
       "\n",
       "[5 rows x 73 columns]"
      ]
     },
     "execution_count": 100,
     "metadata": {},
     "output_type": "execute_result"
    }
   ],
   "source": [
    "GU2015.head()"
   ]
  },
  {
   "cell_type": "code",
   "execution_count": 101,
   "metadata": {},
   "outputs": [
    {
     "data": {
      "text/plain": [
       "count     262.000000\n",
       "mean     1950.351145\n",
       "std       860.938439\n",
       "min      1001.000000\n",
       "25%      1136.250000\n",
       "50%      1762.500000\n",
       "75%      2779.250000\n",
       "max      3752.000000\n",
       "Name: pitch_count, dtype: float64"
      ]
     },
     "execution_count": 101,
     "metadata": {},
     "output_type": "execute_result"
    }
   ],
   "source": [
    "GU2015['pitch_count'].describe()"
   ]
  },
  {
   "cell_type": "code",
   "execution_count": 102,
   "metadata": {
    "scrolled": false
   },
   "outputs": [
    {
     "data": {
      "text/plain": [
       "Index(['player_name', 'FF_effective_speed', 'FF_release_spin_rate',\n",
       "       'FF_pfx_tot', 'FF_%', 'FF_release_speed', 'FF_release_extension',\n",
       "       'FT_effective_speed', 'FT_release_spin_rate', 'FT_pfx_tot', 'FT_%',\n",
       "       'FT_release_speed', 'FT_release_extension', 'FC_effective_speed',\n",
       "       'FC_release_spin_rate', 'FC_pfx_tot', 'FC_%', 'FC_release_speed',\n",
       "       'FC_release_extension', 'SI_effective_speed', 'SI_release_spin_rate',\n",
       "       'SI_pfx_tot', 'SI_%', 'SI_release_speed', 'SI_release_extension',\n",
       "       'FS_effective_speed', 'FS_release_spin_rate', 'FS_pfx_tot', 'FS_%',\n",
       "       'FS_release_speed', 'FS_release_extension', 'SL_effective_speed',\n",
       "       'SL_release_spin_rate', 'SL_pfx_tot', 'SL_%', 'SL_release_speed',\n",
       "       'SL_release_extension', 'CH_effective_speed', 'CH_release_spin_rate',\n",
       "       'CH_pfx_tot', 'CH_%', 'CH_release_speed', 'CH_release_extension',\n",
       "       'CU_effective_speed', 'CU_release_spin_rate', 'CU_pfx_tot', 'CU_%',\n",
       "       'CU_release_speed', 'CU_release_extension', 'KC_effective_speed',\n",
       "       'KC_release_spin_rate', 'KC_pfx_tot', 'KC_%', 'KC_release_speed',\n",
       "       'KC_release_extension', 'KN_effective_speed', 'KN_release_spin_rate',\n",
       "       'KN_pfx_tot', 'KN_%', 'KN_release_speed', 'KN_release_extension',\n",
       "       'FO_effective_speed', 'FO_release_spin_rate', 'FO_pfx_tot', 'FO_%',\n",
       "       'FO_release_speed', 'FO_release_extension', 'stp', 'pitch_count', 'Age',\n",
       "       'IP', 'SO', 'ERA'],\n",
       "      dtype='object')"
      ]
     },
     "execution_count": 102,
     "metadata": {},
     "output_type": "execute_result"
    }
   ],
   "source": [
    "GU2015.columns"
   ]
  },
  {
   "cell_type": "markdown",
   "metadata": {},
   "source": [
    "## 사용하는 변수"
   ]
  },
  {
   "cell_type": "markdown",
   "metadata": {},
   "source": [
    "- 구종별 회전수, 무브먼트 합, 구사 비율\n",
    "- (+) 아래 세개 중 하나\n",
    "- 구속+익스텐션 > 체감구속 > 구속 "
   ]
  },
  {
   "cell_type": "code",
   "execution_count": 129,
   "metadata": {},
   "outputs": [],
   "source": [
    "colname = ['FF_release_spin_rate',\n",
    "       'FF_pfx_tot', 'FF_%', 'FF_release_speed', 'FF_release_extension',\n",
    "       'FT_release_spin_rate', 'FT_pfx_tot', 'FT_%',\n",
    "       'FT_release_speed', 'FT_release_extension',\n",
    "       'FC_release_spin_rate', 'FC_pfx_tot', 'FC_%', 'FC_release_speed',\n",
    "       'FC_release_extension', 'SI_release_spin_rate',\n",
    "       'SI_pfx_tot', 'SI_%', 'SI_release_speed', 'SI_release_extension',\n",
    "       'FS_release_spin_rate', 'FS_pfx_tot', 'FS_%',\n",
    "       'FS_release_speed', 'FS_release_extension',\n",
    "       'SL_release_spin_rate', 'SL_pfx_tot', 'SL_%', 'SL_release_speed',\n",
    "       'SL_release_extension', 'CH_release_spin_rate',\n",
    "       'CH_pfx_tot', 'CH_%', 'CH_release_speed', 'CH_release_extension',\n",
    "       'CU_release_spin_rate', 'CU_pfx_tot', 'CU_%',\n",
    "       'CU_release_speed', 'CU_release_extension',\n",
    "       'KC_release_spin_rate', 'KC_pfx_tot', 'KC_%', 'KC_release_speed',\n",
    "       'KC_release_extension', 'KN_release_spin_rate',\n",
    "       'KN_pfx_tot', 'KN_%', 'KN_release_speed', 'KN_release_extension',\n",
    "       'FO_release_spin_rate', 'FO_pfx_tot', 'FO_%',\n",
    "       'FO_release_speed', 'FO_release_extension', 'stp', 'Age']"
   ]
  },
  {
   "cell_type": "code",
   "execution_count": 130,
   "metadata": {},
   "outputs": [],
   "source": [
    "from sklearn.ensemble import RandomForestRegressor\n",
    "from sklearn.model_selection import train_test_split\n",
    "from sklearn.preprocessing import MinMaxScaler\n",
    "from sklearn.preprocessing import StandardScaler\n",
    "from sklearn.metrics import mean_absolute_error"
   ]
  },
  {
   "cell_type": "code",
   "execution_count": 131,
   "metadata": {},
   "outputs": [],
   "source": [
    "GUdata = pd.concat([GU2015[colname], GU2016[colname], GU2017[colname], GU2018[colname]])\n",
    "GUtarget1 = pd.concat([GU2015[\"SO\"], GU2016[\"SO\"], GU2017[\"SO\"], GU2018[\"SO\"]])\n",
    "GUtarget2 = pd.concat([GU2015[\"IP\"], GU2016[\"IP\"], GU2017[\"IP\"], GU2018[\"IP\"]])\n",
    "GUtarget3 = pd.concat([GU2015[\"ERA\"], GU2016[\"ERA\"], GU2017[\"ERA\"], GU2018[\"ERA\"]])\n",
    "\n",
    "X = GUdata.values\n",
    "y = GUtarget1.values\n",
    "\n",
    "X_train, X_test, y_train, y_test = train_test_split(X, y, random_state = 0)\n",
    "\n",
    "scaler = MinMaxScaler()\n",
    "scaler.fit(X_train)\n",
    "\n",
    "X_train_scaled = scaler.transform(X_train)\n",
    "X_test_scaled = scaler.transform(X_test)"
   ]
  },
  {
   "cell_type": "code",
   "execution_count": 132,
   "metadata": {
    "scrolled": true
   },
   "outputs": [
    {
     "name": "stdout",
     "output_type": "stream",
     "text": [
      "스케일링 된 훈련 세트 점수: 0.92\n",
      "스케일링 된 테스트 세트 점수: 0.45\n"
     ]
    },
    {
     "data": {
      "text/plain": [
       "0.13468404692869615"
      ]
     },
     "execution_count": 132,
     "metadata": {},
     "output_type": "execute_result"
    }
   ],
   "source": [
    "RF = RandomForestRegressor(n_estimators=500, \n",
    "                           #max_features=15,\n",
    "                           #max_depth=4,\n",
    "                           #max_leaf_nodes=60,\n",
    "                           random_state=0,\n",
    "                           n_jobs=-1).fit(X_train_scaled, y_train)\n",
    "\n",
    "print(\"스케일링 된 훈련 세트 점수: {:.2f}\".format(RF.score(X_train_scaled, y_train)))\n",
    "print(\"스케일링 된 테스트 세트 점수: {:.2f}\".format(RF.score(X_test_scaled, y_test)))\n",
    "y_pred = RF.predict(X_test_scaled)\n",
    "RFmae = mean_absolute_error(y_test, y_pred)\n",
    "mean_absolute_error(y_test, y_pred)"
   ]
  },
  {
   "cell_type": "code",
   "execution_count": 133,
   "metadata": {},
   "outputs": [
    {
     "name": "stdout",
     "output_type": "stream",
     "text": [
      "훈련 세트 점수: 0.28\n",
      "테스트 세트 점수: 0.24\n",
      "훈련 세트 점수: 0.52\n",
      "테스트 세트 점수: 0.44\n"
     ]
    },
    {
     "data": {
      "text/plain": [
       "0.13297933538059376"
      ]
     },
     "execution_count": 133,
     "metadata": {},
     "output_type": "execute_result"
    }
   ],
   "source": [
    "from sklearn.linear_model import Ridge\n",
    "\n",
    "ridge10 = Ridge(alpha = 100).fit(X_train_scaled, y_train)\n",
    "print(\"훈련 세트 점수: {:.2f}\".format(ridge10.score(X_train_scaled, y_train)))\n",
    "print(\"테스트 세트 점수: {:.2f}\".format(ridge10.score(X_test_scaled, y_test)))\n",
    "\n",
    "ridge01 = Ridge(alpha = 0.001).fit(X_train_scaled, y_train)\n",
    "print(\"훈련 세트 점수: {:.2f}\".format(ridge01.score(X_train_scaled, y_train)))\n",
    "print(\"테스트 세트 점수: {:.2f}\".format(ridge01.score(X_test_scaled, y_test)))\n",
    "y_pred = ridge01.predict(X_test_scaled)\n",
    "RGmae = mean_absolute_error(y_test, y_pred)\n",
    "mean_absolute_error(y_test, y_pred)"
   ]
  },
  {
   "cell_type": "markdown",
   "metadata": {},
   "source": [
    "## 2019년 데이터로 예측"
   ]
  },
  {
   "cell_type": "code",
   "execution_count": 68,
   "metadata": {},
   "outputs": [
    {
     "name": "stderr",
     "output_type": "stream",
     "text": [
      "C:\\Users\\JH\\Anaconda3\\lib\\site-packages\\IPython\\core\\interactiveshell.py:3020: DtypeWarning: Columns (87,88) have mixed types. Specify dtype option on import or set low_memory=False.\n",
      "  interactivity=interactivity, compiler=compiler, result=result)\n"
     ]
    }
   ],
   "source": [
    "savant2019 = pd.read_csv('D://statcast//savant2019.csv')\n",
    "fan2019 = pd.read_csv('D://fangraphs//fangraphs2019.csv')[['Name', 'IP', 'Age', 'SO', 'ERA']]\n",
    "\n",
    "savant2019['pfx_tot'] = (abs(savant2019['pfx_x']) + abs(savant2019['pfx_z']))\n",
    "\n",
    "name = set(savant2019['player_name'])\n",
    "stp2019 = []\n",
    "\n",
    "for i in name:\n",
    "    player = savant2019[savant2019['player_name'] == i]\n",
    "    tot = len(player)\n",
    "    st = len(player[player['zone'] < 10])\n",
    "    result = [i, (st / tot), tot]\n",
    "    stp2019.append(result)\n",
    "\n",
    "stp2019 = pd.DataFrame(stp2019)\n",
    "stp2019.columns = ['player_name', 'stp', 'pitch_count']\n",
    "\n",
    "fan2019['IP1'] = round(fan2019['IP'])\n",
    "fan2019['IP2'] = (fan2019['IP'] - fan2019['IP1']) * 10 / 3\n",
    "fan2019['IP'] = fan2019['IP1'] + fan2019['IP2']\n",
    "fan2019['player_name'] = fan2019['Name']\n",
    "fan2019['SO'] = fan2019['SO'] / fan2019['IP']\n",
    "fan2019 = fan2019[['player_name', 'Age', 'IP', 'SO', 'ERA']]\n",
    "fan2019 = fan2019[fan2019.IP >= 10]"
   ]
  },
  {
   "cell_type": "code",
   "execution_count": 69,
   "metadata": {},
   "outputs": [],
   "source": [
    "gujong = ['FF', 'FT', 'FC', 'SI', 'FS', 'SL', 'CH', 'CU', 'KC', 'KN', 'FO']\n",
    "\n",
    "\n",
    "GU2019 = pd.DataFrame()\n",
    "GU2019['player_name'] = []\n",
    "for jong in gujong:\n",
    "      \n",
    "    GU = savant2019[savant2019.pitch_type == jong][['player_name', 'pitch_type', 'effective_speed', 'release_spin_rate', 'pfx_tot']]\n",
    "    GU = GU.groupby('player_name').agg({'effective_speed':'mean', 'release_spin_rate':'mean', 'pfx_tot':'mean'})\n",
    "    GU = GU.dropna()\n",
    "    GU = GU.reset_index()\n",
    "    GU = GU[['player_name', 'effective_speed', 'release_spin_rate', 'pfx_tot']]\n",
    "    \n",
    "    GUcount = []\n",
    "    for j in GU['player_name']:\n",
    "        count = len(savant2019[(savant2019.player_name == j) & (savant2019.pitch_type == jong)])\n",
    "        tot = len(savant2019[savant2019.player_name == j])\n",
    "        \n",
    "        if tot == 0:   \n",
    "            result = 0\n",
    "        else:\n",
    "            result = count/tot\n",
    "            \n",
    "        GUcount.append(result)\n",
    "        \n",
    "    GU['_%'] = GUcount\n",
    "    \n",
    "    GU.columns = ['player_name', '{}_effective_speed'.format(jong), '{}_release_spin_rate'.format(jong), '{}_pfx_tot'.format(jong), '{}_%'.format(jong)]\n",
    "    GU2019 = GU2019.merge(GU, on='player_name', how='outer')\n",
    "    GU2019['{}_%'.format(jong)] = GU2019['{}_%'.format(jong)].fillna(0)"
   ]
  },
  {
   "cell_type": "code",
   "execution_count": 70,
   "metadata": {},
   "outputs": [],
   "source": [
    "GU2019 = GU2019.merge(stp2019, on='player_name', how='inner')\n",
    "    \n",
    "GU2019 = GU2019.merge(fan2019, on='player_name', how='inner')\n",
    "\n",
    "GU2019 = GU2019.fillna(GU2018.mean())\n",
    "\n",
    "GU2019 = GU2019[GU2019['pitch_count'] > 1000]"
   ]
  },
  {
   "cell_type": "code",
   "execution_count": 71,
   "metadata": {},
   "outputs": [],
   "source": [
    "GU2019d = GU2019[colname]\n",
    "GU2019t = GU2019[\"SO\"]\n",
    "\n",
    "XX = GU2019d.values\n",
    "yy = GU2019t.values\n",
    "\n",
    "XX_scaled = scaler.transform(XX)"
   ]
  },
  {
   "cell_type": "code",
   "execution_count": 72,
   "metadata": {},
   "outputs": [
    {
     "data": {
      "text/plain": [
       "0.13237082961552277"
      ]
     },
     "execution_count": 72,
     "metadata": {},
     "output_type": "execute_result"
    }
   ],
   "source": [
    "RF.score(XX_scaled, yy)\n",
    "\n",
    "y_pred = RF.predict(XX_scaled)\n",
    "RFmae = mean_absolute_error(yy, y_pred)\n",
    "mean_absolute_error(yy, y_pred)"
   ]
  },
  {
   "cell_type": "code",
   "execution_count": 73,
   "metadata": {},
   "outputs": [
    {
     "data": {
      "text/plain": [
       "0.13503756419377158"
      ]
     },
     "execution_count": 73,
     "metadata": {},
     "output_type": "execute_result"
    }
   ],
   "source": [
    "ridge01.score(XX_scaled, yy)\n",
    "\n",
    "y_pred = ridge01.predict(X_test_scaled)\n",
    "RGmae = mean_absolute_error(y_test, y_pred)\n",
    "mean_absolute_error(y_test, y_pred)"
   ]
  },
  {
   "cell_type": "code",
   "execution_count": 74,
   "metadata": {
    "scrolled": true
   },
   "outputs": [],
   "source": [
    "fna = pd.Series(colname)\n",
    "fim = pd.Series(RF.feature_importances_)\n",
    "feat_impo = pd.concat([fna, fim], axis=1)\n",
    "feat_impo.columns = ['name', 'importances']\n",
    "feat_impo_sort = feat_impo.sort_values(by='importances', ascending=False)"
   ]
  },
  {
   "cell_type": "code",
   "execution_count": 75,
   "metadata": {
    "scrolled": true
   },
   "outputs": [
    {
     "data": {
      "text/html": [
       "<div>\n",
       "<style scoped>\n",
       "    .dataframe tbody tr th:only-of-type {\n",
       "        vertical-align: middle;\n",
       "    }\n",
       "\n",
       "    .dataframe tbody tr th {\n",
       "        vertical-align: top;\n",
       "    }\n",
       "\n",
       "    .dataframe thead th {\n",
       "        text-align: right;\n",
       "    }\n",
       "</style>\n",
       "<table border=\"1\" class=\"dataframe\">\n",
       "  <thead>\n",
       "    <tr style=\"text-align: right;\">\n",
       "      <th></th>\n",
       "      <th>프로젝션</th>\n",
       "      <th>오차</th>\n",
       "      <th>프로젝션</th>\n",
       "      <th>오차</th>\n",
       "    </tr>\n",
       "  </thead>\n",
       "  <tbody>\n",
       "    <tr>\n",
       "      <th>0</th>\n",
       "      <td>Steamer</td>\n",
       "      <td>0.131</td>\n",
       "      <td>Marcel</td>\n",
       "      <td>0.144</td>\n",
       "    </tr>\n",
       "    <tr>\n",
       "      <th>1</th>\n",
       "      <td>랜덤포레스트</td>\n",
       "      <td>0.132</td>\n",
       "      <td>ZiPS</td>\n",
       "      <td>0.159</td>\n",
       "    </tr>\n",
       "    <tr>\n",
       "      <th>2</th>\n",
       "      <td>알고리즘B</td>\n",
       "      <td>0.135</td>\n",
       "      <td>PECOTA</td>\n",
       "      <td>0.161</td>\n",
       "    </tr>\n",
       "  </tbody>\n",
       "</table>\n",
       "</div>"
      ],
      "text/plain": [
       "      프로젝션     오차   프로젝션　    오차　\n",
       "0  Steamer  0.131  Marcel  0.144\n",
       "1   랜덤포레스트  0.132    ZiPS  0.159\n",
       "2    알고리즘B  0.135  PECOTA  0.161"
      ]
     },
     "execution_count": 75,
     "metadata": {},
     "output_type": "execute_result"
    }
   ],
   "source": [
    "k_result = pd.DataFrame(['Steamer', '랜덤포레스트', '알고리즘B'], columns=['프로젝션'])\n",
    "k_result['오차'] = [0.131, 0.132, 0.135]\n",
    "k_result['프로젝션　'] = ['Marcel',  'ZiPS', 'PECOTA']\n",
    "k_result['오차　'] = [0.144, 0.159, 0.161]\n",
    "k_result"
   ]
  },
  {
   "cell_type": "code",
   "execution_count": 76,
   "metadata": {
    "scrolled": false
   },
   "outputs": [
    {
     "data": {
      "text/html": [
       "<div>\n",
       "<style scoped>\n",
       "    .dataframe tbody tr th:only-of-type {\n",
       "        vertical-align: middle;\n",
       "    }\n",
       "\n",
       "    .dataframe tbody tr th {\n",
       "        vertical-align: top;\n",
       "    }\n",
       "\n",
       "    .dataframe thead th {\n",
       "        text-align: right;\n",
       "    }\n",
       "</style>\n",
       "<table border=\"1\" class=\"dataframe\">\n",
       "  <thead>\n",
       "    <tr style=\"text-align: right;\">\n",
       "      <th></th>\n",
       "      <th>name</th>\n",
       "      <th>importances</th>\n",
       "    </tr>\n",
       "  </thead>\n",
       "  <tbody>\n",
       "    <tr>\n",
       "      <th>2</th>\n",
       "      <td>포심 무브 합계</td>\n",
       "      <td>0.025619</td>\n",
       "    </tr>\n",
       "    <tr>\n",
       "      <th>30</th>\n",
       "      <td>커브 무브 합계</td>\n",
       "      <td>0.025908</td>\n",
       "    </tr>\n",
       "    <tr>\n",
       "      <th>21</th>\n",
       "      <td>슬라 총 회전수</td>\n",
       "      <td>0.026335</td>\n",
       "    </tr>\n",
       "    <tr>\n",
       "      <th>7</th>\n",
       "      <td>투심 구사 비율</td>\n",
       "      <td>0.027085</td>\n",
       "    </tr>\n",
       "    <tr>\n",
       "      <th>22</th>\n",
       "      <td>슬라 무브 합계</td>\n",
       "      <td>0.027287</td>\n",
       "    </tr>\n",
       "    <tr>\n",
       "      <th>23</th>\n",
       "      <td>슬라 구사 비율</td>\n",
       "      <td>0.037187</td>\n",
       "    </tr>\n",
       "    <tr>\n",
       "      <th>27</th>\n",
       "      <td>체인 구사 비율</td>\n",
       "      <td>0.049153</td>\n",
       "    </tr>\n",
       "    <tr>\n",
       "      <th>3</th>\n",
       "      <td>포심 구사 비율</td>\n",
       "      <td>0.056594</td>\n",
       "    </tr>\n",
       "    <tr>\n",
       "      <th>1</th>\n",
       "      <td>포심 총 회전수</td>\n",
       "      <td>0.122649</td>\n",
       "    </tr>\n",
       "    <tr>\n",
       "      <th>0</th>\n",
       "      <td>포심 체감 속도</td>\n",
       "      <td>0.256299</td>\n",
       "    </tr>\n",
       "  </tbody>\n",
       "</table>\n",
       "</div>"
      ],
      "text/plain": [
       "        name  importances\n",
       "2   포심 무브 합계     0.025619\n",
       "30  커브 무브 합계     0.025908\n",
       "21  슬라 총 회전수     0.026335\n",
       "7   투심 구사 비율     0.027085\n",
       "22  슬라 무브 합계     0.027287\n",
       "23  슬라 구사 비율     0.037187\n",
       "27  체인 구사 비율     0.049153\n",
       "3   포심 구사 비율     0.056594\n",
       "1   포심 총 회전수     0.122649\n",
       "0   포심 체감 속도     0.256299"
      ]
     },
     "execution_count": 76,
     "metadata": {},
     "output_type": "execute_result"
    }
   ],
   "source": [
    "feat_impo_sort_1 = feat_impo_sort[:10].sort_values(by='importances')\n",
    "feat_impo_sort_1['name'] = ['포심 무브 합계', '커브 무브 합계',\n",
    "                           '슬라 총 회전수', '투심 구사 비율',\n",
    "                           '슬라 무브 합계', '슬라 구사 비율',\n",
    "                           '체인 구사 비율', '포심 구사 비율',\n",
    "                           '포심 총 회전수', '포심 체감 속도']\n",
    "feat_impo_sort_1"
   ]
  },
  {
   "cell_type": "code",
   "execution_count": 4,
   "metadata": {},
   "outputs": [],
   "source": [
    "import matplotlib.pyplot as plt\n",
    "plt.style.use('ggplot')"
   ]
  },
  {
   "cell_type": "code",
   "execution_count": 78,
   "metadata": {},
   "outputs": [
    {
     "data": {
      "image/png": "[encoded data removed]",
      "text/plain": [
       "<Figure size 432x288 with 1 Axes>"
      ]
     },
     "metadata": {
      "needs_background": "light"
     },
     "output_type": "display_data"
    }
   ],
   "source": [
    "def plot_feature_importance(model):\n",
    "    n_features = len(feat_impo_sort[:10])\n",
    "    plt.barh(range(n_features), feat_impo_sort_1['importances'], align='center', color='darkorange')\n",
    "    plt.yticks(np.arange(n_features), feat_impo_sort_1['name'], size=13)\n",
    "    plt.xlabel(\"중요도\", size=15)\n",
    "    plt.xlim(0, 0.27)\n",
    "    plt.ylim(-1, n_features)\n",
    "    plt.suptitle('<중요도 상위 10개 변수>', size=20)\n",
    "\n",
    "plot_feature_importance(RF)"
   ]
  },
  {
   "cell_type": "code",
   "execution_count": 79,
   "metadata": {
    "scrolled": true
   },
   "outputs": [],
   "source": [
    "feat_impo_sort2 = feat_impo.sort_values(by='importances', ascending=True)"
   ]
  },
  {
   "cell_type": "code",
   "execution_count": 80,
   "metadata": {},
   "outputs": [
    {
     "data": {
      "text/html": [
       "<div>\n",
       "<style scoped>\n",
       "    .dataframe tbody tr th:only-of-type {\n",
       "        vertical-align: middle;\n",
       "    }\n",
       "\n",
       "    .dataframe tbody tr th {\n",
       "        vertical-align: top;\n",
       "    }\n",
       "\n",
       "    .dataframe thead th {\n",
       "        text-align: right;\n",
       "    }\n",
       "</style>\n",
       "<table border=\"1\" class=\"dataframe\">\n",
       "  <thead>\n",
       "    <tr style=\"text-align: right;\">\n",
       "      <th></th>\n",
       "      <th>name</th>\n",
       "      <th>importances</th>\n",
       "    </tr>\n",
       "  </thead>\n",
       "  <tbody>\n",
       "    <tr>\n",
       "      <th>19</th>\n",
       "      <td>스플 구사 비율</td>\n",
       "      <td>0.004966</td>\n",
       "    </tr>\n",
       "    <tr>\n",
       "      <th>34</th>\n",
       "      <td>너커 무브 합계</td>\n",
       "      <td>0.004959</td>\n",
       "    </tr>\n",
       "    <tr>\n",
       "      <th>40</th>\n",
       "      <td>포크 체감 구속</td>\n",
       "      <td>0.001935</td>\n",
       "    </tr>\n",
       "    <tr>\n",
       "      <th>37</th>\n",
       "      <td>너클 총 회전수</td>\n",
       "      <td>0.001391</td>\n",
       "    </tr>\n",
       "    <tr>\n",
       "      <th>36</th>\n",
       "      <td>너클 체감 구속</td>\n",
       "      <td>0.001179</td>\n",
       "    </tr>\n",
       "    <tr>\n",
       "      <th>42</th>\n",
       "      <td>포크 무브 합계</td>\n",
       "      <td>0.001174</td>\n",
       "    </tr>\n",
       "    <tr>\n",
       "      <th>38</th>\n",
       "      <td>너클 무브 합계</td>\n",
       "      <td>0.000947</td>\n",
       "    </tr>\n",
       "    <tr>\n",
       "      <th>41</th>\n",
       "      <td>포크 총 회전수</td>\n",
       "      <td>0.000852</td>\n",
       "    </tr>\n",
       "    <tr>\n",
       "      <th>39</th>\n",
       "      <td>너클 구사 비율</td>\n",
       "      <td>0.000048</td>\n",
       "    </tr>\n",
       "    <tr>\n",
       "      <th>43</th>\n",
       "      <td>포크 구사 비율</td>\n",
       "      <td>0.000000</td>\n",
       "    </tr>\n",
       "  </tbody>\n",
       "</table>\n",
       "</div>"
      ],
      "text/plain": [
       "        name  importances\n",
       "19  스플 구사 비율     0.004966\n",
       "34  너커 무브 합계     0.004959\n",
       "40  포크 체감 구속     0.001935\n",
       "37  너클 총 회전수     0.001391\n",
       "36  너클 체감 구속     0.001179\n",
       "42  포크 무브 합계     0.001174\n",
       "38  너클 무브 합계     0.000947\n",
       "41  포크 총 회전수     0.000852\n",
       "39  너클 구사 비율     0.000048\n",
       "43  포크 구사 비율     0.000000"
      ]
     },
     "execution_count": 80,
     "metadata": {},
     "output_type": "execute_result"
    }
   ],
   "source": [
    "feat_impo_sort_2 = feat_impo_sort2[:10].sort_values(by='importances', ascending=False)\n",
    "feat_impo_sort_2['name'] = ['스플 구사 비율', '너커 무브 합계',\n",
    "                           '포크 체감 구속', '너클 총 회전수',\n",
    "                           '너클 체감 구속', '포크 무브 합계',\n",
    "                           '너클 무브 합계', '포크 총 회전수',\n",
    "                           '너클 구사 비율', '포크 구사 비율']\n",
    "feat_impo_sort_2"
   ]
  },
  {
   "cell_type": "code",
   "execution_count": 81,
   "metadata": {},
   "outputs": [
    {
     "data": {
      "image/png": "[encoded data removed]",
      "text/plain": [
       "<Figure size 432x288 with 1 Axes>"
      ]
     },
     "metadata": {
      "needs_background": "light"
     },
     "output_type": "display_data"
    }
   ],
   "source": [
    "def plot_feature_importance(model):\n",
    "    n_features = len(feat_impo_sort_2)\n",
    "    plt.barh(range(n_features), feat_impo_sort_2['importances'], align='center', color='deepskyblue')\n",
    "    plt.yticks(np.arange(n_features), feat_impo_sort_2['name'], size=13)\n",
    "    plt.xlabel(\"중요도\", size=15)\n",
    "    plt.suptitle('<중요도 하위 10개 변수>', size=20)\n",
    "    plt.xlim(0, 0.00525)\n",
    "    plt.ylim(-1, n_features)\n",
    "\n",
    "plot_feature_importance(RF)"
   ]
  },
  {
   "cell_type": "markdown",
   "metadata": {},
   "source": [
    "## Tom Tango의 Marcel"
   ]
  },
  {
   "cell_type": "markdown",
   "metadata": {},
   "source": [
    "- 류현진의 2019년 삼진 개수는?\n",
    "\n",
    "\n",
    "- 2018: [개인] 82.1이닝, 89삼진 / [리그] 43489이닝 41207삼진\n",
    "- 2017: [개인] 126.2이닝, 116삼진 / [리그] 43257이닝 40104삼진\n",
    "- 2016: [개인] 4.2이닝, 4삼진 / [리그] 43306.1이닝, 38982삼진"
   ]
  },
  {
   "cell_type": "markdown",
   "metadata": {},
   "source": [
    "### 1. 최근 3년 삼진과 이닝에 가중치를 줌 "
   ]
  },
  {
   "cell_type": "markdown",
   "metadata": {},
   "source": [
    "- 투수는 직전 연도부터 3/2/1, 타자는 5/4/3\n",
    "- 이닝과 타석수에 대해서는 최근 2년에 각각 0.5/0.1을 곱해줌\n",
    "- 위 값에 이닝의 경우 선발-60, 중계-25를, 타석의 경우 200을 한번 더 더해줌"
   ]
  },
  {
   "cell_type": "code",
   "execution_count": 21,
   "metadata": {},
   "outputs": [
    {
     "data": {
      "text/plain": [
       "503"
      ]
     },
     "execution_count": 21,
     "metadata": {},
     "output_type": "execute_result"
    }
   ],
   "source": [
    "SO3 = (89*3) + (116*2) + (4*1)\n",
    "SO3"
   ]
  },
  {
   "cell_type": "code",
   "execution_count": 22,
   "metadata": {},
   "outputs": [
    {
     "data": {
      "text/plain": [
       "113.83333333333333"
      ]
     },
     "execution_count": 22,
     "metadata": {},
     "output_type": "execute_result"
    }
   ],
   "source": [
    "IP3 = ((82+(1/3)) * 0.5) + ((126+(2/3)) * 0.1) + 60\n",
    "IP3"
   ]
  },
  {
   "cell_type": "markdown",
   "metadata": {},
   "source": [
    "### 2. 최근 3년 리그 평균에 대한 가중치를 줌"
   ]
  },
  {
   "cell_type": "markdown",
   "metadata": {},
   "source": [
    "- (리그삼진/리그이닝) * 해당 선수 이닝 * 가중치"
   ]
  },
  {
   "cell_type": "code",
   "execution_count": 23,
   "metadata": {},
   "outputs": [],
   "source": [
    "Lg2018 = (41207 / 43489) * (82+(1/3)) * 3\n",
    "Lg2017 = (40104 / 43257) * (126+(2/3)) * 2\n",
    "Lg2016 = (38982 / (43306+(1/3))) * (4+(2/3)) * 1\n",
    "\n",
    "tSO = Lg2018 + Lg2017 + Lg2016\n",
    "tIP = (82+(1/3)) * 3 + (126+(2/3)) * 2 + (4+(2/3)) * 1"
   ]
  },
  {
   "cell_type": "code",
   "execution_count": 24,
   "metadata": {},
   "outputs": [
    {
     "data": {
      "text/plain": [
       "162.4"
      ]
     },
     "execution_count": 24,
     "metadata": {},
     "output_type": "execute_result"
    }
   ],
   "source": [
    "# 커쇼 161.1\n",
    "IP3 = ((175) * 0.5) + ((149) * 0.1) + 60\n",
    "IP3"
   ]
  },
  {
   "cell_type": "code",
   "execution_count": 25,
   "metadata": {},
   "outputs": [],
   "source": [
    "# 커쇼\n",
    "SO3 = (202*3) + (172*2) + (301*1)\n",
    "\n",
    "Lg2017 = (40104 / 43257) * (175) * 3\n",
    "Lg2016 = (38982 / (43306+(1/3))) * (149) * 2\n",
    "Lg2015 = (37446 / (43407+(2/3))) * (232+(2/3)) * 1\n",
    "\n",
    "tSO = Lg2017 + Lg2016 + Lg2015\n",
    "tIP = (175) * 3 + (149) * 2 + (232+(2/3)) * 1"
   ]
  },
  {
   "cell_type": "code",
   "execution_count": 26,
   "metadata": {},
   "outputs": [
    {
     "data": {
      "text/plain": [
       "142.2"
      ]
     },
     "execution_count": 26,
     "metadata": {},
     "output_type": "execute_result"
    }
   ],
   "source": [
    "# 우드 151.2\n",
    "IP3 = ((152+(1/3)) * 0.5) + ((60+(1/3)) * 0.1) + 60\n",
    "IP3"
   ]
  },
  {
   "cell_type": "code",
   "execution_count": 27,
   "metadata": {},
   "outputs": [],
   "source": [
    "# 우드\n",
    "SO3 = (151*3) + (66*2) + (139*1)\n",
    "\n",
    "Lg2017 = (40104 / 43257) * (175) * 3\n",
    "Lg2016 = (38982 / (43306+(1/3))) * (149) * 2\n",
    "Lg2015 = (37446 / (43407+(2/3))) * (232+(2/3)) * 1\n",
    "\n",
    "tSO = Lg2017 + Lg2016 + Lg2015\n",
    "tIP = (152+(1/3)) * 3 + (60+(1/3)) * 2 + (189+(2/3)) * 1"
   ]
  },
  {
   "cell_type": "code",
   "execution_count": 28,
   "metadata": {},
   "outputs": [
    {
     "data": {
      "text/plain": [
       "138.7"
      ]
     },
     "execution_count": 28,
     "metadata": {},
     "output_type": "execute_result"
    }
   ],
   "source": [
    "# 힐 132.2\n",
    "IP3 = ((135+(1/3)) * 0.5) + ((110+(1/3)) * 0.1) + 60\n",
    "IP3"
   ]
  },
  {
   "cell_type": "code",
   "execution_count": 29,
   "metadata": {},
   "outputs": [],
   "source": [
    "# 힐\n",
    "SO3 = (166*3) + (129*2) + (36*1)\n",
    "\n",
    "Lg2017 = (40104 / 43257) * (175) * 3\n",
    "Lg2016 = (38982 / (43306+(1/3))) * (149) * 2\n",
    "Lg2015 = (37446 / (43407+(2/3))) * (232+(2/3)) * 1\n",
    "\n",
    "tSO = Lg2017 + Lg2016 + Lg2015\n",
    "tIP = (135+(1/3)) * 3 + (110+(1/3)) * 2 + (29) * 1"
   ]
  },
  {
   "cell_type": "markdown",
   "metadata": {},
   "source": [
    "### 3. 총삼진/총이닝에 100이란 가중을 두어, 예측 이닝당 삼진수 구함"
   ]
  },
  {
   "cell_type": "markdown",
   "metadata": {},
   "source": [
    "- r(회귀율) = PA / (PA + 1200)\n",
    "- 타자의 경우 1200타석의 가중을 둠\n",
    "- ((총삼진/총이닝) * 200 + 가중삼진) / 200 + 총이닝\n",
    "- 선발의 경우 회귀율 계산시 200을 대입하고 중계는 25/60 * 200 = 약 80\n",
    "- 이닝이나 타석수가 적을 수록 회귀율이 적어짐"
   ]
  },
  {
   "cell_type": "markdown",
   "metadata": {},
   "source": [
    "#### 타자의 한 해 타석을 600, 선발 투수의 이닝을 200이라고 할 때 회귀율 "
   ]
  },
  {
   "cell_type": "code",
   "execution_count": 30,
   "metadata": {},
   "outputs": [
    {
     "data": {
      "text/plain": [
       "0.8571428571428571"
      ]
     },
     "execution_count": 30,
     "metadata": {},
     "output_type": "execute_result"
    }
   ],
   "source": [
    "batter = 7200 / (7200 + 1200)\n",
    "batter"
   ]
  },
  {
   "cell_type": "code",
   "execution_count": 31,
   "metadata": {},
   "outputs": [
    {
     "data": {
      "text/plain": [
       "0.8571428571428571"
      ]
     },
     "execution_count": 31,
     "metadata": {},
     "output_type": "execute_result"
    }
   ],
   "source": [
    "pitcher = 1200 / (1200 + 200)\n",
    "pitcher"
   ]
  },
  {
   "cell_type": "code",
   "execution_count": 32,
   "metadata": {},
   "outputs": [
    {
     "data": {
      "text/plain": [
       "0.7662641215426568"
      ]
     },
     "execution_count": 32,
     "metadata": {},
     "output_type": "execute_result"
    }
   ],
   "source": [
    "ryu = tIP / (tIP + 200)\n",
    "ryu"
   ]
  },
  {
   "cell_type": "code",
   "execution_count": 33,
   "metadata": {},
   "outputs": [
    {
     "data": {
      "text/plain": [
       "1.2662833309041375"
      ]
     },
     "execution_count": 33,
     "metadata": {},
     "output_type": "execute_result"
    }
   ],
   "source": [
    "SO_per_IP = ((tSO/tIP) * 200 + SO3) / (200 + tIP) \n",
    "SO_per_IP"
   ]
  },
  {
   "cell_type": "markdown",
   "metadata": {},
   "source": [
    "### 4. 가중 이닝수에 예측 이닝당 삼진수 곱함"
   ]
  },
  {
   "cell_type": "code",
   "execution_count": 34,
   "metadata": {},
   "outputs": [
    {
     "data": {
      "text/plain": [
       "175.63349799640386"
      ]
     },
     "execution_count": 34,
     "metadata": {},
     "output_type": "execute_result"
    }
   ],
   "source": [
    "predict = SO_per_IP * IP3\n",
    "predict"
   ]
  },
  {
   "cell_type": "markdown",
   "metadata": {},
   "source": [
    "### 5. 나이에 따른 보정"
   ]
  },
  {
   "cell_type": "markdown",
   "metadata": {},
   "source": [
    "- 2004년(2000년대 초) 메이저리그 기준 선수 기량은 29세가 정점\n",
    "- 29세보다 나이가 많으면 0.003의 조정을, 적으면 0.006의 조정을 함\n",
    "- 29세보다 많으면 [29 - (예측연도 - 선수출생연도)] * 0.003으로 조정"
   ]
  },
  {
   "cell_type": "code",
   "execution_count": 35,
   "metadata": {},
   "outputs": [
    {
     "data": {
      "text/plain": [
       "174.05279651443624"
      ]
     },
     "execution_count": 35,
     "metadata": {},
     "output_type": "execute_result"
    }
   ],
   "source": [
    "Aging = 1 + ((29 - (2019 - 1987)) * 0.003)\n",
    "predict * Aging"
   ]
  },
  {
   "cell_type": "code",
   "execution_count": 36,
   "metadata": {},
   "outputs": [
    {
     "data": {
      "text/plain": [
       "175.10659750241464"
      ]
     },
     "execution_count": 36,
     "metadata": {},
     "output_type": "execute_result"
    }
   ],
   "source": [
    "# 커쇼 155\n",
    "Aging = 1 + ((29 - (2018 - 1988)) * 0.003)\n",
    "predict * Aging"
   ]
  },
  {
   "cell_type": "code",
   "execution_count": 37,
   "metadata": {},
   "outputs": [
    {
     "data": {
      "text/plain": [
       "173.52589602044702"
      ]
     },
     "execution_count": 37,
     "metadata": {},
     "output_type": "execute_result"
    }
   ],
   "source": [
    "# 우드 135\n",
    "Aging = 1 + (((2018 - 1991) - 29) * 0.006)\n",
    "predict * Aging"
   ]
  },
  {
   "cell_type": "code",
   "execution_count": 38,
   "metadata": {},
   "outputs": [
    {
     "data": {
      "text/plain": [
       "170.89139355050096"
      ]
     },
     "execution_count": 38,
     "metadata": {},
     "output_type": "execute_result"
    }
   ],
   "source": [
    "# 힐 150\n",
    "Aging = 1 + ((29 - (2018 - 1980)) * 0.003)\n",
    "predict * Aging"
   ]
  },
  {
   "cell_type": "code",
   "execution_count": 39,
   "metadata": {},
   "outputs": [],
   "source": [
    "import pandas as pd"
   ]
  },
  {
   "cell_type": "code",
   "execution_count": 40,
   "metadata": {},
   "outputs": [
    {
     "data": {
      "text/html": [
       "<div>\n",
       "<style scoped>\n",
       "    .dataframe tbody tr th:only-of-type {\n",
       "        vertical-align: middle;\n",
       "    }\n",
       "\n",
       "    .dataframe tbody tr th {\n",
       "        vertical-align: top;\n",
       "    }\n",
       "\n",
       "    .dataframe thead th {\n",
       "        text-align: right;\n",
       "    }\n",
       "</style>\n",
       "<table border=\"1\" class=\"dataframe\">\n",
       "  <thead>\n",
       "    <tr style=\"text-align: right;\">\n",
       "      <th></th>\n",
       "      <th>커쇼</th>\n",
       "      <th>우드</th>\n",
       "      <th>힐</th>\n",
       "    </tr>\n",
       "  </thead>\n",
       "  <tbody>\n",
       "    <tr>\n",
       "      <th>이닝 - 실제</th>\n",
       "      <td>161.1</td>\n",
       "      <td>151.2</td>\n",
       "      <td>132.2</td>\n",
       "    </tr>\n",
       "    <tr>\n",
       "      <th>예측</th>\n",
       "      <td>162.1</td>\n",
       "      <td>142.1</td>\n",
       "      <td>138.2</td>\n",
       "    </tr>\n",
       "    <tr>\n",
       "      <th>삼진 - 실제</th>\n",
       "      <td>155.0</td>\n",
       "      <td>135.0</td>\n",
       "      <td>150.0</td>\n",
       "    </tr>\n",
       "    <tr>\n",
       "      <th>예측</th>\n",
       "      <td>185.0</td>\n",
       "      <td>141.0</td>\n",
       "      <td>136.0</td>\n",
       "    </tr>\n",
       "  </tbody>\n",
       "</table>\n",
       "</div>"
      ],
      "text/plain": [
       "            커쇼     우드      힐\n",
       "이닝 - 실제  161.1  151.2  132.2\n",
       "　　   예측  162.1  142.1  138.2\n",
       "삼진 - 실제  155.0  135.0  150.0\n",
       "　　   예측  185.0  141.0  136.0"
      ]
     },
     "execution_count": 40,
     "metadata": {},
     "output_type": "execute_result"
    }
   ],
   "source": [
    "result = pd.DataFrame([[161.1, 151.2, 132.2], [162.1, 142.1, 138.2]\n",
    "                      ,[155, 135, 150], [185, 141, 136]])\n",
    "result.columns = [\"커쇼\", \"우드\", \"힐\"]\n",
    "result.index = [\"이닝 - 실제\", \"　　   예측\", \"삼진 - 실제\", \"　　   예측\"]\n",
    "result"
   ]
  },
  {
   "cell_type": "markdown",
   "metadata": {},
   "source": [
    "## ① 가중 삼진: (89 X 3) + (116 X 2) + (4 X 1) = 503"
   ]
  },
  {
   "cell_type": "markdown",
   "metadata": {},
   "source": [
    "## 가중 이닝: (82.1 X 3) + (126.2 X 2) + (4.2 X 1) = 505"
   ]
  },
  {
   "cell_type": "markdown",
   "metadata": {},
   "source": [
    "## ② 리그 평균 가중 삼진: ($\\frac{41207}{43489}$ X 82.1) X 3 + ($\\frac{40104}{43257}$ X 126.2) X 2"
   ]
  },
  {
   "cell_type": "markdown",
   "metadata": {},
   "source": [
    "## + ($\\frac{38982}{43306.1}$ X 4.2) X 1 = 473.107$\\cdots$."
   ]
  },
  {
   "cell_type": "markdown",
   "metadata": {},
   "source": [
    "## $\\frac{(리그가중삼진)}{(가중이닝)}$　　= $\\frac{473.107}{505}$ = $\\frac{195.849}{200}$"
   ]
  },
  {
   "cell_type": "markdown",
   "metadata": {},
   "source": [
    "## ③ $\\frac{195.849 + (가중삼진)}{200 + (가중이닝)}$　= $\\frac{195.849 + 503}{200 + 505}$ = 0.979$\\cdots$."
   ]
  },
  {
   "cell_type": "markdown",
   "metadata": {},
   "source": [
    "## ④ 예상 이닝: (82.1 X 0.5) + (126.2 X 0.1) + 60 = 113.833$\\cdots$."
   ]
  },
  {
   "cell_type": "markdown",
   "metadata": {},
   "source": [
    "## ⑤ 나이 보정값: 1 - (29 - (2019 - 1987)) X 0.003 = 0.991"
   ]
  },
  {
   "cell_type": "markdown",
   "metadata": {},
   "source": [
    "## ⑥ (예상이닝) X 0.979 = 113.833 X 0.979 = 111.470$\\cdots$."
   ]
  },
  {
   "cell_type": "markdown",
   "metadata": {},
   "source": [
    "## 111.470 X 0.991 = 110.467 $\\doteqdot$ 110"
   ]
  },
  {
   "cell_type": "code",
   "execution_count": null,
   "metadata": {},
   "outputs": [],
   "source": []
  }
 ],
 "metadata": {
  "kernelspec": {
   "display_name": "Python 3",
   "language": "python",
   "name": "python3"
  },
  "language_info": {
   "codemirror_mode": {
    "name": "ipython",
    "version": 3
   },
   "file_extension": ".py",
   "mimetype": "text/x-python",
   "name": "python",
   "nbconvert_exporter": "python",
   "pygments_lexer": "ipython3",
   "version": "3.7.3"
  }
 },
 "nbformat": 4,
 "nbformat_minor": 2
}
