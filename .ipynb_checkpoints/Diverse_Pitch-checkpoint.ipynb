{
 "cells": [
  {
   "cell_type": "markdown",
   "metadata": {},
   "source": [
    "> # 구종의 다양함이 주는 영향"
   ]
  },
  {
   "cell_type": "markdown",
   "metadata": {},
   "source": [
    "## 1. Statcast Data"
   ]
  },
  {
   "cell_type": "code",
   "execution_count": 131,
   "metadata": {
    "scrolled": true
   },
   "outputs": [],
   "source": [
    "from pybaseball import statcast"
   ]
  },
  {
   "cell_type": "markdown",
   "metadata": {},
   "source": [
    "### datatime 자료형으로 년/월/일 리스트를 만듬"
   ]
  },
  {
   "cell_type": "code",
   "execution_count": 126,
   "metadata": {},
   "outputs": [],
   "source": [
    "dt = pd.date_range(\"20180101\", periods = 365)"
   ]
  },
  {
   "cell_type": "code",
   "execution_count": 127,
   "metadata": {},
   "outputs": [],
   "source": [
    "import datetime\n",
    "dt_st = dt.strftime('%Y-%m-%d')\n",
    "dt_list = list(dt_st)"
   ]
  },
  {
   "cell_type": "markdown",
   "metadata": {},
   "source": [
    "### 각 일자별로 statcast 데이터 받음"
   ]
  },
  {
   "cell_type": "markdown",
   "metadata": {},
   "source": [
    "for i in dt_list:\n",
    "    data = []\n",
    "    data = statcast(i, i)\n",
    "    del data['index']\n",
    "    data.to_csv('D://statcast//savant_{}{}{}.csv'.format(i[:4], i[5:7], i[8:10]), index = False)"
   ]
  },
  {
   "cell_type": "markdown",
   "metadata": {},
   "source": [
    "dt_list = dt_list[:30]"
   ]
  },
  {
   "cell_type": "markdown",
   "metadata": {},
   "source": [
    "### 필요한 부분 병합 (전체)"
   ]
  },
  {
   "cell_type": "code",
   "execution_count": 128,
   "metadata": {},
   "outputs": [
    {
     "name": "stdout",
     "output_type": "stream",
     "text": [
      "20180110 merged\n",
      "20180120 merged\n",
      "20180130 merged\n",
      "20180209 merged\n",
      "20180219 merged\n",
      "20180301 merged\n",
      "20180311 merged\n",
      "20180321 merged\n",
      "20180331 merged\n",
      "20180410 merged\n",
      "20180420 merged\n",
      "20180430 merged\n",
      "20180510 merged\n",
      "20180520 merged\n",
      "20180530 merged\n",
      "20180609 merged\n",
      "20180619 merged\n",
      "20180629 merged\n",
      "20180709 merged\n",
      "20180719 merged\n",
      "20180729 merged\n",
      "20180808 merged\n",
      "20180818 merged\n",
      "20180828 merged\n",
      "20180907 merged\n",
      "20180917 merged\n",
      "20180927 merged\n",
      "20181007 merged\n",
      "20181017 merged\n",
      "20181027 merged\n",
      "20181106 merged\n",
      "20181116 merged\n",
      "20181126 merged\n",
      "20181206 merged\n",
      "20181216 merged\n",
      "20181226 merged\n",
      "done.\n"
     ]
    }
   ],
   "source": [
    "j = 1\n",
    "\n",
    "for i in dt_list:\n",
    "    \n",
    "    if i == dt_list[0]:\n",
    "        data = pd.read_csv('D://statcast//savant_{}{}{}.csv'.format(i[:4], i[5:7], i[8:10]))\n",
    "        continue\n",
    "    else:\n",
    "        da = pd.read_csv('D://statcast//savant_{}{}{}.csv'.format(i[:4], i[5:7], i[8:10]))\n",
    "        data = pd.concat([data, da])\n",
    "\n",
    "    j += 1\n",
    "    \n",
    "    if j == len(dt_list):\n",
    "        print('done.')\n",
    "        \n",
    "    elif j % 10 == 0:\n",
    "        print('{}{}{} merged'.format(i[:4], i[5:7], i[8:10]))        "
   ]
  },
  {
   "cell_type": "code",
   "execution_count": 129,
   "metadata": {},
   "outputs": [
    {
     "data": {
      "text/plain": [
       "731207"
      ]
     },
     "execution_count": 129,
     "metadata": {},
     "output_type": "execute_result"
    }
   ],
   "source": [
    "len(data)"
   ]
  },
  {
   "cell_type": "code",
   "execution_count": 2,
   "metadata": {},
   "outputs": [
    {
     "ename": "NameError",
     "evalue": "name 'data' is not defined",
     "output_type": "error",
     "traceback": [
      "\u001b[1;31m---------------------------------------------------------------------------\u001b[0m",
      "\u001b[1;31mNameError\u001b[0m                                 Traceback (most recent call last)",
      "\u001b[1;32m<ipython-input-2-5d1bdff84dd7>\u001b[0m in \u001b[0;36m<module>\u001b[1;34m\u001b[0m\n\u001b[0;32m      1\u001b[0m \u001b[1;32mimport\u001b[0m \u001b[0mpandas\u001b[0m \u001b[1;32mas\u001b[0m \u001b[0mpd\u001b[0m\u001b[1;33m\u001b[0m\u001b[1;33m\u001b[0m\u001b[0m\n\u001b[1;32m----> 2\u001b[1;33m \u001b[0mdata\u001b[0m\u001b[1;33m.\u001b[0m\u001b[0mto_csv\u001b[0m\u001b[1;33m(\u001b[0m\u001b[1;34m'D://statcast//savant.csv'\u001b[0m\u001b[1;33m,\u001b[0m \u001b[0mindex\u001b[0m \u001b[1;33m=\u001b[0m \u001b[1;32mFalse\u001b[0m\u001b[1;33m)\u001b[0m\u001b[1;33m\u001b[0m\u001b[1;33m\u001b[0m\u001b[0m\n\u001b[0m",
      "\u001b[1;31mNameError\u001b[0m: name 'data' is not defined"
     ]
    }
   ],
   "source": [
    "data.to_csv('D://statcast//savant.csv', index = False)"
   ]
  },
  {
   "cell_type": "code",
   "execution_count": 3,
   "metadata": {},
   "outputs": [],
   "source": [
    "import pandas as pd\n",
    "data = pd.read_csv('D://statcast//savant.csv')"
   ]
  },
  {
   "cell_type": "code",
   "execution_count": 4,
   "metadata": {},
   "outputs": [
    {
     "data": {
      "text/html": [
       "<div>\n",
       "<style scoped>\n",
       "    .dataframe tbody tr th:only-of-type {\n",
       "        vertical-align: middle;\n",
       "    }\n",
       "\n",
       "    .dataframe tbody tr th {\n",
       "        vertical-align: top;\n",
       "    }\n",
       "\n",
       "    .dataframe thead th {\n",
       "        text-align: right;\n",
       "    }\n",
       "</style>\n",
       "<table border=\"1\" class=\"dataframe\">\n",
       "  <thead>\n",
       "    <tr style=\"text-align: right;\">\n",
       "      <th></th>\n",
       "      <th>pitch_type</th>\n",
       "      <th>game_date</th>\n",
       "      <th>release_speed</th>\n",
       "      <th>release_pos_x</th>\n",
       "      <th>release_pos_z</th>\n",
       "      <th>player_name</th>\n",
       "      <th>batter</th>\n",
       "      <th>pitcher</th>\n",
       "      <th>events</th>\n",
       "      <th>description</th>\n",
       "      <th>...</th>\n",
       "      <th>home_score</th>\n",
       "      <th>away_score</th>\n",
       "      <th>bat_score</th>\n",
       "      <th>fld_score</th>\n",
       "      <th>post_away_score</th>\n",
       "      <th>post_home_score</th>\n",
       "      <th>post_bat_score</th>\n",
       "      <th>post_fld_score</th>\n",
       "      <th>if_fielding_alignment</th>\n",
       "      <th>of_fielding_alignment</th>\n",
       "    </tr>\n",
       "  </thead>\n",
       "  <tbody>\n",
       "    <tr>\n",
       "      <th>0</th>\n",
       "      <td>SI</td>\n",
       "      <td>2018-03-29</td>\n",
       "      <td>96.7</td>\n",
       "      <td>-1.3857</td>\n",
       "      <td>6.1136</td>\n",
       "      <td>Jeurys Familia</td>\n",
       "      <td>657557.0</td>\n",
       "      <td>544727.0</td>\n",
       "      <td>field_out</td>\n",
       "      <td>hit_into_play</td>\n",
       "      <td>...</td>\n",
       "      <td>9.0</td>\n",
       "      <td>4.0</td>\n",
       "      <td>4.0</td>\n",
       "      <td>9.0</td>\n",
       "      <td>4.0</td>\n",
       "      <td>9.0</td>\n",
       "      <td>4.0</td>\n",
       "      <td>9.0</td>\n",
       "      <td>Standard</td>\n",
       "      <td>Standard</td>\n",
       "    </tr>\n",
       "    <tr>\n",
       "      <th>1</th>\n",
       "      <td>SI</td>\n",
       "      <td>2018-03-29</td>\n",
       "      <td>96.0</td>\n",
       "      <td>-1.3302</td>\n",
       "      <td>6.1877</td>\n",
       "      <td>Jeurys Familia</td>\n",
       "      <td>657557.0</td>\n",
       "      <td>544727.0</td>\n",
       "      <td>NaN</td>\n",
       "      <td>blocked_ball</td>\n",
       "      <td>...</td>\n",
       "      <td>9.0</td>\n",
       "      <td>4.0</td>\n",
       "      <td>4.0</td>\n",
       "      <td>9.0</td>\n",
       "      <td>4.0</td>\n",
       "      <td>9.0</td>\n",
       "      <td>4.0</td>\n",
       "      <td>9.0</td>\n",
       "      <td>Standard</td>\n",
       "      <td>Standard</td>\n",
       "    </tr>\n",
       "    <tr>\n",
       "      <th>2</th>\n",
       "      <td>FF</td>\n",
       "      <td>2018-03-29</td>\n",
       "      <td>98.1</td>\n",
       "      <td>-1.3381</td>\n",
       "      <td>5.9711</td>\n",
       "      <td>Jeurys Familia</td>\n",
       "      <td>425877.0</td>\n",
       "      <td>544727.0</td>\n",
       "      <td>walk</td>\n",
       "      <td>ball</td>\n",
       "      <td>...</td>\n",
       "      <td>9.0</td>\n",
       "      <td>4.0</td>\n",
       "      <td>4.0</td>\n",
       "      <td>9.0</td>\n",
       "      <td>4.0</td>\n",
       "      <td>9.0</td>\n",
       "      <td>4.0</td>\n",
       "      <td>9.0</td>\n",
       "      <td>Strategic</td>\n",
       "      <td>Standard</td>\n",
       "    </tr>\n",
       "    <tr>\n",
       "      <th>3</th>\n",
       "      <td>FF</td>\n",
       "      <td>2018-03-29</td>\n",
       "      <td>97.4</td>\n",
       "      <td>-1.1546</td>\n",
       "      <td>5.9254</td>\n",
       "      <td>Jeurys Familia</td>\n",
       "      <td>425877.0</td>\n",
       "      <td>544727.0</td>\n",
       "      <td>NaN</td>\n",
       "      <td>ball</td>\n",
       "      <td>...</td>\n",
       "      <td>9.0</td>\n",
       "      <td>4.0</td>\n",
       "      <td>4.0</td>\n",
       "      <td>9.0</td>\n",
       "      <td>4.0</td>\n",
       "      <td>9.0</td>\n",
       "      <td>4.0</td>\n",
       "      <td>9.0</td>\n",
       "      <td>Standard</td>\n",
       "      <td>Standard</td>\n",
       "    </tr>\n",
       "    <tr>\n",
       "      <th>4</th>\n",
       "      <td>FF</td>\n",
       "      <td>2018-03-29</td>\n",
       "      <td>97.1</td>\n",
       "      <td>-1.1802</td>\n",
       "      <td>6.0784</td>\n",
       "      <td>Jeurys Familia</td>\n",
       "      <td>425877.0</td>\n",
       "      <td>544727.0</td>\n",
       "      <td>NaN</td>\n",
       "      <td>ball</td>\n",
       "      <td>...</td>\n",
       "      <td>9.0</td>\n",
       "      <td>4.0</td>\n",
       "      <td>4.0</td>\n",
       "      <td>9.0</td>\n",
       "      <td>4.0</td>\n",
       "      <td>9.0</td>\n",
       "      <td>4.0</td>\n",
       "      <td>9.0</td>\n",
       "      <td>Standard</td>\n",
       "      <td>Standard</td>\n",
       "    </tr>\n",
       "  </tbody>\n",
       "</table>\n",
       "<p>5 rows × 89 columns</p>\n",
       "</div>"
      ],
      "text/plain": [
       "  pitch_type   game_date  release_speed  release_pos_x  release_pos_z  \\\n",
       "0         SI  2018-03-29           96.7        -1.3857         6.1136   \n",
       "1         SI  2018-03-29           96.0        -1.3302         6.1877   \n",
       "2         FF  2018-03-29           98.1        -1.3381         5.9711   \n",
       "3         FF  2018-03-29           97.4        -1.1546         5.9254   \n",
       "4         FF  2018-03-29           97.1        -1.1802         6.0784   \n",
       "\n",
       "      player_name    batter   pitcher     events    description  \\\n",
       "0  Jeurys Familia  657557.0  544727.0  field_out  hit_into_play   \n",
       "1  Jeurys Familia  657557.0  544727.0        NaN   blocked_ball   \n",
       "2  Jeurys Familia  425877.0  544727.0       walk           ball   \n",
       "3  Jeurys Familia  425877.0  544727.0        NaN           ball   \n",
       "4  Jeurys Familia  425877.0  544727.0        NaN           ball   \n",
       "\n",
       "           ...           home_score  away_score  bat_score  fld_score  \\\n",
       "0          ...                  9.0         4.0        4.0        9.0   \n",
       "1          ...                  9.0         4.0        4.0        9.0   \n",
       "2          ...                  9.0         4.0        4.0        9.0   \n",
       "3          ...                  9.0         4.0        4.0        9.0   \n",
       "4          ...                  9.0         4.0        4.0        9.0   \n",
       "\n",
       "   post_away_score post_home_score post_bat_score post_fld_score  \\\n",
       "0              4.0             9.0            4.0            9.0   \n",
       "1              4.0             9.0            4.0            9.0   \n",
       "2              4.0             9.0            4.0            9.0   \n",
       "3              4.0             9.0            4.0            9.0   \n",
       "4              4.0             9.0            4.0            9.0   \n",
       "\n",
       "  if_fielding_alignment of_fielding_alignment  \n",
       "0              Standard              Standard  \n",
       "1              Standard              Standard  \n",
       "2             Strategic              Standard  \n",
       "3              Standard              Standard  \n",
       "4              Standard              Standard  \n",
       "\n",
       "[5 rows x 89 columns]"
      ]
     },
     "execution_count": 4,
     "metadata": {},
     "output_type": "execute_result"
    }
   ],
   "source": [
    "data.head()"
   ]
  },
  {
   "cell_type": "code",
   "execution_count": 5,
   "metadata": {
    "scrolled": false
   },
   "outputs": [
    {
     "data": {
      "text/html": [
       "<div>\n",
       "<style scoped>\n",
       "    .dataframe tbody tr th:only-of-type {\n",
       "        vertical-align: middle;\n",
       "    }\n",
       "\n",
       "    .dataframe tbody tr th {\n",
       "        vertical-align: top;\n",
       "    }\n",
       "\n",
       "    .dataframe thead th {\n",
       "        text-align: right;\n",
       "    }\n",
       "</style>\n",
       "<table border=\"1\" class=\"dataframe\">\n",
       "  <thead>\n",
       "    <tr style=\"text-align: right;\">\n",
       "      <th>description</th>\n",
       "      <th>ball</th>\n",
       "      <th>blocked_ball</th>\n",
       "      <th>called_strike</th>\n",
       "      <th>foul</th>\n",
       "      <th>foul_bunt</th>\n",
       "      <th>foul_pitchout</th>\n",
       "      <th>foul_tip</th>\n",
       "      <th>hit_by_pitch</th>\n",
       "      <th>hit_into_play</th>\n",
       "      <th>hit_into_play_no_out</th>\n",
       "      <th>hit_into_play_score</th>\n",
       "      <th>missed_bunt</th>\n",
       "      <th>pitchout</th>\n",
       "      <th>swinging_pitchout</th>\n",
       "      <th>swinging_strike</th>\n",
       "      <th>swinging_strike_blocked</th>\n",
       "    </tr>\n",
       "    <tr>\n",
       "      <th>description</th>\n",
       "      <th></th>\n",
       "      <th></th>\n",
       "      <th></th>\n",
       "      <th></th>\n",
       "      <th></th>\n",
       "      <th></th>\n",
       "      <th></th>\n",
       "      <th></th>\n",
       "      <th></th>\n",
       "      <th></th>\n",
       "      <th></th>\n",
       "      <th></th>\n",
       "      <th></th>\n",
       "      <th></th>\n",
       "      <th></th>\n",
       "      <th></th>\n",
       "    </tr>\n",
       "  </thead>\n",
       "  <tbody>\n",
       "    <tr>\n",
       "      <th>ball</th>\n",
       "      <td>245934</td>\n",
       "      <td>0</td>\n",
       "      <td>0</td>\n",
       "      <td>0</td>\n",
       "      <td>0</td>\n",
       "      <td>0</td>\n",
       "      <td>0</td>\n",
       "      <td>0</td>\n",
       "      <td>0</td>\n",
       "      <td>0</td>\n",
       "      <td>0</td>\n",
       "      <td>0</td>\n",
       "      <td>0</td>\n",
       "      <td>0</td>\n",
       "      <td>0</td>\n",
       "      <td>0</td>\n",
       "    </tr>\n",
       "    <tr>\n",
       "      <th>blocked_ball</th>\n",
       "      <td>0</td>\n",
       "      <td>17168</td>\n",
       "      <td>0</td>\n",
       "      <td>0</td>\n",
       "      <td>0</td>\n",
       "      <td>0</td>\n",
       "      <td>0</td>\n",
       "      <td>0</td>\n",
       "      <td>0</td>\n",
       "      <td>0</td>\n",
       "      <td>0</td>\n",
       "      <td>0</td>\n",
       "      <td>0</td>\n",
       "      <td>0</td>\n",
       "      <td>0</td>\n",
       "      <td>0</td>\n",
       "    </tr>\n",
       "    <tr>\n",
       "      <th>called_strike</th>\n",
       "      <td>0</td>\n",
       "      <td>0</td>\n",
       "      <td>123230</td>\n",
       "      <td>0</td>\n",
       "      <td>0</td>\n",
       "      <td>0</td>\n",
       "      <td>0</td>\n",
       "      <td>0</td>\n",
       "      <td>0</td>\n",
       "      <td>0</td>\n",
       "      <td>0</td>\n",
       "      <td>0</td>\n",
       "      <td>0</td>\n",
       "      <td>0</td>\n",
       "      <td>0</td>\n",
       "      <td>0</td>\n",
       "    </tr>\n",
       "    <tr>\n",
       "      <th>foul</th>\n",
       "      <td>0</td>\n",
       "      <td>0</td>\n",
       "      <td>0</td>\n",
       "      <td>127509</td>\n",
       "      <td>0</td>\n",
       "      <td>0</td>\n",
       "      <td>0</td>\n",
       "      <td>0</td>\n",
       "      <td>0</td>\n",
       "      <td>0</td>\n",
       "      <td>0</td>\n",
       "      <td>0</td>\n",
       "      <td>0</td>\n",
       "      <td>0</td>\n",
       "      <td>0</td>\n",
       "      <td>0</td>\n",
       "    </tr>\n",
       "    <tr>\n",
       "      <th>foul_bunt</th>\n",
       "      <td>0</td>\n",
       "      <td>0</td>\n",
       "      <td>0</td>\n",
       "      <td>0</td>\n",
       "      <td>1952</td>\n",
       "      <td>0</td>\n",
       "      <td>0</td>\n",
       "      <td>0</td>\n",
       "      <td>0</td>\n",
       "      <td>0</td>\n",
       "      <td>0</td>\n",
       "      <td>0</td>\n",
       "      <td>0</td>\n",
       "      <td>0</td>\n",
       "      <td>0</td>\n",
       "      <td>0</td>\n",
       "    </tr>\n",
       "    <tr>\n",
       "      <th>foul_pitchout</th>\n",
       "      <td>0</td>\n",
       "      <td>0</td>\n",
       "      <td>0</td>\n",
       "      <td>0</td>\n",
       "      <td>0</td>\n",
       "      <td>1</td>\n",
       "      <td>0</td>\n",
       "      <td>0</td>\n",
       "      <td>0</td>\n",
       "      <td>0</td>\n",
       "      <td>0</td>\n",
       "      <td>0</td>\n",
       "      <td>0</td>\n",
       "      <td>0</td>\n",
       "      <td>0</td>\n",
       "      <td>0</td>\n",
       "    </tr>\n",
       "    <tr>\n",
       "      <th>foul_tip</th>\n",
       "      <td>0</td>\n",
       "      <td>0</td>\n",
       "      <td>0</td>\n",
       "      <td>0</td>\n",
       "      <td>0</td>\n",
       "      <td>0</td>\n",
       "      <td>6237</td>\n",
       "      <td>0</td>\n",
       "      <td>0</td>\n",
       "      <td>0</td>\n",
       "      <td>0</td>\n",
       "      <td>0</td>\n",
       "      <td>0</td>\n",
       "      <td>0</td>\n",
       "      <td>0</td>\n",
       "      <td>0</td>\n",
       "    </tr>\n",
       "    <tr>\n",
       "      <th>hit_by_pitch</th>\n",
       "      <td>0</td>\n",
       "      <td>0</td>\n",
       "      <td>0</td>\n",
       "      <td>0</td>\n",
       "      <td>0</td>\n",
       "      <td>0</td>\n",
       "      <td>0</td>\n",
       "      <td>1946</td>\n",
       "      <td>0</td>\n",
       "      <td>0</td>\n",
       "      <td>0</td>\n",
       "      <td>0</td>\n",
       "      <td>0</td>\n",
       "      <td>0</td>\n",
       "      <td>0</td>\n",
       "      <td>0</td>\n",
       "    </tr>\n",
       "    <tr>\n",
       "      <th>hit_into_play</th>\n",
       "      <td>0</td>\n",
       "      <td>0</td>\n",
       "      <td>0</td>\n",
       "      <td>0</td>\n",
       "      <td>0</td>\n",
       "      <td>0</td>\n",
       "      <td>0</td>\n",
       "      <td>0</td>\n",
       "      <td>82924</td>\n",
       "      <td>0</td>\n",
       "      <td>0</td>\n",
       "      <td>0</td>\n",
       "      <td>0</td>\n",
       "      <td>0</td>\n",
       "      <td>0</td>\n",
       "      <td>0</td>\n",
       "    </tr>\n",
       "    <tr>\n",
       "      <th>hit_into_play_no_out</th>\n",
       "      <td>0</td>\n",
       "      <td>0</td>\n",
       "      <td>0</td>\n",
       "      <td>0</td>\n",
       "      <td>0</td>\n",
       "      <td>0</td>\n",
       "      <td>0</td>\n",
       "      <td>0</td>\n",
       "      <td>0</td>\n",
       "      <td>28872</td>\n",
       "      <td>0</td>\n",
       "      <td>0</td>\n",
       "      <td>0</td>\n",
       "      <td>0</td>\n",
       "      <td>0</td>\n",
       "      <td>0</td>\n",
       "    </tr>\n",
       "    <tr>\n",
       "      <th>hit_into_play_score</th>\n",
       "      <td>0</td>\n",
       "      <td>0</td>\n",
       "      <td>0</td>\n",
       "      <td>0</td>\n",
       "      <td>0</td>\n",
       "      <td>0</td>\n",
       "      <td>0</td>\n",
       "      <td>0</td>\n",
       "      <td>0</td>\n",
       "      <td>0</td>\n",
       "      <td>16151</td>\n",
       "      <td>0</td>\n",
       "      <td>0</td>\n",
       "      <td>0</td>\n",
       "      <td>0</td>\n",
       "      <td>0</td>\n",
       "    </tr>\n",
       "    <tr>\n",
       "      <th>missed_bunt</th>\n",
       "      <td>0</td>\n",
       "      <td>0</td>\n",
       "      <td>0</td>\n",
       "      <td>0</td>\n",
       "      <td>0</td>\n",
       "      <td>0</td>\n",
       "      <td>0</td>\n",
       "      <td>0</td>\n",
       "      <td>0</td>\n",
       "      <td>0</td>\n",
       "      <td>0</td>\n",
       "      <td>405</td>\n",
       "      <td>0</td>\n",
       "      <td>0</td>\n",
       "      <td>0</td>\n",
       "      <td>0</td>\n",
       "    </tr>\n",
       "    <tr>\n",
       "      <th>pitchout</th>\n",
       "      <td>0</td>\n",
       "      <td>0</td>\n",
       "      <td>0</td>\n",
       "      <td>0</td>\n",
       "      <td>0</td>\n",
       "      <td>0</td>\n",
       "      <td>0</td>\n",
       "      <td>0</td>\n",
       "      <td>0</td>\n",
       "      <td>0</td>\n",
       "      <td>0</td>\n",
       "      <td>0</td>\n",
       "      <td>86</td>\n",
       "      <td>0</td>\n",
       "      <td>0</td>\n",
       "      <td>0</td>\n",
       "    </tr>\n",
       "    <tr>\n",
       "      <th>swinging_pitchout</th>\n",
       "      <td>0</td>\n",
       "      <td>0</td>\n",
       "      <td>0</td>\n",
       "      <td>0</td>\n",
       "      <td>0</td>\n",
       "      <td>0</td>\n",
       "      <td>0</td>\n",
       "      <td>0</td>\n",
       "      <td>0</td>\n",
       "      <td>0</td>\n",
       "      <td>0</td>\n",
       "      <td>0</td>\n",
       "      <td>0</td>\n",
       "      <td>1</td>\n",
       "      <td>0</td>\n",
       "      <td>0</td>\n",
       "    </tr>\n",
       "    <tr>\n",
       "      <th>swinging_strike</th>\n",
       "      <td>0</td>\n",
       "      <td>0</td>\n",
       "      <td>0</td>\n",
       "      <td>0</td>\n",
       "      <td>0</td>\n",
       "      <td>0</td>\n",
       "      <td>0</td>\n",
       "      <td>0</td>\n",
       "      <td>0</td>\n",
       "      <td>0</td>\n",
       "      <td>0</td>\n",
       "      <td>0</td>\n",
       "      <td>0</td>\n",
       "      <td>0</td>\n",
       "      <td>72936</td>\n",
       "      <td>0</td>\n",
       "    </tr>\n",
       "    <tr>\n",
       "      <th>swinging_strike_blocked</th>\n",
       "      <td>0</td>\n",
       "      <td>0</td>\n",
       "      <td>0</td>\n",
       "      <td>0</td>\n",
       "      <td>0</td>\n",
       "      <td>0</td>\n",
       "      <td>0</td>\n",
       "      <td>0</td>\n",
       "      <td>0</td>\n",
       "      <td>0</td>\n",
       "      <td>0</td>\n",
       "      <td>0</td>\n",
       "      <td>0</td>\n",
       "      <td>0</td>\n",
       "      <td>0</td>\n",
       "      <td>5855</td>\n",
       "    </tr>\n",
       "  </tbody>\n",
       "</table>\n",
       "</div>"
      ],
      "text/plain": [
       "description                ball  blocked_ball  called_strike    foul  \\\n",
       "description                                                            \n",
       "ball                     245934             0              0       0   \n",
       "blocked_ball                  0         17168              0       0   \n",
       "called_strike                 0             0         123230       0   \n",
       "foul                          0             0              0  127509   \n",
       "foul_bunt                     0             0              0       0   \n",
       "foul_pitchout                 0             0              0       0   \n",
       "foul_tip                      0             0              0       0   \n",
       "hit_by_pitch                  0             0              0       0   \n",
       "hit_into_play                 0             0              0       0   \n",
       "hit_into_play_no_out          0             0              0       0   \n",
       "hit_into_play_score           0             0              0       0   \n",
       "missed_bunt                   0             0              0       0   \n",
       "pitchout                      0             0              0       0   \n",
       "swinging_pitchout             0             0              0       0   \n",
       "swinging_strike               0             0              0       0   \n",
       "swinging_strike_blocked       0             0              0       0   \n",
       "\n",
       "description              foul_bunt  foul_pitchout  foul_tip  hit_by_pitch  \\\n",
       "description                                                                 \n",
       "ball                             0              0         0             0   \n",
       "blocked_ball                     0              0         0             0   \n",
       "called_strike                    0              0         0             0   \n",
       "foul                             0              0         0             0   \n",
       "foul_bunt                     1952              0         0             0   \n",
       "foul_pitchout                    0              1         0             0   \n",
       "foul_tip                         0              0      6237             0   \n",
       "hit_by_pitch                     0              0         0          1946   \n",
       "hit_into_play                    0              0         0             0   \n",
       "hit_into_play_no_out             0              0         0             0   \n",
       "hit_into_play_score              0              0         0             0   \n",
       "missed_bunt                      0              0         0             0   \n",
       "pitchout                         0              0         0             0   \n",
       "swinging_pitchout                0              0         0             0   \n",
       "swinging_strike                  0              0         0             0   \n",
       "swinging_strike_blocked          0              0         0             0   \n",
       "\n",
       "description              hit_into_play  hit_into_play_no_out  \\\n",
       "description                                                    \n",
       "ball                                 0                     0   \n",
       "blocked_ball                         0                     0   \n",
       "called_strike                        0                     0   \n",
       "foul                                 0                     0   \n",
       "foul_bunt                            0                     0   \n",
       "foul_pitchout                        0                     0   \n",
       "foul_tip                             0                     0   \n",
       "hit_by_pitch                         0                     0   \n",
       "hit_into_play                    82924                     0   \n",
       "hit_into_play_no_out                 0                 28872   \n",
       "hit_into_play_score                  0                     0   \n",
       "missed_bunt                          0                     0   \n",
       "pitchout                             0                     0   \n",
       "swinging_pitchout                    0                     0   \n",
       "swinging_strike                      0                     0   \n",
       "swinging_strike_blocked              0                     0   \n",
       "\n",
       "description              hit_into_play_score  missed_bunt  pitchout  \\\n",
       "description                                                           \n",
       "ball                                       0            0         0   \n",
       "blocked_ball                               0            0         0   \n",
       "called_strike                              0            0         0   \n",
       "foul                                       0            0         0   \n",
       "foul_bunt                                  0            0         0   \n",
       "foul_pitchout                              0            0         0   \n",
       "foul_tip                                   0            0         0   \n",
       "hit_by_pitch                               0            0         0   \n",
       "hit_into_play                              0            0         0   \n",
       "hit_into_play_no_out                       0            0         0   \n",
       "hit_into_play_score                    16151            0         0   \n",
       "missed_bunt                                0          405         0   \n",
       "pitchout                                   0            0        86   \n",
       "swinging_pitchout                          0            0         0   \n",
       "swinging_strike                            0            0         0   \n",
       "swinging_strike_blocked                    0            0         0   \n",
       "\n",
       "description              swinging_pitchout  swinging_strike  \\\n",
       "description                                                   \n",
       "ball                                     0                0   \n",
       "blocked_ball                             0                0   \n",
       "called_strike                            0                0   \n",
       "foul                                     0                0   \n",
       "foul_bunt                                0                0   \n",
       "foul_pitchout                            0                0   \n",
       "foul_tip                                 0                0   \n",
       "hit_by_pitch                             0                0   \n",
       "hit_into_play                            0                0   \n",
       "hit_into_play_no_out                     0                0   \n",
       "hit_into_play_score                      0                0   \n",
       "missed_bunt                              0                0   \n",
       "pitchout                                 0                0   \n",
       "swinging_pitchout                        1                0   \n",
       "swinging_strike                          0            72936   \n",
       "swinging_strike_blocked                  0                0   \n",
       "\n",
       "description              swinging_strike_blocked  \n",
       "description                                       \n",
       "ball                                           0  \n",
       "blocked_ball                                   0  \n",
       "called_strike                                  0  \n",
       "foul                                           0  \n",
       "foul_bunt                                      0  \n",
       "foul_pitchout                                  0  \n",
       "foul_tip                                       0  \n",
       "hit_by_pitch                                   0  \n",
       "hit_into_play                                  0  \n",
       "hit_into_play_no_out                           0  \n",
       "hit_into_play_score                            0  \n",
       "missed_bunt                                    0  \n",
       "pitchout                                       0  \n",
       "swinging_pitchout                              0  \n",
       "swinging_strike                                0  \n",
       "swinging_strike_blocked                     5855  "
      ]
     },
     "execution_count": 5,
     "metadata": {},
     "output_type": "execute_result"
    }
   ],
   "source": [
    "pd.crosstab(data.description, data.description)"
   ]
  },
  {
   "cell_type": "code",
   "execution_count": 6,
   "metadata": {},
   "outputs": [],
   "source": [
    "hit = data[data.description == 'hit_into_play_score']"
   ]
  },
  {
   "cell_type": "code",
   "execution_count": 7,
   "metadata": {
    "scrolled": true
   },
   "outputs": [
    {
     "data": {
      "text/plain": [
       "<function matplotlib.pyplot.show(*args, **kw)>"
      ]
     },
     "execution_count": 7,
     "metadata": {},
     "output_type": "execute_result"
    }
   ],
   "source": [
    "import matplotlib.pyplot as plt\n",
    "\n",
    "plt.plot(hit.hc_x, hit.hc_y, 'o', ms=0.1)\n",
    "plt.show"
   ]
  },
  {
   "cell_type": "markdown",
   "metadata": {},
   "source": [
    "### 구종 별 투구 데이터의 수"
   ]
  },
  {
   "cell_type": "code",
   "execution_count": 8,
   "metadata": {},
   "outputs": [],
   "source": [
    "FF = data[data.pitch_type == 'FF']\n",
    "SI = data[data.pitch_type == 'SI']\n",
    "CU = data[data.pitch_type == 'CU']"
   ]
  },
  {
   "cell_type": "code",
   "execution_count": 9,
   "metadata": {
    "scrolled": true
   },
   "outputs": [
    {
     "name": "stdout",
     "output_type": "stream",
     "text": [
      "378449\n"
     ]
    }
   ],
   "source": [
    "print(len(FF)+len(SI)+len(CU))"
   ]
  },
  {
   "cell_type": "markdown",
   "metadata": {},
   "source": [
    "### 구종 별 인플레이 타구의 수"
   ]
  },
  {
   "cell_type": "code",
   "execution_count": 10,
   "metadata": {},
   "outputs": [],
   "source": [
    "import numpy as np\n",
    "sum_FF = sum(np.diag(pd.crosstab(FF.bb_type, FF.bb_type)))\n",
    "sum_SI = sum(np.diag(pd.crosstab(SI.bb_type, SI.bb_type)))\n",
    "sum_CU = sum(np.diag(pd.crosstab(CU.bb_type, CU.bb_type)))"
   ]
  },
  {
   "cell_type": "code",
   "execution_count": 11,
   "metadata": {},
   "outputs": [
    {
     "name": "stdout",
     "output_type": "stream",
     "text": [
      "63560\n"
     ]
    }
   ],
   "source": [
    "print(sum_FF+sum_SI+sum_CU)"
   ]
  },
  {
   "cell_type": "markdown",
   "metadata": {},
   "source": [
    "### 구종 별 인플레이 타구의 비율"
   ]
  },
  {
   "cell_type": "code",
   "execution_count": 12,
   "metadata": {},
   "outputs": [
    {
     "data": {
      "text/html": [
       "<div>\n",
       "<style scoped>\n",
       "    .dataframe tbody tr th:only-of-type {\n",
       "        vertical-align: middle;\n",
       "    }\n",
       "\n",
       "    .dataframe tbody tr th {\n",
       "        vertical-align: top;\n",
       "    }\n",
       "\n",
       "    .dataframe thead th {\n",
       "        text-align: right;\n",
       "    }\n",
       "</style>\n",
       "<table border=\"1\" class=\"dataframe\">\n",
       "  <thead>\n",
       "    <tr style=\"text-align: right;\">\n",
       "      <th>bb_type</th>\n",
       "      <th>fly_ball</th>\n",
       "      <th>ground_ball</th>\n",
       "      <th>line_drive</th>\n",
       "      <th>popup</th>\n",
       "    </tr>\n",
       "    <tr>\n",
       "      <th>bb_type</th>\n",
       "      <th></th>\n",
       "      <th></th>\n",
       "      <th></th>\n",
       "      <th></th>\n",
       "    </tr>\n",
       "  </thead>\n",
       "  <tbody>\n",
       "    <tr>\n",
       "      <th>fly_ball</th>\n",
       "      <td>0.225532</td>\n",
       "      <td>0.000000</td>\n",
       "      <td>0.000000</td>\n",
       "      <td>0.000000</td>\n",
       "    </tr>\n",
       "    <tr>\n",
       "      <th>ground_ball</th>\n",
       "      <td>0.000000</td>\n",
       "      <td>0.472021</td>\n",
       "      <td>0.000000</td>\n",
       "      <td>0.000000</td>\n",
       "    </tr>\n",
       "    <tr>\n",
       "      <th>line_drive</th>\n",
       "      <td>0.000000</td>\n",
       "      <td>0.000000</td>\n",
       "      <td>0.242524</td>\n",
       "      <td>0.000000</td>\n",
       "    </tr>\n",
       "    <tr>\n",
       "      <th>popup</th>\n",
       "      <td>0.000000</td>\n",
       "      <td>0.000000</td>\n",
       "      <td>0.000000</td>\n",
       "      <td>0.059923</td>\n",
       "    </tr>\n",
       "  </tbody>\n",
       "</table>\n",
       "</div>"
      ],
      "text/plain": [
       "bb_type      fly_ball  ground_ball  line_drive     popup\n",
       "bb_type                                                 \n",
       "fly_ball     0.225532     0.000000    0.000000  0.000000\n",
       "ground_ball  0.000000     0.472021    0.000000  0.000000\n",
       "line_drive   0.000000     0.000000    0.242524  0.000000\n",
       "popup        0.000000     0.000000    0.000000  0.059923"
      ]
     },
     "execution_count": 12,
     "metadata": {},
     "output_type": "execute_result"
    }
   ],
   "source": [
    "pd.crosstab(CU.bb_type, CU.bb_type, normalize=True)"
   ]
  },
  {
   "cell_type": "code",
   "execution_count": 13,
   "metadata": {},
   "outputs": [],
   "source": [
    "import numpy as np\n",
    "prob_FF = np.diag(pd.crosstab(FF.bb_type, FF.bb_type, normalize=True))\n",
    "prob_SI = np.diag(pd.crosstab(SI.bb_type, SI.bb_type, normalize=True))\n",
    "prob_CU = np.diag(pd.crosstab(CU.bb_type, CU.bb_type, normalize=True))"
   ]
  },
  {
   "cell_type": "code",
   "execution_count": 14,
   "metadata": {},
   "outputs": [
    {
     "data": {
      "image/png": "[encoded data removed]",
      "text/plain": [
       "<Figure size 432x288 with 1 Axes>"
      ]
     },
     "metadata": {},
     "output_type": "display_data"
    }
   ],
   "source": [
    "plt.style.use('ggplot')\n",
    "\n",
    "fig, ax = plt.subplots()\n",
    "index = np.arange(4)\n",
    "bar_width = 0.3\n",
    "opacity = 0.8\n",
    " \n",
    "bar1 = plt.bar(index, prob_FF, bar_width,\n",
    "alpha=opacity, color='deepskyblue',\n",
    "label='패스트볼')\n",
    "\n",
    "bar2 = plt.bar(index + bar_width, prob_CU, bar_width,\n",
    "alpha=opacity, color='yellowgreen',\n",
    "label='커브')\n",
    "\n",
    "bar3 = plt.bar(index + bar_width + bar_width, prob_SI, bar_width,\n",
    "alpha=opacity, color='darkorange',\n",
    "label='싱커')\n",
    "\n",
    "\n",
    " \n",
    "plt.xlabel('타격 결과')\n",
    "plt.ylabel('비율')\n",
    "plt.title('MLB 구종별 타격 결과')\n",
    "plt.xticks(index + 0.28, ('뜬볼', '땅볼', '직선', '팝플'))\n",
    "plt.yticks((0, 0.1, 0.2, 0.3, 0.4, 0.5), ('0%', '10%', '20%', '30%', '40%', '50%'))\n",
    "plt.legend()\n",
    " \n",
    "plt.tight_layout()\n",
    "plt.show()"
   ]
  },
  {
   "cell_type": "markdown",
   "metadata": {},
   "source": [
    "### 최근 10년 간 땅볼 비율 최고 선수 (선수 중복 제외)"
   ]
  },
  {
   "cell_type": "code",
   "execution_count": 1,
   "metadata": {},
   "outputs": [],
   "source": [
    "import pandas as pd\n",
    "pitch = pd.read_csv('C://Users//JH//Desktop//pitch.csv')"
   ]
  },
  {
   "cell_type": "code",
   "execution_count": 2,
   "metadata": {},
   "outputs": [],
   "source": [
    "GBsort = pitch.sort_values(by='pGB', ascending=False)[['Season', 'Name', 'pGB', 'pSI']].drop_duplicates(['Name'], keep='first').head(30)[:11]\n",
    "GBsort['pSI'] = GBsort['pSI'] * 100\n",
    "GBsort['pGB'] = GBsort['pGB'] * 100\n",
    "GBsort.columns = ['연도', '선수명', '땅볼비율', '싱커비율']\n",
    "\n",
    "def pluss(x):\n",
    "    y = x + \"%\"\n",
    "    return y\n",
    "\n",
    "ddang = list(map(str, GBsort['땅볼비율'].round(1)))\n",
    "GBsort['땅볼비율'] = list(map(pluss, ddang))\n",
    "ssing = list(map(str, GBsort['싱커비율'].round(1)))\n",
    "GBsort['싱커비율'] = list(map(pluss, ssing))\n",
    "\n",
    "GBsort['선수명'] = ['잭 브리튼', '브래드 지글러', '스캇 알렉산더', '조니 벤터스',\n",
    "                '리차드 블레이어', '샘 다이슨', 'T.J. 맥팔랜드',\n",
    "                '세스 마네스', '피터 모이란', '알렉스 클라우디오',\n",
    "                '브랜든 리그']"
   ]
  },
  {
   "cell_type": "code",
   "execution_count": 3,
   "metadata": {},
   "outputs": [
    {
     "data": {
      "text/html": [
       "<div>\n",
       "<style scoped>\n",
       "    .dataframe tbody tr th:only-of-type {\n",
       "        vertical-align: middle;\n",
       "    }\n",
       "\n",
       "    .dataframe tbody tr th {\n",
       "        vertical-align: top;\n",
       "    }\n",
       "\n",
       "    .dataframe thead th {\n",
       "        text-align: right;\n",
       "    }\n",
       "</style>\n",
       "<table border=\"1\" class=\"dataframe\">\n",
       "  <thead>\n",
       "    <tr style=\"text-align: right;\">\n",
       "      <th></th>\n",
       "      <th>연도</th>\n",
       "      <th>선수명</th>\n",
       "      <th>땅볼비율</th>\n",
       "      <th>싱커비율</th>\n",
       "    </tr>\n",
       "  </thead>\n",
       "  <tbody>\n",
       "    <tr>\n",
       "      <th>1862</th>\n",
       "      <td>2016</td>\n",
       "      <td>잭 브리튼</td>\n",
       "      <td>80.0%</td>\n",
       "      <td>92.1%</td>\n",
       "    </tr>\n",
       "    <tr>\n",
       "      <th>1194</th>\n",
       "      <td>2012</td>\n",
       "      <td>브래드 지글러</td>\n",
       "      <td>75.5%</td>\n",
       "      <td>83.6%</td>\n",
       "    </tr>\n",
       "    <tr>\n",
       "      <th>1999</th>\n",
       "      <td>2017</td>\n",
       "      <td>스캇 알렉산더</td>\n",
       "      <td>73.8%</td>\n",
       "      <td>93.4%</td>\n",
       "    </tr>\n",
       "    <tr>\n",
       "      <th>1119</th>\n",
       "      <td>2011</td>\n",
       "      <td>조니 벤터스</td>\n",
       "      <td>72.5%</td>\n",
       "      <td>68.6%</td>\n",
       "    </tr>\n",
       "    <tr>\n",
       "      <th>1989</th>\n",
       "      <td>2017</td>\n",
       "      <td>리차드 블레이어</td>\n",
       "      <td>68.8%</td>\n",
       "      <td>56.6%</td>\n",
       "    </tr>\n",
       "    <tr>\n",
       "      <th>1704</th>\n",
       "      <td>2015</td>\n",
       "      <td>샘 다이슨</td>\n",
       "      <td>68.8%</td>\n",
       "      <td>54.7%</td>\n",
       "    </tr>\n",
       "    <tr>\n",
       "      <th>2005</th>\n",
       "      <td>2017</td>\n",
       "      <td>T.J. 맥팔랜드</td>\n",
       "      <td>68.7%</td>\n",
       "      <td>72.4%</td>\n",
       "    </tr>\n",
       "    <tr>\n",
       "      <th>1432</th>\n",
       "      <td>2013</td>\n",
       "      <td>세스 마네스</td>\n",
       "      <td>68.4%</td>\n",
       "      <td>61.7%</td>\n",
       "    </tr>\n",
       "    <tr>\n",
       "      <th>1016</th>\n",
       "      <td>2010</td>\n",
       "      <td>피터 모이란</td>\n",
       "      <td>67.8%</td>\n",
       "      <td>65.5%</td>\n",
       "    </tr>\n",
       "    <tr>\n",
       "      <th>1871</th>\n",
       "      <td>2017</td>\n",
       "      <td>알렉스 클라우디오</td>\n",
       "      <td>67.5%</td>\n",
       "      <td>56.3%</td>\n",
       "    </tr>\n",
       "    <tr>\n",
       "      <th>1468</th>\n",
       "      <td>2014</td>\n",
       "      <td>브랜든 리그</td>\n",
       "      <td>67.5%</td>\n",
       "      <td>77.1%</td>\n",
       "    </tr>\n",
       "  </tbody>\n",
       "</table>\n",
       "</div>"
      ],
      "text/plain": [
       "        연도        선수명   땅볼비율   싱커비율\n",
       "1862  2016      잭 브리튼  80.0%  92.1%\n",
       "1194  2012    브래드 지글러  75.5%  83.6%\n",
       "1999  2017    스캇 알렉산더  73.8%  93.4%\n",
       "1119  2011     조니 벤터스  72.5%  68.6%\n",
       "1989  2017   리차드 블레이어  68.8%  56.6%\n",
       "1704  2015      샘 다이슨  68.8%  54.7%\n",
       "2005  2017  T.J. 맥팔랜드  68.7%  72.4%\n",
       "1432  2013     세스 마네스  68.4%  61.7%\n",
       "1016  2010     피터 모이란  67.8%  65.5%\n",
       "1871  2017  알렉스 클라우디오  67.5%  56.3%\n",
       "1468  2014     브랜든 리그  67.5%  77.1%"
      ]
     },
     "execution_count": 3,
     "metadata": {},
     "output_type": "execute_result"
    }
   ],
   "source": [
    "GBsort"
   ]
  },
  {
   "cell_type": "markdown",
   "metadata": {},
   "source": [
    "### 구종 별 전체 타구 중 헛스윙 비율"
   ]
  },
  {
   "cell_type": "code",
   "execution_count": null,
   "metadata": {},
   "outputs": [],
   "source": [
    "FF_swing = len(FF[FF.description == 'swinging_strike_blocked']) + len(FF[FF.description == 'swinging_strike']) + len(FF[FF.description == 'missed_bunt']) + len(FF[FF.description == 'foul_tip'])\n",
    "FF_swing / len(FF.description)"
   ]
  },
  {
   "cell_type": "code",
   "execution_count": null,
   "metadata": {},
   "outputs": [],
   "source": [
    "SI_swing = len(SI[SI.description == 'swinging_strike_blocked']) + len(SI[SI.description == 'swinging_strike']) + len(SI[SI.description == 'missed_bunt']) + len(SI[SI.description == 'foul_tip'])\n",
    "SI_swing / len(SI.description)"
   ]
  },
  {
   "cell_type": "code",
   "execution_count": null,
   "metadata": {},
   "outputs": [],
   "source": [
    "CU_swing = len(CU[CU.description == 'swinging_strike_blocked']) + len(CU[CU.description == 'swinging_strike']) + len(CU[CU.description == 'missed_bunt']) + len(CU[CU.description == 'foul_tip'])\n",
    "CU_swing / len(CU.description)"
   ]
  },
  {
   "cell_type": "markdown",
   "metadata": {},
   "source": [
    "### 구종 별 2스트라이크 이후 삼진 비율"
   ]
  },
  {
   "cell_type": "code",
   "execution_count": 36,
   "metadata": {},
   "outputs": [],
   "source": [
    "strikes = data[data.strikes == 2]"
   ]
  },
  {
   "cell_type": "code",
   "execution_count": 37,
   "metadata": {},
   "outputs": [],
   "source": [
    "FF2 = strikes[strikes.pitch_type == 'FF']\n",
    "SI2 = strikes[strikes.pitch_type == 'SI']\n",
    "CU2 = strikes[strikes.pitch_type == 'CU']"
   ]
  },
  {
   "cell_type": "code",
   "execution_count": 38,
   "metadata": {},
   "outputs": [],
   "source": [
    "FF2_swing = len(FF2[FF2.description == 'swinging_strike_blocked']) + len(FF2[FF2.description == 'swinging_strike']) + len(FF2[FF2.description == 'missed_bunt']) + len(FF2[FF2.description == 'foul_tip']) + len(FF2[FF2.description == 'called_strike']) + len(FF2[FF2.description == 'foul_bunt']) + len(FF2[FF2.description == 'swinging_pitchout'])\n",
    "FF2 = FF2_swing / len(FF2.description)"
   ]
  },
  {
   "cell_type": "code",
   "execution_count": 39,
   "metadata": {},
   "outputs": [],
   "source": [
    "SI2_swing = len(SI2[SI2.description == 'swinging_strike_blocked']) + len(SI2[SI2.description == 'swinging_strike']) + len(SI2[SI2.description == 'missed_bunt']) + len(SI2[SI2.description == 'foul_tip']) + len(SI2[SI2.description == 'called_strike']) + len(SI2[SI2.description == 'foul_bunt']) + len(SI2[SI2.description == 'swinging_pitchout'])\n",
    "SI2 = SI2_swing / len(SI2.description)"
   ]
  },
  {
   "cell_type": "code",
   "execution_count": 40,
   "metadata": {},
   "outputs": [],
   "source": [
    "CU2_swing = len(CU2[CU2.description == 'swinging_strike_blocked']) + len(CU2[CU2.description == 'swinging_strike']) + len(CU2[CU2.description == 'missed_bunt']) + len(CU2[CU2.description == 'foul_tip']) + len(CU2[CU2.description == 'called_strike']) + len(CU2[CU2.description == 'foul_bunt']) + len(CU2[CU2.description == 'swinging_pitchout'])\n",
    "CU2 = CU2_swing / len(CU2.description)"
   ]
  },
  {
   "cell_type": "code",
   "execution_count": 41,
   "metadata": {},
   "outputs": [],
   "source": [
    "strikes2 = [FF2, SI2, CU2]"
   ]
  },
  {
   "cell_type": "code",
   "execution_count": 42,
   "metadata": {},
   "outputs": [
    {
     "data": {
      "image/png": "[encoded data removed]",
      "text/plain": [
       "<Figure size 432x288 with 1 Axes>"
      ]
     },
     "metadata": {},
     "output_type": "display_data"
    }
   ],
   "source": [
    "plt.style.use('ggplot')\n",
    "\n",
    "fig, ax = plt.subplots()\n",
    "index = np.arange(1)\n",
    "bar_width = 0.2\n",
    "opacity = 0.8\n",
    " \n",
    "bar1 = plt.barh(index + 1, FF2, bar_width,\n",
    "alpha=opacity, color='deepskyblue',\n",
    "label='패스트볼')\n",
    "\n",
    "bar2 = plt.barh(index, SI2, bar_width,\n",
    "alpha=opacity, color='darkorange',\n",
    "label='싱커')\n",
    "\n",
    "bar3 = plt.barh(index + 0.5, CU2, bar_width,\n",
    "alpha=opacity, color='yellowgreen',\n",
    "label='커브')\n",
    "\n",
    "plt.title('MLB 2S 이후 구종별 삼진 비율')\n",
    "plt.xlabel('삼진 비율')\n",
    "plt.ylabel('구종')\n",
    "plt.legend()\n",
    "plt.yticks([1, 0.5, 0], ('패스트볼', '커브', '싱커'))\n",
    "plt.xticks((0.00, 0.05, 0.10, 0.15, 0.20), ('0%', '5%', '10%', '15%', '20%'))\n",
    "plt.show()"
   ]
  },
  {
   "cell_type": "markdown",
   "metadata": {},
   "source": [
    "## 2. Fangraphs Data"
   ]
  },
  {
   "cell_type": "markdown",
   "metadata": {},
   "source": [
    "- pitch.csv: 2009_2018 MLB 팬그래프닷컴 기준 규정 이닝 충족 투수(선발, 중계)\n",
    "- pitch_sp.csv: 2009_2018 MLB 팬그래프닷컴 기준 규정 이닝 충족 투수(선발)\n",
    "- pitch_rp.csv: 2009_2018 MLB 팬그래프닷컴 기준 규정 이닝 충족 투수(중계)"
   ]
  },
  {
   "cell_type": "code",
   "execution_count": 6,
   "metadata": {},
   "outputs": [],
   "source": [
    "import pandas as pd\n",
    "pitch = pd.read_csv('C://Users//JH//Desktop//pitch.csv')\n",
    "#pitch = pd.read_csv('C://Users//JH//Desktop//pitch_sp.csv')\n",
    "#pitch = pd.read_csv('C://Users//JH//Desktop//pitch_rp.csv')"
   ]
  },
  {
   "cell_type": "code",
   "execution_count": 7,
   "metadata": {
    "scrolled": false
   },
   "outputs": [
    {
     "data": {
      "text/html": [
       "<div>\n",
       "<style scoped>\n",
       "    .dataframe tbody tr th:only-of-type {\n",
       "        vertical-align: middle;\n",
       "    }\n",
       "\n",
       "    .dataframe tbody tr th {\n",
       "        vertical-align: top;\n",
       "    }\n",
       "\n",
       "    .dataframe thead th {\n",
       "        text-align: right;\n",
       "    }\n",
       "</style>\n",
       "<table border=\"1\" class=\"dataframe\">\n",
       "  <thead>\n",
       "    <tr style=\"text-align: right;\">\n",
       "      <th></th>\n",
       "      <th>Season</th>\n",
       "      <th>Name</th>\n",
       "      <th>Team</th>\n",
       "      <th>IP</th>\n",
       "      <th>pFA</th>\n",
       "      <th>pFC</th>\n",
       "      <th>pFS</th>\n",
       "      <th>pSI</th>\n",
       "      <th>pCH</th>\n",
       "      <th>pSL</th>\n",
       "      <th>...</th>\n",
       "      <th>HR/9</th>\n",
       "      <th>BABIP</th>\n",
       "      <th>pLOB</th>\n",
       "      <th>pGB</th>\n",
       "      <th>HR/FB</th>\n",
       "      <th>ERA</th>\n",
       "      <th>FIP</th>\n",
       "      <th>xFIP</th>\n",
       "      <th>WAR</th>\n",
       "      <th>playerid.1</th>\n",
       "    </tr>\n",
       "  </thead>\n",
       "  <tbody>\n",
       "    <tr>\n",
       "      <th>0</th>\n",
       "      <td>2009</td>\n",
       "      <td>A.J. Burnett</td>\n",
       "      <td>Yankees</td>\n",
       "      <td>207.0</td>\n",
       "      <td>0.475</td>\n",
       "      <td>NaN</td>\n",
       "      <td>NaN</td>\n",
       "      <td>0.179</td>\n",
       "      <td>0.034</td>\n",
       "      <td>NaN</td>\n",
       "      <td>...</td>\n",
       "      <td>1.09</td>\n",
       "      <td>0.295</td>\n",
       "      <td>0.759</td>\n",
       "      <td>0.428</td>\n",
       "      <td>0.108</td>\n",
       "      <td>4.04</td>\n",
       "      <td>4.33</td>\n",
       "      <td>4.23</td>\n",
       "      <td>3.0</td>\n",
       "      <td>512</td>\n",
       "    </tr>\n",
       "    <tr>\n",
       "      <th>1</th>\n",
       "      <td>2009</td>\n",
       "      <td>Aaron Harang</td>\n",
       "      <td>Reds</td>\n",
       "      <td>162.1</td>\n",
       "      <td>0.536</td>\n",
       "      <td>NaN</td>\n",
       "      <td>NaN</td>\n",
       "      <td>0.148</td>\n",
       "      <td>0.033</td>\n",
       "      <td>0.224</td>\n",
       "      <td>...</td>\n",
       "      <td>1.33</td>\n",
       "      <td>0.331</td>\n",
       "      <td>0.757</td>\n",
       "      <td>0.349</td>\n",
       "      <td>0.117</td>\n",
       "      <td>4.21</td>\n",
       "      <td>4.14</td>\n",
       "      <td>3.88</td>\n",
       "      <td>2.6</td>\n",
       "      <td>1451</td>\n",
       "    </tr>\n",
       "    <tr>\n",
       "      <th>2</th>\n",
       "      <td>2009</td>\n",
       "      <td>Adam Wainwright</td>\n",
       "      <td>Cardinals</td>\n",
       "      <td>233.0</td>\n",
       "      <td>0.010</td>\n",
       "      <td>0.194</td>\n",
       "      <td>NaN</td>\n",
       "      <td>0.490</td>\n",
       "      <td>0.068</td>\n",
       "      <td>NaN</td>\n",
       "      <td>...</td>\n",
       "      <td>0.66</td>\n",
       "      <td>0.296</td>\n",
       "      <td>0.804</td>\n",
       "      <td>0.507</td>\n",
       "      <td>0.083</td>\n",
       "      <td>2.63</td>\n",
       "      <td>3.11</td>\n",
       "      <td>3.32</td>\n",
       "      <td>5.7</td>\n",
       "      <td>2233</td>\n",
       "    </tr>\n",
       "    <tr>\n",
       "      <th>3</th>\n",
       "      <td>2009</td>\n",
       "      <td>Andy Pettitte</td>\n",
       "      <td>Yankees</td>\n",
       "      <td>194.2</td>\n",
       "      <td>0.366</td>\n",
       "      <td>0.181</td>\n",
       "      <td>NaN</td>\n",
       "      <td>0.217</td>\n",
       "      <td>0.101</td>\n",
       "      <td>NaN</td>\n",
       "      <td>...</td>\n",
       "      <td>0.92</td>\n",
       "      <td>0.295</td>\n",
       "      <td>0.702</td>\n",
       "      <td>0.429</td>\n",
       "      <td>0.089</td>\n",
       "      <td>4.16</td>\n",
       "      <td>4.15</td>\n",
       "      <td>4.32</td>\n",
       "      <td>3.4</td>\n",
       "      <td>840</td>\n",
       "    </tr>\n",
       "    <tr>\n",
       "      <th>4</th>\n",
       "      <td>2009</td>\n",
       "      <td>Barry Zito</td>\n",
       "      <td>Giants</td>\n",
       "      <td>192.0</td>\n",
       "      <td>0.313</td>\n",
       "      <td>NaN</td>\n",
       "      <td>NaN</td>\n",
       "      <td>0.180</td>\n",
       "      <td>0.139</td>\n",
       "      <td>0.189</td>\n",
       "      <td>...</td>\n",
       "      <td>0.98</td>\n",
       "      <td>0.285</td>\n",
       "      <td>0.750</td>\n",
       "      <td>0.379</td>\n",
       "      <td>0.095</td>\n",
       "      <td>4.03</td>\n",
       "      <td>4.31</td>\n",
       "      <td>4.40</td>\n",
       "      <td>2.1</td>\n",
       "      <td>944</td>\n",
       "    </tr>\n",
       "  </tbody>\n",
       "</table>\n",
       "<p>5 rows × 83 columns</p>\n",
       "</div>"
      ],
      "text/plain": [
       "   Season             Name       Team     IP    pFA    pFC  pFS    pSI    pCH  \\\n",
       "0    2009     A.J. Burnett    Yankees  207.0  0.475    NaN  NaN  0.179  0.034   \n",
       "1    2009     Aaron Harang       Reds  162.1  0.536    NaN  NaN  0.148  0.033   \n",
       "2    2009  Adam Wainwright  Cardinals  233.0  0.010  0.194  NaN  0.490  0.068   \n",
       "3    2009    Andy Pettitte    Yankees  194.2  0.366  0.181  NaN  0.217  0.101   \n",
       "4    2009       Barry Zito     Giants  192.0  0.313    NaN  NaN  0.180  0.139   \n",
       "\n",
       "     pSL     ...      HR/9  BABIP   pLOB    pGB  HR/FB   ERA   FIP  xFIP  WAR  \\\n",
       "0    NaN     ...      1.09  0.295  0.759  0.428  0.108  4.04  4.33  4.23  3.0   \n",
       "1  0.224     ...      1.33  0.331  0.757  0.349  0.117  4.21  4.14  3.88  2.6   \n",
       "2    NaN     ...      0.66  0.296  0.804  0.507  0.083  2.63  3.11  3.32  5.7   \n",
       "3    NaN     ...      0.92  0.295  0.702  0.429  0.089  4.16  4.15  4.32  3.4   \n",
       "4  0.189     ...      0.98  0.285  0.750  0.379  0.095  4.03  4.31  4.40  2.1   \n",
       "\n",
       "   playerid.1  \n",
       "0         512  \n",
       "1        1451  \n",
       "2        2233  \n",
       "3         840  \n",
       "4         944  \n",
       "\n",
       "[5 rows x 83 columns]"
      ]
     },
     "execution_count": 7,
     "metadata": {},
     "output_type": "execute_result"
    }
   ],
   "source": [
    "pitch.head()"
   ]
  },
  {
   "cell_type": "markdown",
   "metadata": {},
   "source": [
    "### 투수 별로 던지는 구종의 개수 파악"
   ]
  },
  {
   "cell_type": "markdown",
   "metadata": {},
   "source": [
    "- pitch_per로 카운트 할 구종 최소 비율 정함"
   ]
  },
  {
   "cell_type": "code",
   "execution_count": 8,
   "metadata": {},
   "outputs": [],
   "source": [
    "import numpy as np\n",
    "pitch_name = pitch.columns[4:14]\n",
    "pitch_num = len(pitch)\n",
    "pitch_per = 0\n",
    "\n",
    "pitch_type = []\n",
    "for i in range(pitch_num):\n",
    "    z = 0\n",
    "    for j in pitch_name:\n",
    "        if np.isnan(pitch.loc[i]['{}'.format(j)]) == False and pitch.loc[i][\"{}\".format(j)] >= pitch_per:\n",
    "            z += 1\n",
    "    pitch_type.append(z)"
   ]
  },
  {
   "cell_type": "code",
   "execution_count": 9,
   "metadata": {},
   "outputs": [],
   "source": [
    "pitch['pitch_type'] = pitch_type"
   ]
  },
  {
   "cell_type": "code",
   "execution_count": 10,
   "metadata": {},
   "outputs": [
    {
     "data": {
      "text/html": [
       "<div>\n",
       "<style scoped>\n",
       "    .dataframe tbody tr th:only-of-type {\n",
       "        vertical-align: middle;\n",
       "    }\n",
       "\n",
       "    .dataframe tbody tr th {\n",
       "        vertical-align: top;\n",
       "    }\n",
       "\n",
       "    .dataframe thead th {\n",
       "        text-align: right;\n",
       "    }\n",
       "</style>\n",
       "<table border=\"1\" class=\"dataframe\">\n",
       "  <thead>\n",
       "    <tr style=\"text-align: right;\">\n",
       "      <th>pitch_type</th>\n",
       "      <th>2</th>\n",
       "      <th>3</th>\n",
       "      <th>4</th>\n",
       "      <th>5</th>\n",
       "      <th>6</th>\n",
       "      <th>7</th>\n",
       "      <th>8</th>\n",
       "    </tr>\n",
       "    <tr>\n",
       "      <th>pitch_type</th>\n",
       "      <th></th>\n",
       "      <th></th>\n",
       "      <th></th>\n",
       "      <th></th>\n",
       "      <th></th>\n",
       "      <th></th>\n",
       "      <th></th>\n",
       "    </tr>\n",
       "  </thead>\n",
       "  <tbody>\n",
       "    <tr>\n",
       "      <th>2</th>\n",
       "      <td>78</td>\n",
       "      <td>0</td>\n",
       "      <td>0</td>\n",
       "      <td>0</td>\n",
       "      <td>0</td>\n",
       "      <td>0</td>\n",
       "      <td>0</td>\n",
       "    </tr>\n",
       "    <tr>\n",
       "      <th>3</th>\n",
       "      <td>0</td>\n",
       "      <td>362</td>\n",
       "      <td>0</td>\n",
       "      <td>0</td>\n",
       "      <td>0</td>\n",
       "      <td>0</td>\n",
       "      <td>0</td>\n",
       "    </tr>\n",
       "    <tr>\n",
       "      <th>4</th>\n",
       "      <td>0</td>\n",
       "      <td>0</td>\n",
       "      <td>672</td>\n",
       "      <td>0</td>\n",
       "      <td>0</td>\n",
       "      <td>0</td>\n",
       "      <td>0</td>\n",
       "    </tr>\n",
       "    <tr>\n",
       "      <th>5</th>\n",
       "      <td>0</td>\n",
       "      <td>0</td>\n",
       "      <td>0</td>\n",
       "      <td>800</td>\n",
       "      <td>0</td>\n",
       "      <td>0</td>\n",
       "      <td>0</td>\n",
       "    </tr>\n",
       "    <tr>\n",
       "      <th>6</th>\n",
       "      <td>0</td>\n",
       "      <td>0</td>\n",
       "      <td>0</td>\n",
       "      <td>0</td>\n",
       "      <td>219</td>\n",
       "      <td>0</td>\n",
       "      <td>0</td>\n",
       "    </tr>\n",
       "    <tr>\n",
       "      <th>7</th>\n",
       "      <td>0</td>\n",
       "      <td>0</td>\n",
       "      <td>0</td>\n",
       "      <td>0</td>\n",
       "      <td>0</td>\n",
       "      <td>36</td>\n",
       "      <td>0</td>\n",
       "    </tr>\n",
       "    <tr>\n",
       "      <th>8</th>\n",
       "      <td>0</td>\n",
       "      <td>0</td>\n",
       "      <td>0</td>\n",
       "      <td>0</td>\n",
       "      <td>0</td>\n",
       "      <td>0</td>\n",
       "      <td>4</td>\n",
       "    </tr>\n",
       "  </tbody>\n",
       "</table>\n",
       "</div>"
      ],
      "text/plain": [
       "pitch_type   2    3    4    5    6   7  8\n",
       "pitch_type                               \n",
       "2           78    0    0    0    0   0  0\n",
       "3            0  362    0    0    0   0  0\n",
       "4            0    0  672    0    0   0  0\n",
       "5            0    0    0  800    0   0  0\n",
       "6            0    0    0    0  219   0  0\n",
       "7            0    0    0    0    0  36  0\n",
       "8            0    0    0    0    0   0  4"
      ]
     },
     "execution_count": 10,
     "metadata": {},
     "output_type": "execute_result"
    }
   ],
   "source": [
    "pd.crosstab(pitch.pitch_type, pitch.pitch_type)"
   ]
  },
  {
   "cell_type": "markdown",
   "metadata": {},
   "source": [
    "### 구종 가치의 평균 구하기"
   ]
  },
  {
   "cell_type": "code",
   "execution_count": 11,
   "metadata": {},
   "outputs": [],
   "source": [
    "pitch_val_sum = []\n",
    "for i in range(pitch_num):\n",
    "    z = pitch.loc[i]['wFA':'wSB'].sum()\n",
    "    pitch_val_sum.append(z)"
   ]
  },
  {
   "cell_type": "code",
   "execution_count": 12,
   "metadata": {},
   "outputs": [],
   "source": [
    "pitch['pitch_val_sum'] = pitch_val_sum"
   ]
  },
  {
   "cell_type": "code",
   "execution_count": 13,
   "metadata": {
    "scrolled": false
   },
   "outputs": [
    {
     "data": {
      "text/html": [
       "<div>\n",
       "<style scoped>\n",
       "    .dataframe tbody tr th:only-of-type {\n",
       "        vertical-align: middle;\n",
       "    }\n",
       "\n",
       "    .dataframe tbody tr th {\n",
       "        vertical-align: top;\n",
       "    }\n",
       "\n",
       "    .dataframe thead th {\n",
       "        text-align: right;\n",
       "    }\n",
       "</style>\n",
       "<table border=\"1\" class=\"dataframe\">\n",
       "  <thead>\n",
       "    <tr style=\"text-align: right;\">\n",
       "      <th></th>\n",
       "      <th>Season</th>\n",
       "      <th>Name</th>\n",
       "      <th>Team</th>\n",
       "      <th>IP</th>\n",
       "      <th>pFA</th>\n",
       "      <th>pFC</th>\n",
       "      <th>pFS</th>\n",
       "      <th>pSI</th>\n",
       "      <th>pCH</th>\n",
       "      <th>pSL</th>\n",
       "      <th>...</th>\n",
       "      <th>pLOB</th>\n",
       "      <th>pGB</th>\n",
       "      <th>HR/FB</th>\n",
       "      <th>ERA</th>\n",
       "      <th>FIP</th>\n",
       "      <th>xFIP</th>\n",
       "      <th>WAR</th>\n",
       "      <th>playerid.1</th>\n",
       "      <th>pitch_type</th>\n",
       "      <th>pitch_val_sum</th>\n",
       "    </tr>\n",
       "  </thead>\n",
       "  <tbody>\n",
       "    <tr>\n",
       "      <th>0</th>\n",
       "      <td>2009</td>\n",
       "      <td>A.J. Burnett</td>\n",
       "      <td>Yankees</td>\n",
       "      <td>207.0</td>\n",
       "      <td>0.475</td>\n",
       "      <td>NaN</td>\n",
       "      <td>NaN</td>\n",
       "      <td>0.179</td>\n",
       "      <td>0.034</td>\n",
       "      <td>NaN</td>\n",
       "      <td>...</td>\n",
       "      <td>0.759</td>\n",
       "      <td>0.428</td>\n",
       "      <td>0.108</td>\n",
       "      <td>4.04</td>\n",
       "      <td>4.33</td>\n",
       "      <td>4.23</td>\n",
       "      <td>3.0</td>\n",
       "      <td>512</td>\n",
       "      <td>4</td>\n",
       "      <td>2.0</td>\n",
       "    </tr>\n",
       "    <tr>\n",
       "      <th>1</th>\n",
       "      <td>2009</td>\n",
       "      <td>Aaron Harang</td>\n",
       "      <td>Reds</td>\n",
       "      <td>162.1</td>\n",
       "      <td>0.536</td>\n",
       "      <td>NaN</td>\n",
       "      <td>NaN</td>\n",
       "      <td>0.148</td>\n",
       "      <td>0.033</td>\n",
       "      <td>0.224</td>\n",
       "      <td>...</td>\n",
       "      <td>0.757</td>\n",
       "      <td>0.349</td>\n",
       "      <td>0.117</td>\n",
       "      <td>4.21</td>\n",
       "      <td>4.14</td>\n",
       "      <td>3.88</td>\n",
       "      <td>2.6</td>\n",
       "      <td>1451</td>\n",
       "      <td>5</td>\n",
       "      <td>-7.1</td>\n",
       "    </tr>\n",
       "    <tr>\n",
       "      <th>2</th>\n",
       "      <td>2009</td>\n",
       "      <td>Adam Wainwright</td>\n",
       "      <td>Cardinals</td>\n",
       "      <td>233.0</td>\n",
       "      <td>0.010</td>\n",
       "      <td>0.194</td>\n",
       "      <td>NaN</td>\n",
       "      <td>0.490</td>\n",
       "      <td>0.068</td>\n",
       "      <td>NaN</td>\n",
       "      <td>...</td>\n",
       "      <td>0.804</td>\n",
       "      <td>0.507</td>\n",
       "      <td>0.083</td>\n",
       "      <td>2.63</td>\n",
       "      <td>3.11</td>\n",
       "      <td>3.32</td>\n",
       "      <td>5.7</td>\n",
       "      <td>2233</td>\n",
       "      <td>5</td>\n",
       "      <td>27.7</td>\n",
       "    </tr>\n",
       "    <tr>\n",
       "      <th>3</th>\n",
       "      <td>2009</td>\n",
       "      <td>Andy Pettitte</td>\n",
       "      <td>Yankees</td>\n",
       "      <td>194.2</td>\n",
       "      <td>0.366</td>\n",
       "      <td>0.181</td>\n",
       "      <td>NaN</td>\n",
       "      <td>0.217</td>\n",
       "      <td>0.101</td>\n",
       "      <td>NaN</td>\n",
       "      <td>...</td>\n",
       "      <td>0.702</td>\n",
       "      <td>0.429</td>\n",
       "      <td>0.089</td>\n",
       "      <td>4.16</td>\n",
       "      <td>4.15</td>\n",
       "      <td>4.32</td>\n",
       "      <td>3.4</td>\n",
       "      <td>840</td>\n",
       "      <td>5</td>\n",
       "      <td>4.1</td>\n",
       "    </tr>\n",
       "    <tr>\n",
       "      <th>4</th>\n",
       "      <td>2009</td>\n",
       "      <td>Barry Zito</td>\n",
       "      <td>Giants</td>\n",
       "      <td>192.0</td>\n",
       "      <td>0.313</td>\n",
       "      <td>NaN</td>\n",
       "      <td>NaN</td>\n",
       "      <td>0.180</td>\n",
       "      <td>0.139</td>\n",
       "      <td>0.189</td>\n",
       "      <td>...</td>\n",
       "      <td>0.750</td>\n",
       "      <td>0.379</td>\n",
       "      <td>0.095</td>\n",
       "      <td>4.03</td>\n",
       "      <td>4.31</td>\n",
       "      <td>4.40</td>\n",
       "      <td>2.1</td>\n",
       "      <td>944</td>\n",
       "      <td>5</td>\n",
       "      <td>10.0</td>\n",
       "    </tr>\n",
       "  </tbody>\n",
       "</table>\n",
       "<p>5 rows × 85 columns</p>\n",
       "</div>"
      ],
      "text/plain": [
       "   Season             Name       Team     IP    pFA    pFC  pFS    pSI    pCH  \\\n",
       "0    2009     A.J. Burnett    Yankees  207.0  0.475    NaN  NaN  0.179  0.034   \n",
       "1    2009     Aaron Harang       Reds  162.1  0.536    NaN  NaN  0.148  0.033   \n",
       "2    2009  Adam Wainwright  Cardinals  233.0  0.010  0.194  NaN  0.490  0.068   \n",
       "3    2009    Andy Pettitte    Yankees  194.2  0.366  0.181  NaN  0.217  0.101   \n",
       "4    2009       Barry Zito     Giants  192.0  0.313    NaN  NaN  0.180  0.139   \n",
       "\n",
       "     pSL      ...         pLOB    pGB  HR/FB   ERA   FIP  xFIP  WAR  \\\n",
       "0    NaN      ...        0.759  0.428  0.108  4.04  4.33  4.23  3.0   \n",
       "1  0.224      ...        0.757  0.349  0.117  4.21  4.14  3.88  2.6   \n",
       "2    NaN      ...        0.804  0.507  0.083  2.63  3.11  3.32  5.7   \n",
       "3    NaN      ...        0.702  0.429  0.089  4.16  4.15  4.32  3.4   \n",
       "4  0.189      ...        0.750  0.379  0.095  4.03  4.31  4.40  2.1   \n",
       "\n",
       "   playerid.1  pitch_type  pitch_val_sum  \n",
       "0         512           4            2.0  \n",
       "1        1451           5           -7.1  \n",
       "2        2233           5           27.7  \n",
       "3         840           5            4.1  \n",
       "4         944           5           10.0  \n",
       "\n",
       "[5 rows x 85 columns]"
      ]
     },
     "execution_count": 13,
     "metadata": {},
     "output_type": "execute_result"
    }
   ],
   "source": [
    "pitch.head()"
   ]
  },
  {
   "cell_type": "markdown",
   "metadata": {},
   "source": [
    "### 각 구종 별 구종 가치 평균 구하기 (pitch_per = 0)"
   ]
  },
  {
   "cell_type": "code",
   "execution_count": 14,
   "metadata": {},
   "outputs": [],
   "source": [
    "stat = 'pitch_val_sum'\n",
    "#stat = 'WAR'\n",
    "#stat = 'FIP'\n",
    "#stat = 'ERA'\n",
    "#stat = 'xFIP'\n",
    "pitch_all = pitch.groupby('pitch_type')[stat].mean()\n",
    "#pitch_sp = pitch.groupby('pitch_type')[stat].mean()\n",
    "#pitch_rp = pitch.groupby('pitch_type')[stat].mean()"
   ]
  },
  {
   "cell_type": "markdown",
   "metadata": {},
   "source": [
    "### 전체 투수"
   ]
  },
  {
   "cell_type": "code",
   "execution_count": 15,
   "metadata": {},
   "outputs": [
    {
     "data": {
      "text/plain": [
       "pitch_type\n",
       "2     9.826923\n",
       "3     7.162707\n",
       "4     6.950000\n",
       "5     6.877000\n",
       "6     6.210959\n",
       "7     4.458333\n",
       "8    12.275000\n",
       "Name: pitch_val_sum, dtype: float64"
      ]
     },
     "execution_count": 15,
     "metadata": {},
     "output_type": "execute_result"
    }
   ],
   "source": [
    "pitch_all"
   ]
  },
  {
   "cell_type": "markdown",
   "metadata": {},
   "source": [
    "### 선발 투수"
   ]
  },
  {
   "cell_type": "code",
   "execution_count": 187,
   "metadata": {
    "scrolled": true
   },
   "outputs": [
    {
     "data": {
      "text/plain": [
       "pitch_type\n",
       "1    4.220000\n",
       "2    3.937419\n",
       "3    3.831538\n",
       "4    3.860404\n",
       "5    3.900659\n",
       "6    3.840000\n",
       "Name: xFIP, dtype: float64"
      ]
     },
     "execution_count": 187,
     "metadata": {},
     "output_type": "execute_result"
    }
   ],
   "source": [
    "pitch_sp"
   ]
  },
  {
   "cell_type": "markdown",
   "metadata": {},
   "source": [
    "### 중간 계투"
   ]
  },
  {
   "cell_type": "code",
   "execution_count": 176,
   "metadata": {
    "scrolled": true
   },
   "outputs": [
    {
     "data": {
      "text/plain": [
       "pitch_type\n",
       "1    3.378387\n",
       "2    3.608470\n",
       "3    3.823477\n",
       "4    3.901188\n",
       "5    4.228333\n",
       "Name: xFIP, dtype: float64"
      ]
     },
     "execution_count": 176,
     "metadata": {},
     "output_type": "execute_result"
    }
   ],
   "source": [
    "pitch_rp"
   ]
  },
  {
   "cell_type": "markdown",
   "metadata": {},
   "source": [
    "### DBSCAN"
   ]
  },
  {
   "cell_type": "code",
   "execution_count": 702,
   "metadata": {
    "scrolled": true
   },
   "outputs": [
    {
     "data": {
      "text/plain": [
       "Text(0, 0.5, '구종 가치 평균')"
      ]
     },
     "execution_count": 702,
     "metadata": {},
     "output_type": "execute_result"
    },
    {
     "data": {
      "image/png": "[encoded data removed]",
      "text/plain": [
       "<Figure size 432x288 with 1 Axes>"
      ]
     },
     "metadata": {},
     "output_type": "display_data"
    }
   ],
   "source": [
    "from sklearn.cluster import DBSCAN\n",
    "from sklearn.preprocessing import StandardScaler\n",
    "\n",
    "X = np.array(pitch[['pitch_type', 'pitch_val_sum']])\n",
    "\n",
    "dbscan = DBSCAN()\n",
    "clusters = dbscan.fit_predict(X)\n",
    "\n",
    "plt.scatter(X[:, 0], X[:, 1], c=clusters, s=60)\n",
    "plt.xlabel(\"구종 갯수\")\n",
    "plt.ylabel(\"구종 가치 평균\")"
   ]
  },
  {
   "cell_type": "markdown",
   "metadata": {},
   "source": [
    "### k-Means"
   ]
  },
  {
   "cell_type": "code",
   "execution_count": 703,
   "metadata": {},
   "outputs": [],
   "source": [
    "from sklearn.cluster import KMeans\n",
    "import mglearn\n",
    "X = np.array(pitch[['pitch_type', 'pitch_val_sum']])\n",
    "kmeans = KMeans(n_clusters=2)\n",
    "kmeans.fit(X)\n",
    "y_pred = kmeans.predict(X)"
   ]
  },
  {
   "cell_type": "code",
   "execution_count": 704,
   "metadata": {},
   "outputs": [
    {
     "data": {
      "text/plain": [
       "Text(0, 0.5, '구종 가치 평균')"
      ]
     },
     "execution_count": 704,
     "metadata": {},
     "output_type": "execute_result"
    },
    {
     "data": {
      "image/png": "[encoded data removed]",
      "text/plain": [
       "<Figure size 432x288 with 1 Axes>"
      ]
     },
     "metadata": {},
     "output_type": "display_data"
    }
   ],
   "source": [
    "mglearn.discrete_scatter(X[:, 0], X[:, 1], kmeans.labels_, markers='o')\n",
    "mglearn.discrete_scatter(\n",
    "    kmeans.cluster_centers_[:, 0], kmeans.cluster_centers_[:, 1], [0, 1],\n",
    "    markers='^', markeredgewidth=2)\n",
    "plt.xlabel(\"구종 갯수\")\n",
    "plt.ylabel(\"구종 가치 평균\")"
   ]
  },
  {
   "cell_type": "markdown",
   "metadata": {},
   "source": [
    "### t-SNE"
   ]
  },
  {
   "cell_type": "code",
   "execution_count": 1129,
   "metadata": {},
   "outputs": [
    {
     "data": {
      "text/plain": [
       "Text(0, 0.5, '구종 가치 평균 특성')"
      ]
     },
     "execution_count": 1129,
     "metadata": {},
     "output_type": "execute_result"
    },
    {
     "data": {
      "image/png": "[encoded data removed]",
      "text/plain": [
       "<Figure size 1000x1000 with 1 Axes>"
      ]
     },
     "metadata": {},
     "output_type": "display_data"
    }
   ],
   "source": [
    "plt.style.use('default')\n",
    "plt.rcParams[\"font.family\"] = 'NanumGothic'\n",
    "\n",
    "from sklearn.manifold import TSNE\n",
    "tsne = TSNE(random_state=0)\n",
    "X = np.array(pitch[['pitch_type', 'pitch_val_sum']])\n",
    "y = np.array(pitch['SP_RP'])\n",
    "gu_tsne = tsne.fit_transform(X)\n",
    "\n",
    "plt.figure(figsize=(10, 10))\n",
    "plt.xlim(gu_tsne[:, 0].min() - 10, gu_tsne[:, 0].max() + 10)\n",
    "plt.ylim(gu_tsne[:, 1].min() - 10, gu_tsne[:, 1].max() + 10)\n",
    "\n",
    "for i in range(len(gu_tsne)):\n",
    "    if y[i] == \"SP\":\n",
    "        color = \"orangered\"\n",
    "    else:\n",
    "        color = \"mediumseagreen\"\n",
    "    plt.text(gu_tsne[i, 0], gu_tsne[i, 1], str(y[i]),\n",
    "             color = color,\n",
    "             fontdict={\n",
    "                 #'weight': 'bold',\n",
    "                 'size': 10})\n",
    "plt.xlabel(\"구종 개수 특성\")\n",
    "plt.ylabel(\"구종 가치 평균 특성\")"
   ]
  },
  {
   "cell_type": "markdown",
   "metadata": {},
   "source": [
    "### PCA"
   ]
  },
  {
   "cell_type": "code",
   "execution_count": 1131,
   "metadata": {
    "scrolled": false
   },
   "outputs": [
    {
     "data": {
      "text/plain": [
       "Text(0, 0.5, '구종 가치 평균 특성')"
      ]
     },
     "execution_count": 1131,
     "metadata": {},
     "output_type": "execute_result"
    },
    {
     "data": {
      "image/png": "[encoded data removed]",
      "text/plain": [
       "<Figure size 1000x1000 with 1 Axes>"
      ]
     },
     "metadata": {},
     "output_type": "display_data"
    }
   ],
   "source": [
    "from sklearn.decomposition import PCA\n",
    "pca = PCA(n_components=2)\n",
    "X = np.array(pitch[['pitch_type', 'pitch_val_sum']])\n",
    "y = np.array(pitch['SP_RP'])\n",
    "pca.fit(X)\n",
    "gu_pca = pca.transform(X)\n",
    "\n",
    "plt.figure(figsize=(10, 10))\n",
    "plt.xlim(gu_pca[:, 0].min() - 10, gu_pca[:, 0].max() + 10)\n",
    "plt.ylim(gu_pca[:, 1].min() - 1, gu_pca[:, 1].max() + 1)\n",
    "\n",
    "for i in range(len(gu_pca)):\n",
    "    if y[i] == \"SP\":\n",
    "        color = \"orangered\"\n",
    "    else:\n",
    "        color = \"mediumseagreen\"\n",
    "    plt.text(gu_pca[i, 0], gu_pca[i, 1], str(y[i]),\n",
    "             color = color,\n",
    "             fontdict={\n",
    "                 #'weight': 'bold',\n",
    "                 'size': 10})\n",
    "plt.xlabel(\"구종 개수 특성\")\n",
    "plt.ylabel(\"구종 가치 평균 특성\")"
   ]
  },
  {
   "cell_type": "markdown",
   "metadata": {},
   "source": [
    "### NMF"
   ]
  },
  {
   "cell_type": "code",
   "execution_count": 1132,
   "metadata": {},
   "outputs": [],
   "source": [
    "from sklearn.preprocessing import MinMaxScaler\n",
    "scaler = MinMaxScaler()\n",
    "X = np.array(pitch[['pitch_type', 'pitch_val_sum']])\n",
    "y = np.array(pitch['SP_RP'])\n",
    "scaler.fit(X)\n",
    "X_scaled = scaler.transform(X)"
   ]
  },
  {
   "cell_type": "code",
   "execution_count": 1133,
   "metadata": {
    "scrolled": false
   },
   "outputs": [
    {
     "data": {
      "text/plain": [
       "Text(0, 0.5, '구종 가치 평균 특성')"
      ]
     },
     "execution_count": 1133,
     "metadata": {},
     "output_type": "execute_result"
    },
    {
     "data": {
      "image/png": "[encoded data removed]",
      "text/plain": [
       "<Figure size 1000x1000 with 1 Axes>"
      ]
     },
     "metadata": {},
     "output_type": "display_data"
    }
   ],
   "source": [
    "from sklearn.decomposition import NMF\n",
    "nmf = NMF(n_components=2, random_state=0)\n",
    "gu_nmf = nmf.fit_transform(X_scaled)\n",
    "\n",
    "plt.figure(figsize=(10, 10))\n",
    "plt.xlim(gu_nmf[:, 0].min() - 0.2, gu_nmf[:, 0].max() + 0.2)\n",
    "plt.ylim(gu_nmf[:, 1].min() - 0.1, gu_nmf[:, 1].max() + 0.1)\n",
    "\n",
    "for i in range(len(gu_nmf)):\n",
    "    if y[i] == \"SP\":\n",
    "        color = \"orangered\"\n",
    "    else:\n",
    "        color = \"mediumseagreen\"\n",
    "    plt.text(gu_nmf[i, 0], gu_nmf[i, 1], str(y[i]),\n",
    "             color = color,\n",
    "             fontdict={\n",
    "                 #'weight': 'bold',\n",
    "                 'size': 10})\n",
    "plt.xlabel(\"구종 개수 특성\")\n",
    "plt.ylabel(\"구종 가치 평균 특성\")"
   ]
  },
  {
   "cell_type": "markdown",
   "metadata": {},
   "source": [
    "### plotly 패키지 이용 구종 구사 비율 pdf"
   ]
  },
  {
   "cell_type": "code",
   "execution_count": 868,
   "metadata": {},
   "outputs": [],
   "source": [
    "x1 = pitch['pFA'].dropna()\n",
    "x1 = x1[x1 >= 0.1] + 1.5\n",
    "x2 = pitch['pCU'].dropna()\n",
    "x2 = x2[x2 >= 0.1] + 0.4\n",
    "x3 = pitch['pSI'].dropna() \n",
    "x3 = x3[x3 >= 0.1] + 0.8\n",
    "x4 = pitch['pCH'].dropna()\n",
    "x4 = x4[x4 >= 0.1]"
   ]
  },
  {
   "cell_type": "code",
   "execution_count": 869,
   "metadata": {
    "scrolled": false
   },
   "outputs": [
    {
     "name": "stderr",
     "output_type": "stream",
     "text": [
      "C:\\Users\\JH\\Anaconda3\\lib\\site-packages\\IPython\\core\\display.py:689: UserWarning:\n",
      "\n",
      "Consider using IPython.display.IFrame instead\n",
      "\n"
     ]
    },
    {
     "data": {
      "text/html": [
       "<iframe id=\"igraph\" scrolling=\"no\" style=\"border:none;\" seamless=\"seamless\" src=\"https://plot.ly/~skz2356/42.embed\" height=\"525px\" width=\"100%\"></iframe>"
      ],
      "text/plain": [
       "<plotly.tools.PlotlyDisplay object>"
      ]
     },
     "execution_count": 869,
     "metadata": {},
     "output_type": "execute_result"
    }
   ],
   "source": [
    "import plotly \n",
    "plotly.tools.set_credentials_file(username='skz2356', api_key='0nfpx0OY27rYShN7OZAl')\n",
    "\n",
    "import plotly.plotly as py\n",
    "import plotly.figure_factory as ff\n",
    "\n",
    "hist_data = [x1, x3, x2, x4]\n",
    "\n",
    "group_labels = ['패스트볼', '싱커', '커브', '체인지업']\n",
    "\n",
    "fig = ff.create_distplot(hist_data, group_labels, bin_size=0.01)\n",
    "\n",
    "py.iplot(fig, file_name=\"gu\")"
   ]
  },
  {
   "cell_type": "markdown",
   "metadata": {},
   "source": [
    "### 각 구종 별 구종 가치 평균 구하기 (pitch_per = 0.1)"
   ]
  },
  {
   "cell_type": "markdown",
   "metadata": {},
   "source": [
    "### 전체 투수"
   ]
  },
  {
   "cell_type": "code",
   "execution_count": 18,
   "metadata": {
    "scrolled": true
   },
   "outputs": [
    {
     "data": {
      "text/html": [
       "<div>\n",
       "<style scoped>\n",
       "    .dataframe tbody tr th:only-of-type {\n",
       "        vertical-align: middle;\n",
       "    }\n",
       "\n",
       "    .dataframe tbody tr th {\n",
       "        vertical-align: top;\n",
       "    }\n",
       "\n",
       "    .dataframe thead th {\n",
       "        text-align: right;\n",
       "    }\n",
       "</style>\n",
       "<table border=\"1\" class=\"dataframe\">\n",
       "  <thead>\n",
       "    <tr style=\"text-align: right;\">\n",
       "      <th></th>\n",
       "      <th>구종개수</th>\n",
       "      <th>구종가치합평균</th>\n",
       "    </tr>\n",
       "  </thead>\n",
       "  <tbody>\n",
       "    <tr>\n",
       "      <th>0</th>\n",
       "      <td>2개</td>\n",
       "      <td>9.83</td>\n",
       "    </tr>\n",
       "    <tr>\n",
       "      <th>1</th>\n",
       "      <td>3개</td>\n",
       "      <td>7.16</td>\n",
       "    </tr>\n",
       "    <tr>\n",
       "      <th>2</th>\n",
       "      <td>4개</td>\n",
       "      <td>6.95</td>\n",
       "    </tr>\n",
       "    <tr>\n",
       "      <th>3</th>\n",
       "      <td>5개</td>\n",
       "      <td>6.88</td>\n",
       "    </tr>\n",
       "    <tr>\n",
       "      <th>4</th>\n",
       "      <td>6개</td>\n",
       "      <td>6.21</td>\n",
       "    </tr>\n",
       "    <tr>\n",
       "      <th>5</th>\n",
       "      <td>7개</td>\n",
       "      <td>4.46</td>\n",
       "    </tr>\n",
       "    <tr>\n",
       "      <th>6</th>\n",
       "      <td>8개</td>\n",
       "      <td>12.28</td>\n",
       "    </tr>\n",
       "  </tbody>\n",
       "</table>\n",
       "</div>"
      ],
      "text/plain": [
       "  구종개수  구종가치합평균\n",
       "0   2개     9.83\n",
       "1   3개     7.16\n",
       "2   4개     6.95\n",
       "3   5개     6.88\n",
       "4   6개     6.21\n",
       "5   7개     4.46\n",
       "6   8개    12.28"
      ]
     },
     "execution_count": 18,
     "metadata": {},
     "output_type": "execute_result"
    }
   ],
   "source": [
    "all = pd.concat([pd.Series(list(pitch_all.index)), pd.Series(list(pitch_all))], axis=1).round(2)\n",
    "all.columns = ['구종개수', '구종가치합평균']\n",
    "\n",
    "def plu(x):\n",
    "    y = x + \"개\"\n",
    "    return y\n",
    "\n",
    "all['구종개수'] = list(map(str, all['구종개수']))\n",
    "all['구종개수'] = list(map(plu, all['구종개수']))\n",
    "all"
   ]
  },
  {
   "cell_type": "markdown",
   "metadata": {},
   "source": [
    "### 선발 투수"
   ]
  },
  {
   "cell_type": "code",
   "execution_count": 188,
   "metadata": {},
   "outputs": [
    {
     "data": {
      "text/html": [
       "<div>\n",
       "<style scoped>\n",
       "    .dataframe tbody tr th:only-of-type {\n",
       "        vertical-align: middle;\n",
       "    }\n",
       "\n",
       "    .dataframe tbody tr th {\n",
       "        vertical-align: top;\n",
       "    }\n",
       "\n",
       "    .dataframe thead th {\n",
       "        text-align: right;\n",
       "    }\n",
       "</style>\n",
       "<table border=\"1\" class=\"dataframe\">\n",
       "  <thead>\n",
       "    <tr style=\"text-align: right;\">\n",
       "      <th></th>\n",
       "      <th>구종개수</th>\n",
       "      <th>구종가치평균</th>\n",
       "    </tr>\n",
       "  </thead>\n",
       "  <tbody>\n",
       "    <tr>\n",
       "      <th>0</th>\n",
       "      <td>1</td>\n",
       "      <td>4.22</td>\n",
       "    </tr>\n",
       "    <tr>\n",
       "      <th>1</th>\n",
       "      <td>2</td>\n",
       "      <td>3.94</td>\n",
       "    </tr>\n",
       "    <tr>\n",
       "      <th>2</th>\n",
       "      <td>3</td>\n",
       "      <td>3.83</td>\n",
       "    </tr>\n",
       "    <tr>\n",
       "      <th>3</th>\n",
       "      <td>4</td>\n",
       "      <td>3.86</td>\n",
       "    </tr>\n",
       "    <tr>\n",
       "      <th>4</th>\n",
       "      <td>5</td>\n",
       "      <td>3.90</td>\n",
       "    </tr>\n",
       "  </tbody>\n",
       "</table>\n",
       "</div>"
      ],
      "text/plain": [
       "   구종개수  구종가치평균\n",
       "0     1    4.22\n",
       "1     2    3.94\n",
       "2     3    3.83\n",
       "3     4    3.86\n",
       "4     5    3.90"
      ]
     },
     "execution_count": 188,
     "metadata": {},
     "output_type": "execute_result"
    }
   ],
   "source": [
    "sp = pd.concat([pd.Series(list(pitch_sp.index)), pd.Series(list(pitch_sp))], axis=1).round(2)\n",
    "sp.columns = ['구종개수', '구종가치평균']\n",
    "sp = sp.iloc[:5]\n",
    "sp"
   ]
  },
  {
   "cell_type": "markdown",
   "metadata": {},
   "source": [
    "### 중간 계투"
   ]
  },
  {
   "cell_type": "code",
   "execution_count": 177,
   "metadata": {},
   "outputs": [
    {
     "data": {
      "text/html": [
       "<div>\n",
       "<style scoped>\n",
       "    .dataframe tbody tr th:only-of-type {\n",
       "        vertical-align: middle;\n",
       "    }\n",
       "\n",
       "    .dataframe tbody tr th {\n",
       "        vertical-align: top;\n",
       "    }\n",
       "\n",
       "    .dataframe thead th {\n",
       "        text-align: right;\n",
       "    }\n",
       "</style>\n",
       "<table border=\"1\" class=\"dataframe\">\n",
       "  <thead>\n",
       "    <tr style=\"text-align: right;\">\n",
       "      <th></th>\n",
       "      <th>구종개수</th>\n",
       "      <th>구종가치평균</th>\n",
       "    </tr>\n",
       "  </thead>\n",
       "  <tbody>\n",
       "    <tr>\n",
       "      <th>0</th>\n",
       "      <td>1</td>\n",
       "      <td>3.38</td>\n",
       "    </tr>\n",
       "    <tr>\n",
       "      <th>1</th>\n",
       "      <td>2</td>\n",
       "      <td>3.61</td>\n",
       "    </tr>\n",
       "    <tr>\n",
       "      <th>2</th>\n",
       "      <td>3</td>\n",
       "      <td>3.82</td>\n",
       "    </tr>\n",
       "    <tr>\n",
       "      <th>3</th>\n",
       "      <td>4</td>\n",
       "      <td>3.90</td>\n",
       "    </tr>\n",
       "    <tr>\n",
       "      <th>4</th>\n",
       "      <td>5</td>\n",
       "      <td>4.23</td>\n",
       "    </tr>\n",
       "  </tbody>\n",
       "</table>\n",
       "</div>"
      ],
      "text/plain": [
       "   구종개수  구종가치평균\n",
       "0     1    3.38\n",
       "1     2    3.61\n",
       "2     3    3.82\n",
       "3     4    3.90\n",
       "4     5    4.23"
      ]
     },
     "execution_count": 177,
     "metadata": {},
     "output_type": "execute_result"
    }
   ],
   "source": [
    "rp = pd.concat([pd.Series(list(pitch_rp.index)), pd.Series(list(pitch_rp))], axis=1).round(2)\n",
    "rp.columns = ['구종개수', '구종가치평균']\n",
    "rp"
   ]
  },
  {
   "cell_type": "markdown",
   "metadata": {},
   "source": [
    "### plotly 패키지 이용 선발 투수-중간 계투 간 적절 구종 개수 비교"
   ]
  },
  {
   "cell_type": "code",
   "execution_count": 189,
   "metadata": {
    "scrolled": false
   },
   "outputs": [
    {
     "data": {
      "text/html": [
       "<iframe id=\"igraph\" scrolling=\"no\" style=\"border:none;\" seamless=\"seamless\" src=\"https://plot.ly/~skz2356/69.embed\" height=\"525px\" width=\"100%\"></iframe>"
      ],
      "text/plain": [
       "<plotly.tools.PlotlyDisplay object>"
      ]
     },
     "execution_count": 189,
     "metadata": {},
     "output_type": "execute_result"
    }
   ],
   "source": [
    "import plotly\n",
    "import plotly.plotly as py\n",
    "import plotly.graph_objs as go\n",
    "\n",
    "plotly.tools.set_credentials_file(username='skz2356', api_key='TUlKoDXBxpyOo8wNczqG')\n",
    "\n",
    "x = [1, 2, 3, 4, 5]\n",
    "x1 = [0.8, 1.8, 2.8, 3.8, 4.8]\n",
    "x2 = [1.2, 2.2, 3.2, 4.2, 5.2]\n",
    "y = sp['구종가치평균']\n",
    "y2 = rp['구종가치평균']\n",
    "\n",
    "trace1 = go.Bar(\n",
    "    x=x,\n",
    "    y=y,\n",
    "    text=y,\n",
    "    textposition = 'auto',\n",
    "    name='선발',\n",
    "    marker=dict(\n",
    "        color='rgb(158,202,225)',\n",
    "        line=dict(\n",
    "            color='rgb(8,48,107)',\n",
    "            width=1.5),\n",
    "        ),\n",
    "    opacity=0.6\n",
    ")\n",
    "\n",
    "trace2 = go.Bar(\n",
    "    x=x,\n",
    "    y=y2,\n",
    "    text=y2,\n",
    "    textposition = 'auto',\n",
    "    name='중계',\n",
    "    marker=dict(\n",
    "        color='rgb(58,200,225)',\n",
    "        line=dict(\n",
    "            color='rgb(8,48,107)',\n",
    "            width=1.5),\n",
    "        ),\n",
    "    opacity=0.6\n",
    ")\n",
    "\n",
    "trace3 = go.Scatter(\n",
    "    x = x1,\n",
    "    y = y\n",
    ")\n",
    "\n",
    "trace4 = go.Scatter(\n",
    "    x = x2,\n",
    "    y = y2\n",
    ")\n",
    "\n",
    "ylim = [3, 4.5]\n",
    "layout = dict(\n",
    "    yaxis={\n",
    "        'range': ylim\n",
    "    },\n",
    "    shapes=[\n",
    "        # Line reference to the axes\n",
    "        {\n",
    "            'type': 'line',\n",
    "            'xref': 'x',\n",
    "            'yref': 'y',\n",
    "            'x0': 1,\n",
    "            'y0': 3.38,\n",
    "            'x1': 1.4,\n",
    "            'y1': 3.38,\n",
    "            'line': {\n",
    "                'color': 'red',\n",
    "                'width': 7,\n",
    "            },\n",
    "        },\n",
    "        # Line reference to the plot\n",
    "        {\n",
    "            'type': 'line',\n",
    "            'xref': 'x',\n",
    "            'yref': 'y',\n",
    "            'x0': 2.6,\n",
    "            'y0': 3.83,\n",
    "            'x1': 3,\n",
    "            'y1': 3.83,\n",
    "            'line': {\n",
    "                'color': 'red',\n",
    "                'width': 7,\n",
    "            }\n",
    "        }\n",
    "    ]\n",
    ")\n",
    "\n",
    "data = [trace1, trace2, trace3, trace4]\n",
    "\n",
    "fig = {\n",
    "    'data': data,\n",
    "    'layout': layout,\n",
    "}\n",
    "        \n",
    "py.iplot(fig, filename='SP-RP Pitch Value xFIP')"
   ]
  },
  {
   "cell_type": "markdown",
   "metadata": {},
   "source": [
    "## 더 알아볼 것"
   ]
  },
  {
   "cell_type": "markdown",
   "metadata": {},
   "source": [
    "### 원-피치 선발 투수"
   ]
  },
  {
   "cell_type": "code",
   "execution_count": 37,
   "metadata": {},
   "outputs": [
    {
     "data": {
      "text/html": [
       "<div>\n",
       "<style scoped>\n",
       "    .dataframe tbody tr th:only-of-type {\n",
       "        vertical-align: middle;\n",
       "    }\n",
       "\n",
       "    .dataframe tbody tr th {\n",
       "        vertical-align: top;\n",
       "    }\n",
       "\n",
       "    .dataframe thead th {\n",
       "        text-align: right;\n",
       "    }\n",
       "</style>\n",
       "<table border=\"1\" class=\"dataframe\">\n",
       "  <thead>\n",
       "    <tr style=\"text-align: right;\">\n",
       "      <th></th>\n",
       "      <th>Season</th>\n",
       "      <th>Name</th>\n",
       "      <th>Team</th>\n",
       "      <th>IP</th>\n",
       "      <th>pFA</th>\n",
       "      <th>pFC</th>\n",
       "      <th>pFS</th>\n",
       "      <th>pSI</th>\n",
       "      <th>pCH</th>\n",
       "      <th>pSL</th>\n",
       "      <th>...</th>\n",
       "      <th>O-Swing</th>\n",
       "      <th>Z-Swing</th>\n",
       "      <th>Swing</th>\n",
       "      <th>O-Contact</th>\n",
       "      <th>Z-Contact</th>\n",
       "      <th>Contact</th>\n",
       "      <th>Zone</th>\n",
       "      <th>Pace</th>\n",
       "      <th>pitch_type</th>\n",
       "      <th>pitch_val_sum</th>\n",
       "    </tr>\n",
       "  </thead>\n",
       "  <tbody>\n",
       "    <tr>\n",
       "      <th>322</th>\n",
       "      <td>2012</td>\n",
       "      <td>R.A. Dickey</td>\n",
       "      <td>Mets</td>\n",
       "      <td>232.2</td>\n",
       "      <td>0.037</td>\n",
       "      <td>NaN</td>\n",
       "      <td>NaN</td>\n",
       "      <td>0.098</td>\n",
       "      <td>0.011</td>\n",
       "      <td>NaN</td>\n",
       "      <td>...</td>\n",
       "      <td>0.336</td>\n",
       "      <td>0.638</td>\n",
       "      <td>0.500</td>\n",
       "      <td>0.669</td>\n",
       "      <td>0.790</td>\n",
       "      <td>0.753</td>\n",
       "      <td>0.542</td>\n",
       "      <td>18.4</td>\n",
       "      <td>1</td>\n",
       "      <td>34.6</td>\n",
       "    </tr>\n",
       "    <tr>\n",
       "      <th>405</th>\n",
       "      <td>2013</td>\n",
       "      <td>R.A. Dickey</td>\n",
       "      <td>Blue Jays</td>\n",
       "      <td>224.2</td>\n",
       "      <td>0.058</td>\n",
       "      <td>NaN</td>\n",
       "      <td>NaN</td>\n",
       "      <td>0.048</td>\n",
       "      <td>0.005</td>\n",
       "      <td>NaN</td>\n",
       "      <td>...</td>\n",
       "      <td>0.280</td>\n",
       "      <td>0.643</td>\n",
       "      <td>0.470</td>\n",
       "      <td>0.728</td>\n",
       "      <td>0.831</td>\n",
       "      <td>0.801</td>\n",
       "      <td>0.524</td>\n",
       "      <td>18.6</td>\n",
       "      <td>1</td>\n",
       "      <td>-3.4</td>\n",
       "    </tr>\n",
       "    <tr>\n",
       "      <th>485</th>\n",
       "      <td>2014</td>\n",
       "      <td>R.A. Dickey</td>\n",
       "      <td>Blue Jays</td>\n",
       "      <td>215.2</td>\n",
       "      <td>0.060</td>\n",
       "      <td>NaN</td>\n",
       "      <td>NaN</td>\n",
       "      <td>0.050</td>\n",
       "      <td>0.001</td>\n",
       "      <td>NaN</td>\n",
       "      <td>...</td>\n",
       "      <td>0.281</td>\n",
       "      <td>0.637</td>\n",
       "      <td>0.465</td>\n",
       "      <td>0.708</td>\n",
       "      <td>0.805</td>\n",
       "      <td>0.777</td>\n",
       "      <td>0.516</td>\n",
       "      <td>18.7</td>\n",
       "      <td>1</td>\n",
       "      <td>-1.2</td>\n",
       "    </tr>\n",
       "    <tr>\n",
       "      <th>568</th>\n",
       "      <td>2015</td>\n",
       "      <td>R.A. Dickey</td>\n",
       "      <td>Blue Jays</td>\n",
       "      <td>214.1</td>\n",
       "      <td>0.055</td>\n",
       "      <td>NaN</td>\n",
       "      <td>NaN</td>\n",
       "      <td>0.044</td>\n",
       "      <td>0.006</td>\n",
       "      <td>NaN</td>\n",
       "      <td>...</td>\n",
       "      <td>0.304</td>\n",
       "      <td>0.679</td>\n",
       "      <td>0.492</td>\n",
       "      <td>0.760</td>\n",
       "      <td>0.839</td>\n",
       "      <td>0.815</td>\n",
       "      <td>0.500</td>\n",
       "      <td>18.6</td>\n",
       "      <td>1</td>\n",
       "      <td>6.8</td>\n",
       "    </tr>\n",
       "    <tr>\n",
       "      <th>645</th>\n",
       "      <td>2016</td>\n",
       "      <td>R.A. Dickey</td>\n",
       "      <td>Blue Jays</td>\n",
       "      <td>169.1</td>\n",
       "      <td>0.020</td>\n",
       "      <td>NaN</td>\n",
       "      <td>NaN</td>\n",
       "      <td>0.092</td>\n",
       "      <td>0.012</td>\n",
       "      <td>NaN</td>\n",
       "      <td>...</td>\n",
       "      <td>0.291</td>\n",
       "      <td>0.676</td>\n",
       "      <td>0.478</td>\n",
       "      <td>0.726</td>\n",
       "      <td>0.803</td>\n",
       "      <td>0.779</td>\n",
       "      <td>0.487</td>\n",
       "      <td>19.1</td>\n",
       "      <td>1</td>\n",
       "      <td>-5.4</td>\n",
       "    </tr>\n",
       "  </tbody>\n",
       "</table>\n",
       "<p>5 rows × 66 columns</p>\n",
       "</div>"
      ],
      "text/plain": [
       "     Season         Name       Team     IP    pFA  pFC  pFS    pSI    pCH  \\\n",
       "322    2012  R.A. Dickey       Mets  232.2  0.037  NaN  NaN  0.098  0.011   \n",
       "405    2013  R.A. Dickey  Blue Jays  224.2  0.058  NaN  NaN  0.048  0.005   \n",
       "485    2014  R.A. Dickey  Blue Jays  215.2  0.060  NaN  NaN  0.050  0.001   \n",
       "568    2015  R.A. Dickey  Blue Jays  214.1  0.055  NaN  NaN  0.044  0.006   \n",
       "645    2016  R.A. Dickey  Blue Jays  169.1  0.020  NaN  NaN  0.092  0.012   \n",
       "\n",
       "     pSL      ...        O-Swing  Z-Swing  Swing  O-Contact  Z-Contact  \\\n",
       "322  NaN      ...          0.336    0.638  0.500      0.669      0.790   \n",
       "405  NaN      ...          0.280    0.643  0.470      0.728      0.831   \n",
       "485  NaN      ...          0.281    0.637  0.465      0.708      0.805   \n",
       "568  NaN      ...          0.304    0.679  0.492      0.760      0.839   \n",
       "645  NaN      ...          0.291    0.676  0.478      0.726      0.803   \n",
       "\n",
       "     Contact   Zone  Pace  pitch_type  pitch_val_sum  \n",
       "322    0.753  0.542  18.4           1           34.6  \n",
       "405    0.801  0.524  18.6           1           -3.4  \n",
       "485    0.777  0.516  18.7           1           -1.2  \n",
       "568    0.815  0.500  18.6           1            6.8  \n",
       "645    0.779  0.487  19.1           1           -5.4  \n",
       "\n",
       "[5 rows x 66 columns]"
      ]
     },
     "execution_count": 37,
     "metadata": {},
     "output_type": "execute_result"
    }
   ],
   "source": [
    "pitch[pitch.pitch_type == 1]"
   ]
  },
  {
   "cell_type": "markdown",
   "metadata": {},
   "source": [
    "### 6-피치 선발 투수"
   ]
  },
  {
   "cell_type": "code",
   "execution_count": 64,
   "metadata": {},
   "outputs": [
    {
     "data": {
      "text/plain": [
       "Name\n",
       "Paul Maholm    6.2\n",
       "Name: pitch_val_sum, dtype: float64"
      ]
     },
     "execution_count": 64,
     "metadata": {},
     "output_type": "execute_result"
    }
   ],
   "source": [
    "pitch[pitch.pitch_type == 6].groupby('Name')['pitch_val_sum'].mean()"
   ]
  },
  {
   "cell_type": "markdown",
   "metadata": {},
   "source": [
    "### 원-피치 중간 계투"
   ]
  },
  {
   "cell_type": "code",
   "execution_count": 51,
   "metadata": {},
   "outputs": [
    {
     "data": {
      "text/plain": [
       "Name\n",
       "Brad Ziegler         19.700000\n",
       "Brandon Kintzler      0.300000\n",
       "Danys Baez           11.100000\n",
       "David Aardsma        15.600000\n",
       "Ernesto Frieri       12.900000\n",
       "Jake McGee            6.950000\n",
       "James Pazos           4.600000\n",
       "Jonathan Papelbon    11.200000\n",
       "Kenley Jansen        19.640000\n",
       "Mariano Rivera       18.400000\n",
       "Mark DiFelice         5.000000\n",
       "Matt Thornton         4.500000\n",
       "Ronald Belisario     15.400000\n",
       "Ryan Buchter         11.600000\n",
       "Scott Alexander      12.500000\n",
       "Sean Doolittle       15.050000\n",
       "Sean White            9.300000\n",
       "Tony Cingrani         2.400000\n",
       "Zach Britton         21.033333\n",
       "Name: pitch_val_sum, dtype: float64"
      ]
     },
     "execution_count": 51,
     "metadata": {},
     "output_type": "execute_result"
    }
   ],
   "source": [
    "pitch[pitch.pitch_type == 1].groupby('Name')['pitch_val_sum'].mean()"
   ]
  },
  {
   "cell_type": "code",
   "execution_count": 52,
   "metadata": {
    "scrolled": true
   },
   "outputs": [
    {
     "data": {
      "text/plain": [
       "19"
      ]
     },
     "execution_count": 52,
     "metadata": {},
     "output_type": "execute_result"
    }
   ],
   "source": [
    "len(pitch[pitch.pitch_type == 1].groupby('Name')['pitch_val_sum'].mean())"
   ]
  },
  {
   "cell_type": "markdown",
   "metadata": {},
   "source": [
    "### 5-피치 중간 계투"
   ]
  },
  {
   "cell_type": "code",
   "execution_count": 53,
   "metadata": {
    "scrolled": true
   },
   "outputs": [
    {
     "data": {
      "text/plain": [
       "Name\n",
       "Adam Warren          -3.6\n",
       "Alfredo Aceves       -2.2\n",
       "Alfredo Simon        -1.9\n",
       "Brett Cecil           4.0\n",
       "Brian Duensing        8.2\n",
       "Brian Tallet        -12.7\n",
       "Carlos Villanueva   -11.8\n",
       "Casey Janssen        -1.4\n",
       "Chan Ho Park         -1.4\n",
       "Daniel Herrera        1.9\n",
       "Dillon Gee            2.4\n",
       "Eddie Bonine         -6.3\n",
       "Eddie Butler        -12.4\n",
       "Jace Fry              9.6\n",
       "James Russell         5.2\n",
       "Mike Montgomery      12.3\n",
       "Tom Wilhelmsen        5.0\n",
       "Name: pitch_val_sum, dtype: float64"
      ]
     },
     "execution_count": 53,
     "metadata": {},
     "output_type": "execute_result"
    }
   ],
   "source": [
    "pitch[pitch.pitch_type == 5].groupby('Name')['pitch_val_sum'].mean()"
   ]
  },
  {
   "cell_type": "code",
   "execution_count": 54,
   "metadata": {},
   "outputs": [
    {
     "data": {
      "text/plain": [
       "17"
      ]
     },
     "execution_count": 54,
     "metadata": {},
     "output_type": "execute_result"
    }
   ],
   "source": [
    "len(pitch[pitch.pitch_type == 5].groupby('Name')['pitch_val_sum'].mean())"
   ]
  }
 ],
 "metadata": {
  "kernelspec": {
   "display_name": "Python 3",
   "language": "python",
   "name": "python3"
  },
  "language_info": {
   "codemirror_mode": {
    "name": "ipython",
    "version": 3
   },
   "file_extension": ".py",
   "mimetype": "text/x-python",
   "name": "python",
   "nbconvert_exporter": "python",
   "pygments_lexer": "ipython3",
   "version": "3.7.1"
  }
 },
 "nbformat": 4,
 "nbformat_minor": 2
}
