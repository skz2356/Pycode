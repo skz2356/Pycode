{
 "cells": [
  {
   "cell_type": "markdown",
   "metadata": {},
   "source": [
    "># 어머니날 - 분홍색을 보고 선수들의 운동 능력이 떨어질까?"
   ]
  },
  {
   "cell_type": "markdown",
   "metadata": {},
   "source": [
    "## Statcast Data 준비"
   ]
  },
  {
   "cell_type": "markdown",
   "metadata": {},
   "source": [
    "- 2018년도는 종전의 데이터 이용"
   ]
  },
  {
   "cell_type": "code",
   "execution_count": 4,
   "metadata": {},
   "outputs": [],
   "source": [
    "from pybaseball import statcast\n",
    "import pandas as pd"
   ]
  },
  {
   "cell_type": "code",
   "execution_count": 9,
   "metadata": {},
   "outputs": [],
   "source": [
    "dt2017 = pd.date_range(\"20170101\", periods = 365)\n",
    "dt2016 = pd.date_range(\"20160101\", periods = 365)\n",
    "dt2015 = pd.date_range(\"20150101\", periods = 365)"
   ]
  },
  {
   "cell_type": "markdown",
   "metadata": {},
   "source": [
    "## strftime() 날짜와 시간을 str로 변경"
   ]
  },
  {
   "cell_type": "code",
   "execution_count": 15,
   "metadata": {},
   "outputs": [],
   "source": [
    "import datetime\n",
    "\n",
    "dt2017_st = dt2017.strftime('%Y-%m-%d')\n",
    "dt2016_st = dt2016.strftime('%Y-%m-%d')\n",
    "dt2015_st = dt2015.strftime('%Y-%m-%d')\n",
    "\n",
    "dt2017_list = list(dt2017_st)\n",
    "dt2016_list = list(dt2016_st)\n",
    "dt2015_list = list(dt2015_st)"
   ]
  },
  {
   "cell_type": "markdown",
   "metadata": {},
   "source": [
    "## 날짜별로 데이터 다운"
   ]
  },
  {
   "cell_type": "markdown",
   "metadata": {},
   "source": [
    "### 2017"
   ]
  },
  {
   "cell_type": "code",
   "execution_count": 16,
   "metadata": {},
   "outputs": [],
   "source": [
    "for i in dt2017_list:\n",
    "    data = []\n",
    "    data = statcast(i, i)\n",
    "    del data['index']\n",
    "    data.to_csv('D://statcast//savant_{}{}{}.csv'.format(i[:4], i[5:7], i[8:10]), index = False)"
   ]
  },
  {
   "cell_type": "code",
   "execution_count": 21,
   "metadata": {},
   "outputs": [
    {
     "name": "stdout",
     "output_type": "stream",
     "text": [
      "20170130 merged\n",
      "20170301 merged\n",
      "20170331 merged\n",
      "20170430 merged\n",
      "20170530 merged\n",
      "20170629 merged\n",
      "20170729 merged\n",
      "20170828 merged\n",
      "20170927 merged\n",
      "20171027 merged\n",
      "20171126 merged\n",
      "20171226 merged\n",
      "done.\n"
     ]
    }
   ],
   "source": [
    "j = 1\n",
    "\n",
    "for i in dt2017_list:\n",
    "    \n",
    "    if i == dt2017_list[0]:\n",
    "        data2017 = pd.read_csv('D://statcast//savant_{}{}{}.csv'.format(i[:4], i[5:7], i[8:10]))\n",
    "        continue\n",
    "    else:\n",
    "        da = pd.read_csv('D://statcast//savant_{}{}{}.csv'.format(i[:4], i[5:7], i[8:10]))\n",
    "        data2017 = pd.concat([data2017, da])\n",
    "\n",
    "    j += 1\n",
    "    \n",
    "    if j == len(dt2017_list):\n",
    "        print('done.')\n",
    "        \n",
    "    elif j % 30 == 0:\n",
    "        print('{}{}{} merged'.format(i[:4], i[5:7], i[8:10]))   "
   ]
  },
  {
   "cell_type": "code",
   "execution_count": 22,
   "metadata": {},
   "outputs": [],
   "source": [
    "data2017.to_csv('D://statcast//savant2017.csv', index = False)"
   ]
  },
  {
   "cell_type": "markdown",
   "metadata": {},
   "source": [
    "### 2016"
   ]
  },
  {
   "cell_type": "code",
   "execution_count": 18,
   "metadata": {},
   "outputs": [],
   "source": [
    "for i in dt2016_list:\n",
    "    data = []\n",
    "    data = statcast(i, i)\n",
    "    del data['index']\n",
    "    data.to_csv('D://statcast//savant_{}{}{}.csv'.format(i[:4], i[5:7], i[8:10]), index = False)"
   ]
  },
  {
   "cell_type": "code",
   "execution_count": 23,
   "metadata": {},
   "outputs": [
    {
     "name": "stdout",
     "output_type": "stream",
     "text": [
      "20160130 merged\n",
      "20160229 merged\n",
      "20160330 merged\n",
      "20160429 merged\n",
      "20160529 merged\n",
      "20160628 merged\n",
      "20160728 merged\n",
      "20160827 merged\n",
      "20160926 merged\n",
      "20161026 merged\n",
      "20161125 merged\n",
      "20161225 merged\n",
      "done.\n"
     ]
    }
   ],
   "source": [
    "j = 1\n",
    "\n",
    "for i in dt2016_list:\n",
    "    \n",
    "    if i == dt2016_list[0]:\n",
    "        data2016 = pd.read_csv('D://statcast//savant_{}{}{}.csv'.format(i[:4], i[5:7], i[8:10]))\n",
    "        continue\n",
    "    else:\n",
    "        da = pd.read_csv('D://statcast//savant_{}{}{}.csv'.format(i[:4], i[5:7], i[8:10]))\n",
    "        data2016 = pd.concat([data2016, da])\n",
    "\n",
    "    j += 1\n",
    "    \n",
    "    if j == len(dt2016_list):\n",
    "        print('done.')\n",
    "        \n",
    "    elif j % 30 == 0:\n",
    "        print('{}{}{} merged'.format(i[:4], i[5:7], i[8:10]))  "
   ]
  },
  {
   "cell_type": "code",
   "execution_count": 24,
   "metadata": {},
   "outputs": [],
   "source": [
    "data2016.to_csv('D://statcast//savant2016.csv', index = False)"
   ]
  },
  {
   "cell_type": "markdown",
   "metadata": {},
   "source": [
    "### 2015"
   ]
  },
  {
   "cell_type": "code",
   "execution_count": 33,
   "metadata": {},
   "outputs": [],
   "source": [
    "for i in dt2015_list:\n",
    "    data = []\n",
    "    data = statcast(i, i)\n",
    "    del data['index']\n",
    "    data.to_csv('D://statcast//savant_{}{}{}.csv'.format(i[:4], i[5:7], i[8:10]), index = False)"
   ]
  },
  {
   "cell_type": "code",
   "execution_count": 34,
   "metadata": {},
   "outputs": [
    {
     "name": "stdout",
     "output_type": "stream",
     "text": [
      "20150130 merged\n",
      "20150301 merged\n",
      "20150331 merged\n",
      "20150430 merged\n",
      "20150530 merged\n",
      "20150629 merged\n",
      "20150729 merged\n",
      "20150828 merged\n",
      "20150927 merged\n",
      "20151027 merged\n",
      "20151126 merged\n",
      "20151226 merged\n",
      "done.\n"
     ]
    }
   ],
   "source": [
    "j = 1\n",
    "\n",
    "for i in dt2015_list:\n",
    "    \n",
    "    if i == dt2015_list[0]:\n",
    "        data2015 = pd.read_csv('D://statcast//savant_{}{}{}.csv'.format(i[:4], i[5:7], i[8:10]))\n",
    "        continue\n",
    "    else:\n",
    "        da = pd.read_csv('D://statcast//savant_{}{}{}.csv'.format(i[:4], i[5:7], i[8:10]))\n",
    "        data2015 = pd.concat([data2015, da])\n",
    "\n",
    "    j += 1\n",
    "    \n",
    "    if j == len(dt2015_list):\n",
    "        print('done.')\n",
    "        \n",
    "    elif j % 30 == 0:\n",
    "        print('{}{}{} merged'.format(i[:4], i[5:7], i[8:10]))  "
   ]
  },
  {
   "cell_type": "code",
   "execution_count": 35,
   "metadata": {},
   "outputs": [],
   "source": [
    "data2015.to_csv('D://statcast//savant2015.csv', index = False)"
   ]
  },
  {
   "cell_type": "markdown",
   "metadata": {},
   "source": [
    "## 데이터 확인"
   ]
  },
  {
   "cell_type": "code",
   "execution_count": 40,
   "metadata": {},
   "outputs": [
    {
     "name": "stderr",
     "output_type": "stream",
     "text": [
      "C:\\Users\\JH\\Anaconda3\\lib\\site-packages\\IPython\\core\\interactiveshell.py:3020: DtypeWarning: Columns (43) have mixed types. Specify dtype option on import or set low_memory=False.\n",
      "  interactivity=interactivity, compiler=compiler, result=result)\n"
     ]
    }
   ],
   "source": [
    "import pandas as pd\n",
    "\n",
    "data2018 = pd.read_csv('D://statcast//savant2018.csv')\n",
    "data2017 = pd.read_csv('D://statcast//savant2017.csv')\n",
    "data2016 = pd.read_csv('D://statcast//savant2016.csv')\n",
    "data2015 = pd.read_csv('D://statcast//savant2015.csv')"
   ]
  },
  {
   "cell_type": "code",
   "execution_count": 41,
   "metadata": {},
   "outputs": [
    {
     "name": "stdout",
     "output_type": "stream",
     "text": [
      "731207 732476 726023 712840\n"
     ]
    }
   ],
   "source": [
    "print(len(data2018), len(data2017), len(data2016), len(data2015))"
   ]
  },
  {
   "cell_type": "code",
   "execution_count": 42,
   "metadata": {},
   "outputs": [
    {
     "data": {
      "text/html": [
       "<div>\n",
       "<style scoped>\n",
       "    .dataframe tbody tr th:only-of-type {\n",
       "        vertical-align: middle;\n",
       "    }\n",
       "\n",
       "    .dataframe tbody tr th {\n",
       "        vertical-align: top;\n",
       "    }\n",
       "\n",
       "    .dataframe thead th {\n",
       "        text-align: right;\n",
       "    }\n",
       "</style>\n",
       "<table border=\"1\" class=\"dataframe\">\n",
       "  <thead>\n",
       "    <tr style=\"text-align: right;\">\n",
       "      <th></th>\n",
       "      <th>pitch_type</th>\n",
       "      <th>game_date</th>\n",
       "      <th>release_speed</th>\n",
       "      <th>release_pos_x</th>\n",
       "      <th>release_pos_z</th>\n",
       "      <th>player_name</th>\n",
       "      <th>batter</th>\n",
       "      <th>pitcher</th>\n",
       "      <th>events</th>\n",
       "      <th>description</th>\n",
       "      <th>...</th>\n",
       "      <th>home_score</th>\n",
       "      <th>away_score</th>\n",
       "      <th>bat_score</th>\n",
       "      <th>fld_score</th>\n",
       "      <th>post_away_score</th>\n",
       "      <th>post_home_score</th>\n",
       "      <th>post_bat_score</th>\n",
       "      <th>post_fld_score</th>\n",
       "      <th>if_fielding_alignment</th>\n",
       "      <th>of_fielding_alignment</th>\n",
       "    </tr>\n",
       "  </thead>\n",
       "  <tbody>\n",
       "    <tr>\n",
       "      <th>0</th>\n",
       "      <td>SI</td>\n",
       "      <td>2018-03-29</td>\n",
       "      <td>96.7</td>\n",
       "      <td>-1.3857</td>\n",
       "      <td>6.1136</td>\n",
       "      <td>Jeurys Familia</td>\n",
       "      <td>657557.0</td>\n",
       "      <td>544727.0</td>\n",
       "      <td>field_out</td>\n",
       "      <td>hit_into_play</td>\n",
       "      <td>...</td>\n",
       "      <td>9.0</td>\n",
       "      <td>4.0</td>\n",
       "      <td>4.0</td>\n",
       "      <td>9.0</td>\n",
       "      <td>4.0</td>\n",
       "      <td>9.0</td>\n",
       "      <td>4.0</td>\n",
       "      <td>9.0</td>\n",
       "      <td>Standard</td>\n",
       "      <td>Standard</td>\n",
       "    </tr>\n",
       "    <tr>\n",
       "      <th>1</th>\n",
       "      <td>SI</td>\n",
       "      <td>2018-03-29</td>\n",
       "      <td>96.0</td>\n",
       "      <td>-1.3302</td>\n",
       "      <td>6.1877</td>\n",
       "      <td>Jeurys Familia</td>\n",
       "      <td>657557.0</td>\n",
       "      <td>544727.0</td>\n",
       "      <td>NaN</td>\n",
       "      <td>blocked_ball</td>\n",
       "      <td>...</td>\n",
       "      <td>9.0</td>\n",
       "      <td>4.0</td>\n",
       "      <td>4.0</td>\n",
       "      <td>9.0</td>\n",
       "      <td>4.0</td>\n",
       "      <td>9.0</td>\n",
       "      <td>4.0</td>\n",
       "      <td>9.0</td>\n",
       "      <td>Standard</td>\n",
       "      <td>Standard</td>\n",
       "    </tr>\n",
       "    <tr>\n",
       "      <th>2</th>\n",
       "      <td>FF</td>\n",
       "      <td>2018-03-29</td>\n",
       "      <td>98.1</td>\n",
       "      <td>-1.3381</td>\n",
       "      <td>5.9711</td>\n",
       "      <td>Jeurys Familia</td>\n",
       "      <td>425877.0</td>\n",
       "      <td>544727.0</td>\n",
       "      <td>walk</td>\n",
       "      <td>ball</td>\n",
       "      <td>...</td>\n",
       "      <td>9.0</td>\n",
       "      <td>4.0</td>\n",
       "      <td>4.0</td>\n",
       "      <td>9.0</td>\n",
       "      <td>4.0</td>\n",
       "      <td>9.0</td>\n",
       "      <td>4.0</td>\n",
       "      <td>9.0</td>\n",
       "      <td>Strategic</td>\n",
       "      <td>Standard</td>\n",
       "    </tr>\n",
       "    <tr>\n",
       "      <th>3</th>\n",
       "      <td>FF</td>\n",
       "      <td>2018-03-29</td>\n",
       "      <td>97.4</td>\n",
       "      <td>-1.1546</td>\n",
       "      <td>5.9254</td>\n",
       "      <td>Jeurys Familia</td>\n",
       "      <td>425877.0</td>\n",
       "      <td>544727.0</td>\n",
       "      <td>NaN</td>\n",
       "      <td>ball</td>\n",
       "      <td>...</td>\n",
       "      <td>9.0</td>\n",
       "      <td>4.0</td>\n",
       "      <td>4.0</td>\n",
       "      <td>9.0</td>\n",
       "      <td>4.0</td>\n",
       "      <td>9.0</td>\n",
       "      <td>4.0</td>\n",
       "      <td>9.0</td>\n",
       "      <td>Standard</td>\n",
       "      <td>Standard</td>\n",
       "    </tr>\n",
       "    <tr>\n",
       "      <th>4</th>\n",
       "      <td>FF</td>\n",
       "      <td>2018-03-29</td>\n",
       "      <td>97.1</td>\n",
       "      <td>-1.1802</td>\n",
       "      <td>6.0784</td>\n",
       "      <td>Jeurys Familia</td>\n",
       "      <td>425877.0</td>\n",
       "      <td>544727.0</td>\n",
       "      <td>NaN</td>\n",
       "      <td>ball</td>\n",
       "      <td>...</td>\n",
       "      <td>9.0</td>\n",
       "      <td>4.0</td>\n",
       "      <td>4.0</td>\n",
       "      <td>9.0</td>\n",
       "      <td>4.0</td>\n",
       "      <td>9.0</td>\n",
       "      <td>4.0</td>\n",
       "      <td>9.0</td>\n",
       "      <td>Standard</td>\n",
       "      <td>Standard</td>\n",
       "    </tr>\n",
       "  </tbody>\n",
       "</table>\n",
       "<p>5 rows × 89 columns</p>\n",
       "</div>"
      ],
      "text/plain": [
       "  pitch_type   game_date  release_speed  release_pos_x  release_pos_z  \\\n",
       "0         SI  2018-03-29           96.7        -1.3857         6.1136   \n",
       "1         SI  2018-03-29           96.0        -1.3302         6.1877   \n",
       "2         FF  2018-03-29           98.1        -1.3381         5.9711   \n",
       "3         FF  2018-03-29           97.4        -1.1546         5.9254   \n",
       "4         FF  2018-03-29           97.1        -1.1802         6.0784   \n",
       "\n",
       "      player_name    batter   pitcher     events    description  \\\n",
       "0  Jeurys Familia  657557.0  544727.0  field_out  hit_into_play   \n",
       "1  Jeurys Familia  657557.0  544727.0        NaN   blocked_ball   \n",
       "2  Jeurys Familia  425877.0  544727.0       walk           ball   \n",
       "3  Jeurys Familia  425877.0  544727.0        NaN           ball   \n",
       "4  Jeurys Familia  425877.0  544727.0        NaN           ball   \n",
       "\n",
       "           ...           home_score  away_score  bat_score  fld_score  \\\n",
       "0          ...                  9.0         4.0        4.0        9.0   \n",
       "1          ...                  9.0         4.0        4.0        9.0   \n",
       "2          ...                  9.0         4.0        4.0        9.0   \n",
       "3          ...                  9.0         4.0        4.0        9.0   \n",
       "4          ...                  9.0         4.0        4.0        9.0   \n",
       "\n",
       "   post_away_score post_home_score post_bat_score post_fld_score  \\\n",
       "0              4.0             9.0            4.0            9.0   \n",
       "1              4.0             9.0            4.0            9.0   \n",
       "2              4.0             9.0            4.0            9.0   \n",
       "3              4.0             9.0            4.0            9.0   \n",
       "4              4.0             9.0            4.0            9.0   \n",
       "\n",
       "  if_fielding_alignment of_fielding_alignment  \n",
       "0              Standard              Standard  \n",
       "1              Standard              Standard  \n",
       "2             Strategic              Standard  \n",
       "3              Standard              Standard  \n",
       "4              Standard              Standard  \n",
       "\n",
       "[5 rows x 89 columns]"
      ]
     },
     "execution_count": 42,
     "metadata": {},
     "output_type": "execute_result"
    }
   ],
   "source": [
    "data2018.head()"
   ]
  },
  {
   "cell_type": "code",
   "execution_count": 193,
   "metadata": {},
   "outputs": [],
   "source": [
    "import numpy as np"
   ]
  },
  {
   "cell_type": "code",
   "execution_count": 194,
   "metadata": {},
   "outputs": [],
   "source": [
    "group2018_1 = data2018.groupby('game_date').release_speed.agg(np.mean)\n",
    "group2018_2 = data2018.groupby('game_date').release_spin_rate.agg(np.mean)\n",
    "\n",
    "group2018 = pd.concat([group2018_1, group2018_2], axis=1)\n",
    "group2018 = pd.DataFrame(group2018)\n",
    "\n",
    "mother2018 = group2018.iloc[45]\n",
    "all2018dr = group2018.drop(\"2018-05-13\")\n",
    "all2018 = np.mean(all2018dr, axis=0)"
   ]
  },
  {
   "cell_type": "code",
   "execution_count": 195,
   "metadata": {},
   "outputs": [],
   "source": [
    "group2017_1 = data2017.groupby('game_date').release_speed.agg(np.mean)\n",
    "group2017_2 = data2017.groupby('game_date').release_spin_rate.agg(np.mean)\n",
    "\n",
    "group2017 = pd.concat([group2017_1, group2017_2], axis=1)\n",
    "group2017 = pd.DataFrame(group2017)\n",
    "\n",
    "mother2017 = group2017.iloc[42]\n",
    "all2017dr = group2017.drop(\"2017-05-14\")\n",
    "all2017 = np.mean(all2017dr, axis=0)"
   ]
  },
  {
   "cell_type": "code",
   "execution_count": 196,
   "metadata": {},
   "outputs": [],
   "source": [
    "group2016_1 = data2016.groupby('game_date').release_speed.agg(np.mean)\n",
    "group2016_2 = data2016.groupby('game_date').release_spin_rate.agg(np.mean)\n",
    "\n",
    "group2016 = pd.concat([group2016_1, group2016_2], axis=1)\n",
    "group2016 = pd.DataFrame(group2016)\n",
    "\n",
    "mother2016 = group2016.iloc[35]\n",
    "all2016dr = group2016.drop(\"2016-05-08\")\n",
    "all2016 = np.mean(all2016dr, axis=0)"
   ]
  },
  {
   "cell_type": "code",
   "execution_count": 197,
   "metadata": {},
   "outputs": [],
   "source": [
    "group2015_1 = data2015.groupby('game_date').release_speed.agg(np.mean)\n",
    "group2015_2 = data2015.groupby('game_date').release_spin_rate.agg(np.mean)\n",
    "\n",
    "group2015 = pd.concat([group2015_1, group2015_2], axis=1)\n",
    "group2015 = pd.DataFrame(group2015)\n",
    "\n",
    "mother2015 = group2015.iloc[35]\n",
    "all2015dr = group2015.drop(\"2015-05-10\")\n",
    "all2015 = np.mean(all2015dr, axis=0)"
   ]
  },
  {
   "cell_type": "code",
   "execution_count": 198,
   "metadata": {},
   "outputs": [
    {
     "data": {
      "text/plain": [
       "release_speed          88.892229\n",
       "release_spin_rate    2132.008439\n",
       "dtype: float64"
      ]
     },
     "execution_count": 198,
     "metadata": {},
     "output_type": "execute_result"
    }
   ],
   "source": [
    "all2015"
   ]
  },
  {
   "cell_type": "markdown",
   "metadata": {},
   "source": [
    "## 연평균 vs 어머니날"
   ]
  },
  {
   "cell_type": "code",
   "execution_count": 199,
   "metadata": {},
   "outputs": [
    {
     "data": {
      "text/plain": [
       "release_speed          88.662623\n",
       "release_spin_rate    2120.547041\n",
       "release_speed          88.892229\n",
       "release_spin_rate    2132.008439\n",
       "dtype: float64"
      ]
     },
     "execution_count": 199,
     "metadata": {},
     "output_type": "execute_result"
    }
   ],
   "source": [
    "pd.concat([mother2015, all2015], axis=0)"
   ]
  },
  {
   "cell_type": "code",
   "execution_count": 200,
   "metadata": {},
   "outputs": [],
   "source": [
    "a15 = list([mother2015[0], all2015[0], mother2015[1], all2015[1]])\n",
    "a16 = list([mother2016[0], all2016[0], mother2016[1], all2016[1]])\n",
    "a17 = list([mother2017[0], all2017[0], mother2017[1], all2017[1]])\n",
    "a18 = list([mother2018[0], all2018[0], mother2018[1], all2018[1]])\n",
    "\n",
    "all = pd.DataFrame([a15, a16, a17, a18])"
   ]
  },
  {
   "cell_type": "code",
   "execution_count": 201,
   "metadata": {
    "scrolled": true
   },
   "outputs": [
    {
     "data": {
      "text/html": [
       "<div>\n",
       "<style scoped>\n",
       "    .dataframe tbody tr th:only-of-type {\n",
       "        vertical-align: middle;\n",
       "    }\n",
       "\n",
       "    .dataframe tbody tr th {\n",
       "        vertical-align: top;\n",
       "    }\n",
       "\n",
       "    .dataframe thead th {\n",
       "        text-align: right;\n",
       "    }\n",
       "</style>\n",
       "<table border=\"1\" class=\"dataframe\">\n",
       "  <thead>\n",
       "    <tr style=\"text-align: right;\">\n",
       "      <th></th>\n",
       "      <th>어머니날 구속</th>\n",
       "      <th>연평균 구속</th>\n",
       "      <th>어머니날 회전수</th>\n",
       "      <th>연평균 회전수</th>\n",
       "    </tr>\n",
       "  </thead>\n",
       "  <tbody>\n",
       "    <tr>\n",
       "      <th>2015년</th>\n",
       "      <td>88.7 MPH</td>\n",
       "      <td>88.9 MPH</td>\n",
       "      <td>2121 RPM</td>\n",
       "      <td>2132 RPM</td>\n",
       "    </tr>\n",
       "    <tr>\n",
       "      <th>2016년</th>\n",
       "      <td>88.3 MPH</td>\n",
       "      <td>88.8 MPH</td>\n",
       "      <td>2177 RPM</td>\n",
       "      <td>2213 RPM</td>\n",
       "    </tr>\n",
       "    <tr>\n",
       "      <th>2017년</th>\n",
       "      <td>88.5 MPH</td>\n",
       "      <td>88.7 MPH</td>\n",
       "      <td>2218 RPM</td>\n",
       "      <td>2233 RPM</td>\n",
       "    </tr>\n",
       "    <tr>\n",
       "      <th>2018년</th>\n",
       "      <td>88.1 MPH</td>\n",
       "      <td>88.7 MPH</td>\n",
       "      <td>2207 RPM</td>\n",
       "      <td>2238 RPM</td>\n",
       "    </tr>\n",
       "  </tbody>\n",
       "</table>\n",
       "</div>"
      ],
      "text/plain": [
       "        어머니날 구속    연평균 구속  어머니날 회전수   연평균 회전수\n",
       "2015년  88.7 MPH  88.9 MPH  2121 RPM  2132 RPM\n",
       "2016년  88.3 MPH  88.8 MPH  2177 RPM  2213 RPM\n",
       "2017년  88.5 MPH  88.7 MPH  2218 RPM  2233 RPM\n",
       "2018년  88.1 MPH  88.7 MPH  2207 RPM  2238 RPM"
      ]
     },
     "execution_count": 201,
     "metadata": {},
     "output_type": "execute_result"
    }
   ],
   "source": [
    "all.columns = [\"어머니날 구속\", \"연평균 구속\", \"어머니날 회전수\", \"연평균 회전수\"]\n",
    "all.index = [\"2015년\", \"2016년\", \"2017년\", \"2018년\"]\n",
    "all['어머니날 구속'] = round(all['어머니날 구속'], 1)\n",
    "all['연평균 구속'] = round(all['연평균 구속'], 1)\n",
    "all['어머니날 회전수'] = round(all['어머니날 회전수'])\n",
    "all['연평균 회전수'] = round(all['연평균 회전수'])\n",
    "\n",
    "\n",
    "\n",
    "def plu(x):\n",
    "    y = x + \" MPH\"\n",
    "    return y\n",
    "\n",
    "all['어머니날 구속'] = list(map(str, all['어머니날 구속']))\n",
    "all['어머니날 구속'] = list(map(plu, all['어머니날 구속']))\n",
    "all['연평균 구속'] = list(map(str, all['연평균 구속']))\n",
    "all['연평균 구속'] = list(map(plu, all['연평균 구속']))\n",
    "\n",
    "def plu(x):\n",
    "    y = x + \" RPM\"\n",
    "    return y\n",
    "\n",
    "all['어머니날 회전수'] = list(map(int, all['어머니날 회전수']))\n",
    "all['어머니날 회전수'] = list(map(str, all['어머니날 회전수']))\n",
    "all['어머니날 회전수'] = list(map(plu, all['어머니날 회전수']))\n",
    "all['연평균 회전수'] = list(map(int, all['연평균 회전수']))\n",
    "all['연평균 회전수'] = list(map(str, all['연평균 회전수']))\n",
    "all['연평균 회전수'] = list(map(plu, all['연평균 회전수']))\n",
    "\n",
    "all"
   ]
  },
  {
   "cell_type": "markdown",
   "metadata": {},
   "source": [
    "## 분포 확인"
   ]
  },
  {
   "cell_type": "code",
   "execution_count": 202,
   "metadata": {},
   "outputs": [],
   "source": [
    "import matplotlib.pyplot as plt"
   ]
  },
  {
   "cell_type": "code",
   "execution_count": 257,
   "metadata": {},
   "outputs": [
    {
     "data": {
      "image/png": "[encoded data removed]",
      "text/plain": [
       "<Figure size 432x288 with 4 Axes>"
      ]
     },
     "metadata": {},
     "output_type": "display_data"
    }
   ],
   "source": [
    "plt.style.use('ggplot')\n",
    "\n",
    "alldr = [all2015dr, all2016dr, all2017dr, all2018dr]\n",
    "\n",
    "for i, alldr in enumerate(alldr, 2015):\n",
    "    \n",
    "    ax = plt.subplot(2, 2, i - 2014)\n",
    "    ax.hist(alldr[\"release_speed\"], bins=30)\n",
    "    ax.set_xlabel(\"{}년\".format(i), size=15)\n",
    "\n",
    "plt.suptitle(\"구속(MPH)\", size=20, y=1.1)\n",
    "plt.tight_layout()"
   ]
  },
  {
   "cell_type": "code",
   "execution_count": 258,
   "metadata": {},
   "outputs": [
    {
     "data": {
      "image/png": "[encoded data removed]",
      "text/plain": [
       "<Figure size 432x288 with 4 Axes>"
      ]
     },
     "metadata": {},
     "output_type": "display_data"
    }
   ],
   "source": [
    "alldr = [all2015dr, all2016dr, all2017dr, all2018dr]\n",
    "\n",
    "for i, alldr in enumerate(alldr, 2015):\n",
    "    \n",
    "    ax = plt.subplot(2, 2, i - 2014)\n",
    "    ax.hist(alldr[\"release_spin_rate\"], bins=30)\n",
    "    ax.set_xlabel(\"{}년\".format(i), size=15)\n",
    "\n",
    "plt.suptitle(\"회전수(RPM)\", size=20, y=1.1)\n",
    "plt.tight_layout()"
   ]
  },
  {
   "cell_type": "markdown",
   "metadata": {},
   "source": [
    "## 정규성 검정"
   ]
  },
  {
   "cell_type": "code",
   "execution_count": 262,
   "metadata": {},
   "outputs": [],
   "source": [
    "from scipy import stats"
   ]
  },
  {
   "cell_type": "code",
   "execution_count": 305,
   "metadata": {},
   "outputs": [
    {
     "name": "stdout",
     "output_type": "stream",
     "text": [
      "2015년도 구속/회전수 정규성 검정 결과\n",
      "NormaltestResult(statistic=94.32438599243719, pvalue=3.29397142434757e-21)\n",
      "NormaltestResult(statistic=23.159012119666773, pvalue=9.355875092703978e-06)\n",
      "2016년도 구속/회전수 정규성 검정 결과\n",
      "NormaltestResult(statistic=21.523400769514634, pvalue=2.1195951007122894e-05)\n",
      "NormaltestResult(statistic=116.40400848623821, pvalue=5.286773707881502e-26)\n",
      "2017년도 구속/회전수 정규성 검정 결과\n",
      "NormaltestResult(statistic=104.00671266427987, pvalue=2.6015327920488533e-23)\n",
      "NormaltestResult(statistic=162.81906765712864, pvalue=4.408478061931879e-36)\n",
      "2018년도 구속/회전수 정규성 검정 결과\n",
      "NormaltestResult(statistic=125.37470849387708, pvalue=5.959748945159969e-28)\n",
      "NormaltestResult(statistic=83.39022435403754, pvalue=7.799070733505203e-19)\n"
     ]
    }
   ],
   "source": [
    "alldr = [all2015dr, all2016dr, all2017dr, all2018dr]\n",
    "\n",
    "for i, alldr in enumerate(alldr, 2015):\n",
    "    \n",
    "    print(\"{}년도 구속/회전수 정규성 검정 결과\".format(i))\n",
    "    print(stats.normaltest(alldr[\"release_speed\"]))\n",
    "    print(stats.normaltest(alldr[\"release_spin_rate\"]))"
   ]
  },
  {
   "cell_type": "markdown",
   "metadata": {},
   "source": [
    "## t-검정(정규성 충족, 모분산 X)"
   ]
  },
  {
   "cell_type": "code",
   "execution_count": 288,
   "metadata": {},
   "outputs": [
    {
     "name": "stdout",
     "output_type": "stream",
     "text": [
      "Ttest_1sampResult(statistic=13.226782796388, pvalue=3.014287261811718e-29)\n",
      "Ttest_1sampResult(statistic=9.498518052174248, pvalue=5.9712623654270085e-18)\n"
     ]
    }
   ],
   "source": [
    "print(stats.ttest_1samp(list(all2018dr[\"release_speed\"]), popmean=mother2018[0]))\n",
    "print(stats.ttest_1samp(list(all2018dr[\"release_spin_rate\"]), popmean=mother2018[1]))"
   ]
  },
  {
   "cell_type": "code",
   "execution_count": 289,
   "metadata": {},
   "outputs": [
    {
     "name": "stdout",
     "output_type": "stream",
     "text": [
      "Ttest_1sampResult(statistic=4.26500304654406, pvalue=3.0690808522748094e-05)\n",
      "Ttest_1sampResult(statistic=3.948820335160709, pvalue=0.00010844313037112083)\n"
     ]
    }
   ],
   "source": [
    "print(stats.ttest_1samp(list(all2017dr[\"release_speed\"]), popmean=mother2017[0]))\n",
    "print(stats.ttest_1samp(list(all2017dr[\"release_spin_rate\"]), popmean=mother2017[1]))"
   ]
  },
  {
   "cell_type": "code",
   "execution_count": 290,
   "metadata": {},
   "outputs": [
    {
     "name": "stdout",
     "output_type": "stream",
     "text": [
      "Ttest_1sampResult(statistic=11.542554199986922, pvalue=5.635312722628276e-24)\n",
      "Ttest_1sampResult(statistic=9.741220300892547, pvalue=1.3023917784772447e-18)\n"
     ]
    }
   ],
   "source": [
    "print(stats.ttest_1samp(list(all2016dr[\"release_speed\"]), popmean=mother2016[0]))\n",
    "print(stats.ttest_1samp(list(all2016dr[\"release_spin_rate\"]), popmean=mother2016[1]))"
   ]
  },
  {
   "cell_type": "code",
   "execution_count": 291,
   "metadata": {},
   "outputs": [
    {
     "name": "stdout",
     "output_type": "stream",
     "text": [
      "Ttest_1sampResult(statistic=4.50403538166525, pvalue=1.1350235870620996e-05)\n",
      "Ttest_1sampResult(statistic=4.844781882796909, pvalue=2.5445844523491043e-06)\n"
     ]
    }
   ],
   "source": [
    "print(stats.ttest_1samp(list(all2015dr[\"release_speed\"]), popmean=mother2015[0]))\n",
    "print(stats.ttest_1samp(list(all2015dr[\"release_spin_rate\"]), popmean=mother2015[1]))"
   ]
  },
  {
   "cell_type": "markdown",
   "metadata": {},
   "source": [
    "## 대응 표본 t-검정(선수 개개인에 대하여)"
   ]
  },
  {
   "cell_type": "markdown",
   "metadata": {},
   "source": [
    "### 선수 이름별로 대응 시킴"
   ]
  },
  {
   "cell_type": "code",
   "execution_count": 357,
   "metadata": {},
   "outputs": [],
   "source": [
    "name_all2018 = data2018[data2018.game_date != \"2018-05-13\"]\n",
    "name_all2017 = data2017[data2017.game_date != \"2017-05-14\"]\n",
    "name_all2016 = data2016[data2016.game_date != \"2016-05-08\"]\n",
    "name_all2015 = data2015[data2015.game_date != \"2015-05-10\"]\n",
    "\n",
    "name_all2018_1 = pd.DataFrame(name_all2018.groupby('player_name').release_speed.agg(np.mean))\n",
    "name_all2018_2 = pd.DataFrame(name_all2018.groupby('player_name').release_spin_rate.agg(np.mean))\n",
    "name_all2017_1 = pd.DataFrame(name_all2017.groupby('player_name').release_speed.agg(np.mean))\n",
    "name_all2017_2 = pd.DataFrame(name_all2017.groupby('player_name').release_spin_rate.agg(np.mean))\n",
    "name_all2016_1 = pd.DataFrame(name_all2016.groupby('player_name').release_speed.agg(np.mean))\n",
    "name_all2016_2 = pd.DataFrame(name_all2016.groupby('player_name').release_spin_rate.agg(np.mean))\n",
    "name_all2015_1 = pd.DataFrame(name_all2015.groupby('player_name').release_speed.agg(np.mean))\n",
    "name_all2015_2 = pd.DataFrame(name_all2015.groupby('player_name').release_spin_rate.agg(np.mean))\n",
    "\n",
    "name_mo2018 = data2018[data2018.game_date == \"2018-05-13\"]\n",
    "name_mo2017 = data2017[data2017.game_date == \"2017-05-14\"]\n",
    "name_mo2016 = data2016[data2016.game_date == \"2016-05-08\"]\n",
    "name_mo2015 = data2015[data2015.game_date == \"2015-05-10\"]\n",
    "\n",
    "name_mo2018_1 = pd.DataFrame(name_mo2018.groupby('player_name').release_speed.agg(np.mean))\n",
    "name_mo2018_2 = pd.DataFrame(name_mo2018.groupby('player_name').release_spin_rate.agg(np.mean))\n",
    "name_mo2017_1 = pd.DataFrame(name_mo2017.groupby('player_name').release_speed.agg(np.mean))\n",
    "name_mo2017_2 = pd.DataFrame(name_mo2017.groupby('player_name').release_spin_rate.agg(np.mean))\n",
    "name_mo2016_1 = pd.DataFrame(name_mo2016.groupby('player_name').release_speed.agg(np.mean))\n",
    "name_mo2016_2 = pd.DataFrame(name_mo2016.groupby('player_name').release_spin_rate.agg(np.mean))\n",
    "name_mo2015_1 = pd.DataFrame(name_mo2015.groupby('player_name').release_speed.agg(np.mean))\n",
    "name_mo2015_2 = pd.DataFrame(name_mo2015.groupby('player_name').release_spin_rate.agg(np.mean))"
   ]
  },
  {
   "cell_type": "code",
   "execution_count": 358,
   "metadata": {
    "scrolled": true
   },
   "outputs": [
    {
     "data": {
      "text/plain": [
       "123"
      ]
     },
     "execution_count": 358,
     "metadata": {},
     "output_type": "execute_result"
    }
   ],
   "source": [
    "len(name_mo2018_1)"
   ]
  },
  {
   "cell_type": "markdown",
   "metadata": {},
   "source": [
    "### 인덱스 기준으로 Inner Join"
   ]
  },
  {
   "cell_type": "code",
   "execution_count": 359,
   "metadata": {},
   "outputs": [],
   "source": [
    "player2018_1 = pd.merge(name_mo2018_1, name_all2018_1, left_index=True, right_index=True, how='inner')\n",
    "player2018_2 = pd.merge(name_mo2018_2, name_all2018_2, left_index=True, right_index=True, how='inner')\n",
    "player2017_1 = pd.merge(name_mo2017_1, name_all2017_1, left_index=True, right_index=True, how='inner')\n",
    "player2017_2 = pd.merge(name_mo2017_2, name_all2017_2, left_index=True, right_index=True, how='inner')\n",
    "player2016_1 = pd.merge(name_mo2016_1, name_all2016_1, left_index=True, right_index=True, how='inner')\n",
    "player2016_2 = pd.merge(name_mo2016_2, name_all2016_2, left_index=True, right_index=True, how='inner')\n",
    "player2015_1 = pd.merge(name_mo2015_1, name_all2015_1, left_index=True, right_index=True, how='inner')\n",
    "player2015_2 = pd.merge(name_mo2015_2, name_all2015_2, left_index=True, right_index=True, how='inner')"
   ]
  },
  {
   "cell_type": "code",
   "execution_count": 362,
   "metadata": {
    "scrolled": true
   },
   "outputs": [
    {
     "name": "stdout",
     "output_type": "stream",
     "text": [
      "Ttest_relResult(statistic=-0.09854762275705924, pvalue=0.9216605280324643)\n",
      "Ttest_relResult(statistic=0.3908489616884136, pvalue=0.6964597782135762)\n",
      "Ttest_relResult(statistic=-0.6802631886775967, pvalue=0.4976059703909529)\n",
      "Ttest_relResult(statistic=-1.4110097444939576, pvalue=0.1609180726957033)\n",
      "Ttest_relResult(statistic=-0.2323450228748553, pvalue=0.8166625716366469)\n",
      "Ttest_relResult(statistic=-0.9656911360888933, pvalue=0.3357428307053011)\n",
      "Ttest_relResult(statistic=-2.890997967588928, pvalue=0.004535623351272164)\n",
      "Ttest_relResult(statistic=-1.9531712855976717, pvalue=0.05320748240265309)\n"
     ]
    }
   ],
   "source": [
    "print(stats.ttest_rel(player2018_1.release_speed_x, player2018_1.release_speed_y))\n",
    "print(stats.ttest_rel(player2017_1.release_speed_x, player2017_1.release_speed_y))\n",
    "print(stats.ttest_rel(player2016_1.release_speed_x, player2016_1.release_speed_y))\n",
    "print(stats.ttest_rel(player2015_1.release_speed_x, player2015_1.release_speed_y))\n",
    "\n",
    "print(stats.ttest_rel(player2018_2.release_spin_rate_x, player2018_2.release_spin_rate_y))\n",
    "print(stats.ttest_rel(player2017_2.release_spin_rate_x, player2017_2.release_spin_rate_y))\n",
    "print(stats.ttest_rel(player2016_2.release_spin_rate_x, player2016_2.release_spin_rate_y))\n",
    "print(stats.ttest_rel(player2015_2.release_spin_rate_x, player2015_2.release_spin_rate_y))"
   ]
  },
  {
   "cell_type": "code",
   "execution_count": null,
   "metadata": {},
   "outputs": [],
   "source": [
    "\n"
   ]
  }
 ],
 "metadata": {
  "kernelspec": {
   "display_name": "Python 3",
   "language": "python",
   "name": "python3"
  },
  "language_info": {
   "codemirror_mode": {
    "name": "ipython",
    "version": 3
   },
   "file_extension": ".py",
   "mimetype": "text/x-python",
   "name": "python",
   "nbconvert_exporter": "python",
   "pygments_lexer": "ipython3",
   "version": "3.7.1"
  }
 },
 "nbformat": 4,
 "nbformat_minor": 2
}
