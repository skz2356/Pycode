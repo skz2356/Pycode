{
 "cells": [
  {
   "cell_type": "markdown",
   "metadata": {},
   "source": [
    "># 어머니날 - 분홍색을 보고 선수들의 운동 능력이 떨어질까?"
   ]
  },
  {
   "cell_type": "markdown",
   "metadata": {},
   "source": [
    "## Statcast Data 준비"
   ]
  },
  {
   "cell_type": "markdown",
   "metadata": {},
   "source": [
    "- 2018년도는 종전의 데이터 이용"
   ]
  },
  {
   "cell_type": "code",
   "execution_count": 4,
   "metadata": {},
   "outputs": [],
   "source": [
    "from pybaseball import statcast\n",
    "import pandas as pd"
   ]
  },
  {
   "cell_type": "code",
   "execution_count": 9,
   "metadata": {},
   "outputs": [],
   "source": [
    "dt2017 = pd.date_range(\"20170101\", periods = 365)\n",
    "dt2016 = pd.date_range(\"20160101\", periods = 365)\n",
    "dt2015 = pd.date_range(\"20150101\", periods = 365)"
   ]
  },
  {
   "cell_type": "markdown",
   "metadata": {},
   "source": [
    "## strftime() 날짜와 시간을 str로 변경"
   ]
  },
  {
   "cell_type": "code",
   "execution_count": 15,
   "metadata": {},
   "outputs": [],
   "source": [
    "import datetime\n",
    "\n",
    "dt2017_st = dt2017.strftime('%Y-%m-%d')\n",
    "dt2016_st = dt2016.strftime('%Y-%m-%d')\n",
    "dt2015_st = dt2015.strftime('%Y-%m-%d')\n",
    "\n",
    "dt2017_list = list(dt2017_st)\n",
    "dt2016_list = list(dt2016_st)\n",
    "dt2015_list = list(dt2015_st)"
   ]
  },
  {
   "cell_type": "markdown",
   "metadata": {},
   "source": [
    "## 날짜별로 데이터 다운"
   ]
  },
  {
   "cell_type": "markdown",
   "metadata": {},
   "source": [
    "### 2017"
   ]
  },
  {
   "cell_type": "code",
   "execution_count": 16,
   "metadata": {},
   "outputs": [],
   "source": [
    "for i in dt2017_list:\n",
    "    data = []\n",
    "    data = statcast(i, i)\n",
    "    del data['index']\n",
    "    data.to_csv('D://statcast//savant_{}{}{}.csv'.format(i[:4], i[5:7], i[8:10]), index = False)"
   ]
  },
  {
   "cell_type": "code",
   "execution_count": 21,
   "metadata": {},
   "outputs": [
    {
     "name": "stdout",
     "output_type": "stream",
     "text": [
      "20170130 merged\n",
      "20170301 merged\n",
      "20170331 merged\n",
      "20170430 merged\n",
      "20170530 merged\n",
      "20170629 merged\n",
      "20170729 merged\n",
      "20170828 merged\n",
      "20170927 merged\n",
      "20171027 merged\n",
      "20171126 merged\n",
      "20171226 merged\n",
      "done.\n"
     ]
    }
   ],
   "source": [
    "j = 1\n",
    "\n",
    "for i in dt2017_list:\n",
    "    \n",
    "    if i == dt2017_list[0]:\n",
    "        data2017 = pd.read_csv('D://statcast//savant_{}{}{}.csv'.format(i[:4], i[5:7], i[8:10]))\n",
    "        continue\n",
    "    else:\n",
    "        da = pd.read_csv('D://statcast//savant_{}{}{}.csv'.format(i[:4], i[5:7], i[8:10]))\n",
    "        data2017 = pd.concat([data2017, da])\n",
    "\n",
    "    j += 1\n",
    "    \n",
    "    if j == len(dt2017_list):\n",
    "        print('done.')\n",
    "        \n",
    "    elif j % 30 == 0:\n",
    "        print('{}{}{} merged'.format(i[:4], i[5:7], i[8:10]))   "
   ]
  },
  {
   "cell_type": "code",
   "execution_count": 22,
   "metadata": {},
   "outputs": [],
   "source": [
    "data2017.to_csv('D://statcast//savant2017.csv', index = False)"
   ]
  },
  {
   "cell_type": "markdown",
   "metadata": {},
   "source": [
    "### 2016"
   ]
  },
  {
   "cell_type": "code",
   "execution_count": 18,
   "metadata": {},
   "outputs": [],
   "source": [
    "for i in dt2016_list:\n",
    "    data = []\n",
    "    data = statcast(i, i)\n",
    "    del data['index']\n",
    "    data.to_csv('D://statcast//savant_{}{}{}.csv'.format(i[:4], i[5:7], i[8:10]), index = False)"
   ]
  },
  {
   "cell_type": "code",
   "execution_count": 23,
   "metadata": {},
   "outputs": [
    {
     "name": "stdout",
     "output_type": "stream",
     "text": [
      "20160130 merged\n",
      "20160229 merged\n",
      "20160330 merged\n",
      "20160429 merged\n",
      "20160529 merged\n",
      "20160628 merged\n",
      "20160728 merged\n",
      "20160827 merged\n",
      "20160926 merged\n",
      "20161026 merged\n",
      "20161125 merged\n",
      "20161225 merged\n",
      "done.\n"
     ]
    }
   ],
   "source": [
    "j = 1\n",
    "\n",
    "for i in dt2016_list:\n",
    "    \n",
    "    if i == dt2016_list[0]:\n",
    "        data2016 = pd.read_csv('D://statcast//savant_{}{}{}.csv'.format(i[:4], i[5:7], i[8:10]))\n",
    "        continue\n",
    "    else:\n",
    "        da = pd.read_csv('D://statcast//savant_{}{}{}.csv'.format(i[:4], i[5:7], i[8:10]))\n",
    "        data2016 = pd.concat([data2016, da])\n",
    "\n",
    "    j += 1\n",
    "    \n",
    "    if j == len(dt2016_list):\n",
    "        print('done.')\n",
    "        \n",
    "    elif j % 30 == 0:\n",
    "        print('{}{}{} merged'.format(i[:4], i[5:7], i[8:10]))  "
   ]
  },
  {
   "cell_type": "code",
   "execution_count": 24,
   "metadata": {},
   "outputs": [],
   "source": [
    "data2016.to_csv('D://statcast//savant2016.csv', index = False)"
   ]
  },
  {
   "cell_type": "markdown",
   "metadata": {},
   "source": [
    "### 2015"
   ]
  },
  {
   "cell_type": "code",
   "execution_count": 33,
   "metadata": {},
   "outputs": [],
   "source": [
    "for i in dt2015_list:\n",
    "    data = []\n",
    "    data = statcast(i, i)\n",
    "    del data['index']\n",
    "    data.to_csv('D://statcast//savant_{}{}{}.csv'.format(i[:4], i[5:7], i[8:10]), index = False)"
   ]
  },
  {
   "cell_type": "code",
   "execution_count": 34,
   "metadata": {},
   "outputs": [
    {
     "name": "stdout",
     "output_type": "stream",
     "text": [
      "20150130 merged\n",
      "20150301 merged\n",
      "20150331 merged\n",
      "20150430 merged\n",
      "20150530 merged\n",
      "20150629 merged\n",
      "20150729 merged\n",
      "20150828 merged\n",
      "20150927 merged\n",
      "20151027 merged\n",
      "20151126 merged\n",
      "20151226 merged\n",
      "done.\n"
     ]
    }
   ],
   "source": [
    "j = 1\n",
    "\n",
    "for i in dt2015_list:\n",
    "    \n",
    "    if i == dt2015_list[0]:\n",
    "        data2015 = pd.read_csv('D://statcast//savant_{}{}{}.csv'.format(i[:4], i[5:7], i[8:10]))\n",
    "        continue\n",
    "    else:\n",
    "        da = pd.read_csv('D://statcast//savant_{}{}{}.csv'.format(i[:4], i[5:7], i[8:10]))\n",
    "        data2015 = pd.concat([data2015, da])\n",
    "\n",
    "    j += 1\n",
    "    \n",
    "    if j == len(dt2015_list):\n",
    "        print('done.')\n",
    "        \n",
    "    elif j % 30 == 0:\n",
    "        print('{}{}{} merged'.format(i[:4], i[5:7], i[8:10]))  "
   ]
  },
  {
   "cell_type": "code",
   "execution_count": 35,
   "metadata": {},
   "outputs": [],
   "source": [
    "data2015.to_csv('D://statcast//savant2015.csv', index = False)"
   ]
  },
  {
   "cell_type": "markdown",
   "metadata": {},
   "source": [
    "## 데이터 확인"
   ]
  },
  {
   "cell_type": "code",
   "execution_count": 25,
   "metadata": {
    "scrolled": true
   },
   "outputs": [
    {
     "name": "stderr",
     "output_type": "stream",
     "text": [
      "C:\\Users\\JH\\Anaconda3\\lib\\site-packages\\IPython\\core\\interactiveshell.py:3020: DtypeWarning: Columns (43) have mixed types. Specify dtype option on import or set low_memory=False.\n",
      "  interactivity=interactivity, compiler=compiler, result=result)\n"
     ]
    }
   ],
   "source": [
    "import pandas as pd\n",
    "\n",
    "data2018 = pd.read_csv('D://statcast//savant2018.csv')\n",
    "data2018 = data2018[data2018.game_date < \"2018-10-02\"]\n",
    "#data2018 = data2018[(data2018.game_date < \"2018-10-02\") & (data2018.pitch_type == \"CU\")]\n",
    "\n",
    "data2017 = pd.read_csv('D://statcast//savant2017.csv')\n",
    "data2017 = data2017[data2017.game_date < \"2017-10-03\"]\n",
    "#data2017 = data2017[(data2017.game_date < \"2017-10-03\") & (data2017.pitch_type == \"CU\")]\n",
    "\n",
    "data2016 = pd.read_csv('D://statcast//savant2016.csv')\n",
    "data2016 = data2016[data2016.game_date < \"2016-10-04\"]\n",
    "#data2016 = data2016[(data2016.game_date < \"2016-10-04\") & (data2016.pitch_type == \"CU\")]\n",
    "\n",
    "data2015 = pd.read_csv('D://statcast//savant2015.csv')\n",
    "data2015 = data2015[data2015.game_date < \"2015-10-06\"]\n",
    "#data2015 = data2015[(data2015.game_date < \"2015-10-06\") & (data2015.pitch_type == \"CU\")]"
   ]
  },
  {
   "cell_type": "code",
   "execution_count": 26,
   "metadata": {},
   "outputs": [
    {
     "name": "stdout",
     "output_type": "stream",
     "text": [
      "721190 721243 715823 702302\n"
     ]
    }
   ],
   "source": [
    "print(len(data2018), len(data2017), len(data2016), len(data2015))"
   ]
  },
  {
   "cell_type": "code",
   "execution_count": 27,
   "metadata": {},
   "outputs": [
    {
     "data": {
      "text/html": [
       "<div>\n",
       "<style scoped>\n",
       "    .dataframe tbody tr th:only-of-type {\n",
       "        vertical-align: middle;\n",
       "    }\n",
       "\n",
       "    .dataframe tbody tr th {\n",
       "        vertical-align: top;\n",
       "    }\n",
       "\n",
       "    .dataframe thead th {\n",
       "        text-align: right;\n",
       "    }\n",
       "</style>\n",
       "<table border=\"1\" class=\"dataframe\">\n",
       "  <thead>\n",
       "    <tr style=\"text-align: right;\">\n",
       "      <th></th>\n",
       "      <th>pitch_type</th>\n",
       "      <th>game_date</th>\n",
       "      <th>release_speed</th>\n",
       "      <th>release_pos_x</th>\n",
       "      <th>release_pos_z</th>\n",
       "      <th>player_name</th>\n",
       "      <th>batter</th>\n",
       "      <th>pitcher</th>\n",
       "      <th>events</th>\n",
       "      <th>description</th>\n",
       "      <th>...</th>\n",
       "      <th>home_score</th>\n",
       "      <th>away_score</th>\n",
       "      <th>bat_score</th>\n",
       "      <th>fld_score</th>\n",
       "      <th>post_away_score</th>\n",
       "      <th>post_home_score</th>\n",
       "      <th>post_bat_score</th>\n",
       "      <th>post_fld_score</th>\n",
       "      <th>if_fielding_alignment</th>\n",
       "      <th>of_fielding_alignment</th>\n",
       "    </tr>\n",
       "  </thead>\n",
       "  <tbody>\n",
       "    <tr>\n",
       "      <th>0</th>\n",
       "      <td>SI</td>\n",
       "      <td>2018-03-29</td>\n",
       "      <td>96.7</td>\n",
       "      <td>-1.3857</td>\n",
       "      <td>6.1136</td>\n",
       "      <td>Jeurys Familia</td>\n",
       "      <td>657557.0</td>\n",
       "      <td>544727.0</td>\n",
       "      <td>field_out</td>\n",
       "      <td>hit_into_play</td>\n",
       "      <td>...</td>\n",
       "      <td>9.0</td>\n",
       "      <td>4.0</td>\n",
       "      <td>4.0</td>\n",
       "      <td>9.0</td>\n",
       "      <td>4.0</td>\n",
       "      <td>9.0</td>\n",
       "      <td>4.0</td>\n",
       "      <td>9.0</td>\n",
       "      <td>Standard</td>\n",
       "      <td>Standard</td>\n",
       "    </tr>\n",
       "    <tr>\n",
       "      <th>1</th>\n",
       "      <td>SI</td>\n",
       "      <td>2018-03-29</td>\n",
       "      <td>96.0</td>\n",
       "      <td>-1.3302</td>\n",
       "      <td>6.1877</td>\n",
       "      <td>Jeurys Familia</td>\n",
       "      <td>657557.0</td>\n",
       "      <td>544727.0</td>\n",
       "      <td>NaN</td>\n",
       "      <td>blocked_ball</td>\n",
       "      <td>...</td>\n",
       "      <td>9.0</td>\n",
       "      <td>4.0</td>\n",
       "      <td>4.0</td>\n",
       "      <td>9.0</td>\n",
       "      <td>4.0</td>\n",
       "      <td>9.0</td>\n",
       "      <td>4.0</td>\n",
       "      <td>9.0</td>\n",
       "      <td>Standard</td>\n",
       "      <td>Standard</td>\n",
       "    </tr>\n",
       "    <tr>\n",
       "      <th>2</th>\n",
       "      <td>FF</td>\n",
       "      <td>2018-03-29</td>\n",
       "      <td>98.1</td>\n",
       "      <td>-1.3381</td>\n",
       "      <td>5.9711</td>\n",
       "      <td>Jeurys Familia</td>\n",
       "      <td>425877.0</td>\n",
       "      <td>544727.0</td>\n",
       "      <td>walk</td>\n",
       "      <td>ball</td>\n",
       "      <td>...</td>\n",
       "      <td>9.0</td>\n",
       "      <td>4.0</td>\n",
       "      <td>4.0</td>\n",
       "      <td>9.0</td>\n",
       "      <td>4.0</td>\n",
       "      <td>9.0</td>\n",
       "      <td>4.0</td>\n",
       "      <td>9.0</td>\n",
       "      <td>Strategic</td>\n",
       "      <td>Standard</td>\n",
       "    </tr>\n",
       "    <tr>\n",
       "      <th>3</th>\n",
       "      <td>FF</td>\n",
       "      <td>2018-03-29</td>\n",
       "      <td>97.4</td>\n",
       "      <td>-1.1546</td>\n",
       "      <td>5.9254</td>\n",
       "      <td>Jeurys Familia</td>\n",
       "      <td>425877.0</td>\n",
       "      <td>544727.0</td>\n",
       "      <td>NaN</td>\n",
       "      <td>ball</td>\n",
       "      <td>...</td>\n",
       "      <td>9.0</td>\n",
       "      <td>4.0</td>\n",
       "      <td>4.0</td>\n",
       "      <td>9.0</td>\n",
       "      <td>4.0</td>\n",
       "      <td>9.0</td>\n",
       "      <td>4.0</td>\n",
       "      <td>9.0</td>\n",
       "      <td>Standard</td>\n",
       "      <td>Standard</td>\n",
       "    </tr>\n",
       "    <tr>\n",
       "      <th>4</th>\n",
       "      <td>FF</td>\n",
       "      <td>2018-03-29</td>\n",
       "      <td>97.1</td>\n",
       "      <td>-1.1802</td>\n",
       "      <td>6.0784</td>\n",
       "      <td>Jeurys Familia</td>\n",
       "      <td>425877.0</td>\n",
       "      <td>544727.0</td>\n",
       "      <td>NaN</td>\n",
       "      <td>ball</td>\n",
       "      <td>...</td>\n",
       "      <td>9.0</td>\n",
       "      <td>4.0</td>\n",
       "      <td>4.0</td>\n",
       "      <td>9.0</td>\n",
       "      <td>4.0</td>\n",
       "      <td>9.0</td>\n",
       "      <td>4.0</td>\n",
       "      <td>9.0</td>\n",
       "      <td>Standard</td>\n",
       "      <td>Standard</td>\n",
       "    </tr>\n",
       "  </tbody>\n",
       "</table>\n",
       "<p>5 rows × 89 columns</p>\n",
       "</div>"
      ],
      "text/plain": [
       "  pitch_type   game_date  release_speed  release_pos_x  release_pos_z  \\\n",
       "0         SI  2018-03-29           96.7        -1.3857         6.1136   \n",
       "1         SI  2018-03-29           96.0        -1.3302         6.1877   \n",
       "2         FF  2018-03-29           98.1        -1.3381         5.9711   \n",
       "3         FF  2018-03-29           97.4        -1.1546         5.9254   \n",
       "4         FF  2018-03-29           97.1        -1.1802         6.0784   \n",
       "\n",
       "      player_name    batter   pitcher     events    description  \\\n",
       "0  Jeurys Familia  657557.0  544727.0  field_out  hit_into_play   \n",
       "1  Jeurys Familia  657557.0  544727.0        NaN   blocked_ball   \n",
       "2  Jeurys Familia  425877.0  544727.0       walk           ball   \n",
       "3  Jeurys Familia  425877.0  544727.0        NaN           ball   \n",
       "4  Jeurys Familia  425877.0  544727.0        NaN           ball   \n",
       "\n",
       "           ...           home_score  away_score  bat_score  fld_score  \\\n",
       "0          ...                  9.0         4.0        4.0        9.0   \n",
       "1          ...                  9.0         4.0        4.0        9.0   \n",
       "2          ...                  9.0         4.0        4.0        9.0   \n",
       "3          ...                  9.0         4.0        4.0        9.0   \n",
       "4          ...                  9.0         4.0        4.0        9.0   \n",
       "\n",
       "   post_away_score post_home_score post_bat_score post_fld_score  \\\n",
       "0              4.0             9.0            4.0            9.0   \n",
       "1              4.0             9.0            4.0            9.0   \n",
       "2              4.0             9.0            4.0            9.0   \n",
       "3              4.0             9.0            4.0            9.0   \n",
       "4              4.0             9.0            4.0            9.0   \n",
       "\n",
       "  if_fielding_alignment of_fielding_alignment  \n",
       "0              Standard              Standard  \n",
       "1              Standard              Standard  \n",
       "2             Strategic              Standard  \n",
       "3              Standard              Standard  \n",
       "4              Standard              Standard  \n",
       "\n",
       "[5 rows x 89 columns]"
      ]
     },
     "execution_count": 27,
     "metadata": {},
     "output_type": "execute_result"
    }
   ],
   "source": [
    "data2018.head()"
   ]
  },
  {
   "cell_type": "code",
   "execution_count": 28,
   "metadata": {},
   "outputs": [],
   "source": [
    "import numpy as np"
   ]
  },
  {
   "cell_type": "code",
   "execution_count": 29,
   "metadata": {},
   "outputs": [],
   "source": [
    "group2018_1 = data2018.groupby('game_date').release_speed.agg(np.mean)\n",
    "group2018_2 = data2018.groupby('game_date').release_spin_rate.agg(np.mean)\n",
    "\n",
    "group2018 = pd.concat([group2018_1, group2018_2], axis=1)\n",
    "group2018 = pd.DataFrame(group2018)\n",
    "\n",
    "mother2018 = group2018.iloc[45]\n",
    "all2018dr = group2018.drop(\"2018-05-13\")\n",
    "all2018 = np.mean(all2018dr, axis=0)"
   ]
  },
  {
   "cell_type": "code",
   "execution_count": 30,
   "metadata": {},
   "outputs": [],
   "source": [
    "group2017_1 = data2017.groupby('game_date').release_speed.agg(np.mean)\n",
    "group2017_2 = data2017.groupby('game_date').release_spin_rate.agg(np.mean)\n",
    "\n",
    "group2017 = pd.concat([group2017_1, group2017_2], axis=1)\n",
    "group2017 = pd.DataFrame(group2017)\n",
    "\n",
    "mother2017 = group2017.iloc[42]\n",
    "\n",
    "all2017dr = group2017.drop(\"2017-05-14\")\n",
    "all2017 = np.mean(all2017dr, axis=0)"
   ]
  },
  {
   "cell_type": "code",
   "execution_count": 31,
   "metadata": {},
   "outputs": [],
   "source": [
    "group2016_1 = data2016.groupby('game_date').release_speed.agg(np.mean)\n",
    "group2016_2 = data2016.groupby('game_date').release_spin_rate.agg(np.mean)\n",
    "\n",
    "group2016 = pd.concat([group2016_1, group2016_2], axis=1)\n",
    "group2016 = pd.DataFrame(group2016)\n",
    "\n",
    "mother2016 = group2016.iloc[35]\n",
    "all2016dr = group2016.drop(\"2016-05-08\")\n",
    "all2016 = np.mean(all2016dr, axis=0)"
   ]
  },
  {
   "cell_type": "code",
   "execution_count": 32,
   "metadata": {},
   "outputs": [],
   "source": [
    "group2015_1 = data2015.groupby('game_date').release_speed.agg(np.mean)\n",
    "group2015_2 = data2015.groupby('game_date').release_spin_rate.agg(np.mean)\n",
    "\n",
    "group2015 = pd.concat([group2015_1, group2015_2], axis=1)\n",
    "group2015 = pd.DataFrame(group2015)\n",
    "\n",
    "mother2015 = group2015.iloc[35]\n",
    "all2015dr = group2015.drop(\"2015-05-10\")\n",
    "all2015 = np.mean(all2015dr, axis=0)"
   ]
  },
  {
   "cell_type": "code",
   "execution_count": 33,
   "metadata": {},
   "outputs": [
    {
     "data": {
      "text/plain": [
       "release_speed          88.725209\n",
       "release_spin_rate    2127.232569\n",
       "dtype: float64"
      ]
     },
     "execution_count": 33,
     "metadata": {},
     "output_type": "execute_result"
    }
   ],
   "source": [
    "all2015"
   ]
  },
  {
   "cell_type": "markdown",
   "metadata": {},
   "source": [
    "## 연평균 vs 어머니날"
   ]
  },
  {
   "cell_type": "code",
   "execution_count": 34,
   "metadata": {
    "scrolled": true
   },
   "outputs": [
    {
     "data": {
      "text/plain": [
       "release_speed          88.662623\n",
       "release_spin_rate    2120.547041\n",
       "release_speed          88.725209\n",
       "release_spin_rate    2127.232569\n",
       "dtype: float64"
      ]
     },
     "execution_count": 34,
     "metadata": {},
     "output_type": "execute_result"
    }
   ],
   "source": [
    "pd.concat([mother2015, all2015], axis=0)"
   ]
  },
  {
   "cell_type": "code",
   "execution_count": 35,
   "metadata": {},
   "outputs": [],
   "source": [
    "a15 = list([mother2015[0], all2015[0], mother2015[1], all2015[1]])\n",
    "a16 = list([mother2016[0], all2016[0], mother2016[1], all2016[1]])\n",
    "a17 = list([mother2017[0], all2017[0], mother2017[1], all2017[1]])\n",
    "a18 = list([mother2018[0], all2018[0], mother2018[1], all2018[1]])\n",
    "\n",
    "all = pd.DataFrame([a18, a17, a16, a15])"
   ]
  },
  {
   "cell_type": "code",
   "execution_count": 36,
   "metadata": {
    "scrolled": false
   },
   "outputs": [
    {
     "data": {
      "text/html": [
       "<div>\n",
       "<style scoped>\n",
       "    .dataframe tbody tr th:only-of-type {\n",
       "        vertical-align: middle;\n",
       "    }\n",
       "\n",
       "    .dataframe tbody tr th {\n",
       "        vertical-align: top;\n",
       "    }\n",
       "\n",
       "    .dataframe thead th {\n",
       "        text-align: right;\n",
       "    }\n",
       "</style>\n",
       "<table border=\"1\" class=\"dataframe\">\n",
       "  <thead>\n",
       "    <tr style=\"text-align: right;\">\n",
       "      <th></th>\n",
       "      <th>어머니날 구속</th>\n",
       "      <th>연평균 구속</th>\n",
       "      <th>어머니날 회전수</th>\n",
       "      <th>연평균 회전수</th>\n",
       "    </tr>\n",
       "  </thead>\n",
       "  <tbody>\n",
       "    <tr>\n",
       "      <th>2018년</th>\n",
       "      <td>88.1 MPH</td>\n",
       "      <td>88.6 MPH</td>\n",
       "      <td>2207 RPM</td>\n",
       "      <td>2226 RPM</td>\n",
       "    </tr>\n",
       "    <tr>\n",
       "      <th>2017년</th>\n",
       "      <td>88.5 MPH</td>\n",
       "      <td>88.6 MPH</td>\n",
       "      <td>2218 RPM</td>\n",
       "      <td>2218 RPM</td>\n",
       "    </tr>\n",
       "    <tr>\n",
       "      <th>2016년</th>\n",
       "      <td>88.3 MPH</td>\n",
       "      <td>88.8 MPH</td>\n",
       "      <td>2177 RPM</td>\n",
       "      <td>2196 RPM</td>\n",
       "    </tr>\n",
       "    <tr>\n",
       "      <th>2015년</th>\n",
       "      <td>88.7 MPH</td>\n",
       "      <td>88.7 MPH</td>\n",
       "      <td>2121 RPM</td>\n",
       "      <td>2127 RPM</td>\n",
       "    </tr>\n",
       "  </tbody>\n",
       "</table>\n",
       "</div>"
      ],
      "text/plain": [
       "        어머니날 구속    연평균 구속  어머니날 회전수   연평균 회전수\n",
       "2018년  88.1 MPH  88.6 MPH  2207 RPM  2226 RPM\n",
       "2017년  88.5 MPH  88.6 MPH  2218 RPM  2218 RPM\n",
       "2016년  88.3 MPH  88.8 MPH  2177 RPM  2196 RPM\n",
       "2015년  88.7 MPH  88.7 MPH  2121 RPM  2127 RPM"
      ]
     },
     "execution_count": 36,
     "metadata": {},
     "output_type": "execute_result"
    }
   ],
   "source": [
    "all.columns = [\"어머니날 구속\", \"연평균 구속\", \"어머니날 회전수\", \"연평균 회전수\"]\n",
    "all.index = [\"2018년\", \"2017년\", \"2016년\", \"2015년\"]\n",
    "all['어머니날 구속'] = round(all['어머니날 구속'], 1)\n",
    "all['연평균 구속'] = round(all['연평균 구속'], 1)\n",
    "all['어머니날 회전수'] = round(all['어머니날 회전수'])\n",
    "all['연평균 회전수'] = round(all['연평균 회전수'])\n",
    "\n",
    "\n",
    "\n",
    "def plu(x):\n",
    "    y = x + \" MPH\"\n",
    "    return y\n",
    "\n",
    "all['어머니날 구속'] = list(map(str, all['어머니날 구속']))\n",
    "all['어머니날 구속'] = list(map(plu, all['어머니날 구속']))\n",
    "all['연평균 구속'] = list(map(str, all['연평균 구속']))\n",
    "all['연평균 구속'] = list(map(plu, all['연평균 구속']))\n",
    "\n",
    "def plu(x):\n",
    "    y = x + \" RPM\"\n",
    "    return y\n",
    "\n",
    "all['어머니날 회전수'] = list(map(int, all['어머니날 회전수']))\n",
    "all['어머니날 회전수'] = list(map(str, all['어머니날 회전수']))\n",
    "all['어머니날 회전수'] = list(map(plu, all['어머니날 회전수']))\n",
    "all['연평균 회전수'] = list(map(int, all['연평균 회전수']))\n",
    "all['연평균 회전수'] = list(map(str, all['연평균 회전수']))\n",
    "all['연평균 회전수'] = list(map(plu, all['연평균 회전수']))\n",
    "\n",
    "all"
   ]
  },
  {
   "cell_type": "markdown",
   "metadata": {},
   "source": [
    "## 분포 확인"
   ]
  },
  {
   "cell_type": "code",
   "execution_count": 37,
   "metadata": {},
   "outputs": [],
   "source": [
    "import matplotlib.pyplot as plt"
   ]
  },
  {
   "cell_type": "code",
   "execution_count": 38,
   "metadata": {},
   "outputs": [
    {
     "data": {
      "image/png": "[encoded data removed]",
      "text/plain": [
       "<Figure size 432x288 with 4 Axes>"
      ]
     },
     "metadata": {},
     "output_type": "display_data"
    }
   ],
   "source": [
    "plt.style.use('ggplot')\n",
    "\n",
    "alldr = [all2015dr, all2016dr, all2017dr, all2018dr]\n",
    "\n",
    "for i, alldr in enumerate(alldr, 2015):\n",
    "    \n",
    "    ax = plt.subplot(2, 2, i - 2014)\n",
    "    ax.hist(alldr[\"release_speed\"], bins=30)\n",
    "    ax.set_xlabel(\"{}년\".format(i), size=15)\n",
    "\n",
    "plt.suptitle(\"구속(MPH)\", size=20, y=1.1)\n",
    "plt.tight_layout()"
   ]
  },
  {
   "cell_type": "code",
   "execution_count": 39,
   "metadata": {},
   "outputs": [
    {
     "data": {
      "image/png": "[encoded data removed]",
      "text/plain": [
       "<Figure size 432x288 with 4 Axes>"
      ]
     },
     "metadata": {},
     "output_type": "display_data"
    }
   ],
   "source": [
    "alldr = [all2015dr, all2016dr, all2017dr, all2018dr]\n",
    "\n",
    "for i, alldr in enumerate(alldr, 2015):\n",
    "    \n",
    "    ax = plt.subplot(2, 2, i - 2014)\n",
    "    ax.hist(alldr[\"release_spin_rate\"], bins=30)\n",
    "    ax.set_xlabel(\"{}년\".format(i), size=15)\n",
    "\n",
    "plt.suptitle(\"회전수(RPM)\", size=20, y=1.1)\n",
    "plt.tight_layout()"
   ]
  },
  {
   "cell_type": "markdown",
   "metadata": {},
   "source": [
    "## 정규성 검정"
   ]
  },
  {
   "cell_type": "code",
   "execution_count": 40,
   "metadata": {},
   "outputs": [],
   "source": [
    "from scipy import stats"
   ]
  },
  {
   "cell_type": "code",
   "execution_count": 41,
   "metadata": {},
   "outputs": [
    {
     "name": "stdout",
     "output_type": "stream",
     "text": [
      "2015년도 구속/회전수 정규성 검정 결과\n",
      "(0.9826387166976929, 0.025865398347377777)\n",
      "(0.9871382713317871, 0.10397405922412872)\n",
      "2016년도 구속/회전수 정규성 검정 결과\n",
      "(0.9943619966506958, 0.7347095608711243)\n",
      "(0.987774670124054, 0.12648551166057587)\n",
      "2017년도 구속/회전수 정규성 검정 결과\n",
      "(0.9964140057563782, 0.9517529010772705)\n",
      "(0.9937223196029663, 0.648509681224823)\n",
      "2018년도 구속/회전수 정규성 검정 결과\n",
      "(0.9720584750175476, 0.0009905402548611164)\n",
      "(0.9903783202171326, 0.25746577978134155)\n"
     ]
    }
   ],
   "source": [
    "alldr = [all2015dr, all2016dr, all2017dr, all2018dr]\n",
    "\n",
    "for i, alldr in enumerate(alldr, 2015):\n",
    "    \n",
    "    print(\"{}년도 구속/회전수 정규성 검정 결과\".format(i))\n",
    "    print(stats.shapiro(alldr[\"release_speed\"]))\n",
    "    print(stats.shapiro(alldr[\"release_spin_rate\"]))"
   ]
  },
  {
   "cell_type": "markdown",
   "metadata": {},
   "source": [
    "## 포스트 시즌 데이터를 제외한 이유"
   ]
  },
  {
   "cell_type": "markdown",
   "metadata": {},
   "source": [
    "- 시즌 전체 데이터일 경우\n",
    "- 표본의 크기가 30개 이상이므로 중심극한정리에 의해 일단은 정규성 가정을 하지만..\n",
    "- 샤피로 검정에서는 정규분포를 따르지 않는다는 결과가 나왔음\n",
    "- 확인 결과 이상치 데이터들은 보통 포스트시즌!"
   ]
  },
  {
   "cell_type": "code",
   "execution_count": 87,
   "metadata": {
    "scrolled": true
   },
   "outputs": [
    {
     "data": {
      "text/html": [
       "<div>\n",
       "<style scoped>\n",
       "    .dataframe tbody tr th:only-of-type {\n",
       "        vertical-align: middle;\n",
       "    }\n",
       "\n",
       "    .dataframe tbody tr th {\n",
       "        vertical-align: top;\n",
       "    }\n",
       "\n",
       "    .dataframe thead th {\n",
       "        text-align: right;\n",
       "    }\n",
       "</style>\n",
       "<table border=\"1\" class=\"dataframe\">\n",
       "  <thead>\n",
       "    <tr style=\"text-align: right;\">\n",
       "      <th></th>\n",
       "      <th>release_speed</th>\n",
       "      <th>release_spin_rate</th>\n",
       "    </tr>\n",
       "    <tr>\n",
       "      <th>game_date</th>\n",
       "      <th></th>\n",
       "      <th></th>\n",
       "    </tr>\n",
       "  </thead>\n",
       "  <tbody>\n",
       "    <tr>\n",
       "      <th>2017-10-03</th>\n",
       "      <td>91.091254</td>\n",
       "      <td>2314.905325</td>\n",
       "    </tr>\n",
       "    <tr>\n",
       "      <th>2017-10-05</th>\n",
       "      <td>89.452508</td>\n",
       "      <td>2431.164983</td>\n",
       "    </tr>\n",
       "    <tr>\n",
       "      <th>2017-10-09</th>\n",
       "      <td>90.664836</td>\n",
       "      <td>2332.889924</td>\n",
       "    </tr>\n",
       "    <tr>\n",
       "      <th>2017-10-14</th>\n",
       "      <td>90.907386</td>\n",
       "      <td>2346.868369</td>\n",
       "    </tr>\n",
       "    <tr>\n",
       "      <th>2017-10-15</th>\n",
       "      <td>87.981507</td>\n",
       "      <td>2409.222222</td>\n",
       "    </tr>\n",
       "    <tr>\n",
       "      <th>2017-10-17</th>\n",
       "      <td>89.739750</td>\n",
       "      <td>2354.113139</td>\n",
       "    </tr>\n",
       "    <tr>\n",
       "      <th>2017-10-20</th>\n",
       "      <td>92.123404</td>\n",
       "      <td>2524.436090</td>\n",
       "    </tr>\n",
       "    <tr>\n",
       "      <th>2017-10-21</th>\n",
       "      <td>87.797934</td>\n",
       "      <td>2374.436441</td>\n",
       "    </tr>\n",
       "    <tr>\n",
       "      <th>2017-10-24</th>\n",
       "      <td>88.505687</td>\n",
       "      <td>2354.755981</td>\n",
       "    </tr>\n",
       "    <tr>\n",
       "      <th>2017-10-25</th>\n",
       "      <td>90.317169</td>\n",
       "      <td>2480.884848</td>\n",
       "    </tr>\n",
       "    <tr>\n",
       "      <th>2017-10-27</th>\n",
       "      <td>90.592254</td>\n",
       "      <td>2434.127208</td>\n",
       "    </tr>\n",
       "    <tr>\n",
       "      <th>2017-10-29</th>\n",
       "      <td>88.773861</td>\n",
       "      <td>2314.849148</td>\n",
       "    </tr>\n",
       "    <tr>\n",
       "      <th>2017-10-31</th>\n",
       "      <td>89.999200</td>\n",
       "      <td>2553.959350</td>\n",
       "    </tr>\n",
       "    <tr>\n",
       "      <th>2017-11-01</th>\n",
       "      <td>90.465734</td>\n",
       "      <td>2375.773852</td>\n",
       "    </tr>\n",
       "  </tbody>\n",
       "</table>\n",
       "</div>"
      ],
      "text/plain": [
       "            release_speed  release_spin_rate\n",
       "game_date                                   \n",
       "2017-10-03      91.091254        2314.905325\n",
       "2017-10-05      89.452508        2431.164983\n",
       "2017-10-09      90.664836        2332.889924\n",
       "2017-10-14      90.907386        2346.868369\n",
       "2017-10-15      87.981507        2409.222222\n",
       "2017-10-17      89.739750        2354.113139\n",
       "2017-10-20      92.123404        2524.436090\n",
       "2017-10-21      87.797934        2374.436441\n",
       "2017-10-24      88.505687        2354.755981\n",
       "2017-10-25      90.317169        2480.884848\n",
       "2017-10-27      90.592254        2434.127208\n",
       "2017-10-29      88.773861        2314.849148\n",
       "2017-10-31      89.999200        2553.959350\n",
       "2017-11-01      90.465734        2375.773852"
      ]
     },
     "execution_count": 87,
     "metadata": {},
     "output_type": "execute_result"
    }
   ],
   "source": [
    "data_ex = pd.read_csv('D://statcast//savant2017.csv')\n",
    "\n",
    "group_ex_1 = data_ex.groupby('game_date').release_speed.agg(np.mean)\n",
    "group_ex_2 = data_ex.groupby('game_date').release_spin_rate.agg(np.mean)\n",
    "\n",
    "group_ex = pd.concat([group_ex_1, group_ex_2], axis=1)\n",
    "group_ex = pd.DataFrame(group_ex)\n",
    "\n",
    "all_ex_dr = group_ex.drop(\"2017-05-14\")\n",
    "all_ex_dr[all_ex_dr.release_spin_rate > 2300]"
   ]
  },
  {
   "cell_type": "markdown",
   "metadata": {},
   "source": [
    "## t-검정(정규성 충족, 모분산, 단측 검정)"
   ]
  },
  {
   "cell_type": "code",
   "execution_count": 42,
   "metadata": {
    "scrolled": true
   },
   "outputs": [
    {
     "name": "stdout",
     "output_type": "stream",
     "text": [
      "2018 구속 p-value < 0.0001\n",
      "2018 회전수 p-value < 0.0001\n",
      "\n",
      "2017 구속 p-value = 0.0051\n",
      "2017 회전수 p-value = 0.2852\n",
      "\n",
      "2016 구속 p-value < 0.0001\n",
      "2016 회전수 p-value < 0.0001\n",
      "\n",
      "2015 구속 p-value = 0.0203\n",
      "2015 회전수 p-value = 0.0004\n"
     ]
    }
   ],
   "source": [
    "_, p_value = stats.ttest_1samp(list(all2018dr[\"release_speed\"]), mother2018[0])\n",
    "print(\"2018 구속 p-value <\", round((p_value / 2), 4) + 0.0001)\n",
    "_, p_value = stats.ttest_1samp(list(all2018dr[\"release_spin_rate\"]), popmean=mother2018[1])\n",
    "print(\"2018 회전수 p-value <\", round((p_value / 2), 4) + 0.0001)\n",
    "print()\n",
    "\n",
    "_, p_value = stats.ttest_1samp(list(all2017dr[\"release_speed\"]), popmean=mother2017[0])\n",
    "print(\"2017 구속 p-value =\", round((p_value / 2), 4))\n",
    "_, p_value = stats.ttest_1samp(list(all2017dr[\"release_spin_rate\"]), popmean=mother2017[1])\n",
    "print(\"2017 회전수 p-value =\", round((p_value / 2), 4))\n",
    "print()\n",
    "\n",
    "_, p_value = stats.ttest_1samp(list(all2016dr[\"release_speed\"]), popmean=mother2016[0])\n",
    "print(\"2016 구속 p-value <\", round((p_value / 2), 4) + 0.0001)\n",
    "_, p_value = stats.ttest_1samp(list(all2016dr[\"release_spin_rate\"]), popmean=mother2016[1])\n",
    "print(\"2016 회전수 p-value <\", round((p_value / 2), 4) + 0.0001)\n",
    "print()\n",
    "\n",
    "_, p_value = stats.ttest_1samp(list(all2015dr[\"release_speed\"]), popmean=mother2015[0])\n",
    "print(\"2015 구속 p-value =\", round((p_value / 2), 4))\n",
    "_, p_value = stats.ttest_1samp(list(all2015dr[\"release_spin_rate\"]), popmean=mother2015[1])\n",
    "print(\"2015 회전수 p-value =\", round((p_value / 2), 4))"
   ]
  },
  {
   "cell_type": "code",
   "execution_count": 43,
   "metadata": {
    "scrolled": true
   },
   "outputs": [
    {
     "name": "stdout",
     "output_type": "stream",
     "text": [
      "stats t-test 통계량 값: 15.794662208181268\n",
      "stats t-test p-value: 5.9488810363315984e-36\n"
     ]
    }
   ],
   "source": [
    "ttest, p_value = stats.ttest_1samp(list(all2018dr[\"release_speed\"]), mother2018[0])\n",
    "print(\"stats t-test 통계량 값:\", ttest)\n",
    "print(\"stats t-test p-value:\", p_value)"
   ]
  },
  {
   "cell_type": "code",
   "execution_count": 44,
   "metadata": {},
   "outputs": [
    {
     "data": {
      "text/plain": [
       "88.12028156621226"
      ]
     },
     "execution_count": 44,
     "metadata": {},
     "output_type": "execute_result"
    }
   ],
   "source": [
    "mother2018[0]"
   ]
  },
  {
   "cell_type": "code",
   "execution_count": 45,
   "metadata": {},
   "outputs": [
    {
     "data": {
      "text/plain": [
       "183"
      ]
     },
     "execution_count": 45,
     "metadata": {},
     "output_type": "execute_result"
    }
   ],
   "source": [
    "n = len(list(all2018dr[\"release_speed\"]))\n",
    "n"
   ]
  },
  {
   "cell_type": "code",
   "execution_count": 46,
   "metadata": {},
   "outputs": [
    {
     "data": {
      "text/plain": [
       "88.61140537387713"
      ]
     },
     "execution_count": 46,
     "metadata": {},
     "output_type": "execute_result"
    }
   ],
   "source": [
    "xbar = np.mean(all2018dr[\"release_speed\"])\n",
    "xbar"
   ]
  },
  {
   "cell_type": "code",
   "execution_count": 47,
   "metadata": {},
   "outputs": [
    {
     "data": {
      "text/plain": [
       "0.17596758681658922"
      ]
     },
     "execution_count": 47,
     "metadata": {},
     "output_type": "execute_result"
    }
   ],
   "source": [
    "xvar = np.var(all2018dr[\"release_speed\"])\n",
    "xvar"
   ]
  },
  {
   "cell_type": "code",
   "execution_count": 48,
   "metadata": {},
   "outputs": [
    {
     "data": {
      "text/plain": [
       "15.794662208181267"
      ]
     },
     "execution_count": 48,
     "metadata": {},
     "output_type": "execute_result"
    }
   ],
   "source": [
    "ttest2 = (xbar - mother2018[0])/np.sqrt(xvar/(n-1))\n",
    "ttest2"
   ]
  },
  {
   "cell_type": "code",
   "execution_count": 49,
   "metadata": {},
   "outputs": [
    {
     "data": {
      "text/plain": [
       "0.0"
      ]
     },
     "execution_count": 49,
     "metadata": {},
     "output_type": "execute_result"
    }
   ],
   "source": [
    "p = (1 - stats.t.cdf(ttest2, df=(n-1))) * 2\n",
    "p"
   ]
  },
  {
   "cell_type": "code",
   "execution_count": 50,
   "metadata": {},
   "outputs": [
    {
     "data": {
      "text/plain": [
       "0.4194849065420462"
      ]
     },
     "execution_count": 50,
     "metadata": {},
     "output_type": "execute_result"
    }
   ],
   "source": [
    "np.std(all2018dr[\"release_speed\"])"
   ]
  },
  {
   "cell_type": "code",
   "execution_count": 51,
   "metadata": {},
   "outputs": [],
   "source": [
    "all2018dr[\"release_speed\"].to_csv(\"C://Users//JH//Desktop//ttest2018.csv\")"
   ]
  },
  {
   "cell_type": "markdown",
   "metadata": {},
   "source": [
    "### 날씨에 대한 영향?"
   ]
  },
  {
   "cell_type": "code",
   "execution_count": 55,
   "metadata": {},
   "outputs": [
    {
     "data": {
      "text/plain": [
       "88.12028156621226"
      ]
     },
     "execution_count": 55,
     "metadata": {},
     "output_type": "execute_result"
    }
   ],
   "source": [
    "mother2018[0]"
   ]
  },
  {
   "cell_type": "code",
   "execution_count": 61,
   "metadata": {
    "scrolled": false
   },
   "outputs": [
    {
     "data": {
      "text/html": [
       "<div>\n",
       "<style scoped>\n",
       "    .dataframe tbody tr th:only-of-type {\n",
       "        vertical-align: middle;\n",
       "    }\n",
       "\n",
       "    .dataframe tbody tr th {\n",
       "        vertical-align: top;\n",
       "    }\n",
       "\n",
       "    .dataframe thead th {\n",
       "        text-align: right;\n",
       "    }\n",
       "</style>\n",
       "<table border=\"1\" class=\"dataframe\">\n",
       "  <thead>\n",
       "    <tr style=\"text-align: right;\">\n",
       "      <th></th>\n",
       "      <th>game_date</th>\n",
       "      <th>release_speed</th>\n",
       "      <th>release_spin_rate</th>\n",
       "    </tr>\n",
       "  </thead>\n",
       "  <tbody>\n",
       "    <tr>\n",
       "      <th>0</th>\n",
       "      <td>2018-04-11</td>\n",
       "      <td>88.289586</td>\n",
       "      <td>2217.486600</td>\n",
       "    </tr>\n",
       "    <tr>\n",
       "      <th>1</th>\n",
       "      <td>2018-04-12</td>\n",
       "      <td>88.297903</td>\n",
       "      <td>2230.860110</td>\n",
       "    </tr>\n",
       "    <tr>\n",
       "      <th>2</th>\n",
       "      <td>2018-04-13</td>\n",
       "      <td>88.190344</td>\n",
       "      <td>2232.383861</td>\n",
       "    </tr>\n",
       "    <tr>\n",
       "      <th>3</th>\n",
       "      <td>2018-04-14</td>\n",
       "      <td>88.555495</td>\n",
       "      <td>2240.678326</td>\n",
       "    </tr>\n",
       "    <tr>\n",
       "      <th>4</th>\n",
       "      <td>2018-04-17</td>\n",
       "      <td>88.283671</td>\n",
       "      <td>2204.495575</td>\n",
       "    </tr>\n",
       "    <tr>\n",
       "      <th>5</th>\n",
       "      <td>2018-04-19</td>\n",
       "      <td>88.137304</td>\n",
       "      <td>2230.095112</td>\n",
       "    </tr>\n",
       "    <tr>\n",
       "      <th>6</th>\n",
       "      <td>2018-04-21</td>\n",
       "      <td>88.371765</td>\n",
       "      <td>2210.818862</td>\n",
       "    </tr>\n",
       "    <tr>\n",
       "      <th>7</th>\n",
       "      <td>2018-04-22</td>\n",
       "      <td>88.364256</td>\n",
       "      <td>2224.431119</td>\n",
       "    </tr>\n",
       "    <tr>\n",
       "      <th>8</th>\n",
       "      <td>2018-04-23</td>\n",
       "      <td>88.234018</td>\n",
       "      <td>2201.741484</td>\n",
       "    </tr>\n",
       "    <tr>\n",
       "      <th>9</th>\n",
       "      <td>2018-04-24</td>\n",
       "      <td>88.362570</td>\n",
       "      <td>2243.711553</td>\n",
       "    </tr>\n",
       "    <tr>\n",
       "      <th>10</th>\n",
       "      <td>2018-04-25</td>\n",
       "      <td>88.376400</td>\n",
       "      <td>2274.264505</td>\n",
       "    </tr>\n",
       "    <tr>\n",
       "      <th>11</th>\n",
       "      <td>2018-04-26</td>\n",
       "      <td>88.665903</td>\n",
       "      <td>2220.632780</td>\n",
       "    </tr>\n",
       "    <tr>\n",
       "      <th>12</th>\n",
       "      <td>2018-04-27</td>\n",
       "      <td>88.156613</td>\n",
       "      <td>2206.081604</td>\n",
       "    </tr>\n",
       "    <tr>\n",
       "      <th>13</th>\n",
       "      <td>2018-04-28</td>\n",
       "      <td>88.500992</td>\n",
       "      <td>2210.895405</td>\n",
       "    </tr>\n",
       "    <tr>\n",
       "      <th>14</th>\n",
       "      <td>2018-04-29</td>\n",
       "      <td>88.210074</td>\n",
       "      <td>2225.201442</td>\n",
       "    </tr>\n",
       "    <tr>\n",
       "      <th>15</th>\n",
       "      <td>2018-04-30</td>\n",
       "      <td>88.496137</td>\n",
       "      <td>2254.918927</td>\n",
       "    </tr>\n",
       "    <tr>\n",
       "      <th>16</th>\n",
       "      <td>2018-05-01</td>\n",
       "      <td>88.435709</td>\n",
       "      <td>2252.744943</td>\n",
       "    </tr>\n",
       "    <tr>\n",
       "      <th>17</th>\n",
       "      <td>2018-05-02</td>\n",
       "      <td>88.986563</td>\n",
       "      <td>2241.070121</td>\n",
       "    </tr>\n",
       "    <tr>\n",
       "      <th>18</th>\n",
       "      <td>2018-05-04</td>\n",
       "      <td>88.537349</td>\n",
       "      <td>2256.701741</td>\n",
       "    </tr>\n",
       "    <tr>\n",
       "      <th>19</th>\n",
       "      <td>2018-05-05</td>\n",
       "      <td>88.563937</td>\n",
       "      <td>2230.806026</td>\n",
       "    </tr>\n",
       "    <tr>\n",
       "      <th>20</th>\n",
       "      <td>2018-05-06</td>\n",
       "      <td>88.583361</td>\n",
       "      <td>2233.695694</td>\n",
       "    </tr>\n",
       "    <tr>\n",
       "      <th>21</th>\n",
       "      <td>2018-05-07</td>\n",
       "      <td>88.711217</td>\n",
       "      <td>2197.524314</td>\n",
       "    </tr>\n",
       "    <tr>\n",
       "      <th>22</th>\n",
       "      <td>2018-05-08</td>\n",
       "      <td>88.329084</td>\n",
       "      <td>2250.605025</td>\n",
       "    </tr>\n",
       "    <tr>\n",
       "      <th>23</th>\n",
       "      <td>2018-05-09</td>\n",
       "      <td>88.364037</td>\n",
       "      <td>2192.176658</td>\n",
       "    </tr>\n",
       "    <tr>\n",
       "      <th>24</th>\n",
       "      <td>2018-05-10</td>\n",
       "      <td>89.568453</td>\n",
       "      <td>2253.020925</td>\n",
       "    </tr>\n",
       "    <tr>\n",
       "      <th>25</th>\n",
       "      <td>2018-05-11</td>\n",
       "      <td>88.952253</td>\n",
       "      <td>2230.938991</td>\n",
       "    </tr>\n",
       "    <tr>\n",
       "      <th>26</th>\n",
       "      <td>2018-05-15</td>\n",
       "      <td>88.303650</td>\n",
       "      <td>2222.597396</td>\n",
       "    </tr>\n",
       "    <tr>\n",
       "      <th>27</th>\n",
       "      <td>2018-05-16</td>\n",
       "      <td>89.381952</td>\n",
       "      <td>2254.220054</td>\n",
       "    </tr>\n",
       "    <tr>\n",
       "      <th>28</th>\n",
       "      <td>2018-05-17</td>\n",
       "      <td>88.468915</td>\n",
       "      <td>2226.045913</td>\n",
       "    </tr>\n",
       "    <tr>\n",
       "      <th>29</th>\n",
       "      <td>2018-05-19</td>\n",
       "      <td>88.781275</td>\n",
       "      <td>2220.474025</td>\n",
       "    </tr>\n",
       "  </tbody>\n",
       "</table>\n",
       "</div>"
      ],
      "text/plain": [
       "     game_date  release_speed  release_spin_rate\n",
       "0   2018-04-11      88.289586        2217.486600\n",
       "1   2018-04-12      88.297903        2230.860110\n",
       "2   2018-04-13      88.190344        2232.383861\n",
       "3   2018-04-14      88.555495        2240.678326\n",
       "4   2018-04-17      88.283671        2204.495575\n",
       "5   2018-04-19      88.137304        2230.095112\n",
       "6   2018-04-21      88.371765        2210.818862\n",
       "7   2018-04-22      88.364256        2224.431119\n",
       "8   2018-04-23      88.234018        2201.741484\n",
       "9   2018-04-24      88.362570        2243.711553\n",
       "10  2018-04-25      88.376400        2274.264505\n",
       "11  2018-04-26      88.665903        2220.632780\n",
       "12  2018-04-27      88.156613        2206.081604\n",
       "13  2018-04-28      88.500992        2210.895405\n",
       "14  2018-04-29      88.210074        2225.201442\n",
       "15  2018-04-30      88.496137        2254.918927\n",
       "16  2018-05-01      88.435709        2252.744943\n",
       "17  2018-05-02      88.986563        2241.070121\n",
       "18  2018-05-04      88.537349        2256.701741\n",
       "19  2018-05-05      88.563937        2230.806026\n",
       "20  2018-05-06      88.583361        2233.695694\n",
       "21  2018-05-07      88.711217        2197.524314\n",
       "22  2018-05-08      88.329084        2250.605025\n",
       "23  2018-05-09      88.364037        2192.176658\n",
       "24  2018-05-10      89.568453        2253.020925\n",
       "25  2018-05-11      88.952253        2230.938991\n",
       "26  2018-05-15      88.303650        2222.597396\n",
       "27  2018-05-16      89.381952        2254.220054\n",
       "28  2018-05-17      88.468915        2226.045913\n",
       "29  2018-05-19      88.781275        2220.474025"
      ]
     },
     "execution_count": 61,
     "metadata": {},
     "output_type": "execute_result"
    }
   ],
   "source": [
    "less = all2018dr[all2018dr.release_speed > mother2018[0]][10:40]\n",
    "less = less.reset_index()\n",
    "less"
   ]
  },
  {
   "cell_type": "code",
   "execution_count": 58,
   "metadata": {},
   "outputs": [
    {
     "data": {
      "text/plain": [
       "<function matplotlib.pyplot.show(*args, **kw)>"
      ]
     },
     "execution_count": 58,
     "metadata": {},
     "output_type": "execute_result"
    },
    {
     "data": {
      "image/png": "[encoded data removed]",
      "text/plain": [
       "<Figure size 432x288 with 1 Axes>"
      ]
     },
     "metadata": {},
     "output_type": "display_data"
    }
   ],
   "source": [
    "group2018_2 = group2018.reset_index()\n",
    "\n",
    "fig, ax = plt.subplots()\n",
    "\n",
    "plt.plot(group2018_2[\"game_date\"], group2018_2[\"release_speed\"], '.-', color='darkorange')\n",
    "plt.axhline(y = np.mean(group2018_2[\"release_speed\"]), clip_on = False, color=\"red\")\n",
    "plt.annotate(\"어머니날\", (\"2018-05-03\", 87.75), size=12)\n",
    "plt.annotate(\"4, 5월\", (\"2018-04-10\", 89.7), size=15)\n",
    "plt.annotate(\"6월 이후\", (\"2018-07-15\", 89.7), size=15)\n",
    "plt.axvline(x=\"2018-05-31\")\n",
    "plt.ylim([87.5, 90])\n",
    "plt.ylabel(\"평균 구속\", size=15)\n",
    "plt.suptitle(\"2018 MLB 일자별 평균 구속\", size=20)\n",
    "\n",
    "\n",
    "plt.xticks([])\n",
    "\n",
    "plt.show"
   ]
  },
  {
   "cell_type": "markdown",
   "metadata": {},
   "source": [
    "### R용 테스트파일"
   ]
  },
  {
   "cell_type": "code",
   "execution_count": 22,
   "metadata": {},
   "outputs": [],
   "source": [
    "sptest = pd.DataFrame(list(all2018dr[\"release_speed\"]))\n",
    "sptest.to_csv('D://statcast//sptest.csv')"
   ]
  },
  {
   "cell_type": "code",
   "execution_count": 24,
   "metadata": {},
   "outputs": [
    {
     "data": {
      "text/plain": [
       "88.12028156621226"
      ]
     },
     "execution_count": 24,
     "metadata": {},
     "output_type": "execute_result"
    }
   ],
   "source": [
    "mother2018[0]"
   ]
  },
  {
   "cell_type": "markdown",
   "metadata": {},
   "source": [
    "## t-검정(선수 개개인에 대하여)"
   ]
  },
  {
   "cell_type": "code",
   "execution_count": 19,
   "metadata": {},
   "outputs": [],
   "source": [
    "name_all2018 = data2018[data2018.game_date != \"2018-05-13\"]\n",
    "name_all2017 = data2017[data2017.game_date != \"2017-05-14\"]\n",
    "name_all2016 = data2016[data2016.game_date != \"2016-05-08\"]\n",
    "name_all2015 = data2015[data2015.game_date != \"2015-05-10\"]\n",
    "\n",
    "name_mo2018 = data2018[data2018.game_date == \"2018-05-13\"]\n",
    "name_mo2017 = data2017[data2017.game_date == \"2017-05-14\"]\n",
    "name_mo2016 = data2016[data2016.game_date == \"2016-05-08\"]\n",
    "name_mo2015 = data2015[data2015.game_date == \"2015-05-10\"]"
   ]
  },
  {
   "cell_type": "code",
   "execution_count": 29,
   "metadata": {},
   "outputs": [
    {
     "name": "stderr",
     "output_type": "stream",
     "text": [
      "C:\\Users\\JH\\Anaconda3\\lib\\site-packages\\scipy\\stats\\_distn_infrastructure.py:877: RuntimeWarning: invalid value encountered in greater\n",
      "  return (self.a < x) & (x < self.b)\n",
      "C:\\Users\\JH\\Anaconda3\\lib\\site-packages\\scipy\\stats\\_distn_infrastructure.py:877: RuntimeWarning: invalid value encountered in less\n",
      "  return (self.a < x) & (x < self.b)\n",
      "C:\\Users\\JH\\Anaconda3\\lib\\site-packages\\scipy\\stats\\_distn_infrastructure.py:1831: RuntimeWarning: invalid value encountered in less_equal\n",
      "  cond2 = cond0 & (x <= self.a)\n"
     ]
    },
    {
     "name": "stdout",
     "output_type": "stream",
     "text": [
      "Shohei Ohtani 표본수 부족\n",
      "Brandon Mann 표본수 부족\n",
      "Adam Wainwright 표본수 부족\n",
      "Fernando Romero 표본수 부족\n",
      "Johnny Field 표본수 부족\n",
      "\n",
      "2018년도 어머니날 전체 선수: 123\n",
      "표본수 부족 제외 선수 118\n",
      "구속 감소 선수: 84\n",
      "회전수 감소 선수: 90\n",
      "유의미한 구속 감소 선수 비율: 0.71\n",
      "유의미한 회전수 감소 선수 비율: 0.76\n"
     ]
    }
   ],
   "source": [
    "name_all2018 = data2018[['game_date', 'player_name', 'release_speed', 'release_spin_rate']]\n",
    "\n",
    "name_mo2018 = name_all2018[name_all2018.game_date == \"2018-05-13\"]\n",
    "name_mo2018 = name_mo2018[['player_name', 'release_speed', 'release_spin_rate']]\n",
    "name_all2018_0 = name_all2018[name_all2018.game_date != \"2018-05-13\"]\n",
    "mo2018 = name_mo2018.groupby('player_name').agg(np.mean).reset_index('player_name')\n",
    "\n",
    "name = list(set(name_mo2018.player_name))\n",
    "player2018 = pd.DataFrame()\n",
    "speed_count = 0\n",
    "spin_count = 0\n",
    "total_count = 0\n",
    "ptotal_count = 0\n",
    "for i in name:\n",
    "    \n",
    "    total_count += 1\n",
    "    \n",
    "    player = pd.concat([player2018, name_all2018_0[name_all2018_0.player_name == i]])\n",
    "    player2 = player.groupby('game_date').agg(np.mean)\n",
    "    \n",
    "    if len(player2) <= 10:\n",
    "        print(i, \"표본수 부족\")\n",
    "        continue\n",
    "    \n",
    "    speed = mo2018[mo2018.player_name == i]['release_speed']\n",
    "    rate = mo2018[mo2018.player_name == i]['release_spin_rate']\n",
    "    \n",
    "    _, speed_p_value = stats.ttest_1samp(list(player2['release_speed']), popmean=float(speed))\n",
    "    _, spin_p_value = stats.ttest_1samp(list(player2['release_spin_rate']), popmean=float(rate))\n",
    "        \n",
    "    if speed_p_value/2 <= 0.05:\n",
    "        speed_count += 1\n",
    "        \n",
    "    if spin_p_value/2 <= 0.05:\n",
    "        spin_count += 1\n",
    "    \n",
    "    ptotal_count += 1\n",
    "\n",
    "print()\n",
    "print(\"2018년도 어머니날 전체 선수:\", total_count)\n",
    "print(\"표본수 부족 제외 선수\", ptotal_count)\n",
    "print(\"구속 감소 선수:\", speed_count)\n",
    "print(\"회전수 감소 선수:\", spin_count)\n",
    "print(\"유의미한 구속 감소 선수 비율:\", round(speed_count/ptotal_count, 2))\n",
    "print(\"유의미한 회전수 감소 선수 비율:\", round(spin_count/ptotal_count, 2))"
   ]
  },
  {
   "cell_type": "code",
   "execution_count": 30,
   "metadata": {},
   "outputs": [
    {
     "name": "stdout",
     "output_type": "stream",
     "text": [
      "Robbie Ross Jr. 표본수 부족\n",
      "Barrett Astin 표본수 부족\n",
      "Aaron Sanchez 표본수 부족\n",
      "Adam Wilk 표본수 부족\n",
      "Jered Weaver 표본수 부족\n",
      "Justin Haley 표본수 부족\n",
      "Bobby Wahl 표본수 부족\n",
      "Dayan Diaz 표본수 부족\n",
      "Julio Urias 표본수 부족\n",
      "\n",
      "2017년도 어머니날 전체 선수: 152\n",
      "표본수 부족 제외 선수 143\n",
      "구속 감소 선수: 112\n",
      "회전수 감소 선수: 104\n",
      "유의미한 구속 감소 선수 비율: 0.78\n",
      "유의미한 회전수 감소 선수 비율: 0.73\n"
     ]
    }
   ],
   "source": [
    "name_all2017 = data2017[['game_date', 'player_name', 'release_speed', 'release_spin_rate']]\n",
    "\n",
    "name_mo2017 = name_all2017[name_all2017.game_date == \"2017-05-14\"]\n",
    "name_mo2017 = name_mo2017[['player_name', 'release_speed', 'release_spin_rate']]\n",
    "name_all2017_0 = name_all2017[name_all2017.game_date != \"2017-05-14\"]\n",
    "mo2017 = name_mo2017.groupby('player_name').agg(np.mean).reset_index('player_name')\n",
    "\n",
    "name = list(set(name_mo2017.player_name))\n",
    "player2017 = pd.DataFrame()\n",
    "speed_count = 0\n",
    "spin_count = 0\n",
    "total_count = 0\n",
    "ptotal_count = 0\n",
    "for i in name:\n",
    "    \n",
    "    total_count += 1\n",
    "    \n",
    "    player = pd.concat([player2017, name_all2017_0[name_all2017_0.player_name == i]])\n",
    "    player2 = player.groupby('game_date').agg(np.mean)\n",
    "    \n",
    "    if len(player2) <= 10:\n",
    "        print(i, \"표본수 부족\")\n",
    "        continue\n",
    "    \n",
    "    speed = mo2017[mo2017.player_name == i]['release_speed']\n",
    "    rate = mo2017[mo2017.player_name == i]['release_spin_rate']\n",
    "    \n",
    "    _, speed_p_value = stats.ttest_1samp(list(player2['release_speed']), popmean=float(speed))\n",
    "    _, spin_p_value = stats.ttest_1samp(list(player2['release_spin_rate']), popmean=float(rate))\n",
    "    \n",
    "    if speed_p_value/2 <= 0.05:\n",
    "        speed_count += 1\n",
    "        \n",
    "    if spin_p_value/2 <= 0.05:\n",
    "        spin_count += 1\n",
    "    \n",
    "    ptotal_count += 1\n",
    "\n",
    "print()    \n",
    "print(\"2017년도 어머니날 전체 선수:\", total_count)\n",
    "print(\"표본수 부족 제외 선수\", ptotal_count)\n",
    "print(\"구속 감소 선수:\", speed_count)\n",
    "print(\"회전수 감소 선수:\", spin_count)\n",
    "print(\"유의미한 구속 감소 선수 비율:\", round(speed_count/ptotal_count, 2))\n",
    "print(\"유의미한 회전수 감소 선수 비율:\", round(spin_count/ptotal_count, 2))"
   ]
  },
  {
   "cell_type": "code",
   "execution_count": 31,
   "metadata": {
    "scrolled": true
   },
   "outputs": [
    {
     "name": "stdout",
     "output_type": "stream",
     "text": [
      "Mayckol Guaipe 표본수 부족\n",
      "Steve Delabar 표본수 부족\n",
      "Josh Phegley 표본수 부족\n",
      "J.B. Wendelken 표본수 부족\n",
      "Javy Guerra 표본수 부족\n",
      "\n",
      "2016년도 어머니날 전체 선수: 126\n",
      "표본수 부족 제외 선수 121\n",
      "구속 감소 선수: 94\n",
      "회전수 감소 선수: 76\n",
      "유의미한 구속 감소 선수 비율: 0.78\n",
      "유의미한 회전수 감소 선수 비율: 0.63\n"
     ]
    }
   ],
   "source": [
    "name_all2016 = data2016[['game_date', 'player_name', 'release_speed', 'release_spin_rate']]\n",
    "\n",
    "name_mo2016 = name_all2016[name_all2016.game_date == \"2016-05-08\"]\n",
    "name_mo2016 = name_mo2016[['player_name', 'release_speed', 'release_spin_rate']]\n",
    "name_all2016_0 = name_all2016[name_all2016.game_date != \"2016-05-08\"]\n",
    "mo2016 = name_mo2016.groupby('player_name').agg(np.mean).reset_index('player_name')\n",
    "\n",
    "name = list(set(name_mo2016.player_name))\n",
    "player2016 = pd.DataFrame()\n",
    "speed_count = 0\n",
    "spin_count = 0\n",
    "total_count = 0\n",
    "ptotal_count = 0\n",
    "for i in name:\n",
    "    \n",
    "    total_count += 1\n",
    "    \n",
    "    player = pd.concat([player2016, name_all2016_0[name_all2016_0.player_name == i]])\n",
    "    player2 = player.groupby('game_date').agg(np.mean)\n",
    "    \n",
    "    if len(player2) <= 10:\n",
    "        print(i, \"표본수 부족\")\n",
    "        continue\n",
    "        \n",
    "    speed = mo2016[mo2016.player_name == i]['release_speed']\n",
    "    rate = mo2016[mo2016.player_name == i]['release_spin_rate']\n",
    "    \n",
    "    _, speed_p_value = stats.ttest_1samp(list(player2['release_speed']), popmean=float(speed))\n",
    "    _, spin_p_value = stats.ttest_1samp(list(player2['release_spin_rate']), popmean=float(rate))\n",
    "    \n",
    "    if speed_p_value/2 <= 0.05:\n",
    "        speed_count += 1\n",
    "        \n",
    "    if spin_p_value/2 <= 0.05:\n",
    "        spin_count += 1\n",
    "    \n",
    "    ptotal_count += 1\n",
    "\n",
    "print()    \n",
    "print(\"2016년도 어머니날 전체 선수:\", total_count)\n",
    "print(\"표본수 부족 제외 선수\", ptotal_count)\n",
    "print(\"구속 감소 선수:\", speed_count)\n",
    "print(\"회전수 감소 선수:\", spin_count)\n",
    "print(\"유의미한 구속 감소 선수 비율:\", round(speed_count/ptotal_count, 2))\n",
    "print(\"유의미한 회전수 감소 선수 비율:\", round(spin_count/ptotal_count, 2))\n",
    "\n"
   ]
  },
  {
   "cell_type": "code",
   "execution_count": 32,
   "metadata": {},
   "outputs": [
    {
     "name": "stdout",
     "output_type": "stream",
     "text": [
      "Chad Billingsley 표본수 부족\n",
      "\n",
      "2015년도 어머니날 전체 선수: 117\n",
      "표본수 부족 제외 선수 116\n",
      "구속 감소 선수: 94\n",
      "회전수 감소 선수: 56\n",
      "유의미한 구속 감소 선수 비율: 0.81\n",
      "유의미한 회전수 감소 선수 비율: 0.48\n"
     ]
    }
   ],
   "source": [
    "name_all2015 = data2015[['game_date', 'player_name', 'release_speed', 'release_spin_rate']]\n",
    "\n",
    "name_mo2015 = name_all2015[name_all2015.game_date == \"2015-05-10\"]\n",
    "name_mo2015 = name_mo2015[['player_name', 'release_speed', 'release_spin_rate']]\n",
    "name_all2015_0 = name_all2015[name_all2015.game_date != \"2015-05-10\"]\n",
    "mo2015 = name_mo2015.groupby('player_name').agg(np.mean).reset_index('player_name')\n",
    "\n",
    "name = list(set(name_mo2015.player_name))\n",
    "player2015 = pd.DataFrame()\n",
    "speed_count = 0\n",
    "spin_count = 0\n",
    "total_count = 0\n",
    "ptotal_count = 0\n",
    "for i in name:\n",
    "    \n",
    "    total_count += 1\n",
    "    \n",
    "    player = pd.concat([player2015, name_all2015_0[name_all2015_0.player_name == i]])\n",
    "    player2 = player.groupby('game_date').agg(np.mean)\n",
    "    \n",
    "    if len(player2) <= 10:\n",
    "        print(i, \"표본수 부족\")\n",
    "        continue\n",
    "    \n",
    "    speed = mo2015[mo2015.player_name == i]['release_speed']\n",
    "    rate = mo2015[mo2015.player_name == i]['release_spin_rate']\n",
    "    \n",
    "    _, speed_p_value = stats.ttest_1samp(list(player2['release_speed']), popmean=float(speed))\n",
    "    _, spin_p_value = stats.ttest_1samp(list(player2['release_spin_rate']), popmean=float(rate))\n",
    "    \n",
    "    if speed_p_value/2 <= 0.05:\n",
    "        speed_count += 1\n",
    "        \n",
    "    if spin_p_value/2 <= 0.05:\n",
    "        spin_count += 1\n",
    "    \n",
    "    ptotal_count += 1\n",
    "    \n",
    "print()\n",
    "print(\"2015년도 어머니날 전체 선수:\", total_count)\n",
    "print(\"표본수 부족 제외 선수\", ptotal_count)\n",
    "print(\"구속 감소 선수:\", speed_count)\n",
    "print(\"회전수 감소 선수:\", spin_count)\n",
    "print(\"유의미한 구속 감소 선수 비율:\", round(speed_count/ptotal_count, 2))\n",
    "print(\"유의미한 회전수 감소 선수 비율:\", round(spin_count/ptotal_count, 2))"
   ]
  },
  {
   "cell_type": "code",
   "execution_count": 33,
   "metadata": {},
   "outputs": [
    {
     "data": {
      "text/html": [
       "<div>\n",
       "<style scoped>\n",
       "    .dataframe tbody tr th:only-of-type {\n",
       "        vertical-align: middle;\n",
       "    }\n",
       "\n",
       "    .dataframe tbody tr th {\n",
       "        vertical-align: top;\n",
       "    }\n",
       "\n",
       "    .dataframe thead th {\n",
       "        text-align: right;\n",
       "    }\n",
       "</style>\n",
       "<table border=\"1\" class=\"dataframe\">\n",
       "  <thead>\n",
       "    <tr style=\"text-align: right;\">\n",
       "      <th></th>\n",
       "      <th>연도</th>\n",
       "      <th>전체 선수</th>\n",
       "      <th>분석 대상</th>\n",
       "      <th>구속 감소</th>\n",
       "      <th>회전 감소</th>\n",
       "    </tr>\n",
       "  </thead>\n",
       "  <tbody>\n",
       "    <tr>\n",
       "      <th>0</th>\n",
       "      <td>2018년</td>\n",
       "      <td>123</td>\n",
       "      <td>118</td>\n",
       "      <td>84</td>\n",
       "      <td>90</td>\n",
       "    </tr>\n",
       "    <tr>\n",
       "      <th>1</th>\n",
       "      <td>2017년</td>\n",
       "      <td>152</td>\n",
       "      <td>143</td>\n",
       "      <td>112</td>\n",
       "      <td>104</td>\n",
       "    </tr>\n",
       "    <tr>\n",
       "      <th>2</th>\n",
       "      <td>2016년</td>\n",
       "      <td>126</td>\n",
       "      <td>121</td>\n",
       "      <td>94</td>\n",
       "      <td>76</td>\n",
       "    </tr>\n",
       "    <tr>\n",
       "      <th>3</th>\n",
       "      <td>2015년</td>\n",
       "      <td>117</td>\n",
       "      <td>116</td>\n",
       "      <td>94</td>\n",
       "      <td>56</td>\n",
       "    </tr>\n",
       "  </tbody>\n",
       "</table>\n",
       "</div>"
      ],
      "text/plain": [
       "      연도  전체 선수  분석 대상  구속 감소  회전 감소\n",
       "0  2018년    123    118     84     90\n",
       "1  2017년    152    143    112    104\n",
       "2  2016년    126    121     94     76\n",
       "3  2015년    117    116     94     56"
      ]
     },
     "execution_count": 33,
     "metadata": {},
     "output_type": "execute_result"
    }
   ],
   "source": [
    "result = [[\"2018년\", 123, 118, 84, 90], [\"2017년\", 152, 143, 112, 104], \n",
    "          [\"2016년\", 126, 121, 94, 76], [\"2015년\", 117, 116, 94, 56]]\n",
    "result = pd.DataFrame(result)\n",
    "result.columns = [\"연도\", \"전체 선수\", \"분석 대상\", \"구속 감소\", \"회전 감소\"]\n",
    "result"
   ]
  }
 ],
 "metadata": {
  "kernelspec": {
   "display_name": "Python 3",
   "language": "python",
   "name": "python3"
  },
  "language_info": {
   "codemirror_mode": {
    "name": "ipython",
    "version": 3
   },
   "file_extension": ".py",
   "mimetype": "text/x-python",
   "name": "python",
   "nbconvert_exporter": "python",
   "pygments_lexer": "ipython3",
   "version": "3.7.1"
  }
 },
 "nbformat": 4,
 "nbformat_minor": 2
}
