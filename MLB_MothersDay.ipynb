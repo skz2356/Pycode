{
 "cells": [
  {
   "cell_type": "markdown",
   "metadata": {},
   "source": [
    "># 어머니날 - 분홍색을 보고 선수들의 운동 능력이 떨어질까?"
   ]
  },
  {
   "cell_type": "markdown",
   "metadata": {},
   "source": [
    "## Statcast Data 준비"
   ]
  },
  {
   "cell_type": "markdown",
   "metadata": {},
   "source": [
    "- 2018년도는 종전의 데이터 이용"
   ]
  },
  {
   "cell_type": "code",
   "execution_count": 4,
   "metadata": {},
   "outputs": [],
   "source": [
    "from pybaseball import statcast\n",
    "import pandas as pd"
   ]
  },
  {
   "cell_type": "code",
   "execution_count": 9,
   "metadata": {},
   "outputs": [],
   "source": [
    "dt2017 = pd.date_range(\"20170101\", periods = 365)\n",
    "dt2016 = pd.date_range(\"20160101\", periods = 365)\n",
    "dt2015 = pd.date_range(\"20150101\", periods = 365)"
   ]
  },
  {
   "cell_type": "markdown",
   "metadata": {},
   "source": [
    "## strftime() 날짜와 시간을 str로 변경"
   ]
  },
  {
   "cell_type": "code",
   "execution_count": 15,
   "metadata": {},
   "outputs": [],
   "source": [
    "import datetime\n",
    "\n",
    "dt2017_st = dt2017.strftime('%Y-%m-%d')\n",
    "dt2016_st = dt2016.strftime('%Y-%m-%d')\n",
    "dt2015_st = dt2015.strftime('%Y-%m-%d')\n",
    "\n",
    "dt2017_list = list(dt2017_st)\n",
    "dt2016_list = list(dt2016_st)\n",
    "dt2015_list = list(dt2015_st)"
   ]
  },
  {
   "cell_type": "markdown",
   "metadata": {},
   "source": [
    "## 날짜별로 데이터 다운"
   ]
  },
  {
   "cell_type": "markdown",
   "metadata": {},
   "source": [
    "### 2017"
   ]
  },
  {
   "cell_type": "code",
   "execution_count": 16,
   "metadata": {},
   "outputs": [],
   "source": [
    "for i in dt2017_list:\n",
    "    data = []\n",
    "    data = statcast(i, i)\n",
    "    del data['index']\n",
    "    data.to_csv('D://statcast//savant_{}{}{}.csv'.format(i[:4], i[5:7], i[8:10]), index = False)"
   ]
  },
  {
   "cell_type": "code",
   "execution_count": 21,
   "metadata": {},
   "outputs": [
    {
     "name": "stdout",
     "output_type": "stream",
     "text": [
      "20170130 merged\n",
      "20170301 merged\n",
      "20170331 merged\n",
      "20170430 merged\n",
      "20170530 merged\n",
      "20170629 merged\n",
      "20170729 merged\n",
      "20170828 merged\n",
      "20170927 merged\n",
      "20171027 merged\n",
      "20171126 merged\n",
      "20171226 merged\n",
      "done.\n"
     ]
    }
   ],
   "source": [
    "j = 1\n",
    "\n",
    "for i in dt2017_list:\n",
    "    \n",
    "    if i == dt2017_list[0]:\n",
    "        data2017 = pd.read_csv('D://statcast//savant_{}{}{}.csv'.format(i[:4], i[5:7], i[8:10]))\n",
    "        continue\n",
    "    else:\n",
    "        da = pd.read_csv('D://statcast//savant_{}{}{}.csv'.format(i[:4], i[5:7], i[8:10]))\n",
    "        data2017 = pd.concat([data2017, da])\n",
    "\n",
    "    j += 1\n",
    "    \n",
    "    if j == len(dt2017_list):\n",
    "        print('done.')\n",
    "        \n",
    "    elif j % 30 == 0:\n",
    "        print('{}{}{} merged'.format(i[:4], i[5:7], i[8:10]))   "
   ]
  },
  {
   "cell_type": "code",
   "execution_count": 22,
   "metadata": {},
   "outputs": [],
   "source": [
    "data2017.to_csv('D://statcast//savant2017.csv', index = False)"
   ]
  },
  {
   "cell_type": "markdown",
   "metadata": {},
   "source": [
    "### 2016"
   ]
  },
  {
   "cell_type": "code",
   "execution_count": 18,
   "metadata": {},
   "outputs": [],
   "source": [
    "for i in dt2016_list:\n",
    "    data = []\n",
    "    data = statcast(i, i)\n",
    "    del data['index']\n",
    "    data.to_csv('D://statcast//savant_{}{}{}.csv'.format(i[:4], i[5:7], i[8:10]), index = False)"
   ]
  },
  {
   "cell_type": "code",
   "execution_count": 23,
   "metadata": {},
   "outputs": [
    {
     "name": "stdout",
     "output_type": "stream",
     "text": [
      "20160130 merged\n",
      "20160229 merged\n",
      "20160330 merged\n",
      "20160429 merged\n",
      "20160529 merged\n",
      "20160628 merged\n",
      "20160728 merged\n",
      "20160827 merged\n",
      "20160926 merged\n",
      "20161026 merged\n",
      "20161125 merged\n",
      "20161225 merged\n",
      "done.\n"
     ]
    }
   ],
   "source": [
    "j = 1\n",
    "\n",
    "for i in dt2016_list:\n",
    "    \n",
    "    if i == dt2016_list[0]:\n",
    "        data2016 = pd.read_csv('D://statcast//savant_{}{}{}.csv'.format(i[:4], i[5:7], i[8:10]))\n",
    "        continue\n",
    "    else:\n",
    "        da = pd.read_csv('D://statcast//savant_{}{}{}.csv'.format(i[:4], i[5:7], i[8:10]))\n",
    "        data2016 = pd.concat([data2016, da])\n",
    "\n",
    "    j += 1\n",
    "    \n",
    "    if j == len(dt2016_list):\n",
    "        print('done.')\n",
    "        \n",
    "    elif j % 30 == 0:\n",
    "        print('{}{}{} merged'.format(i[:4], i[5:7], i[8:10]))  "
   ]
  },
  {
   "cell_type": "code",
   "execution_count": 24,
   "metadata": {},
   "outputs": [],
   "source": [
    "data2016.to_csv('D://statcast//savant2016.csv', index = False)"
   ]
  },
  {
   "cell_type": "markdown",
   "metadata": {},
   "source": [
    "### 2015"
   ]
  },
  {
   "cell_type": "code",
   "execution_count": 33,
   "metadata": {},
   "outputs": [],
   "source": [
    "for i in dt2015_list:\n",
    "    data = []\n",
    "    data = statcast(i, i)\n",
    "    del data['index']\n",
    "    data.to_csv('D://statcast//savant_{}{}{}.csv'.format(i[:4], i[5:7], i[8:10]), index = False)"
   ]
  },
  {
   "cell_type": "code",
   "execution_count": 34,
   "metadata": {},
   "outputs": [
    {
     "name": "stdout",
     "output_type": "stream",
     "text": [
      "20150130 merged\n",
      "20150301 merged\n",
      "20150331 merged\n",
      "20150430 merged\n",
      "20150530 merged\n",
      "20150629 merged\n",
      "20150729 merged\n",
      "20150828 merged\n",
      "20150927 merged\n",
      "20151027 merged\n",
      "20151126 merged\n",
      "20151226 merged\n",
      "done.\n"
     ]
    }
   ],
   "source": [
    "j = 1\n",
    "\n",
    "for i in dt2015_list:\n",
    "    \n",
    "    if i == dt2015_list[0]:\n",
    "        data2015 = pd.read_csv('D://statcast//savant_{}{}{}.csv'.format(i[:4], i[5:7], i[8:10]))\n",
    "        continue\n",
    "    else:\n",
    "        da = pd.read_csv('D://statcast//savant_{}{}{}.csv'.format(i[:4], i[5:7], i[8:10]))\n",
    "        data2015 = pd.concat([data2015, da])\n",
    "\n",
    "    j += 1\n",
    "    \n",
    "    if j == len(dt2015_list):\n",
    "        print('done.')\n",
    "        \n",
    "    elif j % 30 == 0:\n",
    "        print('{}{}{} merged'.format(i[:4], i[5:7], i[8:10]))  "
   ]
  },
  {
   "cell_type": "code",
   "execution_count": 35,
   "metadata": {},
   "outputs": [],
   "source": [
    "data2015.to_csv('D://statcast//savant2015.csv', index = False)"
   ]
  },
  {
   "cell_type": "markdown",
   "metadata": {},
   "source": [
    "## 데이터 확인"
   ]
  },
  {
   "cell_type": "code",
   "execution_count": 123,
   "metadata": {
    "scrolled": true
   },
   "outputs": [
    {
     "name": "stderr",
     "output_type": "stream",
     "text": [
      "C:\\Users\\JH\\Anaconda3\\lib\\site-packages\\IPython\\core\\interactiveshell.py:3020: DtypeWarning: Columns (43) have mixed types. Specify dtype option on import or set low_memory=False.\n",
      "  interactivity=interactivity, compiler=compiler, result=result)\n"
     ]
    }
   ],
   "source": [
    "import pandas as pd\n",
    "\n",
    "data2018 = pd.read_csv('D://statcast//savant2018.csv')\n",
    "data2018 = data2018[data2018.game_date < \"2018-10-02\"]\n",
    "\n",
    "data2017 = pd.read_csv('D://statcast//savant2017.csv')\n",
    "data2017 = data2017[data2017.game_date < \"2017-10-03\"]\n",
    "\n",
    "data2016 = pd.read_csv('D://statcast//savant2016.csv')\n",
    "data2016 = data2016[data2016.game_date < \"2016-10-04\"]\n",
    "\n",
    "data2015 = pd.read_csv('D://statcast//savant2015.csv')\n",
    "data2015 = data2015[data2015.game_date < \"2015-10-06\"]"
   ]
  },
  {
   "cell_type": "code",
   "execution_count": 124,
   "metadata": {},
   "outputs": [
    {
     "name": "stdout",
     "output_type": "stream",
     "text": [
      "721190 721243 715823 702302\n"
     ]
    }
   ],
   "source": [
    "print(len(data2018), len(data2017), len(data2016), len(data2015))"
   ]
  },
  {
   "cell_type": "code",
   "execution_count": 125,
   "metadata": {},
   "outputs": [
    {
     "data": {
      "text/html": [
       "<div>\n",
       "<style scoped>\n",
       "    .dataframe tbody tr th:only-of-type {\n",
       "        vertical-align: middle;\n",
       "    }\n",
       "\n",
       "    .dataframe tbody tr th {\n",
       "        vertical-align: top;\n",
       "    }\n",
       "\n",
       "    .dataframe thead th {\n",
       "        text-align: right;\n",
       "    }\n",
       "</style>\n",
       "<table border=\"1\" class=\"dataframe\">\n",
       "  <thead>\n",
       "    <tr style=\"text-align: right;\">\n",
       "      <th></th>\n",
       "      <th>pitch_type</th>\n",
       "      <th>game_date</th>\n",
       "      <th>release_speed</th>\n",
       "      <th>release_pos_x</th>\n",
       "      <th>release_pos_z</th>\n",
       "      <th>player_name</th>\n",
       "      <th>batter</th>\n",
       "      <th>pitcher</th>\n",
       "      <th>events</th>\n",
       "      <th>description</th>\n",
       "      <th>...</th>\n",
       "      <th>home_score</th>\n",
       "      <th>away_score</th>\n",
       "      <th>bat_score</th>\n",
       "      <th>fld_score</th>\n",
       "      <th>post_away_score</th>\n",
       "      <th>post_home_score</th>\n",
       "      <th>post_bat_score</th>\n",
       "      <th>post_fld_score</th>\n",
       "      <th>if_fielding_alignment</th>\n",
       "      <th>of_fielding_alignment</th>\n",
       "    </tr>\n",
       "  </thead>\n",
       "  <tbody>\n",
       "    <tr>\n",
       "      <th>0</th>\n",
       "      <td>SI</td>\n",
       "      <td>2018-03-29</td>\n",
       "      <td>96.7</td>\n",
       "      <td>-1.3857</td>\n",
       "      <td>6.1136</td>\n",
       "      <td>Jeurys Familia</td>\n",
       "      <td>657557.0</td>\n",
       "      <td>544727.0</td>\n",
       "      <td>field_out</td>\n",
       "      <td>hit_into_play</td>\n",
       "      <td>...</td>\n",
       "      <td>9.0</td>\n",
       "      <td>4.0</td>\n",
       "      <td>4.0</td>\n",
       "      <td>9.0</td>\n",
       "      <td>4.0</td>\n",
       "      <td>9.0</td>\n",
       "      <td>4.0</td>\n",
       "      <td>9.0</td>\n",
       "      <td>Standard</td>\n",
       "      <td>Standard</td>\n",
       "    </tr>\n",
       "    <tr>\n",
       "      <th>1</th>\n",
       "      <td>SI</td>\n",
       "      <td>2018-03-29</td>\n",
       "      <td>96.0</td>\n",
       "      <td>-1.3302</td>\n",
       "      <td>6.1877</td>\n",
       "      <td>Jeurys Familia</td>\n",
       "      <td>657557.0</td>\n",
       "      <td>544727.0</td>\n",
       "      <td>NaN</td>\n",
       "      <td>blocked_ball</td>\n",
       "      <td>...</td>\n",
       "      <td>9.0</td>\n",
       "      <td>4.0</td>\n",
       "      <td>4.0</td>\n",
       "      <td>9.0</td>\n",
       "      <td>4.0</td>\n",
       "      <td>9.0</td>\n",
       "      <td>4.0</td>\n",
       "      <td>9.0</td>\n",
       "      <td>Standard</td>\n",
       "      <td>Standard</td>\n",
       "    </tr>\n",
       "    <tr>\n",
       "      <th>2</th>\n",
       "      <td>FF</td>\n",
       "      <td>2018-03-29</td>\n",
       "      <td>98.1</td>\n",
       "      <td>-1.3381</td>\n",
       "      <td>5.9711</td>\n",
       "      <td>Jeurys Familia</td>\n",
       "      <td>425877.0</td>\n",
       "      <td>544727.0</td>\n",
       "      <td>walk</td>\n",
       "      <td>ball</td>\n",
       "      <td>...</td>\n",
       "      <td>9.0</td>\n",
       "      <td>4.0</td>\n",
       "      <td>4.0</td>\n",
       "      <td>9.0</td>\n",
       "      <td>4.0</td>\n",
       "      <td>9.0</td>\n",
       "      <td>4.0</td>\n",
       "      <td>9.0</td>\n",
       "      <td>Strategic</td>\n",
       "      <td>Standard</td>\n",
       "    </tr>\n",
       "    <tr>\n",
       "      <th>3</th>\n",
       "      <td>FF</td>\n",
       "      <td>2018-03-29</td>\n",
       "      <td>97.4</td>\n",
       "      <td>-1.1546</td>\n",
       "      <td>5.9254</td>\n",
       "      <td>Jeurys Familia</td>\n",
       "      <td>425877.0</td>\n",
       "      <td>544727.0</td>\n",
       "      <td>NaN</td>\n",
       "      <td>ball</td>\n",
       "      <td>...</td>\n",
       "      <td>9.0</td>\n",
       "      <td>4.0</td>\n",
       "      <td>4.0</td>\n",
       "      <td>9.0</td>\n",
       "      <td>4.0</td>\n",
       "      <td>9.0</td>\n",
       "      <td>4.0</td>\n",
       "      <td>9.0</td>\n",
       "      <td>Standard</td>\n",
       "      <td>Standard</td>\n",
       "    </tr>\n",
       "    <tr>\n",
       "      <th>4</th>\n",
       "      <td>FF</td>\n",
       "      <td>2018-03-29</td>\n",
       "      <td>97.1</td>\n",
       "      <td>-1.1802</td>\n",
       "      <td>6.0784</td>\n",
       "      <td>Jeurys Familia</td>\n",
       "      <td>425877.0</td>\n",
       "      <td>544727.0</td>\n",
       "      <td>NaN</td>\n",
       "      <td>ball</td>\n",
       "      <td>...</td>\n",
       "      <td>9.0</td>\n",
       "      <td>4.0</td>\n",
       "      <td>4.0</td>\n",
       "      <td>9.0</td>\n",
       "      <td>4.0</td>\n",
       "      <td>9.0</td>\n",
       "      <td>4.0</td>\n",
       "      <td>9.0</td>\n",
       "      <td>Standard</td>\n",
       "      <td>Standard</td>\n",
       "    </tr>\n",
       "  </tbody>\n",
       "</table>\n",
       "<p>5 rows × 89 columns</p>\n",
       "</div>"
      ],
      "text/plain": [
       "  pitch_type   game_date  release_speed  release_pos_x  release_pos_z  \\\n",
       "0         SI  2018-03-29           96.7        -1.3857         6.1136   \n",
       "1         SI  2018-03-29           96.0        -1.3302         6.1877   \n",
       "2         FF  2018-03-29           98.1        -1.3381         5.9711   \n",
       "3         FF  2018-03-29           97.4        -1.1546         5.9254   \n",
       "4         FF  2018-03-29           97.1        -1.1802         6.0784   \n",
       "\n",
       "      player_name    batter   pitcher     events    description  \\\n",
       "0  Jeurys Familia  657557.0  544727.0  field_out  hit_into_play   \n",
       "1  Jeurys Familia  657557.0  544727.0        NaN   blocked_ball   \n",
       "2  Jeurys Familia  425877.0  544727.0       walk           ball   \n",
       "3  Jeurys Familia  425877.0  544727.0        NaN           ball   \n",
       "4  Jeurys Familia  425877.0  544727.0        NaN           ball   \n",
       "\n",
       "           ...           home_score  away_score  bat_score  fld_score  \\\n",
       "0          ...                  9.0         4.0        4.0        9.0   \n",
       "1          ...                  9.0         4.0        4.0        9.0   \n",
       "2          ...                  9.0         4.0        4.0        9.0   \n",
       "3          ...                  9.0         4.0        4.0        9.0   \n",
       "4          ...                  9.0         4.0        4.0        9.0   \n",
       "\n",
       "   post_away_score post_home_score post_bat_score post_fld_score  \\\n",
       "0              4.0             9.0            4.0            9.0   \n",
       "1              4.0             9.0            4.0            9.0   \n",
       "2              4.0             9.0            4.0            9.0   \n",
       "3              4.0             9.0            4.0            9.0   \n",
       "4              4.0             9.0            4.0            9.0   \n",
       "\n",
       "  if_fielding_alignment of_fielding_alignment  \n",
       "0              Standard              Standard  \n",
       "1              Standard              Standard  \n",
       "2             Strategic              Standard  \n",
       "3              Standard              Standard  \n",
       "4              Standard              Standard  \n",
       "\n",
       "[5 rows x 89 columns]"
      ]
     },
     "execution_count": 125,
     "metadata": {},
     "output_type": "execute_result"
    }
   ],
   "source": [
    "data2018.head()"
   ]
  },
  {
   "cell_type": "code",
   "execution_count": 126,
   "metadata": {},
   "outputs": [],
   "source": [
    "import numpy as np"
   ]
  },
  {
   "cell_type": "code",
   "execution_count": 127,
   "metadata": {},
   "outputs": [],
   "source": [
    "group2018_1 = data2018.groupby('game_date').release_speed.agg(np.mean)\n",
    "group2018_2 = data2018.groupby('game_date').release_spin_rate.agg(np.mean)\n",
    "\n",
    "group2018 = pd.concat([group2018_1, group2018_2], axis=1)\n",
    "group2018 = pd.DataFrame(group2018)\n",
    "\n",
    "mother2018 = group2018.iloc[45]\n",
    "all2018dr = group2018.drop(\"2018-05-13\")\n",
    "all2018 = np.mean(all2018dr, axis=0)"
   ]
  },
  {
   "cell_type": "code",
   "execution_count": 128,
   "metadata": {},
   "outputs": [],
   "source": [
    "group2017_1 = data2017.groupby('game_date').release_speed.agg(np.mean)\n",
    "group2017_2 = data2017.groupby('game_date').release_spin_rate.agg(np.mean)\n",
    "\n",
    "group2017 = pd.concat([group2017_1, group2017_2], axis=1)\n",
    "group2017 = pd.DataFrame(group2017)\n",
    "\n",
    "mother2017 = group2017.iloc[42]\n",
    "\n",
    "all2017dr = group2017.drop(\"2017-05-14\")\n",
    "all2017 = np.mean(all2017dr, axis=0)"
   ]
  },
  {
   "cell_type": "code",
   "execution_count": 129,
   "metadata": {},
   "outputs": [],
   "source": [
    "group2016_1 = data2016.groupby('game_date').release_speed.agg(np.mean)\n",
    "group2016_2 = data2016.groupby('game_date').release_spin_rate.agg(np.mean)\n",
    "\n",
    "group2016 = pd.concat([group2016_1, group2016_2], axis=1)\n",
    "group2016 = pd.DataFrame(group2016)\n",
    "\n",
    "mother2016 = group2016.iloc[35]\n",
    "all2016dr = group2016.drop(\"2016-05-08\")\n",
    "all2016 = np.mean(all2016dr, axis=0)"
   ]
  },
  {
   "cell_type": "code",
   "execution_count": 130,
   "metadata": {},
   "outputs": [],
   "source": [
    "group2015_1 = data2015.groupby('game_date').release_speed.agg(np.mean)\n",
    "group2015_2 = data2015.groupby('game_date').release_spin_rate.agg(np.mean)\n",
    "\n",
    "group2015 = pd.concat([group2015_1, group2015_2], axis=1)\n",
    "group2015 = pd.DataFrame(group2015)\n",
    "\n",
    "mother2015 = group2015.iloc[35]\n",
    "all2015dr = group2015.drop(\"2015-05-10\")\n",
    "all2015 = np.mean(all2015dr, axis=0)"
   ]
  },
  {
   "cell_type": "code",
   "execution_count": 131,
   "metadata": {},
   "outputs": [
    {
     "data": {
      "text/plain": [
       "release_speed          88.725209\n",
       "release_spin_rate    2127.232569\n",
       "dtype: float64"
      ]
     },
     "execution_count": 131,
     "metadata": {},
     "output_type": "execute_result"
    }
   ],
   "source": [
    "all2015"
   ]
  },
  {
   "cell_type": "markdown",
   "metadata": {},
   "source": [
    "## 연평균 vs 어머니날"
   ]
  },
  {
   "cell_type": "code",
   "execution_count": 132,
   "metadata": {},
   "outputs": [
    {
     "data": {
      "text/plain": [
       "release_speed          88.662623\n",
       "release_spin_rate    2120.547041\n",
       "release_speed          88.725209\n",
       "release_spin_rate    2127.232569\n",
       "dtype: float64"
      ]
     },
     "execution_count": 132,
     "metadata": {},
     "output_type": "execute_result"
    }
   ],
   "source": [
    "pd.concat([mother2015, all2015], axis=0)"
   ]
  },
  {
   "cell_type": "code",
   "execution_count": 133,
   "metadata": {},
   "outputs": [],
   "source": [
    "a15 = list([mother2015[0], all2015[0], mother2015[1], all2015[1]])\n",
    "a16 = list([mother2016[0], all2016[0], mother2016[1], all2016[1]])\n",
    "a17 = list([mother2017[0], all2017[0], mother2017[1], all2017[1]])\n",
    "a18 = list([mother2018[0], all2018[0], mother2018[1], all2018[1]])\n",
    "\n",
    "all = pd.DataFrame([a18, a17, a16, a15])"
   ]
  },
  {
   "cell_type": "code",
   "execution_count": 134,
   "metadata": {
    "scrolled": false
   },
   "outputs": [
    {
     "data": {
      "text/html": [
       "<div>\n",
       "<style scoped>\n",
       "    .dataframe tbody tr th:only-of-type {\n",
       "        vertical-align: middle;\n",
       "    }\n",
       "\n",
       "    .dataframe tbody tr th {\n",
       "        vertical-align: top;\n",
       "    }\n",
       "\n",
       "    .dataframe thead th {\n",
       "        text-align: right;\n",
       "    }\n",
       "</style>\n",
       "<table border=\"1\" class=\"dataframe\">\n",
       "  <thead>\n",
       "    <tr style=\"text-align: right;\">\n",
       "      <th></th>\n",
       "      <th>어머니날 구속</th>\n",
       "      <th>연평균 구속</th>\n",
       "      <th>어머니날 회전수</th>\n",
       "      <th>연평균 회전수</th>\n",
       "    </tr>\n",
       "  </thead>\n",
       "  <tbody>\n",
       "    <tr>\n",
       "      <th>2018년</th>\n",
       "      <td>88.1 MPH</td>\n",
       "      <td>88.6 MPH</td>\n",
       "      <td>2207 RPM</td>\n",
       "      <td>2226 RPM</td>\n",
       "    </tr>\n",
       "    <tr>\n",
       "      <th>2017년</th>\n",
       "      <td>88.5 MPH</td>\n",
       "      <td>88.6 MPH</td>\n",
       "      <td>2218 RPM</td>\n",
       "      <td>2218 RPM</td>\n",
       "    </tr>\n",
       "    <tr>\n",
       "      <th>2016년</th>\n",
       "      <td>88.3 MPH</td>\n",
       "      <td>88.8 MPH</td>\n",
       "      <td>2177 RPM</td>\n",
       "      <td>2196 RPM</td>\n",
       "    </tr>\n",
       "    <tr>\n",
       "      <th>2015년</th>\n",
       "      <td>88.7 MPH</td>\n",
       "      <td>88.7 MPH</td>\n",
       "      <td>2121 RPM</td>\n",
       "      <td>2127 RPM</td>\n",
       "    </tr>\n",
       "  </tbody>\n",
       "</table>\n",
       "</div>"
      ],
      "text/plain": [
       "        어머니날 구속    연평균 구속  어머니날 회전수   연평균 회전수\n",
       "2018년  88.1 MPH  88.6 MPH  2207 RPM  2226 RPM\n",
       "2017년  88.5 MPH  88.6 MPH  2218 RPM  2218 RPM\n",
       "2016년  88.3 MPH  88.8 MPH  2177 RPM  2196 RPM\n",
       "2015년  88.7 MPH  88.7 MPH  2121 RPM  2127 RPM"
      ]
     },
     "execution_count": 134,
     "metadata": {},
     "output_type": "execute_result"
    }
   ],
   "source": [
    "all.columns = [\"어머니날 구속\", \"연평균 구속\", \"어머니날 회전수\", \"연평균 회전수\"]\n",
    "all.index = [\"2018년\", \"2017년\", \"2016년\", \"2015년\"]\n",
    "all['어머니날 구속'] = round(all['어머니날 구속'], 1)\n",
    "all['연평균 구속'] = round(all['연평균 구속'], 1)\n",
    "all['어머니날 회전수'] = round(all['어머니날 회전수'])\n",
    "all['연평균 회전수'] = round(all['연평균 회전수'])\n",
    "\n",
    "\n",
    "\n",
    "def plu(x):\n",
    "    y = x + \" MPH\"\n",
    "    return y\n",
    "\n",
    "all['어머니날 구속'] = list(map(str, all['어머니날 구속']))\n",
    "all['어머니날 구속'] = list(map(plu, all['어머니날 구속']))\n",
    "all['연평균 구속'] = list(map(str, all['연평균 구속']))\n",
    "all['연평균 구속'] = list(map(plu, all['연평균 구속']))\n",
    "\n",
    "def plu(x):\n",
    "    y = x + \" RPM\"\n",
    "    return y\n",
    "\n",
    "all['어머니날 회전수'] = list(map(int, all['어머니날 회전수']))\n",
    "all['어머니날 회전수'] = list(map(str, all['어머니날 회전수']))\n",
    "all['어머니날 회전수'] = list(map(plu, all['어머니날 회전수']))\n",
    "all['연평균 회전수'] = list(map(int, all['연평균 회전수']))\n",
    "all['연평균 회전수'] = list(map(str, all['연평균 회전수']))\n",
    "all['연평균 회전수'] = list(map(plu, all['연평균 회전수']))\n",
    "\n",
    "all"
   ]
  },
  {
   "cell_type": "markdown",
   "metadata": {},
   "source": [
    "## 분포 확인"
   ]
  },
  {
   "cell_type": "code",
   "execution_count": 135,
   "metadata": {},
   "outputs": [],
   "source": [
    "import matplotlib.pyplot as plt"
   ]
  },
  {
   "cell_type": "code",
   "execution_count": 136,
   "metadata": {},
   "outputs": [
    {
     "data": {
      "image/png": "[encoded data removed]",
      "text/plain": [
       "<Figure size 432x288 with 4 Axes>"
      ]
     },
     "metadata": {},
     "output_type": "display_data"
    }
   ],
   "source": [
    "plt.style.use('ggplot')\n",
    "\n",
    "alldr = [all2015dr, all2016dr, all2017dr, all2018dr]\n",
    "\n",
    "for i, alldr in enumerate(alldr, 2015):\n",
    "    \n",
    "    ax = plt.subplot(2, 2, i - 2014)\n",
    "    ax.hist(alldr[\"release_speed\"], bins=30)\n",
    "    ax.set_xlabel(\"{}년\".format(i), size=15)\n",
    "\n",
    "plt.suptitle(\"구속(MPH)\", size=20, y=1.1)\n",
    "plt.tight_layout()"
   ]
  },
  {
   "cell_type": "code",
   "execution_count": 137,
   "metadata": {},
   "outputs": [
    {
     "data": {
      "image/png": "[encoded data removed]",
      "text/plain": [
       "<Figure size 432x288 with 4 Axes>"
      ]
     },
     "metadata": {},
     "output_type": "display_data"
    }
   ],
   "source": [
    "alldr = [all2015dr, all2016dr, all2017dr, all2018dr]\n",
    "\n",
    "for i, alldr in enumerate(alldr, 2015):\n",
    "    \n",
    "    ax = plt.subplot(2, 2, i - 2014)\n",
    "    ax.hist(alldr[\"release_spin_rate\"], bins=30)\n",
    "    ax.set_xlabel(\"{}년\".format(i), size=15)\n",
    "\n",
    "plt.suptitle(\"회전수(RPM)\", size=20, y=1.1)\n",
    "plt.tight_layout()"
   ]
  },
  {
   "cell_type": "markdown",
   "metadata": {},
   "source": [
    "## 정규성 검정"
   ]
  },
  {
   "cell_type": "code",
   "execution_count": 138,
   "metadata": {},
   "outputs": [],
   "source": [
    "from scipy import stats"
   ]
  },
  {
   "cell_type": "code",
   "execution_count": 139,
   "metadata": {},
   "outputs": [
    {
     "name": "stdout",
     "output_type": "stream",
     "text": [
      "2015년도 구속/회전수 정규성 검정 결과\n",
      "(0.9826387166976929, 0.025865398347377777)\n",
      "(0.9871382713317871, 0.10397405922412872)\n",
      "2016년도 구속/회전수 정규성 검정 결과\n",
      "(0.9943619966506958, 0.7347095608711243)\n",
      "(0.987774670124054, 0.12648551166057587)\n",
      "2017년도 구속/회전수 정규성 검정 결과\n",
      "(0.9964140057563782, 0.9517529010772705)\n",
      "(0.9937223196029663, 0.648509681224823)\n",
      "2018년도 구속/회전수 정규성 검정 결과\n",
      "(0.9720584750175476, 0.0009905402548611164)\n",
      "(0.9903783202171326, 0.25746577978134155)\n"
     ]
    }
   ],
   "source": [
    "alldr = [all2015dr, all2016dr, all2017dr, all2018dr]\n",
    "\n",
    "for i, alldr in enumerate(alldr, 2015):\n",
    "    \n",
    "    print(\"{}년도 구속/회전수 정규성 검정 결과\".format(i))\n",
    "    print(stats.shapiro(alldr[\"release_speed\"]))\n",
    "    print(stats.shapiro(alldr[\"release_spin_rate\"]))"
   ]
  },
  {
   "cell_type": "markdown",
   "metadata": {},
   "source": [
    "## 포스트 시즌 데이터를 제외한 이유"
   ]
  },
  {
   "cell_type": "markdown",
   "metadata": {},
   "source": [
    "- 시즌 전체 데이터일 경우\n",
    "- 표본의 크기가 30개 이상이므로 중심극한정리에 의해 일단은 정규성 가정을 하지만..\n",
    "- 샤피로 검정에서는 정규분포를 따르지 않는다는 결과가 나왔음\n",
    "- 확인 결과 이상치 데이터들은 보통 포스트시즌!"
   ]
  },
  {
   "cell_type": "code",
   "execution_count": 87,
   "metadata": {
    "scrolled": true
   },
   "outputs": [
    {
     "data": {
      "text/html": [
       "<div>\n",
       "<style scoped>\n",
       "    .dataframe tbody tr th:only-of-type {\n",
       "        vertical-align: middle;\n",
       "    }\n",
       "\n",
       "    .dataframe tbody tr th {\n",
       "        vertical-align: top;\n",
       "    }\n",
       "\n",
       "    .dataframe thead th {\n",
       "        text-align: right;\n",
       "    }\n",
       "</style>\n",
       "<table border=\"1\" class=\"dataframe\">\n",
       "  <thead>\n",
       "    <tr style=\"text-align: right;\">\n",
       "      <th></th>\n",
       "      <th>release_speed</th>\n",
       "      <th>release_spin_rate</th>\n",
       "    </tr>\n",
       "    <tr>\n",
       "      <th>game_date</th>\n",
       "      <th></th>\n",
       "      <th></th>\n",
       "    </tr>\n",
       "  </thead>\n",
       "  <tbody>\n",
       "    <tr>\n",
       "      <th>2017-10-03</th>\n",
       "      <td>91.091254</td>\n",
       "      <td>2314.905325</td>\n",
       "    </tr>\n",
       "    <tr>\n",
       "      <th>2017-10-05</th>\n",
       "      <td>89.452508</td>\n",
       "      <td>2431.164983</td>\n",
       "    </tr>\n",
       "    <tr>\n",
       "      <th>2017-10-09</th>\n",
       "      <td>90.664836</td>\n",
       "      <td>2332.889924</td>\n",
       "    </tr>\n",
       "    <tr>\n",
       "      <th>2017-10-14</th>\n",
       "      <td>90.907386</td>\n",
       "      <td>2346.868369</td>\n",
       "    </tr>\n",
       "    <tr>\n",
       "      <th>2017-10-15</th>\n",
       "      <td>87.981507</td>\n",
       "      <td>2409.222222</td>\n",
       "    </tr>\n",
       "    <tr>\n",
       "      <th>2017-10-17</th>\n",
       "      <td>89.739750</td>\n",
       "      <td>2354.113139</td>\n",
       "    </tr>\n",
       "    <tr>\n",
       "      <th>2017-10-20</th>\n",
       "      <td>92.123404</td>\n",
       "      <td>2524.436090</td>\n",
       "    </tr>\n",
       "    <tr>\n",
       "      <th>2017-10-21</th>\n",
       "      <td>87.797934</td>\n",
       "      <td>2374.436441</td>\n",
       "    </tr>\n",
       "    <tr>\n",
       "      <th>2017-10-24</th>\n",
       "      <td>88.505687</td>\n",
       "      <td>2354.755981</td>\n",
       "    </tr>\n",
       "    <tr>\n",
       "      <th>2017-10-25</th>\n",
       "      <td>90.317169</td>\n",
       "      <td>2480.884848</td>\n",
       "    </tr>\n",
       "    <tr>\n",
       "      <th>2017-10-27</th>\n",
       "      <td>90.592254</td>\n",
       "      <td>2434.127208</td>\n",
       "    </tr>\n",
       "    <tr>\n",
       "      <th>2017-10-29</th>\n",
       "      <td>88.773861</td>\n",
       "      <td>2314.849148</td>\n",
       "    </tr>\n",
       "    <tr>\n",
       "      <th>2017-10-31</th>\n",
       "      <td>89.999200</td>\n",
       "      <td>2553.959350</td>\n",
       "    </tr>\n",
       "    <tr>\n",
       "      <th>2017-11-01</th>\n",
       "      <td>90.465734</td>\n",
       "      <td>2375.773852</td>\n",
       "    </tr>\n",
       "  </tbody>\n",
       "</table>\n",
       "</div>"
      ],
      "text/plain": [
       "            release_speed  release_spin_rate\n",
       "game_date                                   \n",
       "2017-10-03      91.091254        2314.905325\n",
       "2017-10-05      89.452508        2431.164983\n",
       "2017-10-09      90.664836        2332.889924\n",
       "2017-10-14      90.907386        2346.868369\n",
       "2017-10-15      87.981507        2409.222222\n",
       "2017-10-17      89.739750        2354.113139\n",
       "2017-10-20      92.123404        2524.436090\n",
       "2017-10-21      87.797934        2374.436441\n",
       "2017-10-24      88.505687        2354.755981\n",
       "2017-10-25      90.317169        2480.884848\n",
       "2017-10-27      90.592254        2434.127208\n",
       "2017-10-29      88.773861        2314.849148\n",
       "2017-10-31      89.999200        2553.959350\n",
       "2017-11-01      90.465734        2375.773852"
      ]
     },
     "execution_count": 87,
     "metadata": {},
     "output_type": "execute_result"
    }
   ],
   "source": [
    "data_ex = pd.read_csv('D://statcast//savant2017.csv')\n",
    "\n",
    "group_ex_1 = data_ex.groupby('game_date').release_speed.agg(np.mean)\n",
    "group_ex_2 = data_ex.groupby('game_date').release_spin_rate.agg(np.mean)\n",
    "\n",
    "group_ex = pd.concat([group_ex_1, group_ex_2], axis=1)\n",
    "group_ex = pd.DataFrame(group_ex)\n",
    "\n",
    "all_ex_dr = group_ex.drop(\"2017-05-14\")\n",
    "all_ex_dr[all_ex_dr.release_spin_rate > 2300]"
   ]
  },
  {
   "cell_type": "markdown",
   "metadata": {},
   "source": [
    "## t-검정(정규성 충족, 모분산 X, 단측 검정)"
   ]
  },
  {
   "cell_type": "code",
   "execution_count": 140,
   "metadata": {
    "scrolled": true
   },
   "outputs": [
    {
     "name": "stdout",
     "output_type": "stream",
     "text": [
      "2018 구속 p-value = 2.9744405181657992e-36\n",
      "2018 회전수 p-value = 1.3634644408153428e-19\n",
      "\n",
      "2017 구속 p-value = 0.005117433730657389\n",
      "2017 회전수 p-value = 0.2852486996336676\n",
      "\n",
      "2016 구속 p-value = 6.839761161906918e-28\n",
      "2016 회전수 p-value = 3.8648023272034784e-29\n",
      "\n",
      "2015 구속 p-value = 0.02033377419282858\n",
      "2015 회전수 p-value = 0.0004104390132524972\n"
     ]
    }
   ],
   "source": [
    "_, p_value = stats.ttest_1samp(list(all2018dr[\"release_speed\"]), popmean=mother2018[0])\n",
    "print(\"2018 구속 p-value =\", p_value / 2)\n",
    "_, p_value = stats.ttest_1samp(list(all2018dr[\"release_spin_rate\"]), popmean=mother2018[1])\n",
    "print(\"2018 회전수 p-value =\", p_value / 2)\n",
    "print()\n",
    "\n",
    "_, p_value = stats.ttest_1samp(list(all2017dr[\"release_speed\"]), popmean=mother2017[0])\n",
    "print(\"2017 구속 p-value =\", p_value / 2)\n",
    "_, p_value = stats.ttest_1samp(list(all2017dr[\"release_spin_rate\"]), popmean=mother2017[1])\n",
    "print(\"2017 회전수 p-value =\", p_value / 2)\n",
    "print()\n",
    "\n",
    "_, p_value = stats.ttest_1samp(list(all2016dr[\"release_speed\"]), popmean=mother2016[0])\n",
    "print(\"2016 구속 p-value =\", p_value / 2)\n",
    "_, p_value = stats.ttest_1samp(list(all2016dr[\"release_spin_rate\"]), popmean=mother2016[1])\n",
    "print(\"2016 회전수 p-value =\", p_value / 2)\n",
    "print()\n",
    "\n",
    "_, p_value = stats.ttest_1samp(list(all2015dr[\"release_speed\"]), popmean=mother2015[0])\n",
    "print(\"2015 구속 p-value =\", p_value / 2)\n",
    "_, p_value = stats.ttest_1samp(list(all2015dr[\"release_spin_rate\"]), popmean=mother2015[1])\n",
    "print(\"2015 회전수 p-value =\", p_value / 2)"
   ]
  },
  {
   "cell_type": "markdown",
   "metadata": {},
   "source": [
    "## t-검정(선수 개개인에 대하여)"
   ]
  },
  {
   "cell_type": "code",
   "execution_count": 141,
   "metadata": {},
   "outputs": [],
   "source": [
    "name_all2018 = data2018[data2018.game_date != \"2018-05-13\"]\n",
    "name_all2017 = data2017[data2017.game_date != \"2017-05-14\"]\n",
    "name_all2016 = data2016[data2016.game_date != \"2016-05-08\"]\n",
    "name_all2015 = data2015[data2015.game_date != \"2015-05-10\"]\n",
    "\n",
    "name_mo2018 = data2018[data2018.game_date == \"2018-05-13\"]\n",
    "name_mo2017 = data2017[data2017.game_date == \"2017-05-14\"]\n",
    "name_mo2016 = data2016[data2016.game_date == \"2016-05-08\"]\n",
    "name_mo2015 = data2015[data2015.game_date == \"2015-05-10\"]"
   ]
  },
  {
   "cell_type": "code",
   "execution_count": 154,
   "metadata": {},
   "outputs": [
    {
     "name": "stdout",
     "output_type": "stream",
     "text": [
      "Brandon Mann 표본수 부족\n",
      "Johnny Field 표본수 부족\n",
      "Adam Wainwright 표본수 부족\n",
      "Shohei Ohtani 표본수 부족\n",
      "Fernando Romero 표본수 부족\n",
      "\n",
      "2018년도 어머니날 전체 선수: 123\n",
      "표본수 부족 제외 선수 118\n",
      "구속 감소 선수: 84\n",
      "회전수 감소 선수: 90\n",
      "유의미한 구속 감소 선수 비율: 0.71\n",
      "유의미한 회전수 감소 선수 비율: 0.76\n"
     ]
    }
   ],
   "source": [
    "name_all2018 = data2018[['game_date', 'player_name', 'release_speed', 'release_spin_rate']]\n",
    "\n",
    "name_mo2018 = name_all2018[name_all2018.game_date == \"2018-05-13\"]\n",
    "name_mo2018 = name_mo2018[['player_name', 'release_speed', 'release_spin_rate']]\n",
    "name_all2018_0 = name_all2018[name_all2018.game_date != \"2018-05-13\"]\n",
    "mo2018 = name_mo2018.groupby('player_name').agg(np.mean).reset_index('player_name')\n",
    "\n",
    "name = list(set(name_mo2018.player_name))\n",
    "player2018 = pd.DataFrame()\n",
    "speed_count = 0\n",
    "spin_count = 0\n",
    "total_count = 0\n",
    "ptotal_count = 0\n",
    "for i in name:\n",
    "    \n",
    "    total_count += 1\n",
    "    \n",
    "    player = pd.concat([player2018, name_all2018_0[name_all2018_0.player_name == i]])\n",
    "    player2 = player.groupby('game_date').agg(np.mean)\n",
    "    \n",
    "    if len(player2) <= 10:\n",
    "        print(i, \"표본수 부족\")\n",
    "        continue\n",
    "    \n",
    "    speed = mo2018[mo2018.player_name == i]['release_speed']\n",
    "    rate = mo2018[mo2018.player_name == i]['release_spin_rate']\n",
    "    \n",
    "    _, speed_p_value = stats.ttest_1samp(list(player2['release_speed']), popmean=float(speed))\n",
    "    _, spin_p_value = stats.ttest_1samp(list(player2['release_spin_rate']), popmean=float(rate))\n",
    "        \n",
    "    if speed_p_value/2 <= 0.05:\n",
    "        speed_count += 1\n",
    "        \n",
    "    if spin_p_value/2 <= 0.05:\n",
    "        spin_count += 1\n",
    "    \n",
    "    ptotal_count += 1\n",
    "\n",
    "print()\n",
    "print(\"2018년도 어머니날 전체 선수:\", total_count)\n",
    "print(\"표본수 부족 제외 선수\", ptotal_count)\n",
    "print(\"구속 감소 선수:\", speed_count)\n",
    "print(\"회전수 감소 선수:\", spin_count)\n",
    "print(\"유의미한 구속 감소 선수 비율:\", round(speed_count/ptotal_count, 2))\n",
    "print(\"유의미한 회전수 감소 선수 비율:\", round(spin_count/ptotal_count, 2))"
   ]
  },
  {
   "cell_type": "code",
   "execution_count": 155,
   "metadata": {},
   "outputs": [
    {
     "name": "stdout",
     "output_type": "stream",
     "text": [
      "Adam Wilk 표본수 부족\n",
      "Justin Haley 표본수 부족\n",
      "Jered Weaver 표본수 부족\n",
      "Julio Urias 표본수 부족\n",
      "Robbie Ross Jr. 표본수 부족\n",
      "Bobby Wahl 표본수 부족\n",
      "Aaron Sanchez 표본수 부족\n",
      "Dayan Diaz 표본수 부족\n",
      "Barrett Astin 표본수 부족\n",
      "\n",
      "2017년도 어머니날 전체 선수: 152\n",
      "표본수 부족 제외 선수 143\n",
      "구속 감소 선수: 112\n",
      "회전수 감소 선수: 104\n",
      "유의미한 구속 감소 선수 비율: 0.78\n",
      "유의미한 회전수 감소 선수 비율: 0.73\n"
     ]
    }
   ],
   "source": [
    "name_all2017 = data2017[['game_date', 'player_name', 'release_speed', 'release_spin_rate']]\n",
    "\n",
    "name_mo2017 = name_all2017[name_all2017.game_date == \"2017-05-14\"]\n",
    "name_mo2017 = name_mo2017[['player_name', 'release_speed', 'release_spin_rate']]\n",
    "name_all2017_0 = name_all2017[name_all2017.game_date != \"2017-05-14\"]\n",
    "mo2017 = name_mo2017.groupby('player_name').agg(np.mean).reset_index('player_name')\n",
    "\n",
    "name = list(set(name_mo2017.player_name))\n",
    "player2017 = pd.DataFrame()\n",
    "speed_count = 0\n",
    "spin_count = 0\n",
    "total_count = 0\n",
    "ptotal_count = 0\n",
    "for i in name:\n",
    "    \n",
    "    total_count += 1\n",
    "    \n",
    "    player = pd.concat([player2017, name_all2017_0[name_all2017_0.player_name == i]])\n",
    "    player2 = player.groupby('game_date').agg(np.mean)\n",
    "    \n",
    "    if len(player2) <= 10:\n",
    "        print(i, \"표본수 부족\")\n",
    "        continue\n",
    "    \n",
    "    speed = mo2017[mo2017.player_name == i]['release_speed']\n",
    "    rate = mo2017[mo2017.player_name == i]['release_spin_rate']\n",
    "    \n",
    "    _, speed_p_value = stats.ttest_1samp(list(player2['release_speed']), popmean=float(speed))\n",
    "    _, spin_p_value = stats.ttest_1samp(list(player2['release_spin_rate']), popmean=float(rate))\n",
    "    \n",
    "    if speed_p_value/2 <= 0.05:\n",
    "        speed_count += 1\n",
    "        \n",
    "    if spin_p_value/2 <= 0.05:\n",
    "        spin_count += 1\n",
    "    \n",
    "    ptotal_count += 1\n",
    "\n",
    "print()    \n",
    "print(\"2017년도 어머니날 전체 선수:\", total_count)\n",
    "print(\"표본수 부족 제외 선수\", ptotal_count)\n",
    "print(\"구속 감소 선수:\", speed_count)\n",
    "print(\"회전수 감소 선수:\", spin_count)\n",
    "print(\"유의미한 구속 감소 선수 비율:\", round(speed_count/ptotal_count, 2))\n",
    "print(\"유의미한 회전수 감소 선수 비율:\", round(spin_count/ptotal_count, 2))"
   ]
  },
  {
   "cell_type": "code",
   "execution_count": 156,
   "metadata": {},
   "outputs": [
    {
     "name": "stdout",
     "output_type": "stream",
     "text": [
      "Josh Phegley 표본수 부족\n",
      "Javy Guerra 표본수 부족\n",
      "J.B. Wendelken 표본수 부족\n",
      "Mayckol Guaipe 표본수 부족\n",
      "Steve Delabar 표본수 부족\n",
      "\n",
      "2016년도 어머니날 전체 선수: 126\n",
      "표본수 부족 제외 선수 121\n",
      "구속 감소 선수: 94\n",
      "회전수 감소 선수: 76\n",
      "유의미한 구속 감소 선수 비율: 0.78\n",
      "유의미한 회전수 감소 선수 비율: 0.63\n"
     ]
    }
   ],
   "source": [
    "name_all2016 = data2016[['game_date', 'player_name', 'release_speed', 'release_spin_rate']]\n",
    "\n",
    "name_mo2016 = name_all2016[name_all2016.game_date == \"2016-05-08\"]\n",
    "name_mo2016 = name_mo2016[['player_name', 'release_speed', 'release_spin_rate']]\n",
    "name_all2016_0 = name_all2016[name_all2016.game_date != \"2016-05-08\"]\n",
    "mo2016 = name_mo2016.groupby('player_name').agg(np.mean).reset_index('player_name')\n",
    "\n",
    "name = list(set(name_mo2016.player_name))\n",
    "player2016 = pd.DataFrame()\n",
    "speed_count = 0\n",
    "spin_count = 0\n",
    "total_count = 0\n",
    "ptotal_count = 0\n",
    "for i in name:\n",
    "    \n",
    "    total_count += 1\n",
    "    \n",
    "    player = pd.concat([player2016, name_all2016_0[name_all2016_0.player_name == i]])\n",
    "    player2 = player.groupby('game_date').agg(np.mean)\n",
    "    \n",
    "    if len(player2) <= 10:\n",
    "        print(i, \"표본수 부족\")\n",
    "        continue\n",
    "        \n",
    "    speed = mo2016[mo2016.player_name == i]['release_speed']\n",
    "    rate = mo2016[mo2016.player_name == i]['release_spin_rate']\n",
    "    \n",
    "    _, speed_p_value = stats.ttest_1samp(list(player2['release_speed']), popmean=float(speed))\n",
    "    _, spin_p_value = stats.ttest_1samp(list(player2['release_spin_rate']), popmean=float(rate))\n",
    "    \n",
    "    if speed_p_value/2 <= 0.05:\n",
    "        speed_count += 1\n",
    "        \n",
    "    if spin_p_value/2 <= 0.05:\n",
    "        spin_count += 1\n",
    "    \n",
    "    ptotal_count += 1\n",
    "\n",
    "print()    \n",
    "print(\"2016년도 어머니날 전체 선수:\", total_count)\n",
    "print(\"표본수 부족 제외 선수\", ptotal_count)\n",
    "print(\"구속 감소 선수:\", speed_count)\n",
    "print(\"회전수 감소 선수:\", spin_count)\n",
    "print(\"유의미한 구속 감소 선수 비율:\", round(speed_count/ptotal_count, 2))\n",
    "print(\"유의미한 회전수 감소 선수 비율:\", round(spin_count/ptotal_count, 2))\n",
    "\n"
   ]
  },
  {
   "cell_type": "code",
   "execution_count": 157,
   "metadata": {},
   "outputs": [
    {
     "name": "stdout",
     "output_type": "stream",
     "text": [
      "Chad Billingsley 표본수 부족\n",
      "\n",
      "2015년도 어머니날 전체 선수: 117\n",
      "표본수 부족 제외 선수 116\n",
      "구속 감소 선수: 94\n",
      "회전수 감소 선수: 56\n",
      "유의미한 구속 감소 선수 비율: 0.81\n",
      "유의미한 회전수 감소 선수 비율: 0.48\n"
     ]
    }
   ],
   "source": [
    "name_all2015 = data2015[['game_date', 'player_name', 'release_speed', 'release_spin_rate']]\n",
    "\n",
    "name_mo2015 = name_all2015[name_all2015.game_date == \"2015-05-10\"]\n",
    "name_mo2015 = name_mo2015[['player_name', 'release_speed', 'release_spin_rate']]\n",
    "name_all2015_0 = name_all2015[name_all2015.game_date != \"2015-05-10\"]\n",
    "mo2015 = name_mo2015.groupby('player_name').agg(np.mean).reset_index('player_name')\n",
    "\n",
    "name = list(set(name_mo2015.player_name))\n",
    "player2015 = pd.DataFrame()\n",
    "speed_count = 0\n",
    "spin_count = 0\n",
    "total_count = 0\n",
    "ptotal_count = 0\n",
    "for i in name:\n",
    "    \n",
    "    total_count += 1\n",
    "    \n",
    "    player = pd.concat([player2015, name_all2015_0[name_all2015_0.player_name == i]])\n",
    "    player2 = player.groupby('game_date').agg(np.mean)\n",
    "    \n",
    "    if len(player2) <= 10:\n",
    "        print(i, \"표본수 부족\")\n",
    "        continue\n",
    "    \n",
    "    speed = mo2015[mo2015.player_name == i]['release_speed']\n",
    "    rate = mo2015[mo2015.player_name == i]['release_spin_rate']\n",
    "    \n",
    "    _, speed_p_value = stats.ttest_1samp(list(player2['release_speed']), popmean=float(speed))\n",
    "    _, spin_p_value = stats.ttest_1samp(list(player2['release_spin_rate']), popmean=float(rate))\n",
    "    \n",
    "    if speed_p_value/2 <= 0.05:\n",
    "        speed_count += 1\n",
    "        \n",
    "    if spin_p_value/2 <= 0.05:\n",
    "        spin_count += 1\n",
    "    \n",
    "    ptotal_count += 1\n",
    "    \n",
    "print()\n",
    "print(\"2015년도 어머니날 전체 선수:\", total_count)\n",
    "print(\"표본수 부족 제외 선수\", ptotal_count)\n",
    "print(\"구속 감소 선수:\", speed_count)\n",
    "print(\"회전수 감소 선수:\", spin_count)\n",
    "print(\"유의미한 구속 감소 선수 비율:\", round(speed_count/ptotal_count, 2))\n",
    "print(\"유의미한 회전수 감소 선수 비율:\", round(spin_count/ptotal_count, 2))"
   ]
  },
  {
   "cell_type": "code",
   "execution_count": 158,
   "metadata": {},
   "outputs": [
    {
     "data": {
      "text/html": [
       "<div>\n",
       "<style scoped>\n",
       "    .dataframe tbody tr th:only-of-type {\n",
       "        vertical-align: middle;\n",
       "    }\n",
       "\n",
       "    .dataframe tbody tr th {\n",
       "        vertical-align: top;\n",
       "    }\n",
       "\n",
       "    .dataframe thead th {\n",
       "        text-align: right;\n",
       "    }\n",
       "</style>\n",
       "<table border=\"1\" class=\"dataframe\">\n",
       "  <thead>\n",
       "    <tr style=\"text-align: right;\">\n",
       "      <th></th>\n",
       "      <th>연도</th>\n",
       "      <th>전체 선수</th>\n",
       "      <th>분석 대상</th>\n",
       "      <th>구속 감소</th>\n",
       "      <th>회전 감소</th>\n",
       "    </tr>\n",
       "  </thead>\n",
       "  <tbody>\n",
       "    <tr>\n",
       "      <th>0</th>\n",
       "      <td>2018년</td>\n",
       "      <td>123</td>\n",
       "      <td>118</td>\n",
       "      <td>84</td>\n",
       "      <td>90</td>\n",
       "    </tr>\n",
       "    <tr>\n",
       "      <th>1</th>\n",
       "      <td>2017년</td>\n",
       "      <td>152</td>\n",
       "      <td>143</td>\n",
       "      <td>112</td>\n",
       "      <td>104</td>\n",
       "    </tr>\n",
       "    <tr>\n",
       "      <th>2</th>\n",
       "      <td>2016년</td>\n",
       "      <td>126</td>\n",
       "      <td>121</td>\n",
       "      <td>94</td>\n",
       "      <td>76</td>\n",
       "    </tr>\n",
       "    <tr>\n",
       "      <th>3</th>\n",
       "      <td>2015년</td>\n",
       "      <td>117</td>\n",
       "      <td>116</td>\n",
       "      <td>94</td>\n",
       "      <td>56</td>\n",
       "    </tr>\n",
       "  </tbody>\n",
       "</table>\n",
       "</div>"
      ],
      "text/plain": [
       "      연도  전체 선수  분석 대상  구속 감소  회전 감소\n",
       "0  2018년    123    118     84     90\n",
       "1  2017년    152    143    112    104\n",
       "2  2016년    126    121     94     76\n",
       "3  2015년    117    116     94     56"
      ]
     },
     "execution_count": 158,
     "metadata": {},
     "output_type": "execute_result"
    }
   ],
   "source": [
    "result = [[\"2018년\", 123, 118, 84, 90], [\"2017년\", 152, 143, 112, 104], \n",
    "          [\"2016년\", 126, 121, 94, 76], [\"2015년\", 117, 116, 94, 56]]\n",
    "result = pd.DataFrame(result)\n",
    "result.columns = [\"연도\", \"전체 선수\", \"분석 대상\", \"구속 감소\", \"회전 감소\"]\n",
    "result"
   ]
  }
 ],
 "metadata": {
  "kernelspec": {
   "display_name": "Python 3",
   "language": "python",
   "name": "python3"
  },
  "language_info": {
   "codemirror_mode": {
    "name": "ipython",
    "version": 3
   },
   "file_extension": ".py",
   "mimetype": "text/x-python",
   "name": "python",
   "nbconvert_exporter": "python",
   "pygments_lexer": "ipython3",
   "version": "3.7.1"
  }
 },
 "nbformat": 4,
 "nbformat_minor": 2
}
