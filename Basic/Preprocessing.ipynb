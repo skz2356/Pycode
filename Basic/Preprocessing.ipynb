{
 "cells": [
  {
   "cell_type": "markdown",
   "metadata": {},
   "source": [
    "# [데이터 전처리]"
   ]
  },
  {
   "cell_type": "code",
   "execution_count": 65,
   "metadata": {},
   "outputs": [],
   "source": [
    "import pandas as pd\n",
    "from sklearn.datasets import load_iris\n",
    "\n",
    "data = load_iris()\n",
    "df = pd.DataFrame(data['data'], columns=['sepal_length', 'sepal_width',\n",
    "                                        'petal_length', 'petal_width'])\n",
    "df['target'] = data['target']\n",
    "\n",
    "from collections import OrderedDict\n",
    "import random"
   ]
  },
  {
   "cell_type": "markdown",
   "metadata": {},
   "source": [
    "## 1. 추출 및 정제"
   ]
  },
  {
   "cell_type": "markdown",
   "metadata": {},
   "source": [
    "- 열 단위 추출\n",
    "    - df['sepal_length']\n",
    "    - df[['col1', 'col2']]\n",
    "\n",
    "\n",
    "- 행 단위 추출\n",
    "    - df.loc[0]\n",
    "    - df.loc[[row1, row2]]\n",
    "    - df.iloc[-1]\n",
    "    - df.iloc[[num1, num2]]\n",
    "\n",
    "\n",
    "- 슬라이싱 구문 이용\n",
    "    - df[num1:num2] # 원천 데이터의 직접 변경\n",
    "    - df.iloc[:, [row1, row2]] # 복사본\n",
    "    - df.loc[:, [num1, num2]] # 복사본\n",
    "\n",
    "\n",
    "- 불리언 추출\n",
    "    - df['colname' > col.mean()]\n",
    "    \n",
    "    \n",
    "- replace() # 특정 값을 가진 시리즈 값 교체\n",
    "- sample() # 시리즈에서 임의의 값 반환\n",
    "- sort_values # 값 정렬\n",
    "- sort_index(ascending=False) # 인덱스 역순으로 정렬\n",
    "- to_frame # 시리즈를 데이터프레임으로"
   ]
  },
  {
   "cell_type": "markdown",
   "metadata": {},
   "source": [
    "### random.shuffle(), 데이터 섞기"
   ]
  },
  {
   "cell_type": "code",
   "execution_count": null,
   "metadata": {},
   "outputs": [],
   "source": []
  },
  {
   "cell_type": "markdown",
   "metadata": {},
   "source": [
    "### drop() 데이터 행과 열 삭제"
   ]
  },
  {
   "cell_type": "code",
   "execution_count": 73,
   "metadata": {},
   "outputs": [
    {
     "name": "stdout",
     "output_type": "stream",
     "text": [
      "(149, 5)\n",
      "(150, 4)\n"
     ]
    }
   ],
   "source": [
    "droprow = df.drop(2)\n",
    "print(droprow.shape)\n",
    "\n",
    "dropcol = df.drop(['sepal_length'], axis=1)\n",
    "print(dropcol.shape)"
   ]
  },
  {
   "cell_type": "markdown",
   "metadata": {},
   "source": [
    "## 2. 파생 변수 생성"
   ]
  },
  {
   "cell_type": "markdown",
   "metadata": {},
   "source": [
    "- 데이터 생성\n",
    "    - pd.Series(['abc', 12])\n",
    "    - pd.DataFrame({'colname': ['값1, 값2]}, index=['index'], columns=[colnames다시전달])\n",
    "\n",
    "\n",
    "- 날짜 데이터 생성\n",
    "    - pd.to_datetime(날짜형식data, format='%Y-%m-%d')"
   ]
  },
  {
   "cell_type": "markdown",
   "metadata": {},
   "source": [
    "### groupby() 이용 그룹화"
   ]
  },
  {
   "cell_type": "code",
   "execution_count": 55,
   "metadata": {},
   "outputs": [
    {
     "name": "stdout",
     "output_type": "stream",
     "text": [
      "        sepal_length  petal_length\n",
      "target                            \n",
      "0              5.006         1.462\n",
      "1              5.936         4.260\n",
      "2              6.588         5.552\n"
     ]
    }
   ],
   "source": [
    "group1 = df.groupby('target')['sepal_length', 'petal_length'].mean()\n",
    "print(group1)"
   ]
  },
  {
   "cell_type": "markdown",
   "metadata": {},
   "source": [
    "### OrderedDict()을 이용한 순서 보장 딕셔너리"
   ]
  },
  {
   "cell_type": "code",
   "execution_count": 64,
   "metadata": {},
   "outputs": [
    {
     "name": "stdout",
     "output_type": "stream",
     "text": [
      "OrderedDict([('Name', ['Chemist', 'Statistician'])])\n"
     ]
    }
   ],
   "source": [
    "a1 = OrderedDict({'Name': ['Chemist', 'Statistician']})\n",
    "print(a1)"
   ]
  },
  {
   "cell_type": "markdown",
   "metadata": {},
   "source": [
    "drop_duplicates #중복값이없는시리즈반환"
   ]
  },
  {
   "cell_type": "markdown",
   "metadata": {},
   "source": [
    "## 3. 데이터 병합"
   ]
  },
  {
   "cell_type": "code",
   "execution_count": null,
   "metadata": {},
   "outputs": [],
   "source": [
    "append"
   ]
  },
  {
   "cell_type": "markdown",
   "metadata": {},
   "source": [
    "## 4. 데이터 저장"
   ]
  },
  {
   "cell_type": "markdown",
   "metadata": {},
   "source": [
    "- 피클로 저장(읽을 때도 read_pickle 필요)\n",
    "    - df.to_pickle('저장위치.pickle')\n",
    "    \n",
    "    \n",
    "- csv나 tsv로 저장\n",
    "    - df.to_csv('저장위치.csv')\n",
    "    - df.to_csv('저장위치.tsv', sep='t\\')\n",
    "    \n",
    "    \n",
    "- xls 저장\n",
    "    - import xlwt\n",
    "    - df.to_excel('저장위치.xls')\n",
    "    \n",
    "    \n",
    "- xlsx 저장\n",
    "    - import openpyxl\n",
    "    - df.to_excel('저장위치.xlsx')"
   ]
  }
 ],
 "metadata": {
  "kernelspec": {
   "display_name": "Python 3",
   "language": "python",
   "name": "python3"
  },
  "language_info": {
   "codemirror_mode": {
    "name": "ipython",
    "version": 3
   },
   "file_extension": ".py",
   "mimetype": "text/x-python",
   "name": "python",
   "nbconvert_exporter": "python",
   "pygments_lexer": "ipython3",
   "version": "3.7.1"
  }
 },
 "nbformat": 4,
 "nbformat_minor": 2
}
