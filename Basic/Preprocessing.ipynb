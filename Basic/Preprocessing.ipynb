{
 "cells": [
  {
   "cell_type": "markdown",
   "metadata": {},
   "source": [
    "# [데이터 전처리]"
   ]
  },
  {
   "cell_type": "code",
   "execution_count": 12,
   "metadata": {},
   "outputs": [],
   "source": [
    "import pandas as pd\n",
    "from sklearn.datasets import load_iris\n",
    "\n",
    "data = load_iris()\n",
    "df = pd.DataFrame(data['data'], columns=['sepal_length', 'sepal_width',\n",
    "                                        'petal_length', 'petal_width'])\n",
    "df['target'] = data['target']\n",
    "\n",
    "from collections import OrderedDict\n",
    "import random\n",
    "\n",
    "from numpy import NaN, NAN, nan\n",
    "import numpy as np\n",
    "\n",
    "from datetime import datetime"
   ]
  },
  {
   "cell_type": "markdown",
   "metadata": {},
   "source": [
    "## 1. 추출 및 정제"
   ]
  },
  {
   "cell_type": "markdown",
   "metadata": {},
   "source": [
    "- 열 단위 추출\n",
    "    - df['sepal_length']\n",
    "    - df[['col1', 'col2']]\n",
    "\n",
    "\n",
    "- 행 단위 추출\n",
    "    - df.loc[0]\n",
    "    - df.loc[[row1, row2]]\n",
    "    - df.iloc[-1]\n",
    "    - df.iloc[[num1, num2]]\n",
    "\n",
    "\n",
    "- 슬라이싱 구문 이용\n",
    "    - df[num1:num2] # 원천 데이터의 직접 변경\n",
    "    - df.iloc[:, [row1, row2]] # 복사본\n",
    "    - df.loc[:, [num1, num2]] # 복사본\n",
    "    \n",
    "\n",
    "- melt 메서드 이용, 넓은 데이터 이용\n",
    "    - id_vars: 위치 그대로 유지할 열의 이름 지정\n",
    "    - value_vars: 행으로 위치를 변경할 열의 이름 지정\n",
    "    - var_name: value_vars로 위치를 변경할 열의 이름 지정\n",
    "    - value_name: var_name으로 위치를 변경한 열의 데이터를 저장한 열의 이름 지정\n",
    "    \n",
    "    \n",
    "- 자료의 형 변환\n",
    "    - astype('') # str, float, category 등\n",
    "    - to_numeric() # errors='' 메서드에 raise, coerce, ignore로 오류 제어 \n",
    "    - 메모리 절약을 위한 downcast=''인자도 있음 # integer, signed, unsigned, float 등\n",
    "    - to_frame, to_datetime 등\n",
    "\n",
    "- groupby 메서드 결과값인 그룹 오브젝트를 저장하여 계산에 이용\n",
    "\n",
    "\n",
    "- datetime 오브젝트(서로 연산이 가능)\n",
    "    - datetime.now()\n",
    "    - datetime.today()\n",
    "    - datetime(년, 월, 일, 시, 분, 초)\n",
    "    - pd.to.datetime(시간데이터, format='%d/%m/%y')\n",
    "    - now = datetime.now() # now로 추출시 데이터 분할\n",
    "    - nowTime = now.strftime('%Y-%m-%d %H:%M:%S')\n",
    "    - .dt.year .dt.month .dt.day 활용 가능, 혹은 [0].year 같이 인덱스로 지정\n",
    "    - pd.read_csv('파일경로', parse_dates=[0]) # 0열을 Datetime 형으로 바꿈\n",
    "    - pd.date_range(start='2xxx-xx-xx', end='2xxx-xx-xx', freq='')\n",
    "\n",
    "    \n",
    "- replace() # 특정 값을 가진 시리즈 값 교체\n",
    "- sample() # 시리즈에서 임의의 값 반환\n",
    "- sort_values(by='열이름', ascending=False내림차순) # 값 정렬\n",
    "- sort_index(ascending=False) # 인덱스 역순으로 정렬\n",
    "- to_frame # 시리즈를 데이터프레임으로\n",
    "- random.shuffle() # 데이터 섞기\n",
    "- split('_')\n",
    "- reset_index() # 인덱스를 새로 지정\n",
    "- drop_duplicates() # 중복 데이터 제거\n",
    "- value_counts()"
   ]
  },
  {
   "cell_type": "markdown",
   "metadata": {},
   "source": [
    "### drop() 데이터 행과 열 삭제"
   ]
  },
  {
   "cell_type": "code",
   "execution_count": 73,
   "metadata": {},
   "outputs": [
    {
     "name": "stdout",
     "output_type": "stream",
     "text": [
      "(149, 5)\n",
      "(150, 4)\n"
     ]
    }
   ],
   "source": [
    "droprow = df.drop(2)\n",
    "print(droprow.shape)\n",
    "\n",
    "dropcol = df.drop(['sepal_length'], axis=1)\n",
    "print(dropcol.shape)"
   ]
  },
  {
   "cell_type": "markdown",
   "metadata": {},
   "source": [
    "## 2. 파생 변수 생성"
   ]
  },
  {
   "cell_type": "markdown",
   "metadata": {},
   "source": [
    "- 데이터 생성\n",
    "    - pd.Series(['abc', 12])\n",
    "    - pd.DataFrame({'colname': ['값1, 값2]}, index=['index'], columns=[colnames다시전달])\n",
    "\n",
    "\n",
    "- 간단한 함수 만들기\n",
    "    - def 함수이름():\n",
    "    - apply(함수이름, 인자, axis=0) 결합하여 사용 # 첫 번째 인자는 자동 전달\n",
    "\n",
    "\n",
    "- 날짜 데이터 생성\n",
    "    - pd.to_datetime(날짜형식data, format='%Y-%m-%d')"
   ]
  },
  {
   "cell_type": "markdown",
   "metadata": {},
   "source": [
    "### groupby() 이용 그룹화"
   ]
  },
  {
   "cell_type": "code",
   "execution_count": 43,
   "metadata": {},
   "outputs": [
    {
     "name": "stdout",
     "output_type": "stream",
     "text": [
      "        sepal_length  petal_length\n",
      "target                            \n",
      "0              5.006         1.462\n",
      "1              5.936         4.260\n",
      "2              6.588         5.552\n"
     ]
    }
   ],
   "source": [
    "group1 = df.groupby('target')['sepal_length', 'petal_length'].mean()\n",
    "print(group1)"
   ]
  },
  {
   "cell_type": "markdown",
   "metadata": {},
   "source": [
    "### agg() 이용 집계(여러가지 메서드를 한번에 사용 가능)"
   ]
  },
  {
   "cell_type": "code",
   "execution_count": 51,
   "metadata": {},
   "outputs": [
    {
     "name": "stdout",
     "output_type": "stream",
     "text": [
      "target\n",
      "0    5.006\n",
      "1    5.936\n",
      "2    6.588\n",
      "Name: sepal_length, dtype: float64\n"
     ]
    }
   ],
   "source": [
    "def my_mean(values):\n",
    "    n = len(values)\n",
    "    sum = 0\n",
    "    for value in values:\n",
    "        sum += value\n",
    "    return sum / n\n",
    "\n",
    "agg_df1 = df.groupby('target').sepal_length.agg(my_mean)\n",
    "print(agg_df1)"
   ]
  },
  {
   "cell_type": "code",
   "execution_count": 56,
   "metadata": {},
   "outputs": [
    {
     "name": "stdout",
     "output_type": "stream",
     "text": [
      "        count_nonzero   mean\n",
      "target                      \n",
      "0                50.0  5.006\n",
      "1                50.0  5.936\n",
      "2                50.0  6.588\n"
     ]
    }
   ],
   "source": [
    "agg_df2 = df.groupby('target').sepal_length.agg([np.count_nonzero, np.mean])\n",
    "print(agg_df2)"
   ]
  },
  {
   "cell_type": "code",
   "execution_count": 58,
   "metadata": {},
   "outputs": [
    {
     "name": "stdout",
     "output_type": "stream",
     "text": [
      "        sepal_length  petal_width\n",
      "target                           \n",
      "0              5.006     0.105386\n",
      "1              5.936     0.197753\n",
      "2              6.588     0.274650\n"
     ]
    }
   ],
   "source": [
    "agg_df3 = df.groupby('target').agg({'sepal_length': 'mean', 'petal_width': 'std'})\n",
    "print(agg_df3)"
   ]
  },
  {
   "cell_type": "markdown",
   "metadata": {},
   "source": [
    "### 데이터 필터링"
   ]
  },
  {
   "cell_type": "markdown",
   "metadata": {},
   "source": [
    "print(df.groupby('target').filter(lambda df: df['petal_length'].mean() >= 5))"
   ]
  },
  {
   "cell_type": "markdown",
   "metadata": {},
   "source": [
    "### OrderedDict()을 이용한 순서 보장 딕셔너리"
   ]
  },
  {
   "cell_type": "code",
   "execution_count": 64,
   "metadata": {},
   "outputs": [
    {
     "name": "stdout",
     "output_type": "stream",
     "text": [
      "OrderedDict([('Name', ['Chemist', 'Statistician'])])\n"
     ]
    }
   ],
   "source": [
    "a1 = OrderedDict({'Name': ['Chemist', 'Statistician']})\n",
    "print(a1)"
   ]
  },
  {
   "cell_type": "markdown",
   "metadata": {},
   "source": [
    "drop_duplicates # 중복값이없는시리즈반환"
   ]
  },
  {
   "cell_type": "markdown",
   "metadata": {},
   "source": [
    "### 시간 형식 지정자 / 시간 범위의 주기(freq)"
   ]
  },
  {
   "cell_type": "code",
   "execution_count": null,
   "metadata": {},
   "outputs": [],
   "source": []
  },
  {
   "cell_type": "markdown",
   "metadata": {},
   "source": [
    "### 원-핫-인코딩으로 나타내기(더미변수)"
   ]
  },
  {
   "cell_type": "markdown",
   "metadata": {},
   "source": [
    "pandas get_dummies"
   ]
  },
  {
   "cell_type": "markdown",
   "metadata": {},
   "source": [
    "## 3. 데이터 병합"
   ]
  },
  {
   "cell_type": "markdown",
   "metadata": {},
   "source": [
    "- 불리언 추출\n",
    "    - df['colname' > col.mean()]\n",
    "    \n",
    "    \n",
    "- 데이터 연결\n",
    "    - pd.concat([df1, df2, df3]) # 행 연결 / 주의) 시리즈 연결의 경우, 열로 연결됨\n",
    "    - pd.concat([df1, df2, df3], axis = 1) # 열 연결\n",
    "    - df.append(df2, ignore_index=True) # 인덱스를 0부터 다시 시작\n",
    "    - df['new'] == ['n1', 'n2', 'n3', 'n4']\n",
    "\n",
    "\n",
    "- 공통 행, 열만 골라 연결(내부 조인)\n",
    "    - pd.concat([df1, df2, df3], join='inner'))\n",
    "    - pd.concat([df1, df2, df3], axis=1, join='inner'))\n",
    "    \n",
    "\n",
    "- 외부 조인(왼쪽, 오른쪽, 완전)\n",
    "    - 왼쪽 외부 조인(왼쪽 데이터프레임 모두 포함)\n",
    "\n",
    "\n",
    "- df1.merge(df2, left_on='같은내용열이름', right_on='같은내용열이름')\n",
    "    - left_on, right_on에 전달하는 내용은 여러개라도 상관 없음\n",
    "    \n",
    "- pivot_table(index=[], columns='', values='')\n",
    "\n",
    "- np.hstack vstack dstack stack"
   ]
  },
  {
   "cell_type": "markdown",
   "metadata": {},
   "source": [
    "## 4. 결측값 처리"
   ]
  },
  {
   "cell_type": "markdown",
   "metadata": {},
   "source": [
    "### ※ 결측값을 무시하고 계산하려면 각 함수의 skipna를 이용"
   ]
  },
  {
   "cell_type": "markdown",
   "metadata": {},
   "source": [
    "- 결측값 확인\n",
    "    - abc = pd.Series([1, 2, nan, 4])\n",
    "    - abc.isnull()\n",
    "    - pd.notnull(abc)\n",
    " \n",
    " \n",
    "- 결측값 갯수\n",
    "    - df.shape[0] - df.count()\n",
    "    - df.isnull().sum()\n",
    "    \n",
    "    \n",
    "- 결측값 채우기\n",
    "    - abc.fillna(0) # 특정값으로 채우기\n",
    "    - abc.fillna(method='ffill') # 앞의 값으로 채우기\n",
    "    - abc.fillna(method='bfill') # 뒤의 값으로 채우기\n",
    "    - abc.interpolate() # 양측의 중간값으로 채우기\n",
    "    \n",
    "    \n",
    "- 결측값 평균으로 채우기\n",
    "    - abcmean = abc.mean()\n",
    "    - abc.fillna(abcmean)\n",
    "    \n",
    "    \n",
    "- 결측값 삭제\n",
    "    - abc_drop = abc.dropna()\n",
    "    - axis=1일 경우, Na가 있는 열 모두 삭제\n",
    "    - dropna(subset=['C']) 컬럼 'C'에 결측이 있는 경우 그 행 삭제"
   ]
  },
  {
   "cell_type": "markdown",
   "metadata": {},
   "source": [
    "### 결측값 최빈값으로 채우기 위한 mode 구하기"
   ]
  },
  {
   "cell_type": "code",
   "execution_count": 64,
   "metadata": {},
   "outputs": [
    {
     "data": {
      "text/plain": [
       "'blue'"
      ]
     },
     "execution_count": 64,
     "metadata": {},
     "output_type": "execute_result"
    }
   ],
   "source": [
    "from collections import Counter\n",
    "colors = ['red', 'blue', 'red', 'green', 'blue', 'blue']\n",
    "cnt = Counter(colors)\n",
    "mode = cnt.most_common(1)\n",
    "mode[0][0]"
   ]
  },
  {
   "cell_type": "markdown",
   "metadata": {},
   "source": [
    "### value_counts()로 결측값 갯수 확인"
   ]
  },
  {
   "cell_type": "code",
   "execution_count": 15,
   "metadata": {},
   "outputs": [
    {
     "data": {
      "text/plain": [
       "1.5    13\n",
       "1.4    13\n",
       "5.1     8\n",
       "4.5     8\n",
       "1.3     7\n",
       "Name: petal_length, dtype: int64"
      ]
     },
     "execution_count": 15,
     "metadata": {},
     "output_type": "execute_result"
    }
   ],
   "source": [
    "df.petal_length.value_counts(dropna=False).head()"
   ]
  },
  {
   "cell_type": "markdown",
   "metadata": {},
   "source": [
    "## 5. 문자열"
   ]
  },
  {
   "cell_type": "markdown",
   "metadata": {},
   "source": [
    "word = 'grail'\n",
    "\n",
    "sent = 'a scratch'일 때, 각각 슬라이싱([::]) 사용 가능\n",
    "\n",
    "- capitalize # 첫 문자를 대문자로 변환\n",
    "- count # 문자열의 갯수\n",
    "- startswith # 특정 문자로 시작될 경우 참\n",
    "- endswith # 특정 문자로 끝날 경우 참\n",
    "- find # 찾을 문자열의 첫 번째 인덱스를 반환, 실패시 -1\n",
    "- index # find와 같은 역할이지만 실패시 ValueError 반환\n",
    "- isalpha # 모든 문자 알파벳이면 참\n",
    "- isdecimal # 모든 문자 숫자면 참\n",
    "- isalnum # 모든 문자 알파벳이거나 숫자면 참\n",
    "- lower # 모든 문자를 소문자로\n",
    "- upper # 모든 문자를 대문자로\n",
    "- replace # 다른 문자로 변환\n",
    "- strip # 문자열의 맨 앞과 뒤의 빈 칸을 제거\n",
    "- split # 구분자 지정 문자열 나누고, 나눈 값의 리스트 반환\n",
    "- partition # split과 비슷하지만 구분자도 반환\n",
    "- center # 문자열을 늘이고 가운데 정렬\n",
    "- zfill # 문자열의 빈칸은 0으로 채움\n",
    "- join # ' '.join(['a', 'b', 'c'])과 같이 사용\n",
    "- splitlines # 행을 가진 문자열 분리"
   ]
  },
  {
   "cell_type": "markdown",
   "metadata": {},
   "source": [
    "### 문자열 포매팅 1"
   ]
  },
  {
   "cell_type": "code",
   "execution_count": 29,
   "metadata": {},
   "outputs": [
    {
     "data": {
      "text/plain": [
       "\"it's just a flesh wound!!!!!\""
      ]
     },
     "execution_count": 29,
     "metadata": {},
     "output_type": "execute_result"
    }
   ],
   "source": [
    "var = 'flesh wound'\n",
    "var2 = '!!!!'\n",
    "s = \"it's just a {}{}!\"\n",
    "\n",
    "print(s.format(var, var2))"
   ]
  },
  {
   "cell_type": "markdown",
   "metadata": {},
   "source": [
    "### 문자열 포매팅 1 - 숫자"
   ]
  },
  {
   "cell_type": "code",
   "execution_count": 35,
   "metadata": {},
   "outputs": [
    {
     "name": "stdout",
     "output_type": "stream",
     "text": [
      "Some digits of pi: 3.14592\n",
      "In 2005, Lu Chao of China recited 67,890 digits of pi\n",
      "I remember 0.0001031 or 0.0103% of what Lu Chao recited\n",
      "My ID number is 00042\n"
     ]
    }
   ],
   "source": [
    "print('Some digits of pi: {}'.format(3.14592))\n",
    "print('In 2005, Lu Chao of China recited {:,} digits of pi'.format(67890)) # 쉼표\n",
    "print(\"I remember {0:.4} or {0:.4%} of what Lu Chao recited\".format(7/67890))\n",
    "print(\"My ID number is {0:05d}\".format(42))"
   ]
  },
  {
   "cell_type": "markdown",
   "metadata": {},
   "source": [
    "### 문자열 포매팅 2"
   ]
  },
  {
   "cell_type": "code",
   "execution_count": 37,
   "metadata": {},
   "outputs": [
    {
     "name": "stdout",
     "output_type": "stream",
     "text": [
      "Some digits of pi: 3\n",
      "pipi 2.72\n",
      "In 2005, Lu Chao of China recited 67,890 digits of pi\n",
      "I remember 0.0001031 or 0.0103% of what Lu Chao recited\n",
      "My ID number is 00042\n"
     ]
    }
   ],
   "source": [
    "print('Some digits of pi: %d' % 3.14592)\n",
    "print('%(cont)s %(value).2f' % {'cont': 'pipi', 'value': 2.718})"
   ]
  },
  {
   "cell_type": "markdown",
   "metadata": {},
   "source": [
    "### 문자열 포매팅 3"
   ]
  },
  {
   "cell_type": "code",
   "execution_count": 39,
   "metadata": {},
   "outputs": [
    {
     "name": "stdout",
     "output_type": "stream",
     "text": [
      "It's just a flesh wound!\n"
     ]
    }
   ],
   "source": [
    "var = 'flesh wound'\n",
    "print(f\"It's just a {var}!\")"
   ]
  },
  {
   "cell_type": "markdown",
   "metadata": {},
   "source": [
    "### 정규식"
   ]
  },
  {
   "cell_type": "code",
   "execution_count": null,
   "metadata": {},
   "outputs": [],
   "source": []
  },
  {
   "cell_type": "markdown",
   "metadata": {},
   "source": [
    "## 6. 데이터 저장"
   ]
  },
  {
   "cell_type": "markdown",
   "metadata": {},
   "source": [
    "- 피클로 저장(읽을 때도 read_pickle 필요)\n",
    "    - df.to_pickle('저장위치.pickle')\n",
    "    \n",
    "    \n",
    "- csv나 tsv로 저장\n",
    "    - df.to_csv('저장위치.csv')\n",
    "    - df.to_csv('저장위치.tsv', sep='t\\')\n",
    "    \n",
    "    \n",
    "- xls 저장\n",
    "    - import xlwt\n",
    "    - df.to_excel('저장위치.xls')\n",
    "    \n",
    "    \n",
    "- xlsx 저장\n",
    "    - import openpyxl\n",
    "    - df.to_excel('저장위치.xlsx')"
   ]
  }
 ],
 "metadata": {
  "kernelspec": {
   "display_name": "Python 3",
   "language": "python",
   "name": "python3"
  },
  "language_info": {
   "codemirror_mode": {
    "name": "ipython",
    "version": 3
   },
   "file_extension": ".py",
   "mimetype": "text/x-python",
   "name": "python",
   "nbconvert_exporter": "python",
   "pygments_lexer": "ipython3",
   "version": "3.7.1"
  }
 },
 "nbformat": 4,
 "nbformat_minor": 2
}
