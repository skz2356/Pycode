{
 "cells": [
  {
   "cell_type": "markdown",
   "metadata": {},
   "source": [
    "# [통계 분석]"
   ]
  },
  {
   "cell_type": "code",
   "execution_count": 28,
   "metadata": {},
   "outputs": [],
   "source": [
    "import numpy as np\n",
    "import pandas as pd\n",
    "\n",
    "from scipy import stats\n",
    "\n",
    "# https://www.statsmodels.org/stable/index.html\n",
    "import statsmodels.api as sm\n",
    "from statsmodels.formula.api import ols\n",
    "\n",
    "import sklearn"
   ]
  },
  {
   "cell_type": "markdown",
   "metadata": {},
   "source": [
    "## 1. 빈도 분석"
   ]
  },
  {
   "cell_type": "markdown",
   "metadata": {},
   "source": [
    "### 각 변수 값에 속한 분포의 특성을 찾아내는 분석기법\n",
    "1) 도수분포표: 빈도, 퍼센트, 유효비율, 누적백분율 등의 도표 \n",
    "\n",
    "2) 집중경향치(central tendency): 최빈값(mode), 중위수(median), 평균(mean)\n",
    "\n",
    "3) 분산도(dispersion): 범위, 분산, 표준편차, 평균의 표준오차(S.E. mean) \n",
    "\n",
    "- size()나 count() 함수 이용\n",
    "- pd.crosstab() # 교차표(혼동행렬)\n",
    "- np.trace() # 대각합\n"
   ]
  },
  {
   "cell_type": "code",
   "execution_count": 18,
   "metadata": {},
   "outputs": [
    {
     "name": "stdout",
     "output_type": "stream",
     "text": [
      "target         0         1         2       All\n",
      "target                                        \n",
      "0       0.333333  0.000000  0.000000  0.333333\n",
      "1       0.000000  0.333333  0.000000  0.333333\n",
      "2       0.000000  0.000000  0.333333  0.333333\n",
      "All     0.333333  0.333333  0.333333  1.000000\n"
     ]
    },
    {
     "data": {
      "text/plain": [
       "150"
      ]
     },
     "execution_count": 18,
     "metadata": {},
     "output_type": "execute_result"
    }
   ],
   "source": [
    "x = pd.crosstab(df.target, df.target)\n",
    "print(pd.crosstab(df.target, df.target, margins=True, normalize='all'))\n",
    "np.trace(x)"
   ]
  },
  {
   "cell_type": "markdown",
   "metadata": {},
   "source": [
    "## 2. 기술 통계 분석"
   ]
  },
  {
   "cell_type": "markdown",
   "metadata": {},
   "source": [
    "### 자료의 필요 통계량을 간단히 산출하는 방법\n",
    "1) 기술통계량: 평균, 표준편차, 최소값, 최대값, 빈도수, 분산, 범위, 평균 표준오차, 왜도, 첨도\n",
    "\n",
    "- mean()\n",
    "- min()\n",
    "- max()\n",
    "- var()\n",
    "- std()\n",
    "- sem() # 평균의 표준편차\n",
    "- describe()\n",
    "- median\n",
    "- quantile(q=0.xx) # 백분위수"
   ]
  },
  {
   "cell_type": "markdown",
   "metadata": {},
   "source": [
    "2) pandas: describe()"
   ]
  },
  {
   "cell_type": "markdown",
   "metadata": {},
   "source": [
    "## 3. 카이제곱 검정"
   ]
  },
  {
   "cell_type": "markdown",
   "metadata": {},
   "source": [
    "### 카이제곱 분포에 기초, 관찰 빈도와 기대 빈도가 유의하게 다른지 검정\n",
    "- 범주형 자료에 대한 검정\n",
    "- 검정통계량은 귀무가설이 참일 때, 근사적으로 df: (r-1)(c-1)인 카이제곱 분포를 따른다\n",
    "- stats.chisquare(data1, data2)\n",
    "- stats.chi2_contingency(array)"
   ]
  },
  {
   "cell_type": "markdown",
   "metadata": {},
   "source": [
    "### 1) 적합도 검정"
   ]
  },
  {
   "cell_type": "markdown",
   "metadata": {},
   "source": [
    "- 관찰된 빈도가 기대되는 빈도와 다른지의 여부(단일 기준 분류 표본)"
   ]
  },
  {
   "cell_type": "code",
   "execution_count": 28,
   "metadata": {},
   "outputs": [
    {
     "name": "stdout",
     "output_type": "stream",
     "text": [
      "Power_divergenceResult(statistic=6.083333333333333, pvalue=0.047755231078826975)\n"
     ]
    }
   ],
   "source": [
    "data1 = [4, 6, 17, 16, 8, 9] # 관측값\n",
    "data2 = [10, 10, 10, 10, 10, 10] # 기대도수 or 비율\n",
    "\n",
    "# data2가 기대도수가 아닌 비율일 경우, (관측빈도 x 비율)로 자료를 변환해야 함\n",
    "chis = stats.chisquare(data1, data2)\n",
    "print(chis)"
   ]
  },
  {
   "cell_type": "markdown",
   "metadata": {},
   "source": [
    "### 2) 독립성 검정"
   ]
  },
  {
   "cell_type": "markdown",
   "metadata": {},
   "source": [
    "- 두 요인 간에 관계가 있는지 검정(복수 기준 분류 표본)"
   ]
  },
  {
   "cell_type": "code",
   "execution_count": 33,
   "metadata": {},
   "outputs": [
    {
     "name": "stdout",
     "output_type": "stream",
     "text": [
      "16.490612061288754\n",
      "0.35021521809742745\n",
      "15\n"
     ]
    }
   ],
   "source": [
    "ind = np.array([[6, 4, 5, 10], [8, 5, 3, 3], [5, 4, 8, 4],\n",
    "              [4, 11, 7, 13], [5, 8, 7, 6], [7, 3, 5, 9]])\n",
    "chi_stat, p_value, dof, ex = stats.chi2_contingency(ind)\n",
    "print(chi_stat)\n",
    "print(p_value)\n",
    "print(dof)"
   ]
  },
  {
   "cell_type": "markdown",
   "metadata": {},
   "source": [
    "### 3) 동일성 검정"
   ]
  },
  {
   "cell_type": "markdown",
   "metadata": {},
   "source": [
    "- 서로 다른 모집단에서 독립적으로 뽑은 표본들의 분포가 서로 동질한지 검정"
   ]
  },
  {
   "cell_type": "markdown",
   "metadata": {},
   "source": [
    "## 4. T-test"
   ]
  },
  {
   "cell_type": "markdown",
   "metadata": {},
   "source": [
    "### 두 집단의 평균 차이가 유의한지 검정"
   ]
  },
  {
   "cell_type": "markdown",
   "metadata": {},
   "source": [
    "### 양측 검정 / 단측 검정 설정 방법"
   ]
  },
  {
   "cell_type": "markdown",
   "metadata": {},
   "source": [
    "- t통계량은 [t통계량, pvalue = stats.ttest_ind(x, y)] 등으로 얻어냄\n",
    "- stats.ttest들은 모두 양측\n",
    "- 단측 검정을 원한다면\n",
    "- stats.t.cdf(t통계량, len(x)+len(y)#자유도, -2) * 2 (양측 검정)\n",
    "- stats.t.cdf(t통계량, len(x)+len(y)#자유도, -2)     (단측 검정 - 좌)\n",
    "- stats.t.sf(t통계량, len(x)+len(y)#자유도, -2)      (단측 검정 - 우)"
   ]
  },
  {
   "cell_type": "markdown",
   "metadata": {},
   "source": [
    "### 1) 단일 표본 t-검정"
   ]
  },
  {
   "cell_type": "markdown",
   "metadata": {},
   "source": [
    "- 정규 분포의 표본에 대해 기댓값을 조사하는 검정방법\n",
    "- t-통계량 사용, 분포가 스튜던트-t 분포라는 사실로 유의 확률을 구함\n",
    "- stats.ttest_1samp(데이터1, popmean=검정할 기댓값(모수))"
   ]
  },
  {
   "cell_type": "markdown",
   "metadata": {},
   "source": [
    "### 2) 독립 표본 t-검정"
   ]
  },
  {
   "cell_type": "markdown",
   "metadata": {},
   "source": [
    "- 두 개의 독립적인 정규 분포에서 나온 데이터셋 사용, 두 정규 분포의 기댓값이 동일한지\n",
    "- 자유도가 $N_1 + N_2 -2$인 스튜던트-t 분포를 따름\n",
    "- 분산이 같은 경우, 분산이 다른 경우\n",
    "- stats.ttest_ind(데이터1, 데이터2, equal_var=False) # equal_var는 등분산 여부"
   ]
  },
  {
   "cell_type": "markdown",
   "metadata": {},
   "source": [
    "### 3) 대응 표본 t-검정"
   ]
  },
  {
   "cell_type": "markdown",
   "metadata": {},
   "source": [
    "- 두 집단의 표본이 1대1 대응하는 경우 사용\n",
    "- stats.ttest_rel(데이터1, 데이터2)"
   ]
  },
  {
   "cell_type": "markdown",
   "metadata": {},
   "source": [
    "## 5. 분산 분석"
   ]
  },
  {
   "cell_type": "markdown",
   "metadata": {},
   "source": [
    "### 여러 그룹간의 평균 차이가 통계적으로 유의미한지 분석\n",
    "- 각 그룹의 변수가 정규 분포를 가정하고 있는지\n",
    "- 분산은 각각의 모집단에서 동일한지\n",
    "- 표본들이 독립적으로 표집 되었는지"
   ]
  },
  {
   "cell_type": "markdown",
   "metadata": {},
   "source": [
    "### 1) 일원 배치 분산분석"
   ]
  },
  {
   "cell_type": "markdown",
   "metadata": {},
   "source": [
    "- 종속변수 1개, 독립변수 1개일 때\n",
    "- model = ols('종속변수 ~ C(독립변수)', 상수항).fit()\n",
    "- stats.anova_lm(model)"
   ]
  },
  {
   "cell_type": "markdown",
   "metadata": {},
   "source": [
    "### 2) 이원 배치 분산분석"
   ]
  },
  {
   "cell_type": "markdown",
   "metadata": {},
   "source": [
    "- 종속변수 1개, 독립변수 2개 이상일 때\n",
    "- formula = '종속변수 ~ C(독립1) + C(독립2) + C(독립1):C(독립2)' # ':'는 교호작용\n",
    "- model = ols(formula, 상수항).fit()\n",
    "- stats.anova_lm(model, typ=2) # Type 2 (교호작용???)"
   ]
  },
  {
   "cell_type": "markdown",
   "metadata": {},
   "source": [
    "## 6. 선형 회귀 분석"
   ]
  },
  {
   "cell_type": "markdown",
   "metadata": {},
   "source": [
    "### 연속형 변수들에 대해 선형 모델을 만들고 이를 통해 예측하는 방법"
   ]
  },
  {
   "cell_type": "code",
   "execution_count": 26,
   "metadata": {},
   "outputs": [
    {
     "name": "stdout",
     "output_type": "stream",
     "text": [
      "                            OLS Regression Results                            \n",
      "==============================================================================\n",
      "Dep. Variable:                      y   R-squared:                       0.416\n",
      "Model:                            OLS   Adj. R-squared:                  0.353\n",
      "Method:                 Least Squares   F-statistic:                     6.646\n",
      "Date:                Thu, 24 Jan 2019   Prob (F-statistic):            0.00157\n",
      "Time:                        19:58:38   Log-Likelihood:                -12.978\n",
      "No. Observations:                  32   AIC:                             33.96\n",
      "Df Residuals:                      28   BIC:                             39.82\n",
      "Df Model:                           3                                         \n",
      "Covariance Type:            nonrobust                                         \n",
      "==============================================================================\n",
      "                 coef    std err          t      P>|t|      [0.025      0.975]\n",
      "------------------------------------------------------------------------------\n",
      "x1             0.4639      0.162      2.864      0.008       0.132       0.796\n",
      "x2             0.0105      0.019      0.539      0.594      -0.029       0.050\n",
      "x3             0.3786      0.139      2.720      0.011       0.093       0.664\n",
      "const         -1.4980      0.524     -2.859      0.008      -2.571      -0.425\n",
      "==============================================================================\n",
      "Omnibus:                        0.176   Durbin-Watson:                   2.346\n",
      "Prob(Omnibus):                  0.916   Jarque-Bera (JB):                0.167\n",
      "Skew:                           0.141   Prob(JB):                        0.920\n",
      "Kurtosis:                       2.786   Cond. No.                         176.\n",
      "==============================================================================\n",
      "\n",
      "Warnings:\n",
      "[1] Standard Errors assume that the covariance matrix of the errors is correctly specified.\n"
     ]
    }
   ],
   "source": [
    "# Load modules and data\n",
    "spector_data = sm.datasets.spector.load()\n",
    "spector_data.exog = sm.add_constant(spector_data.exog, prepend=False)\n",
    "\n",
    "# Fit and summarize OLS model\n",
    "mod = sm.OLS(spector_data.endog, spector_data.exog)\n",
    "res = mod.fit()\n",
    "print(res.summary())"
   ]
  },
  {
   "cell_type": "markdown",
   "metadata": {},
   "source": [
    "## 7. 일반화 선형 모형"
   ]
  },
  {
   "cell_type": "markdown",
   "metadata": {},
   "source": [
    "### 종속변수의 정규성 가정을 할 수 없는 경우 연결 함수를 이용, 일반화\n",
    "- 종속변수가 범주형 변수이거나, count data인 경우\n",
    "- link funtion logit, probit으로 변경해서 해보기"
   ]
  },
  {
   "cell_type": "code",
   "execution_count": 56,
   "metadata": {},
   "outputs": [
    {
     "name": "stdout",
     "output_type": "stream",
     "text": [
      "                 Generalized Linear Model Regression Results                  \n",
      "==============================================================================\n",
      "Dep. Variable:                      y   No. Observations:                   32\n",
      "Model:                            GLM   Df Residuals:                       24\n",
      "Model Family:                   Gamma   Df Model:                            7\n",
      "Link Function:          inverse_power   Scale:                       0.0035843\n",
      "Method:                          IRLS   Log-Likelihood:                -83.017\n",
      "Date:                Thu, 24 Jan 2019   Deviance:                     0.087389\n",
      "Time:                        20:31:07   Pearson chi2:                   0.0860\n",
      "No. Iterations:                     6   Covariance Type:             nonrobust\n",
      "==============================================================================\n",
      "                 coef    std err          z      P>|z|      [0.025      0.975]\n",
      "------------------------------------------------------------------------------\n",
      "const         -0.0178      0.011     -1.548      0.122      -0.040       0.005\n",
      "x1          4.962e-05   1.62e-05      3.060      0.002    1.78e-05    8.14e-05\n",
      "x2             0.0020      0.001      3.824      0.000       0.001       0.003\n",
      "x3         -7.181e-05   2.71e-05     -2.648      0.008      -0.000   -1.87e-05\n",
      "x4             0.0001   4.06e-05      2.757      0.006    3.23e-05       0.000\n",
      "x5         -1.468e-07   1.24e-07     -1.187      0.235   -3.89e-07    9.56e-08\n",
      "x6            -0.0005      0.000     -2.159      0.031      -0.001   -4.78e-05\n",
      "x7         -2.427e-06   7.46e-07     -3.253      0.001   -3.89e-06   -9.65e-07\n",
      "==============================================================================\n"
     ]
    },
    {
     "name": "stderr",
     "output_type": "stream",
     "text": [
      "C:\\Users\\JH\\Anaconda3\\lib\\site-packages\\statsmodels\\genmod\\generalized_linear_model.py:302: DomainWarning: The inverse_power link function does not respect the domain of the Gamma family.\n",
      "  DomainWarning)\n"
     ]
    }
   ],
   "source": [
    "# Load modules and data\n",
    "\n",
    "data = sm.datasets.scotland.load()\n",
    "data.exog = sm.add_constant(data.exog)\n",
    "\n",
    "# Instantiate a gamma family model with the default link function.\n",
    "gamma_model = sm.GLM(data.endog, data.exog, family=sm.families.Gamma())\n",
    "gamma_results = gamma_model.fit()\n",
    "print(gamma_results.summary())"
   ]
  },
  {
   "cell_type": "markdown",
   "metadata": {},
   "source": [
    "## 8. 상관관계 분석"
   ]
  },
  {
   "cell_type": "markdown",
   "metadata": {},
   "source": [
    "### 두 변수간에 어떤 선형적 관계를 갖고 있는지 분석(인과적 관계 X)\n",
    "- 데이터.corr(method='pearson')"
   ]
  },
  {
   "cell_type": "markdown",
   "metadata": {},
   "source": [
    "## 9. 로지스틱 회귀 분석"
   ]
  },
  {
   "cell_type": "markdown",
   "metadata": {},
   "source": [
    "### 종속변수가 범주형일 때 회귀분석 방법\n",
    "- LogisticRegression(C=1).fit(X, y)\n",
    "- 모델은 .score(X, y)로 평가\n",
    "- 머신러닝 부분에서 정리"
   ]
  },
  {
   "cell_type": "markdown",
   "metadata": {},
   "source": [
    "## 10. 판별 분석(LDA, QDA)"
   ]
  },
  {
   "cell_type": "markdown",
   "metadata": {},
   "source": [
    "### 두 개 이상의 모집단 정보를 이용해 어느 집단에서 추출된 것인지 분석\n",
    "- 클래스 정보를 보호\n",
    "- 두 클래스를 포함하는 data들을 가장 잘 감소시키는 axis를 찾는데 목적\n",
    "- from sklearn.discriminant_analysis import LinearDiscriminantAnalysis\n",
    "- from sklearn.discriminant_analysis import QuadraticDiscriminantAnalysis\n",
    "- qda = QuadraticDiscriminantAnalysis(store_covariance=True).fit(X, y)"
   ]
  },
  {
   "cell_type": "markdown",
   "metadata": {},
   "source": [
    "## 11. 주성분 분석(PCA)"
   ]
  },
  {
   "cell_type": "markdown",
   "metadata": {},
   "source": [
    "### 데이터 집합을 새로운 좌표축으로 변환시키는 방법\n",
    "- 최소한의 차원으로 최대한의 설명력을 노림\n",
    "- https://excelsior-cjh.tistory.com/167"
   ]
  },
  {
   "cell_type": "code",
   "execution_count": 66,
   "metadata": {},
   "outputs": [
    {
     "name": "stdout",
     "output_type": "stream",
     "text": [
      "eigen_value : [0.77830975 0.1351726  0.01034272]\n",
      "explained variance ratio : [0.84248607 0.14631839 0.01119554]\n"
     ]
    }
   ],
   "source": [
    "from sklearn.decomposition import PCA\n",
    "\n",
    "np.random.seed(4)\n",
    "m = 60\n",
    "w1, w2 = 0.1, 0.3\n",
    "noise = 0.1\n",
    "\n",
    "angles = np.random.rand(m) * 3 * np.pi / 2 - 0.5\n",
    "X = np.empty((m, 3))\n",
    "X[:, 0] = np.cos(angles) + np.sin(angles)/2 + noise * np.random.randn(m) / 2\n",
    "X[:, 1] = np.sin(angles) * 0.7 + noise * np.random.randn(m) / 2\n",
    "X[:, 2] = X[:, 0] * w1 + X[:, 1] * w2 + noise * np.random.randn(m)\n",
    "\n",
    "pca = PCA(n_components=3)\n",
    "pca.fit(X)\n",
    "\n",
    "print('eigen_value :', pca.explained_variance_)\n",
    "print('explained variance ratio :', pca.explained_variance_ratio_)"
   ]
  },
  {
   "cell_type": "markdown",
   "metadata": {},
   "source": [
    "## 12. 요인 분석"
   ]
  },
  {
   "cell_type": "markdown",
   "metadata": {},
   "source": [
    "### 변수들 간 공통적인 요인이 있다고 가정, 상호 관련성을 집약하는 방법\n",
    "- https://stackoverflow.com/questions/31680699/how-to-calculate-factoranalysis-scores-using-python-scikit-learn"
   ]
  },
  {
   "cell_type": "markdown",
   "metadata": {},
   "source": [
    "from sklearn import decomposition, preprocessing\n",
    "from sklearn.cross_validation import cross_val_score\n",
    "import csv\n",
    "import numpy as np\n",
    "\n",
    "data = np.genfromtxt('test.csv', delimiter=',')\n",
    "\n",
    "def compute_scores(X):\n",
    "    n_components = np.arange(0, len(X), 1)\n",
    "    X = preprocessing.scale(X) # data normalisation attempt\n",
    "    pca = decomposition.PCA()\n",
    "    fa = decomposition.FactorAnalysis(n_components=1)\n",
    "\n",
    "    pca_scores, fa_scores = [], []\n",
    "    for n in n_components:\n",
    "        pca.n_components = n\n",
    "        fa.n_components = n\n",
    "        #pca_scores.append(np.mean(cross_val_score(pca, X))) # if I attempt to compute pca_scores I get the error.\n",
    "        fa_scores.append(np.mean(cross_val_score(fa, X)))\n",
    "\n",
    "    print pca_scores, fa_scores\n",
    "compute_scores(data)"
   ]
  },
  {
   "cell_type": "markdown",
   "metadata": {},
   "source": [
    "## 13. 군집 분석"
   ]
  },
  {
   "cell_type": "markdown",
   "metadata": {},
   "source": [
    "### 데이터에 대해 기준을 정하여 군집을 만드는 방법\n",
    "- https://datascienceschool.net/view-notebook/2205ad8f0c5947c08696e8927b466341/"
   ]
  },
  {
   "cell_type": "code",
   "execution_count": 68,
   "metadata": {},
   "outputs": [
    {
     "data": {
      "image/png": "[encoded data removed]",
      "text/plain": [
       "<Figure size 576x576 with 4 Axes>"
      ]
     },
     "metadata": {
      "needs_background": "light"
     },
     "output_type": "display_data"
    }
   ],
   "source": [
    "from sklearn.datasets import make_blobs\n",
    "from sklearn.cluster import KMeans\n",
    "\n",
    "X, _ = make_blobs(n_samples=20, random_state=4)\n",
    "\n",
    "def plot_KMeans(n):\n",
    "    model = KMeans(n_clusters=2, init=\"random\", n_init=1, max_iter=n, random_state=8).fit(X)\n",
    "    c0, c1 = model.cluster_centers_\n",
    "    plt.scatter(X[model.labels_ == 0, 0], X[model.labels_ == 0, 1], marker='v', facecolor='r', edgecolors='k')\n",
    "    plt.scatter(X[model.labels_ == 1, 0], X[model.labels_ == 1, 1], marker='^', facecolor='y', edgecolors='k')\n",
    "    plt.scatter(c0[0], c0[1], marker='v', c=\"r\", s=200)\n",
    "    plt.scatter(c1[0], c1[1], marker='^', c=\"y\", s=200)\n",
    "    plt.grid(False)\n",
    "    plt.title(\"iteration={}, score={:5.2f}\".format(n, model.score(X)))\n",
    "\n",
    "plt.figure(figsize=(8, 8))\n",
    "plt.subplot(321)\n",
    "plot_KMeans(1)\n",
    "plt.subplot(322)\n",
    "plot_KMeans(2)\n",
    "plt.subplot(323)\n",
    "plot_KMeans(3)\n",
    "plt.subplot(324)\n",
    "plot_KMeans(4)\n",
    "plt.tight_layout()\n",
    "plt.show()"
   ]
  },
  {
   "cell_type": "markdown",
   "metadata": {},
   "source": [
    "## 14. 단일 표본 z-검정"
   ]
  },
  {
   "cell_type": "markdown",
   "metadata": {},
   "source": [
    "### 모분산 $\\sigma$의 값을 알고 두 집단 간에 평균의 차이가 있는지 검정"
   ]
  },
  {
   "cell_type": "code",
   "execution_count": 3,
   "metadata": {},
   "outputs": [
    {
     "data": {
      "text/plain": [
       "(2.3338341854824276, 0.019604406021683538)"
      ]
     },
     "execution_count": 3,
     "metadata": {},
     "output_type": "execute_result"
    }
   ],
   "source": [
    "N = 10\n",
    "mu_0 = 0\n",
    "np.random.seed(0)\n",
    "x = stats.norm(mu_0).rvs(N)\n",
    "\n",
    "def ztest_1samp(x, sigma2=1, mu=0):\n",
    "    z = (x.mean() - mu) / np.sqrt(sigma2/len(x))\n",
    "    return z, 2 * stats.norm().sf(np.abs(z))\n",
    "\n",
    "ztest_1samp(x)"
   ]
  },
  {
   "cell_type": "markdown",
   "metadata": {},
   "source": [
    "## 15. 정규성 검정"
   ]
  },
  {
   "cell_type": "markdown",
   "metadata": {},
   "source": [
    "### 회귀 분석 등에서 확률분포가 가우시안 정규 분포를 따르는지 확인\n",
    "- t-test, ANOVA 등과 같이 정규 분포의 조건이 있는 분석들 대상(n<30의 경우 더욱 필요)\n",
    "- QQplot을 통해 시각적으로 확인하는 것이 가장 간단, 직관적\n",
    "\n",
    "\n",
    "- SciPy\n",
    "    - stats.ks_2samp() # Kolmogorov-Smirnov test # 표본수가 2000 초과일 때\n",
    "    - stats.shapiro() # Shapiro–Wilk test # 표본수가 2000 미만일 때\n",
    "    - stats.anderson() # Anderson–Darling test # 표본수가 매우 많아도 할 수 있음\n",
    "    - stats.mstats.normaltest() # D'Agostino's K-squared test\n",
    "- StatsModels\n",
    "    - statsmodels.stats.stattools.omni_normtest # Omnibus Normality test\n",
    "    - statsmodels.stats.stattools.jarque_beta # Jarque–Bera test\n",
    "    - statsmodels.stats.diagnostic.kstest_normal # Kolmogorov-Smirnov test\n",
    "    - statsmodels.stats.diagnostic.lillifors # Lilliefors test\n",
    "    \n",
    "- (20190418)\n",
    "    - stats.normaltest(데이터)"
   ]
  },
  {
   "cell_type": "markdown",
   "metadata": {},
   "source": [
    "## 16. 등분산 검정"
   ]
  },
  {
   "cell_type": "markdown",
   "metadata": {},
   "source": [
    "### 두 정규 분포로 생성된 데이터 집합으로부터 분산 모수가 같은지 확인\n",
    "- 기본적인 방법은 F분포가 되는 표본분산의 비율 사용 $F = \\frac{s_1^2}{s_2^2}$\n",
    "- stats.bartlett(데이터1, 데이터2)\n",
    "- stats.fligner(데이터1, 데이터2)\n",
    "- stats.levene(데이터1, 데이터2)"
   ]
  },
  {
   "cell_type": "markdown",
   "metadata": {},
   "source": [
    "# [기초 통계]"
   ]
  },
  {
   "cell_type": "code",
   "execution_count": 1,
   "metadata": {},
   "outputs": [],
   "source": [
    "import pandas as pd\n",
    "from sklearn.datasets import load_iris\n",
    "\n",
    "data = load_iris()\n",
    "df = pd.DataFrame(data['data'], columns=['sepal_length', 'sepal_width',\n",
    "                                        'petal_length', 'petal_width'])\n",
    "df['target'] = data['target']"
   ]
  },
  {
   "cell_type": "markdown",
   "metadata": {},
   "source": [
    "## 통계량 구하기, 계산 하기"
   ]
  },
  {
   "cell_type": "markdown",
   "metadata": {},
   "source": [
    "- mean()\n",
    "- min()\n",
    "- max()\n",
    "- var()\n",
    "- std()\n",
    "- sem() # 평균의 표준편차\n",
    "- describe()\n",
    "- median\n",
    "- quantile(q=0.xx) # 백분위수\n",
    "\n",
    "\n",
    "- https://rfriend.tistory.com/380 # 선형대수 함수에 관하여"
   ]
  },
  {
   "cell_type": "code",
   "execution_count": 7,
   "metadata": {},
   "outputs": [
    {
     "data": {
      "text/html": [
       "<div>\n",
       "<style scoped>\n",
       "    .dataframe tbody tr th:only-of-type {\n",
       "        vertical-align: middle;\n",
       "    }\n",
       "\n",
       "    .dataframe tbody tr th {\n",
       "        vertical-align: top;\n",
       "    }\n",
       "\n",
       "    .dataframe thead th {\n",
       "        text-align: right;\n",
       "    }\n",
       "</style>\n",
       "<table border=\"1\" class=\"dataframe\">\n",
       "  <thead>\n",
       "    <tr style=\"text-align: right;\">\n",
       "      <th></th>\n",
       "      <th>sepal_length</th>\n",
       "      <th>sepal_width</th>\n",
       "      <th>petal_length</th>\n",
       "      <th>petal_width</th>\n",
       "      <th>target</th>\n",
       "    </tr>\n",
       "  </thead>\n",
       "  <tbody>\n",
       "    <tr>\n",
       "      <th>count</th>\n",
       "      <td>150.000000</td>\n",
       "      <td>150.000000</td>\n",
       "      <td>150.000000</td>\n",
       "      <td>150.000000</td>\n",
       "      <td>150.000000</td>\n",
       "    </tr>\n",
       "    <tr>\n",
       "      <th>mean</th>\n",
       "      <td>5.843333</td>\n",
       "      <td>3.057333</td>\n",
       "      <td>3.758000</td>\n",
       "      <td>1.199333</td>\n",
       "      <td>1.000000</td>\n",
       "    </tr>\n",
       "    <tr>\n",
       "      <th>std</th>\n",
       "      <td>0.828066</td>\n",
       "      <td>0.435866</td>\n",
       "      <td>1.765298</td>\n",
       "      <td>0.762238</td>\n",
       "      <td>0.819232</td>\n",
       "    </tr>\n",
       "    <tr>\n",
       "      <th>min</th>\n",
       "      <td>4.300000</td>\n",
       "      <td>2.000000</td>\n",
       "      <td>1.000000</td>\n",
       "      <td>0.100000</td>\n",
       "      <td>0.000000</td>\n",
       "    </tr>\n",
       "    <tr>\n",
       "      <th>25%</th>\n",
       "      <td>5.100000</td>\n",
       "      <td>2.800000</td>\n",
       "      <td>1.600000</td>\n",
       "      <td>0.300000</td>\n",
       "      <td>0.000000</td>\n",
       "    </tr>\n",
       "    <tr>\n",
       "      <th>50%</th>\n",
       "      <td>5.800000</td>\n",
       "      <td>3.000000</td>\n",
       "      <td>4.350000</td>\n",
       "      <td>1.300000</td>\n",
       "      <td>1.000000</td>\n",
       "    </tr>\n",
       "    <tr>\n",
       "      <th>75%</th>\n",
       "      <td>6.400000</td>\n",
       "      <td>3.300000</td>\n",
       "      <td>5.100000</td>\n",
       "      <td>1.800000</td>\n",
       "      <td>2.000000</td>\n",
       "    </tr>\n",
       "    <tr>\n",
       "      <th>max</th>\n",
       "      <td>7.900000</td>\n",
       "      <td>4.400000</td>\n",
       "      <td>6.900000</td>\n",
       "      <td>2.500000</td>\n",
       "      <td>2.000000</td>\n",
       "    </tr>\n",
       "  </tbody>\n",
       "</table>\n",
       "</div>"
      ],
      "text/plain": [
       "       sepal_length  sepal_width  petal_length  petal_width      target\n",
       "count    150.000000   150.000000    150.000000   150.000000  150.000000\n",
       "mean       5.843333     3.057333      3.758000     1.199333    1.000000\n",
       "std        0.828066     0.435866      1.765298     0.762238    0.819232\n",
       "min        4.300000     2.000000      1.000000     0.100000    0.000000\n",
       "25%        5.100000     2.800000      1.600000     0.300000    0.000000\n",
       "50%        5.800000     3.000000      4.350000     1.300000    1.000000\n",
       "75%        6.400000     3.300000      5.100000     1.800000    2.000000\n",
       "max        7.900000     4.400000      6.900000     2.500000    2.000000"
      ]
     },
     "execution_count": 7,
     "metadata": {},
     "output_type": "execute_result"
    }
   ],
   "source": [
    "df.describe()\n",
    "#nunique"
   ]
  },
  {
   "cell_type": "markdown",
   "metadata": {},
   "source": [
    "#### 각 데이터 포인트가 어느 구간에 속하는지\n",
    "np.digitize()"
   ]
  }
 ],
 "metadata": {
  "kernelspec": {
   "display_name": "Python 3",
   "language": "python",
   "name": "python3"
  },
  "language_info": {
   "codemirror_mode": {
    "name": "ipython",
    "version": 3
   },
   "file_extension": ".py",
   "mimetype": "text/x-python",
   "name": "python",
   "nbconvert_exporter": "python",
   "pygments_lexer": "ipython3",
   "version": "3.7.1"
  }
 },
 "nbformat": 4,
 "nbformat_minor": 2
}
