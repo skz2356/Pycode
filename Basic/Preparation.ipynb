{
 "cells": [
  {
   "cell_type": "markdown",
   "metadata": {},
   "source": [
    "# [데이터 준비]\n",
    "\n",
    "## 1. 데이터 불러오기"
   ]
  },
  {
   "cell_type": "code",
   "execution_count": 1,
   "metadata": {},
   "outputs": [],
   "source": [
    "import pandas as pd\n",
    "from sklearn.datasets import load_iris\n",
    "\n",
    "data = load_iris()\n",
    "df = pd.DataFrame(data['data'], columns=['sepal_length', 'sepal_width',\n",
    "                                        'petal_length', 'petal_width'])\n",
    "df['target'] = data['target']\n",
    "\n",
    "import glob"
   ]
  },
  {
   "cell_type": "markdown",
   "metadata": {},
   "source": [
    "- load.data()\n",
    "\n",
    "\n",
    "- df = pd.read.csv('파일경로', sep = '\\t')\n",
    "\n",
    "\n",
    "- 특정한 패턴의 파일 한 번에 읽기\n",
    "    - data_all = glob.glob('..경로/공통파일명*')\n",
    "    - data1 = pd.read_csv(data_all[0])\n",
    "    - data2 = pd.read_csv)data_all[1]) 등"
   ]
  },
  {
   "cell_type": "markdown",
   "metadata": {},
   "source": [
    "## 2. 형태 파악하기"
   ]
  },
  {
   "cell_type": "markdown",
   "metadata": {},
   "source": [
    "- whos # 변수 목록 확인\n",
    "- df.head()\n",
    "- df.tail()\n",
    "- type(df)\n",
    "- df.shape\n",
    "- df.clumns\n",
    "- df.dtypes\n",
    "- df.info()\n",
    "- df.index\n",
    "- df.values\n",
    "- df.keys()\n",
    "- df.get_values() # 시리즈의 값 구하기\n",
    "- df.isin() # values 값 구하기\n",
    "- df.count()\n",
    "- df.isnull()\n",
    "- df.count_nonzero()\n",
    "- df.target.unique()\n",
    "- df.first 첫째 행\n",
    "- df.last 마지막 행\n",
    "- df.nth n번째 행\n",
    "- bincount() 구간별 카운트"
   ]
  },
  {
   "cell_type": "code",
   "execution_count": 4,
   "metadata": {},
   "outputs": [],
   "source": [
    "# get()"
   ]
  }
 ],
 "metadata": {
  "kernelspec": {
   "display_name": "Python 3",
   "language": "python",
   "name": "python3"
  },
  "language_info": {
   "codemirror_mode": {
    "name": "ipython",
    "version": 3
   },
   "file_extension": ".py",
   "mimetype": "text/x-python",
   "name": "python",
   "nbconvert_exporter": "python",
   "pygments_lexer": "ipython3",
   "version": "3.7.1"
  }
 },
 "nbformat": 4,
 "nbformat_minor": 2
}
