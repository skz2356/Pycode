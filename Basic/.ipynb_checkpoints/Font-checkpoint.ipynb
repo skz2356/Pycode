{
 "cells": [
  {
   "cell_type": "code",
   "execution_count": 1,
   "metadata": {},
   "outputs": [],
   "source": [
    "# 그래프를 노트북 안에 그리기 위해 설정\n",
    "%matplotlib inline\n",
    "\n",
    "# 필요한 패키지와 라이브러리를 가져옴\n",
    "import matplotlib as mpl\n",
    "import matplotlib.pyplot as plt\n",
    "import matplotlib.font_manager as fm\n",
    "import numpy as np\n",
    "\n",
    "# 그래프에서 마이너스 폰트 깨지는 문제에 대한 대처\n",
    "mpl.rcParams['axes.unicode_minus'] = False"
   ]
  },
  {
   "cell_type": "code",
   "execution_count": 2,
   "metadata": {},
   "outputs": [
    {
     "name": "stdout",
     "output_type": "stream",
     "text": [
      "버전:  3.0.3\n",
      "설치 위치:  C:\\Users\\skz2356\\AppData\\Local\\Continuum\\anaconda3\\lib\\site-packages\\matplotlib\\__init__.py\n",
      "설정 위치:  C:\\Users\\skz2356\\.matplotlib\n",
      "캐시 위치:  C:\\Users\\skz2356\\.matplotlib\n"
     ]
    }
   ],
   "source": [
    "print ('버전: ', mpl.__version__)\n",
    "print ('설치 위치: ', mpl.__file__)\n",
    "print ('설정 위치: ', mpl.get_configdir())\n",
    "print ('캐시 위치: ', mpl.get_cachedir())"
   ]
  },
  {
   "cell_type": "code",
   "execution_count": 3,
   "metadata": {},
   "outputs": [
    {
     "name": "stdout",
     "output_type": "stream",
     "text": [
      "설정파일 위치:  C:\\Users\\skz2356\\AppData\\Local\\Continuum\\anaconda3\\lib\\site-packages\\matplotlib\\mpl-data\\matplotlibrc\n"
     ]
    }
   ],
   "source": [
    "print ('설정파일 위치: ', mpl.matplotlib_fname())"
   ]
  },
  {
   "cell_type": "code",
   "execution_count": 4,
   "metadata": {},
   "outputs": [
    {
     "name": "stdout",
     "output_type": "stream",
     "text": [
      "358\n"
     ]
    }
   ],
   "source": [
    "font_list = fm.findSystemFonts(fontpaths=None, fontext='ttf')\n",
    "\n",
    "# ttf 폰트 전체갯수\n",
    "print(len(font_list)) "
   ]
  },
  {
   "cell_type": "code",
   "execution_count": 5,
   "metadata": {},
   "outputs": [
    {
     "data": {
      "text/plain": [
       "[('NanumGothic', 'C:\\\\Windows\\\\Fonts\\\\NanumGothicBold.ttf'),\n",
       " ('NanumSquareRound', 'C:\\\\Windows\\\\Fonts\\\\NanumSquareRoundR.ttf'),\n",
       " ('NanumSquare', 'C:\\\\Windows\\\\Fonts\\\\NanumSquareL.ttf'),\n",
       " ('NanumSquareRound', 'C:\\\\Windows\\\\Fonts\\\\NanumSquareRoundL.ttf'),\n",
       " ('NanumBarunGothic', 'C:\\\\Windows\\\\Fonts\\\\NanumBarunGothicUltraLight.ttf'),\n",
       " ('NanumGothic', 'C:\\\\Windows\\\\Fonts\\\\NanumGothicLight.ttf'),\n",
       " ('NanumBarunGothic', 'C:\\\\Windows\\\\Fonts\\\\NanumBarunGothicBold.ttf'),\n",
       " ('NanumSquare', 'C:\\\\Windows\\\\Fonts\\\\NanumSquareEB.ttf'),\n",
       " ('NanumMyeongjo', 'C:\\\\Windows\\\\Fonts\\\\NanumMyeongjoBold.ttf'),\n",
       " ('NanumBarunGothic', 'C:\\\\Windows\\\\Fonts\\\\NanumBarunGothic.ttf'),\n",
       " ('NanumMyeongjo', 'C:\\\\Windows\\\\Fonts\\\\NanumMyeongjoExtraBold.ttf'),\n",
       " ('Nanum Brush Script', 'C:\\\\Windows\\\\Fonts\\\\NanumBrush.ttf'),\n",
       " ('NanumSquare', 'C:\\\\Windows\\\\Fonts\\\\NanumSquareB.ttf'),\n",
       " ('NanumSquareRound', 'C:\\\\Windows\\\\Fonts\\\\NanumSquareRoundB.ttf'),\n",
       " ('NanumSquare', 'C:\\\\Windows\\\\Fonts\\\\NanumSquareR.ttf'),\n",
       " ('Nanum Pen Script', 'C:\\\\Windows\\\\Fonts\\\\NanumPen.ttf'),\n",
       " ('NanumGothic', 'C:\\\\Windows\\\\Fonts\\\\NanumGothic.ttf'),\n",
       " ('NanumSquareRound', 'C:\\\\Windows\\\\Fonts\\\\NanumSquareRoundEB.ttf'),\n",
       " ('NanumBarunGothic', 'C:\\\\Windows\\\\Fonts\\\\NanumBarunGothicLight.ttf'),\n",
       " ('NanumMyeongjo', 'C:\\\\Windows\\\\Fonts\\\\NanumMyeongjo.ttf'),\n",
       " ('NanumBarunpen', 'C:\\\\Windows\\\\Fonts\\\\NanumBarunpenB.ttf'),\n",
       " ('NanumBarunpen', 'C:\\\\Windows\\\\Fonts\\\\NanumBarunpenR.ttf'),\n",
       " ('NanumGothic', 'C:\\\\Windows\\\\Fonts\\\\NanumGothicExtraBold.ttf')]"
      ]
     },
     "execution_count": 5,
     "metadata": {},
     "output_type": "execute_result"
    }
   ],
   "source": [
    "[(f.name, f.fname) for f in fm.fontManager.ttflist if 'Nanum' in f.name]"
   ]
  },
  {
   "cell_type": "code",
   "execution_count": 6,
   "metadata": {},
   "outputs": [
    {
     "name": "stdout",
     "output_type": "stream",
     "text": [
      "# 설정 되어있는 폰트 사이즈\n",
      "10.0\n",
      "# 설정 되어있는 폰트 글꼴\n",
      "['sans-serif']\n"
     ]
    }
   ],
   "source": [
    "# 기본 설정 읽기\n",
    "import matplotlib.pyplot as plt\n",
    "\n",
    "# size, family\n",
    "print('# 설정 되어있는 폰트 사이즈')\n",
    "print (plt.rcParams['font.size'] ) \n",
    "print('# 설정 되어있는 폰트 글꼴')\n",
    "print (plt.rcParams['font.family'] )"
   ]
  },
  {
   "cell_type": "code",
   "execution_count": 8,
   "metadata": {
    "scrolled": true
   },
   "outputs": [
    {
     "data": {
      "text/plain": [
       "Text(0.5, 0, '시간(분)')"
      ]
     },
     "execution_count": 8,
     "metadata": {},
     "output_type": "execute_result"
    },
    {
     "data": {
      "image/png": "[encoded data removed]",
      "text/plain": [
       "<Figure size 432x288 with 1 Axes>"
      ]
     },
     "metadata": {
      "needs_background": "light"
     },
     "output_type": "display_data"
    }
   ],
   "source": [
    "data = np.random.randint(-100, 100, 50).cumsum()\n",
    "plt.plot(range(50), data, 'r')\n",
    "\n",
    "plt.rcParams[\"font.family\"] = 'NanumGothic' # 전역 폰트 설정\n",
    "mpl.rcParams['axes.unicode_minus'] = True # 마이너스 폰트 깨짐 오류\n",
    "\n",
    "plt.title('시간별 가격 추이')\n",
    "plt.ylabel('주식 가격')\n",
    "plt.xlabel('시간(분)')"
   ]
  },
  {
   "cell_type": "code",
   "execution_count": null,
   "metadata": {},
   "outputs": [],
   "source": []
  }
 ],
 "metadata": {
  "kernelspec": {
   "display_name": "Python 3",
   "language": "python",
   "name": "python3"
  },
  "language_info": {
   "codemirror_mode": {
    "name": "ipython",
    "version": 3
   },
   "file_extension": ".py",
   "mimetype": "text/x-python",
   "name": "python",
   "nbconvert_exporter": "python",
   "pygments_lexer": "ipython3",
   "version": "3.7.3"
  }
 },
 "nbformat": 4,
 "nbformat_minor": 2
}
