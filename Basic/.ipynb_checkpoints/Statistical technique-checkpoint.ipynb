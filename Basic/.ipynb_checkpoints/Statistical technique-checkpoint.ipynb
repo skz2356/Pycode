{
 "cells": [
  {
   "cell_type": "markdown",
   "metadata": {},
   "source": [
    "# [통계 분석]"
   ]
  },
  {
   "cell_type": "code",
   "execution_count": 19,
   "metadata": {},
   "outputs": [],
   "source": [
    "import numpy as np\n",
    "import pandas as pd\n",
    "from sklearn.datasets import load_iris\n",
    "\n",
    "data = load_iris()\n",
    "df = pd.DataFrame(data['data'], columns=['sepal_length', 'sepal_width',\n",
    "                                        'petal_length', 'petal_width'])\n",
    "df['target'] = data['target']\n",
    "\n",
    "from scipy import stats"
   ]
  },
  {
   "cell_type": "markdown",
   "metadata": {},
   "source": [
    "## 1. 빈도 분석"
   ]
  },
  {
   "cell_type": "markdown",
   "metadata": {},
   "source": [
    "### 각 변수 값에 속한 분포의 특성을 찾아내는 분석기법\n",
    "1) 도수분포표: 빈도, 퍼센트, 유효비율, 누적백분율 등의 도표 \n",
    "\n",
    "2) 집중경향치(central tendency): 최빈값(mode), 중위수(median), 평균(mean)\n",
    "\n",
    "3) 분산도(dispersion): 범위, 분산, 표준편차, 평균의 표준오차(S.E. mean) \n",
    "\n",
    "- size()나 count() 함수 이용\n",
    "- pd.crosstab() # 교차표(혼동행렬)\n",
    "- np.trace() # 대각합\n"
   ]
  },
  {
   "cell_type": "code",
   "execution_count": 18,
   "metadata": {},
   "outputs": [
    {
     "name": "stdout",
     "output_type": "stream",
     "text": [
      "target         0         1         2       All\n",
      "target                                        \n",
      "0       0.333333  0.000000  0.000000  0.333333\n",
      "1       0.000000  0.333333  0.000000  0.333333\n",
      "2       0.000000  0.000000  0.333333  0.333333\n",
      "All     0.333333  0.333333  0.333333  1.000000\n"
     ]
    },
    {
     "data": {
      "text/plain": [
       "150"
      ]
     },
     "execution_count": 18,
     "metadata": {},
     "output_type": "execute_result"
    }
   ],
   "source": [
    "x = pd.crosstab(df.target, df.target)\n",
    "print(pd.crosstab(df.target, df.target, margins=True, normalize='all'))\n",
    "np.trace(x)"
   ]
  },
  {
   "cell_type": "markdown",
   "metadata": {},
   "source": [
    "## 2. 기술 통계 분석"
   ]
  },
  {
   "cell_type": "markdown",
   "metadata": {},
   "source": [
    "### 자료의 필요 통계량을 간단히 산출, 요약통계량과 Z-점수 계산\n",
    "1) 기술통계량: 평균, 표준편차, 최소값, 최대값, 빈도수, 분산, 범위, 평균 표준오차, 왜도, 첨도\n",
    "\n",
    "- mean()\n",
    "- min()\n",
    "- max()\n",
    "- var()\n",
    "- std()\n",
    "- sem() # 평균의 표준편차\n",
    "- describe()\n",
    "- median\n",
    "- quantile(q=0.xx) # 백분위수"
   ]
  },
  {
   "cell_type": "markdown",
   "metadata": {},
   "source": [
    "## 3. 카이제곱 검정"
   ]
  },
  {
   "cell_type": "markdown",
   "metadata": {},
   "source": [
    "- 범주형 자료에 대한 검정(독립변수와 종속변수가 명목)\n",
    "- 검정통계량은 귀무가설이 참일 때, 근사적으로 df: (r-1)(c-1)인 카이제곱 분포를 따른다\n",
    "- stats.chisquare(data1, data2)\n",
    "- stats.chi2_contingency(array)"
   ]
  },
  {
   "cell_type": "markdown",
   "metadata": {},
   "source": [
    "### 1) 적합도 검정"
   ]
  },
  {
   "cell_type": "markdown",
   "metadata": {},
   "source": [
    "- 관찰된 빈도가 기대되는 빈도와 다른지의 여부(단일 기준 분류 표본)"
   ]
  },
  {
   "cell_type": "code",
   "execution_count": 28,
   "metadata": {},
   "outputs": [
    {
     "name": "stdout",
     "output_type": "stream",
     "text": [
      "Power_divergenceResult(statistic=6.083333333333333, pvalue=0.047755231078826975)\n"
     ]
    }
   ],
   "source": [
    "data1 = [4, 6, 17, 16, 8, 9] # 관측값\n",
    "data2 = [10, 10, 10, 10, 10, 10] # 기대도수 or 비율\n",
    "\n",
    "# data2가 기대도수가 아닌 비율일 경우, (관측빈도 x 비율)로 자료를 변환해야 함\n",
    "chis = stats.chisquare(data1, data2)\n",
    "print(chis)"
   ]
  },
  {
   "cell_type": "markdown",
   "metadata": {},
   "source": [
    "### 2) 독립성 검정"
   ]
  },
  {
   "cell_type": "markdown",
   "metadata": {},
   "source": [
    "- 두 요인 간에 관계가 있는지 검정(복수 기준 분류 표본)"
   ]
  },
  {
   "cell_type": "code",
   "execution_count": 33,
   "metadata": {},
   "outputs": [
    {
     "name": "stdout",
     "output_type": "stream",
     "text": [
      "16.490612061288754\n",
      "0.35021521809742745\n",
      "15\n"
     ]
    }
   ],
   "source": [
    "ind = np.array([[6, 4, 5, 10], [8, 5, 3, 3], [5, 4, 8, 4],\n",
    "              [4, 11, 7, 13], [5, 8, 7, 6], [7, 3, 5, 9]])\n",
    "chi_stat, p_value, dof, ex = stats.chi2_contingency(ind)\n",
    "print(chi_stat)\n",
    "print(p_value)\n",
    "print(dof)"
   ]
  },
  {
   "cell_type": "markdown",
   "metadata": {},
   "source": [
    "### 3) 동일성 검정"
   ]
  },
  {
   "cell_type": "markdown",
   "metadata": {},
   "source": [
    "- 서로 다른 모집단에서 독립적으로 뽑은 표본들의 분포가 서로 동질한지 검정"
   ]
  },
  {
   "cell_type": "markdown",
   "metadata": {},
   "source": [
    "## 4. T-test"
   ]
  },
  {
   "cell_type": "markdown",
   "metadata": {},
   "source": []
  },
  {
   "cell_type": "markdown",
   "metadata": {},
   "source": [
    "## 5. 분산 분석"
   ]
  },
  {
   "cell_type": "markdown",
   "metadata": {},
   "source": []
  },
  {
   "cell_type": "markdown",
   "metadata": {},
   "source": [
    "## 6. 회귀 분석"
   ]
  },
  {
   "cell_type": "markdown",
   "metadata": {},
   "source": []
  },
  {
   "cell_type": "markdown",
   "metadata": {},
   "source": [
    "## 7. 일반화 선형 모형"
   ]
  },
  {
   "cell_type": "markdown",
   "metadata": {},
   "source": []
  },
  {
   "cell_type": "markdown",
   "metadata": {},
   "source": [
    "## 8. 상관관계 분석"
   ]
  },
  {
   "cell_type": "markdown",
   "metadata": {},
   "source": []
  },
  {
   "cell_type": "markdown",
   "metadata": {},
   "source": [
    "## 9. 로지스틱 회귀 분석"
   ]
  },
  {
   "cell_type": "markdown",
   "metadata": {},
   "source": []
  },
  {
   "cell_type": "markdown",
   "metadata": {},
   "source": [
    "## 10. 판별 분석"
   ]
  },
  {
   "cell_type": "markdown",
   "metadata": {},
   "source": []
  },
  {
   "cell_type": "markdown",
   "metadata": {},
   "source": [
    "## 11. 주성분 분석"
   ]
  },
  {
   "cell_type": "markdown",
   "metadata": {},
   "source": []
  },
  {
   "cell_type": "markdown",
   "metadata": {},
   "source": [
    "## 12. 요인 분석"
   ]
  },
  {
   "cell_type": "markdown",
   "metadata": {},
   "source": []
  },
  {
   "cell_type": "markdown",
   "metadata": {},
   "source": [
    "## 13. 군집 분석"
   ]
  },
  {
   "cell_type": "markdown",
   "metadata": {},
   "source": []
  },
  {
   "cell_type": "markdown",
   "metadata": {},
   "source": [
    "## 14. 단일 표본 z-검정"
   ]
  }
 ],
 "metadata": {
  "kernelspec": {
   "display_name": "Python 3",
   "language": "python",
   "name": "python3"
  },
  "language_info": {
   "codemirror_mode": {
    "name": "ipython",
    "version": 3
   },
   "file_extension": ".py",
   "mimetype": "text/x-python",
   "name": "python",
   "nbconvert_exporter": "python",
   "pygments_lexer": "ipython3",
   "version": "3.7.1"
  }
 },
 "nbformat": 4,
 "nbformat_minor": 2
}
