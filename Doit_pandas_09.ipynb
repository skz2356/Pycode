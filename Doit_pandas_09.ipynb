{
 "cells": [
  {
   "cell_type": "code",
   "execution_count": 13,
   "metadata": {},
   "outputs": [
    {
     "name": "stdout",
     "output_type": "stream",
     "text": [
      "g\n",
      "a\n",
      "gra\n",
      "h\n",
      "a\n",
      "a\n",
      "a scratch\n",
      "asrth\n"
     ]
    }
   ],
   "source": [
    "# 문자열 처리\n",
    "word = 'grail'\n",
    "sent = 'a scratch'\n",
    "\n",
    "print(word[0])\n",
    "print(sent[0])\n",
    "print(word[0:3])\n",
    "print(sent[-1])\n",
    "print(sent[-9:-8])\n",
    "print(sent[0:-8])\n",
    "print(sent[0:len(sent)])\n",
    "print(sent[::2])"
   ]
  },
  {
   "cell_type": "code",
   "execution_count": 2,
   "metadata": {},
   "outputs": [
    {
     "name": "stdout",
     "output_type": "stream",
     "text": [
      "40 68' N\n"
     ]
    }
   ],
   "source": [
    "d1 = '40'\n",
    "m1 = \"68'\"\n",
    "s1 = 'N'\n",
    "\n",
    "coords = ' '.join([d1, m1, s1])\n",
    "print(coords)"
   ]
  },
  {
   "cell_type": "code",
   "execution_count": 3,
   "metadata": {},
   "outputs": [
    {
     "name": "stdout",
     "output_type": "stream",
     "text": [
      "Guard: asldkfjwlekfj?\n",
      "King Arthur: awef\n",
      "Guard: awleijawlefj\n",
      "King Arthur: aelifjawlef\n",
      "Guard: welfijwleifjlweifj\n"
     ]
    }
   ],
   "source": [
    "multi_str = \"\"\"Guard: asldkfjwlekfj?\n",
    "King Arthur: awef\n",
    "Guard: awleijawlefj\n",
    "King Arthur: aelifjawlef\n",
    "Guard: welfijwleifjlweifj\"\"\"\n",
    "print(multi_str)"
   ]
  },
  {
   "cell_type": "code",
   "execution_count": 5,
   "metadata": {},
   "outputs": [
    {
     "name": "stdout",
     "output_type": "stream",
     "text": [
      "['Guard: asldkfjwlekfj?', 'King Arthur: awef', 'Guard: awleijawlefj', 'King Arthur: aelifjawlef', 'Guard: welfijwleifjlweifj']\n"
     ]
    }
   ],
   "source": [
    "multi_str_split = multi_str.splitlines()\n",
    "print(multi_str_split)"
   ]
  },
  {
   "cell_type": "code",
   "execution_count": 7,
   "metadata": {},
   "outputs": [
    {
     "name": "stdout",
     "output_type": "stream",
     "text": [
      "['Guard: asldkfjwlekfj?', 'Guard: awleijawlefj', 'Guard: welfijwleifjlweifj']\n"
     ]
    }
   ],
   "source": [
    "guard = multi_str_split[::2]\n",
    "print(guard0)"
   ]
  },
  {
   "cell_type": "code",
   "execution_count": 9,
   "metadata": {},
   "outputs": [
    {
     "name": "stdout",
     "output_type": "stream",
     "text": [
      "['asldkfjwlekfj?', 'awleijawlefj', 'welfijwleifjlweifj']\n"
     ]
    }
   ],
   "source": [
    "guard = multi_str.replace(\"Guard: \", \"\").splitlines()[::2]\n",
    "print(guard)"
   ]
  },
  {
   "cell_type": "code",
   "execution_count": 3,
   "metadata": {},
   "outputs": [
    {
     "name": "stdout",
     "output_type": "stream",
     "text": [
      "It's just a flesh wound!\n",
      "It's just a scratch!\n"
     ]
    }
   ],
   "source": [
    "# 문자열 포매팅\n",
    "var = 'flesh wound'\n",
    "s = \"It's just a {}!\"\n",
    "print(s.format(var))\n",
    "print(s.format('scratch'))"
   ]
  },
  {
   "cell_type": "code",
   "execution_count": 4,
   "metadata": {},
   "outputs": [
    {
     "name": "stdout",
     "output_type": "stream",
     "text": [
      "Black Knight: 'Tis but a scratch.\n",
      "King Arthur: A scratch? Your arm's off!\n",
      "\n"
     ]
    }
   ],
   "source": [
    "s = \"\"\"Black Knight: 'Tis but a {0}.\n",
    "King Arthur: A {0}? Your arm's off!\n",
    "\"\"\"\n",
    "print(s.format('scratch'))"
   ]
  },
  {
   "cell_type": "code",
   "execution_count": 5,
   "metadata": {},
   "outputs": [
    {
     "name": "stdout",
     "output_type": "stream",
     "text": [
      "Hayden Planetarium Coordinates: 40.7815 N, 73.9733 W\n"
     ]
    }
   ],
   "source": [
    "s = 'Hayden Planetarium Coordinates: {lat}, {lon}'\n",
    "print(s.format(lat='40.7815 N', lon='73.9733 W'))"
   ]
  },
  {
   "cell_type": "code",
   "execution_count": 6,
   "metadata": {},
   "outputs": [
    {
     "name": "stdout",
     "output_type": "stream",
     "text": [
      "Some digits of pi: 3.14159265359\n"
     ]
    }
   ],
   "source": [
    "# 숫자 데이터 포매팅\n",
    "print('Some digits of pi: {}'.format(3.14159265359))"
   ]
  },
  {
   "cell_type": "code",
   "execution_count": 9,
   "metadata": {},
   "outputs": [
    {
     "name": "stdout",
     "output_type": "stream",
     "text": [
      "In 2005 Lu Chao of China recited 67,890 digits of pi\n"
     ]
    }
   ],
   "source": [
    "print(\"In 2005 Lu Chao of China recited {:,} digits of pi\".format(67890))"
   ]
  },
  {
   "cell_type": "code",
   "execution_count": 12,
   "metadata": {},
   "outputs": [
    {
     "name": "stdout",
     "output_type": "stream",
     "text": [
      "I remember 0.0001031 or 0.0103% of what Lu Chao recited\n"
     ]
    }
   ],
   "source": [
    "print(\"I remember {0:.4} or {0:.4%} of what Lu Chao recited\".format(7/67890))"
   ]
  },
  {
   "cell_type": "code",
   "execution_count": 18,
   "metadata": {},
   "outputs": [
    {
     "name": "stdout",
     "output_type": "stream",
     "text": [
      "My ID number is 00042\n"
     ]
    }
   ],
   "source": [
    "print(\"My ID number is {0:05d}\".format(42)) # d는 decimal의 약자\n",
    "print(\"My ID number is {0:05f}\".format(42))"
   ]
  },
  {
   "cell_type": "code",
   "execution_count": 20,
   "metadata": {},
   "outputs": [
    {
     "name": "stdout",
     "output_type": "stream",
     "text": [
      "I only know 7 digits of pi\n",
      "Some digits of e: 2.72\n"
     ]
    }
   ],
   "source": [
    "# % 연산자로 포매팅\n",
    "s = 'I only know %d digits of pi' % 7\n",
    "print(s)\n",
    "\n",
    "print('Some digits of %(cont)s: %(value).2f' % {'cont': 'e', 'value': 2.718})"
   ]
  },
  {
   "cell_type": "code",
   "execution_count": 22,
   "metadata": {},
   "outputs": [
    {
     "name": "stdout",
     "output_type": "stream",
     "text": [
      "It's just a flesh wound!\n",
      "Hayden Planetarium Coordinates: 40.123 N, 73.456 W\n"
     ]
    }
   ],
   "source": [
    "# f-strings 포매팅\n",
    "var = 'flesh wound'\n",
    "s = f\"It's just a {var}!\"\n",
    "print(s)\n",
    "\n",
    "lat = '40.123 N'\n",
    "lon = '73.456 W'\n",
    "s = f\"Hayden Planetarium Coordinates: {lat}, {lon}\"\n",
    "print(s)"
   ]
  },
  {
   "cell_type": "code",
   "execution_count": 24,
   "metadata": {},
   "outputs": [],
   "source": [
    "# 정규식으로 전화번호 패턴 찾기\n",
    "import re\n",
    "tele_num = '1234567890'"
   ]
  },
  {
   "cell_type": "code",
   "execution_count": 26,
   "metadata": {},
   "outputs": [
    {
     "name": "stdout",
     "output_type": "stream",
     "text": [
      "<class '_sre.SRE_Match'>\n",
      "<_sre.SRE_Match object; span=(0, 10), match='1234567890'>\n"
     ]
    }
   ],
   "source": [
    "m = re.match(pattern = '\\d\\d\\d\\d\\d\\d\\d\\d\\d\\d', string = tele_num)\n",
    "print(type(m))\n",
    "print(m)"
   ]
  },
  {
   "cell_type": "code",
   "execution_count": 28,
   "metadata": {},
   "outputs": [
    {
     "name": "stdout",
     "output_type": "stream",
     "text": [
      "True\n",
      "match\n"
     ]
    }
   ],
   "source": [
    "print(bool(m))\n",
    "if m:\n",
    "    print('match')\n",
    "else:\n",
    "    print('no match')"
   ]
  },
  {
   "cell_type": "code",
   "execution_count": 30,
   "metadata": {},
   "outputs": [
    {
     "name": "stdout",
     "output_type": "stream",
     "text": [
      "0\n",
      "10\n",
      "(0, 10)\n",
      "1234567890\n"
     ]
    }
   ],
   "source": [
    "print(m.start()) # 첫 번째 인덱스\n",
    "print(m.end()) # 마지막 인덱스\n",
    "print(m.span()) # 첫 번째와 마지막 인덱스 한번에 반환\n",
    "print(m.group()) # 찾아낸 패턴 반환"
   ]
  },
  {
   "cell_type": "code",
   "execution_count": 32,
   "metadata": {},
   "outputs": [
    {
     "name": "stdout",
     "output_type": "stream",
     "text": [
      "None\n",
      "no match\n"
     ]
    }
   ],
   "source": [
    "tele_num_spaces = '123 456 7890'\n",
    "m = re.match(pattern = '\\d{}', string = tele_num_spaces)\n",
    "print(m)\n",
    "\n",
    "if m:\n",
    "    print('match')\n",
    "else:\n",
    "    print('no match')"
   ]
  },
  {
   "cell_type": "code",
   "execution_count": 33,
   "metadata": {},
   "outputs": [
    {
     "name": "stdout",
     "output_type": "stream",
     "text": [
      "<_sre.SRE_Match object; span=(0, 12), match='123 456 7890'>\n"
     ]
    }
   ],
   "source": [
    "p = '\\d{3}\\s?\\d{3}\\s?\\d{4}'\n",
    "m = re.match(pattern = p, string = tele_num_spaces)\n",
    "print(m)"
   ]
  },
  {
   "cell_type": "code",
   "execution_count": 34,
   "metadata": {},
   "outputs": [
    {
     "name": "stdout",
     "output_type": "stream",
     "text": [
      "<_sre.SRE_Match object; span=(0, 14), match='(123) 456-7890'>\n"
     ]
    }
   ],
   "source": [
    "tele_num_space_paren_dash = '(123) 456-7890'\n",
    "p = '\\(?\\d{3}\\)?\\s?\\d{3}\\s?-?\\d{4}'\n",
    "m = re.match(pattern = p, string = tele_num_space_paren_dash)\n",
    "print(m)"
   ]
  },
  {
   "cell_type": "code",
   "execution_count": 39,
   "metadata": {},
   "outputs": [
    {
     "name": "stdout",
     "output_type": "stream",
     "text": [
      "<_sre.SRE_Match object; span=(0, 17), match='+1 (123) 456-7890'>\n"
     ]
    }
   ],
   "source": [
    "cnty_tele_num_space_paren_dash = '+1 (123) 456-7890'\n",
    "p = '\\+?1\\s?\\(?\\d{3}\\)?\\s?\\d{3}\\s?-?\\d{4}'\n",
    "m = re.match(pattern = p, string = cnty_tele_num_space_paren_dash)\n",
    "print(m)\n"
   ]
  },
  {
   "cell_type": "code",
   "execution_count": 36,
   "metadata": {},
   "outputs": [
    {
     "name": "stdout",
     "output_type": "stream",
     "text": [
      "<_sre.SRE_Match object; span=(0, 10), match='1234567890'>\n"
     ]
    }
   ],
   "source": [
    "# 컴파일 메서드로 정규식 메서드 사용하기\n",
    "p = re.compile('\\d{10}')\n",
    "s = '1234567890'\n",
    "m = p.match(s)\n",
    "print(m)\n",
    "\n"
   ]
  },
  {
   "cell_type": "markdown",
   "metadata": {},
   "source": [
    "\n",
    "\n",
    "\n",
    "\n",
    "\n",
    "\n",
    "\n",
    "\n",
    "\n",
    "\n",
    "\n",
    "\n",
    "\n",
    "\n",
    "\n"
   ]
  }
 ],
 "metadata": {
  "kernelspec": {
   "display_name": "Python 3",
   "language": "python",
   "name": "python3"
  },
  "language_info": {
   "codemirror_mode": {
    "name": "ipython",
    "version": 3
   },
   "file_extension": ".py",
   "mimetype": "text/x-python",
   "name": "python",
   "nbconvert_exporter": "python",
   "pygments_lexer": "ipython3",
   "version": "3.6.5"
  }
 },
 "nbformat": 4,
 "nbformat_minor": 2
}
