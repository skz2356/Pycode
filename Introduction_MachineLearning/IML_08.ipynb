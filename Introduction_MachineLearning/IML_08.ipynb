{
 "cells": [
  {
   "cell_type": "markdown",
   "metadata": {},
   "source": [
    "> # 8 마무리"
   ]
  },
  {
   "cell_type": "markdown",
   "metadata": {},
   "source": [
    "## 8.1 머신러닝 문제 접근 방법"
   ]
  },
  {
   "cell_type": "markdown",
   "metadata": {},
   "source": [
    "- 전체 데이터 분석과 의사 결정 과정에서 머신러닝 알고리즘이 차지하는 부분은 보통 작음\n",
    "- 머신러닝을 효과적으로 사용하기 위해서 좀 더 넓은 시각으로 문제를 바라봐야 함\n",
    "- 완벽한 모델이란 무엇인가?\n",
    "- 효과적인 모델이 되기 위해서는?"
   ]
  },
  {
   "cell_type": "markdown",
   "metadata": {},
   "source": [
    "### 8.1.1 의사 결정 참여"
   ]
  },
  {
   "cell_type": "markdown",
   "metadata": {},
   "source": [
    "- 의사 결정에 사람이 개입해야 할지 고려\n",
    "- 자율 주행 자동차의 보행자 탐지: 즉각적인 결정 필요\n",
    "- 의료 애플리케이션: 정확도가 높아야해서 머신러닝 알고리즘 단독으로 결정 불가\n",
    "- 자동 의사 결정이 가능하다면 응답 시간을 빠르게 하고 비용이 줄어듬\n",
    "- 대부분의 경우에 사람이 참여해야 하는 경우는 드뭄"
   ]
  },
  {
   "cell_type": "markdown",
   "metadata": {},
   "source": [
    "## 8.2 프로토타입에서 제품까지"
   ]
  },
  {
   "cell_type": "markdown",
   "metadata": {},
   "source": [
    "- 매우 큰 기관도 scikit-learn을 사용\n",
    "- 하지만 복잡한 인프라의 회사는 파이썬을 자사 시스템에 통합시키기 어려울 때가 있음\n",
    "- 분석팀에서(파이썬, R) 찾은 솔루션을 고성능 언어로 재구현하는 방법이 일반적\n",
    "- 한 알고리즘이 시스템에 장착되기 위해서는 다양한 측면을 고려야해 함\n",
    "- 핵심 요소는 '단순함'\n",
    "- 급하게 작성된 코드로 인해 소프트웨어의 유지보수 비용이 늘어남\n",
    "- 구글 머신러닝 팀의 연구원들이 쓴 논문\n",
    "    - 「Machine Learning: The High Interest Credit Card of Technical Debt」\n",
    "    - http://research.google.com/pubs/pub43146.html\n",
    "    - 대규모 머신러닝 소프트웨어 제품을 구축하고 유지하기 위한 타협점에 대한 설명"
   ]
  },
  {
   "cell_type": "markdown",
   "metadata": {},
   "source": [
    "## 8.3 제품 시스템 테스트"
   ]
  },
  {
   "cell_type": "markdown",
   "metadata": {},
   "source": [
    "- 오프라인 평가: 수집한 테스트 세트를 기초로 알고리즘의 예측을 평가\n",
    "- 온라인 테스트(라이브 테스트): 전체 시스템에 알고리즘 적용 후 평가\n",
    "- A/B 테스트: 사용자 중 일부가 자신들도 모르게 알고리즘 A, B에 노출, 그 후 평가\n",
    "    - 보통 A가 새 모델, B가 기존 시스템\n",
    "\n",
    "- 밴디트 알고리즘"
   ]
  },
  {
   "cell_type": "markdown",
   "metadata": {},
   "source": [
    "## 8.4 나만의 추정기 만들기"
   ]
  },
  {
   "cell_type": "code",
   "execution_count": 1,
   "metadata": {},
   "outputs": [],
   "source": [
    "from sklearn.base import BaseEstimator, TransformerMixin\n",
    "\n",
    "class MyTransformer(BaseEstimator, TransformerMixin):\n",
    "    def __init__(self, first_parameter=1, second_parameter=2):\n",
    "        # __init__ 메서드에 필요한 모든 매개변수를 나열\n",
    "        self.first_parameter = 1\n",
    "        self.second_parameter = 2\n",
    "        \n",
    "    def fit(self, X, y=None):\n",
    "        # fit 메서드는 X와 y 매개변수만을 가짐\n",
    "        # 비지도 학습 모델이더라도 y 매개변수를 바도록 해야 함\n",
    "        \n",
    "        # 모델 학습 시작\n",
    "        print(\"모델 학습을 시작합니다\")\n",
    "        # 객체 자신인 self를 반환\n",
    "        return self\n",
    "    \n",
    "    def transform(self, X):\n",
    "        # transform 메서드는 X 매개변수만을 받음\n",
    "        \n",
    "        # X를 반환\n",
    "        X_transformed = X + 1\n",
    "        return X_transformed"
   ]
  },
  {
   "cell_type": "markdown",
   "metadata": {},
   "source": [
    "- scikit-learn 문서(https://goo.gl.fkQWsN) 자세한 설명\n",
    "- BaseEstimator와 TransformerMixin을 상속해서 다음과 같은 메서드들을 구현하는 것\n",
    "- 분류와 회귀 모델을 만드는 것도 비슷\n",
    "- TransformerMixin 대신 ClassifierMixin이나 RegressorMixin을 상속하고\n",
    "- transform 대신 predict를 구현하면 돔"
   ]
  },
  {
   "cell_type": "markdown",
   "metadata": {},
   "source": [
    "## 8.5 더 배울 것들"
   ]
  },
  {
   "cell_type": "markdown",
   "metadata": {},
   "source": [
    "### 8.5.1 이론"
   ]
  },
  {
   "cell_type": "markdown",
   "metadata": {},
   "source": [
    "- 많은 모델이 확률, 선형 대수, 최적화 등의 이론을 사용\n",
    "- 상세 내용을 모두 알 필요는 없지만 알고리즘 이면의 이론을 알아두면 더 좋음\n",
    "- 프리드먼의 『The Elements of Statistical Learning』\n",
    "- 캐빈 머피의 『Machine Learning: A Probabilistic Perspective』(MIT Press)"
   ]
  },
  {
   "cell_type": "markdown",
   "metadata": {},
   "source": [
    "### 8.5.2 다른 머신러닝 프레임워크와 패키지"
   ]
  },
  {
   "cell_type": "markdown",
   "metadata": {},
   "source": [
    "- 요구사항에 따라 파이썬과 사이킷런이 최선의 도구가 아닐 수도 있음\n",
    "- 확률 모델링과 추론에 더 관심이 있을 때 statsmodels 고려, 또는 R\n",
    "- C++로 작성된 vowpal wabbit(간단히 vw)\n",
    "- spark 분산 컴퓨터 환경에서 구축된 스칼라 라이브러리 MLlib"
   ]
  },
  {
   "cell_type": "markdown",
   "metadata": {},
   "source": [
    "### 8.5.3 랭킹, 추천 시스템과 그 외 다른 알고리즘"
   ]
  },
  {
   "cell_type": "markdown",
   "metadata": {},
   "source": [
    "- 어떤 질문의 대답을 관련도 순으로 추출하는 '랭킹'\n",
    "- 사용자의 기호에 맞게 제안을 하는 '추천 시스템'\n",
    "- 시계열 예측"
   ]
  },
  {
   "cell_type": "markdown",
   "metadata": {},
   "source": [
    "### 8.5.4 확률 모델링, 추론, 확률적 프로그래밍"
   ]
  },
  {
   "cell_type": "markdown",
   "metadata": {},
   "source": [
    "- 여러 요인이 함께 올바르게 작동하도록 모델과 상황을 잘 표현\n",
    "- 이런 맞춤형 모델을 직접 사용하여 예측을 계산하는 방법\n",
    "- PyMC,Stan\n",
    "- 확률 이론을 아라야 하지만 새로운 모델을 매우 간단하게 만들 수 있음"
   ]
  },
  {
   "cell_type": "markdown",
   "metadata": {},
   "source": [
    "### 8.5.5 신경망"
   ]
  },
  {
   "cell_type": "markdown",
   "metadata": {},
   "source": [
    "- 머신러닝 분야에서 빠르게 발전하고 있는 영역"
   ]
  },
  {
   "cell_type": "markdown",
   "metadata": {},
   "source": [
    "### 8.5.6 대규모 데이터셋으로 확장"
   ]
  },
  {
   "cell_type": "markdown",
   "metadata": {},
   "source": [
    "- 최근 서버들이 엄청난 메모리를 갖고 있더라도 다룰 수 있는 데이터 크기에 한계가 있음\n",
    "- 외부 메모리 학습: 메모리에 저장할 수 없는 데이터로 학습(모델을 갱신해감)\n",
    "- 클러스터 병렬화: 여러 컴퓨터로 데이터를 분산해서 처리, 복잡한 인프라 필요\n",
    "    - 하둡 위에 구축된 spark 혹은 vw"
   ]
  },
  {
   "cell_type": "markdown",
   "metadata": {},
   "source": [
    "### 8.5.7 실력 기르기"
   ]
  },
  {
   "cell_type": "markdown",
   "metadata": {},
   "source": [
    "- 마음속에 정해진 문제가 없다면 머신러닝 대회가 좋은 출발점\n",
    "- 캐글(https://www.kaggle.com/)\n",
    "- OpenML 플랫폼에서 많은 데이터와 과제를 구할 수 있음\n",
    "- 문제를잘 정의하는 것이 분류기의 정확도를 1% 높이는 것보다 훨씬 중요할지 모름"
   ]
  },
  {
   "cell_type": "markdown",
   "metadata": {},
   "source": [
    "## 8.6 마치며"
   ]
  }
 ],
 "metadata": {
  "kernelspec": {
   "display_name": "Python 3",
   "language": "python",
   "name": "python3"
  },
  "language_info": {
   "codemirror_mode": {
    "name": "ipython",
    "version": 3
   },
   "file_extension": ".py",
   "mimetype": "text/x-python",
   "name": "python",
   "nbconvert_exporter": "python",
   "pygments_lexer": "ipython3",
   "version": "3.7.1"
  }
 },
 "nbformat": 4,
 "nbformat_minor": 2
}
