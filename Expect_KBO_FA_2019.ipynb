{
 "cells": [
  {
   "cell_type": "code",
   "execution_count": 1,
   "metadata": {},
   "outputs": [],
   "source": [
    "import numpy as np\n",
    "import pandas as pd"
   ]
  },
  {
   "cell_type": "markdown",
   "metadata": {},
   "source": [
    "- 나이, 포지션 제외 기본 누석 성적 40개만 \n",
    "- 회귀 분석"
   ]
  },
  {
   "cell_type": "code",
   "execution_count": 26,
   "metadata": {
    "scrolled": false
   },
   "outputs": [],
   "source": [
    "df = pd.read_csv(\"C://Users//JH//Desktop//B_FA_test.csv\")"
   ]
  },
  {
   "cell_type": "code",
   "execution_count": 27,
   "metadata": {
    "scrolled": false
   },
   "outputs": [
    {
     "data": {
      "text/html": [
       "<div>\n",
       "<style scoped>\n",
       "    .dataframe tbody tr th:only-of-type {\n",
       "        vertical-align: middle;\n",
       "    }\n",
       "\n",
       "    .dataframe tbody tr th {\n",
       "        vertical-align: top;\n",
       "    }\n",
       "\n",
       "    .dataframe thead th {\n",
       "        text-align: right;\n",
       "    }\n",
       "</style>\n",
       "<table border=\"1\" class=\"dataframe\">\n",
       "  <thead>\n",
       "    <tr style=\"text-align: right;\">\n",
       "      <th></th>\n",
       "      <th>year</th>\n",
       "      <th>name</th>\n",
       "      <th>period</th>\n",
       "      <th>salary</th>\n",
       "      <th>AGE</th>\n",
       "      <th>POS</th>\n",
       "      <th>G</th>\n",
       "      <th>PA</th>\n",
       "      <th>AB</th>\n",
       "      <th>R</th>\n",
       "      <th>...</th>\n",
       "      <th>RBI_T</th>\n",
       "      <th>SB_T</th>\n",
       "      <th>CS_T</th>\n",
       "      <th>BB_T</th>\n",
       "      <th>HBP_T</th>\n",
       "      <th>IBB_T</th>\n",
       "      <th>SO_T</th>\n",
       "      <th>GDP_T</th>\n",
       "      <th>SAC_T</th>\n",
       "      <th>SF_T</th>\n",
       "    </tr>\n",
       "  </thead>\n",
       "  <tbody>\n",
       "    <tr>\n",
       "      <th>0</th>\n",
       "      <td>2010</td>\n",
       "      <td>김상훈</td>\n",
       "      <td>1</td>\n",
       "      <td>11.75675</td>\n",
       "      <td>32</td>\n",
       "      <td>12.5</td>\n",
       "      <td>124</td>\n",
       "      <td>441</td>\n",
       "      <td>379</td>\n",
       "      <td>35</td>\n",
       "      <td>...</td>\n",
       "      <td>376</td>\n",
       "      <td>15</td>\n",
       "      <td>14</td>\n",
       "      <td>241</td>\n",
       "      <td>31</td>\n",
       "      <td>5</td>\n",
       "      <td>556</td>\n",
       "      <td>77</td>\n",
       "      <td>91</td>\n",
       "      <td>23</td>\n",
       "    </tr>\n",
       "    <tr>\n",
       "      <th>1</th>\n",
       "      <td>2010</td>\n",
       "      <td>장성호</td>\n",
       "      <td>1</td>\n",
       "      <td>2.86750</td>\n",
       "      <td>32</td>\n",
       "      <td>-7.5</td>\n",
       "      <td>88</td>\n",
       "      <td>312</td>\n",
       "      <td>271</td>\n",
       "      <td>39</td>\n",
       "      <td>...</td>\n",
       "      <td>882</td>\n",
       "      <td>96</td>\n",
       "      <td>47</td>\n",
       "      <td>863</td>\n",
       "      <td>62</td>\n",
       "      <td>72</td>\n",
       "      <td>664</td>\n",
       "      <td>128</td>\n",
       "      <td>27</td>\n",
       "      <td>46</td>\n",
       "    </tr>\n",
       "    <tr>\n",
       "      <th>2</th>\n",
       "      <td>2010</td>\n",
       "      <td>박재홍</td>\n",
       "      <td>1</td>\n",
       "      <td>9.17600</td>\n",
       "      <td>36</td>\n",
       "      <td>-7.5</td>\n",
       "      <td>113</td>\n",
       "      <td>376</td>\n",
       "      <td>315</td>\n",
       "      <td>53</td>\n",
       "      <td>...</td>\n",
       "      <td>1024</td>\n",
       "      <td>262</td>\n",
       "      <td>141</td>\n",
       "      <td>823</td>\n",
       "      <td>63</td>\n",
       "      <td>60</td>\n",
       "      <td>1052</td>\n",
       "      <td>140</td>\n",
       "      <td>17</td>\n",
       "      <td>66</td>\n",
       "    </tr>\n",
       "    <tr>\n",
       "      <th>3</th>\n",
       "      <td>2010</td>\n",
       "      <td>최기문</td>\n",
       "      <td>1</td>\n",
       "      <td>1.72050</td>\n",
       "      <td>36</td>\n",
       "      <td>12.5</td>\n",
       "      <td>54</td>\n",
       "      <td>136</td>\n",
       "      <td>115</td>\n",
       "      <td>17</td>\n",
       "      <td>...</td>\n",
       "      <td>270</td>\n",
       "      <td>46</td>\n",
       "      <td>30</td>\n",
       "      <td>216</td>\n",
       "      <td>47</td>\n",
       "      <td>10</td>\n",
       "      <td>322</td>\n",
       "      <td>42</td>\n",
       "      <td>82</td>\n",
       "      <td>13</td>\n",
       "    </tr>\n",
       "    <tr>\n",
       "      <th>4</th>\n",
       "      <td>2010</td>\n",
       "      <td>박한이</td>\n",
       "      <td>1</td>\n",
       "      <td>7.45550</td>\n",
       "      <td>30</td>\n",
       "      <td>-7.5</td>\n",
       "      <td>110</td>\n",
       "      <td>394</td>\n",
       "      <td>334</td>\n",
       "      <td>48</td>\n",
       "      <td>...</td>\n",
       "      <td>436</td>\n",
       "      <td>109</td>\n",
       "      <td>71</td>\n",
       "      <td>567</td>\n",
       "      <td>52</td>\n",
       "      <td>21</td>\n",
       "      <td>492</td>\n",
       "      <td>90</td>\n",
       "      <td>72</td>\n",
       "      <td>28</td>\n",
       "    </tr>\n",
       "  </tbody>\n",
       "</table>\n",
       "<p>5 rows × 44 columns</p>\n",
       "</div>"
      ],
      "text/plain": [
       "   year name  period    salary  AGE   POS    G   PA   AB   R  ...   RBI_T  \\\n",
       "0  2010  김상훈       1  11.75675   32  12.5  124  441  379  35  ...     376   \n",
       "1  2010  장성호       1   2.86750   32  -7.5   88  312  271  39  ...     882   \n",
       "2  2010  박재홍       1   9.17600   36  -7.5  113  376  315  53  ...    1024   \n",
       "3  2010  최기문       1   1.72050   36  12.5   54  136  115  17  ...     270   \n",
       "4  2010  박한이       1   7.45550   30  -7.5  110  394  334  48  ...     436   \n",
       "\n",
       "   SB_T  CS_T  BB_T  HBP_T  IBB_T  SO_T  GDP_T  SAC_T  SF_T  \n",
       "0    15    14   241     31      5   556     77     91    23  \n",
       "1    96    47   863     62     72   664    128     27    46  \n",
       "2   262   141   823     63     60  1052    140     17    66  \n",
       "3    46    30   216     47     10   322     42     82    13  \n",
       "4   109    71   567     52     21   492     90     72    28  \n",
       "\n",
       "[5 rows x 44 columns]"
      ]
     },
     "execution_count": 27,
     "metadata": {},
     "output_type": "execute_result"
    }
   ],
   "source": [
    "df.head()"
   ]
  },
  {
   "cell_type": "code",
   "execution_count": 28,
   "metadata": {},
   "outputs": [],
   "source": [
    "X = df.drop([\"year\", \"name\", \"period\", \"salary\"], axis=1).values\n",
    "y = df[\"salary\"].values"
   ]
  },
  {
   "cell_type": "code",
   "execution_count": 29,
   "metadata": {},
   "outputs": [],
   "source": [
    "from sklearn.model_selection import train_test_split\n",
    "X_train, X_test, y_train, y_test = train_test_split(X, y, random_state = 0)"
   ]
  },
  {
   "cell_type": "code",
   "execution_count": 30,
   "metadata": {},
   "outputs": [],
   "source": [
    "from sklearn.linear_model import LinearRegression\n",
    "from sklearn.preprocessing import MinMaxScaler\n",
    "\n",
    "scaler = MinMaxScaler()\n",
    "scaler.fit(X_train)\n",
    "\n",
    "X_train_scaled = scaler.transform(X_train)\n",
    "X_test_scaled = scaler.transform(X_test)\n",
    "\n",
    "lr = LinearRegression().fit(X_train_scaled, y_train)"
   ]
  },
  {
   "cell_type": "code",
   "execution_count": 31,
   "metadata": {
    "scrolled": true
   },
   "outputs": [
    {
     "name": "stdout",
     "output_type": "stream",
     "text": [
      "스케일링 된 훈련 세트 점수: 0.89\n",
      "스케일링 된 테스트 세트 점수: 0.25\n"
     ]
    }
   ],
   "source": [
    "print(\"스케일링 된 훈련 세트 점수: {:.2f}\".format(lr.score(X_train_scaled, y_train)))\n",
    "print(\"스케일링 된 테스트 세트 점수: {:.2f}\".format(lr.score(X_test_scaled, y_test)))"
   ]
  },
  {
   "cell_type": "markdown",
   "metadata": {},
   "source": [
    "- 과대적합이 일어남"
   ]
  },
  {
   "cell_type": "code",
   "execution_count": 32,
   "metadata": {
    "scrolled": true
   },
   "outputs": [
    {
     "name": "stdout",
     "output_type": "stream",
     "text": [
      "훈련 세트 점수: 0.51\n",
      "테스트 세트 점수: 0.65\n",
      "훈련 세트 점수: 0.83\n",
      "테스트 세트 점수: 0.80\n"
     ]
    }
   ],
   "source": [
    "from sklearn.linear_model import Ridge\n",
    "\n",
    "ridge10 = Ridge(alpha = 10).fit(X_train_scaled, y_train)\n",
    "print(\"훈련 세트 점수: {:.2f}\".format(ridge10.score(X_train_scaled, y_train)))\n",
    "print(\"테스트 세트 점수: {:.2f}\".format(ridge10.score(X_test_scaled, y_test)))\n",
    "\n",
    "ridge01 = Ridge(alpha = 0.1).fit(X_train_scaled, y_train)\n",
    "print(\"훈련 세트 점수: {:.2f}\".format(ridge01.score(X_train_scaled, y_train)))\n",
    "print(\"테스트 세트 점수: {:.2f}\".format(ridge01.score(X_test_scaled, y_test)))"
   ]
  },
  {
   "cell_type": "markdown",
   "metadata": {},
   "source": [
    "- 계수를 모두 사용하면서 규제를 주고 싶어 Ridge 모형을 사용\n",
    "- 안정화된 것 같음"
   ]
  },
  {
   "cell_type": "code",
   "execution_count": 34,
   "metadata": {
    "scrolled": true
   },
   "outputs": [
    {
     "name": "stdout",
     "output_type": "stream",
     "text": [
      "Residuals:\n",
      "Min      1Q  Median      3Q     Max\n",
      "-5.7426 -1.9251  0.3945  1.6115  6.5133\n",
      "\n",
      "\n",
      "Coefficients:\n",
      "             Estimate            Std. Error       t value   p value\n",
      "_intercept   7.988409    (136379.634016-0j)   (0.0001+0j)  0.999953\n",
      "x1         -10.859697         (2.637496+0j)  (-4.1174+0j)  0.000130\n",
      "x2           5.575489         (1.554104+0j)   (3.5876-0j)  0.000710\n",
      "x3          -8.937138         (5.719372-0j)  (-1.5626-0j)  0.123881\n",
      "x4           0.115215      (1416.004709-0j)   (0.0001+0j)  0.999935\n",
      "x5           0.468659      (1066.153956-0j)   (0.0004+0j)  0.999651\n",
      "x6           7.712825         (8.640483-0j)   (0.8926+0j)  0.375940\n",
      "x7           5.913674  (11949256.212369+0j)           -0j  1.000000\n",
      "x8          -0.284038    (575393.413492+0j)       (-0+0j)  1.000000\n",
      "x9          -0.692015      (20553.47081+0j)       (-0+0j)  0.999973\n",
      "x10         -5.926336   (2230061.565944+0j)       (-0+0j)  0.999998\n",
      "x11          2.067158  (28638922.032872+0j)           -0j  1.000000\n",
      "x12          9.459142         (6.884293-0j)    (1.374+0j)  0.175010\n",
      "x13          1.613187          (3.61076+0j)   (0.4468+0j)  0.656794\n",
      "x14          0.668104          (3.17458-0j)   (0.2105+0j)  0.834091\n",
      "x15         -4.229716        (26.344189-0j)  (-0.1606-0j)  0.873031\n",
      "x16          8.142914         (4.099787-0j)   (1.9862+0j)  0.052006\n",
      "x17          8.762863          (2.47587+0j)   (3.5393+0j)  0.000825\n",
      "x18         -8.092776         (5.620184+0j)  (-1.4399+0j)  0.155550\n",
      "x19          1.177229         (4.239321+0j)   (0.2777+0j)  0.782289\n",
      "x20          3.251561         (4.083648+0j)   (0.7962-0j)  0.429317\n",
      "x21          2.259910         (2.829196+0j)   (0.7988-0j)  0.427853\n",
      "x22         -4.662178         (7.677501+0j)  (-0.6073+0j)  0.546183\n",
      "x23         -1.118164      (4813.450211-0j)  (-0.0002-0j)  0.999815\n",
      "x24         -0.688233      (3862.665867+0j)  (-0.0002+0j)  0.999858\n",
      "x25          4.557028        (16.261816-0j)   (0.2802+0j)  0.780353\n",
      "x26          9.429687  (18002837.267381-0j)            0j  1.000000\n",
      "x27         -6.530912    (845584.620313+0j)       (-0+0j)  0.999994\n",
      "x28         -5.465859     (80513.195889-0j)  (-0.0001-0j)  0.999946\n",
      "x29          4.634858  (11552787.054024-0j)            0j  1.000000\n",
      "x30          6.038544  (63607297.380219-0j)            0j  1.000000\n",
      "x31          9.805066        (25.998747+0j)   (0.3771-0j)  0.707524\n",
      "x32          1.310600         (6.509795+0j)   (0.2013-0j)  0.841185\n",
      "x33         -1.398096         (5.003032-0j)  (-0.2794-0j)  0.780948\n",
      "x34         -2.747468        (96.770465-0j)  (-0.0284-0j)  0.977453\n",
      "x35         -0.251000         (6.350632+0j)  (-0.0395+0j)  0.968616\n",
      "x36         -7.418853         (6.012582-0j)  (-1.2339-0j)  0.222491\n",
      "x37          2.422733         (5.770588+0j)   (0.4198+0j)  0.676237\n",
      "x38          0.069178         (6.180977-0j)   (0.0112+0j)  0.991111\n",
      "x39         -1.939112         (5.862989+0j)  (-0.3307+0j)  0.742099\n",
      "x40         -3.133227           (6.3645-0j)  (-0.4923-0j)  0.624468\n",
      "---\n",
      "R-squared:  0.83481,    Adjusted R-squared:  0.39432\n",
      "F-statistic: 1.90 on 40 features\n"
     ]
    }
   ],
   "source": [
    "# 참고\n",
    "\n",
    "from regressors import stats \n",
    "\n",
    "stats.coef_pval(ridge01, X_train_scaled, y_train)\n",
    "stats.summary(ridge01, X_train_scaled, y_train)"
   ]
  },
  {
   "cell_type": "code",
   "execution_count": 10,
   "metadata": {},
   "outputs": [
    {
     "name": "stdout",
     "output_type": "stream",
     "text": [
      "교차 검증 점수: [-0.15709705  0.25717065]\n",
      "교차 검증 평균 점수: 0.05\n"
     ]
    }
   ],
   "source": [
    "from sklearn.model_selection import cross_val_score\n",
    "\n",
    "ridge = Ridge(alpha=0.1)\n",
    "scores = cross_val_score(ridge, X_train_scaled, y_train, cv=2)\n",
    "print(\"교차 검증 점수: {}\".format(scores))\n",
    "print(\"교차 검증 평균 점수: {:.2f}\".format(scores.mean()))"
   ]
  },
  {
   "cell_type": "markdown",
   "metadata": {},
   "source": [
    "- 교차 검증을 하기에 데이터셋이 턱없이 부족한 것 같다.\n",
    "- 차라리 데이터 분할할 때 random_state를 바꾸며 평균을 내면?\n",
    "    - 테스트셋의 가치가 없어짐..\n",
    "\n",
    "\n",
    "- 부트스트랩이나 앙상블 모델 사용?\n",
    "    - 지금 목적은 순수하게 회귀 분석 종류만 사용해서 결과를 내는 것\n",
    "    \n",
    "\n",
    "- 검증셋을 만들어서 다시 진행해 보자"
   ]
  },
  {
   "cell_type": "code",
   "execution_count": 11,
   "metadata": {},
   "outputs": [
    {
     "name": "stdout",
     "output_type": "stream",
     "text": [
      "훈련 세트의 크기: 42    검증 세트의 크기: 14    테스트 세트의 크기: 19\n",
      "\n"
     ]
    }
   ],
   "source": [
    "X_trainval, X_test, y_trainval, y_test = train_test_split(\n",
    "    X, y, random_state=0)\n",
    "\n",
    "X_train, X_valid, y_train, y_valid = train_test_split(\n",
    "    X_trainval, y_trainval, random_state=0)\n",
    "\n",
    "print(\"훈련 세트의 크기: {}    검증 세트의 크기: {}    테스트 세트의 크기: {}\"\n",
    "     \"\\n\".format(X_train.shape[0], X_valid.shape[0], X_test.shape[0]))"
   ]
  },
  {
   "cell_type": "markdown",
   "metadata": {},
   "source": [
    "- 이런 방식으로 그리드 서치도 함께 진행"
   ]
  },
  {
   "cell_type": "code",
   "execution_count": 12,
   "metadata": {},
   "outputs": [
    {
     "name": "stderr",
     "output_type": "stream",
     "text": [
      "C:\\Users\\JH\\Anaconda3\\lib\\site-packages\\sklearn\\model_selection\\_search.py:841: DeprecationWarning: The default of the `iid` parameter will change from True to False in version 0.22 and will be removed in 0.24. This will change numeric results when test-set sizes are unequal.\n",
      "  DeprecationWarning)\n"
     ]
    },
    {
     "data": {
      "text/plain": [
       "GridSearchCV(cv=5, error_score='raise-deprecating',\n",
       "       estimator=Ridge(alpha=1.0, copy_X=True, fit_intercept=True, max_iter=None,\n",
       "   normalize=False, random_state=None, solver='auto', tol=0.001),\n",
       "       fit_params=None, iid='warn', n_jobs=None,\n",
       "       param_grid={'alpha': [0.001, 0.01, 0.1, 1, 10, 100]},\n",
       "       pre_dispatch='2*n_jobs', refit=True, return_train_score='warn',\n",
       "       scoring=None, verbose=0)"
      ]
     },
     "execution_count": 12,
     "metadata": {},
     "output_type": "execute_result"
    }
   ],
   "source": [
    "param_grid = {'alpha': [0.001, 0.01, 0.1, 1, 10, 100]}\n",
    "\n",
    "from sklearn.model_selection import GridSearchCV\n",
    "grid_search = GridSearchCV(Ridge(), param_grid, cv=5)\n",
    "\n",
    "X_train, X_test, y_train, y_test = train_test_split(X, y, random_state=0)\n",
    "\n",
    "scaler = MinMaxScaler()\n",
    "scaler.fit(X_train)\n",
    "\n",
    "X_train_scaled = scaler.transform(X_train)\n",
    "X_test_scaled = scaler.transform(X_test)\n",
    "\n",
    "grid_search.fit(X_train_scaled, y_train)"
   ]
  },
  {
   "cell_type": "code",
   "execution_count": 13,
   "metadata": {},
   "outputs": [
    {
     "name": "stdout",
     "output_type": "stream",
     "text": [
      "훈련 세트 점수: 0.51\n",
      "테스트 세트 점수: 0.65\n"
     ]
    }
   ],
   "source": [
    "print(\"훈련 세트 점수: {:.2f}\".format(grid_search.score(X_train_scaled, y_train)))\n",
    "print(\"테스트 세트 점수: {:.2f}\".format(grid_search.score(X_test_scaled, y_test)))"
   ]
  },
  {
   "cell_type": "markdown",
   "metadata": {},
   "source": [
    "- 과소적합인 것으로 보임\n",
    "- 다른 패키지도 써보고 스케일링도 해봤지만 마찬가지\n",
    "- 표본이 너무 적어서 데이터셋이 어떻게 갈리느냐에 따라 최적 매개변수 변동 너무 심함..\n",
    "- 비교적 안정되어 보이던 alpha=0.1의 Ridge 모델을 선택 "
   ]
  },
  {
   "cell_type": "code",
   "execution_count": 15,
   "metadata": {},
   "outputs": [],
   "source": [
    "df_2019 = pd.read_csv(\"C://Users//JH//Desktop//B_FA_2019.csv\")"
   ]
  },
  {
   "cell_type": "code",
   "execution_count": 16,
   "metadata": {},
   "outputs": [],
   "source": [
    "df_2019_2 = df_2019[df_2019.name != \"김민성\"]\n",
    "df_2019_2 = df_2019_2.reset_index(drop=True)\n",
    "\n",
    "X_2019 = df_2019_2.drop([\"year\", \"name\", \"period\", \"salary\"], axis=1).values\n",
    "y_2019 = df_2019_2[\"salary\"].values\n",
    "\n",
    "X_2019_scaled = scaler.transform(X_2019)"
   ]
  },
  {
   "cell_type": "code",
   "execution_count": 17,
   "metadata": {
    "scrolled": true
   },
   "outputs": [
    {
     "name": "stdout",
     "output_type": "stream",
     "text": [
      "훈련 세트 점수: 0.81\n",
      "테스트 세트 점수: 0.81\n",
      "2019년 세트 점수: 0.71\n"
     ]
    }
   ],
   "source": [
    "ridge = Ridge(alpha = 0.2).fit(X_train_scaled, y_train)\n",
    "print(\"훈련 세트 점수: {:.2f}\".format(ridge.score(X_train_scaled, y_train)))\n",
    "print(\"테스트 세트 점수: {:.2f}\".format(ridge.score(X_test_scaled, y_test)))\n",
    "print(\"2019년 세트 점수: {:.2f}\".format(ridge.score(X_2019_scaled, y_2019)))"
   ]
  },
  {
   "cell_type": "code",
   "execution_count": 18,
   "metadata": {},
   "outputs": [
    {
     "name": "stdout",
     "output_type": "stream",
     "text": [
      "2019년 계약 예측\n",
      "[26.69704613  8.48045564 21.90933921 16.04963415 11.14634502 14.10978357\n",
      "  4.31405    13.86380354  7.98135671  6.81130612]\n"
     ]
    }
   ],
   "source": [
    "print(\"2019년 계약 예측\\n{}\".format(ridge.predict(X_2019_scaled)))"
   ]
  },
  {
   "cell_type": "code",
   "execution_count": 19,
   "metadata": {},
   "outputs": [
    {
     "data": {
      "text/html": [
       "<div>\n",
       "<style scoped>\n",
       "    .dataframe tbody tr th:only-of-type {\n",
       "        vertical-align: middle;\n",
       "    }\n",
       "\n",
       "    .dataframe tbody tr th {\n",
       "        vertical-align: top;\n",
       "    }\n",
       "\n",
       "    .dataframe thead th {\n",
       "        text-align: right;\n",
       "    }\n",
       "</style>\n",
       "<table border=\"1\" class=\"dataframe\">\n",
       "  <thead>\n",
       "    <tr style=\"text-align: right;\">\n",
       "      <th></th>\n",
       "      <th>선수명</th>\n",
       "      <th>계약규모</th>\n",
       "      <th>예측규모</th>\n",
       "    </tr>\n",
       "  </thead>\n",
       "  <tbody>\n",
       "    <tr>\n",
       "      <th>0</th>\n",
       "      <td>양의지</td>\n",
       "      <td>35.8</td>\n",
       "      <td>26.7</td>\n",
       "    </tr>\n",
       "    <tr>\n",
       "      <th>2</th>\n",
       "      <td>최정</td>\n",
       "      <td>17.7</td>\n",
       "      <td>21.9</td>\n",
       "    </tr>\n",
       "    <tr>\n",
       "      <th>3</th>\n",
       "      <td>이재원</td>\n",
       "      <td>17.2</td>\n",
       "      <td>16.0</td>\n",
       "    </tr>\n",
       "    <tr>\n",
       "      <th>8</th>\n",
       "      <td>박용택</td>\n",
       "      <td>12.5</td>\n",
       "      <td>8.0</td>\n",
       "    </tr>\n",
       "    <tr>\n",
       "      <th>5</th>\n",
       "      <td>이용규</td>\n",
       "      <td>8.7</td>\n",
       "      <td>14.1</td>\n",
       "    </tr>\n",
       "    <tr>\n",
       "      <th>9</th>\n",
       "      <td>박경수</td>\n",
       "      <td>8.7</td>\n",
       "      <td>6.8</td>\n",
       "    </tr>\n",
       "    <tr>\n",
       "      <th>4</th>\n",
       "      <td>송광민</td>\n",
       "      <td>8.0</td>\n",
       "      <td>11.1</td>\n",
       "    </tr>\n",
       "    <tr>\n",
       "      <th>1</th>\n",
       "      <td>모창민</td>\n",
       "      <td>6.7</td>\n",
       "      <td>8.5</td>\n",
       "    </tr>\n",
       "    <tr>\n",
       "      <th>7</th>\n",
       "      <td>김상수</td>\n",
       "      <td>6.0</td>\n",
       "      <td>13.9</td>\n",
       "    </tr>\n",
       "    <tr>\n",
       "      <th>6</th>\n",
       "      <td>최진행</td>\n",
       "      <td>2.5</td>\n",
       "      <td>4.3</td>\n",
       "    </tr>\n",
       "  </tbody>\n",
       "</table>\n",
       "</div>"
      ],
      "text/plain": [
       "   선수명  계약규모  예측규모\n",
       "0  양의지  35.8  26.7\n",
       "2   최정  17.7  21.9\n",
       "3  이재원  17.2  16.0\n",
       "8  박용택  12.5   8.0\n",
       "5  이용규   8.7  14.1\n",
       "9  박경수   8.7   6.8\n",
       "4  송광민   8.0  11.1\n",
       "1  모창민   6.7   8.5\n",
       "7  김상수   6.0  13.9\n",
       "6  최진행   2.5   4.3"
      ]
     },
     "execution_count": 19,
     "metadata": {},
     "output_type": "execute_result"
    }
   ],
   "source": [
    "pred = ridge.predict(X_2019_scaled)\n",
    "pred_df = pd.DataFrame(list(pred))\n",
    "result = pd.concat([df_2019_2['name'], df_2019_2['salary'].round(1), pred_df.round(1)], axis=1)\n",
    "result.columns = ['선수명', '계약규모', '예측규모']\n",
    "result.sort_values(by=\"계약규모\", ascending=False)"
   ]
  },
  {
   "cell_type": "code",
   "execution_count": 20,
   "metadata": {},
   "outputs": [],
   "source": [
    "import matplotlib.pyplot as plt"
   ]
  },
  {
   "cell_type": "code",
   "execution_count": 21,
   "metadata": {},
   "outputs": [
    {
     "data": {
      "image/png": "[encoded data removed]",
      "text/plain": [
       "<Figure size 432x288 with 1 Axes>"
      ]
     },
     "metadata": {},
     "output_type": "display_data"
    }
   ],
   "source": [
    "plt.style.use('ggplot')\n",
    "\n",
    "names = pd.Series(result['선수명'])\n",
    "\n",
    "plt.plot(result['예측규모'], result['계약규모'], 'o', label=\"선수명\")\n",
    "plt.plot((0, 35), (0, 35), label=\"기준\")\n",
    "\n",
    "plt.xlim(0, 35)\n",
    "plt.title(\"실제 계약 규모 vs. 예측 계약 규모\")\n",
    "plt.xlabel(\"예측 규모\")\n",
    "plt.ylabel(\"계약 규모\")\n",
    "plt.legend(loc=\"best\")\n",
    "for i,name in enumerate(names):\n",
    "    x = result['예측규모'][i]\n",
    "    y = result['계약규모'][i]\n",
    "    plt.text(x+0.5, y-0.6, name, fontsize=9)"
   ]
  },
  {
   "cell_type": "code",
   "execution_count": 20,
   "metadata": {},
   "outputs": [],
   "source": [
    "df2 = pd.read_csv(\"C://Users//JH//Desktop//P_FA_test.csv\")\n",
    "\n",
    "X2 = df2.drop([\"year\", \"name\", \"period\", \"salary\"], axis=1).values\n",
    "y2 = df2[\"salary\"].values\n",
    "\n",
    "X_train2, X_test2, y_train2, y_test2 = train_test_split(X2, y2, random_state = 0)\n",
    "\n",
    "scaler = MinMaxScaler()\n",
    "scaler.fit(X_train2)\n",
    "\n",
    "X_train_scaled2 = scaler.transform(X_train2)\n",
    "X_test_scaled2 = scaler.transform(X_test2)\n",
    "\n",
    "lr2 = LinearRegression().fit(X_train_scaled2, y_train2)"
   ]
  },
  {
   "cell_type": "code",
   "execution_count": 21,
   "metadata": {},
   "outputs": [
    {
     "name": "stdout",
     "output_type": "stream",
     "text": [
      "스케일링 된 훈련 세트 점수: 1.00\n",
      "스케일링 된 테스트 세트 점수: 0.58\n"
     ]
    }
   ],
   "source": [
    "print(\"스케일링 된 훈련 세트 점수: {:.2f}\".format(lr2.score(X_train_scaled2, y_train2)))\n",
    "print(\"스케일링 된 테스트 세트 점수: {:.2f}\".format(lr2.score(X_test_scaled2, y_test2)))"
   ]
  },
  {
   "cell_type": "code",
   "execution_count": 22,
   "metadata": {},
   "outputs": [
    {
     "name": "stdout",
     "output_type": "stream",
     "text": [
      "훈련 세트 점수: 0.96\n",
      "테스트 세트 점수: 0.87\n",
      "훈련 세트 점수: 0.97\n",
      "테스트 세트 점수: 0.87\n"
     ]
    }
   ],
   "source": [
    "ridge03_2 = Ridge(alpha = 0.3).fit(X_train_scaled2, y_train2)\n",
    "print(\"훈련 세트 점수: {:.2f}\".format(ridge03_2.score(X_train_scaled2, y_train2)))\n",
    "print(\"테스트 세트 점수: {:.2f}\".format(ridge03_2.score(X_test_scaled2, y_test2)))\n",
    "\n",
    "ridge02_2 = Ridge(alpha = 0.2).fit(X_train_scaled2, y_train2)\n",
    "print(\"훈련 세트 점수: {:.2f}\".format(ridge02_2.score(X_train_scaled2, y_train2)))\n",
    "print(\"테스트 세트 점수: {:.2f}\".format(ridge02_2.score(X_test_scaled2, y_test2)))"
   ]
  },
  {
   "cell_type": "code",
   "execution_count": 23,
   "metadata": {},
   "outputs": [],
   "source": [
    "df2_2019 = pd.read_csv(\"C://Users//JH//Desktop//P_FA_2019.csv\")\n",
    "\n",
    "df2_2019_2 = df2_2019[df2_2019.name != \"노경은\"]\n",
    "df2_2019_2 = df2_2019_2.reset_index(drop=True)\n",
    "\n",
    "X2_2019 = df2_2019_2.drop([\"year\", \"name\", \"period\", \"salary\"], axis=1).values\n",
    "y2_2019 = df2_2019_2[\"salary\"].values\n",
    "\n",
    "X2_2019_scaled = scaler.transform(X2_2019)"
   ]
  },
  {
   "cell_type": "code",
   "execution_count": 24,
   "metadata": {},
   "outputs": [
    {
     "name": "stdout",
     "output_type": "stream",
     "text": [
      "훈련 세트 점수: 0.88\n",
      "테스트 세트 점수: 0.83\n",
      "2019년 세트 점수: -12.08\n"
     ]
    }
   ],
   "source": [
    "ridge2 = Ridge(alpha = 1.1).fit(X_train_scaled2, y_train2)\n",
    "print(\"훈련 세트 점수: {:.2f}\".format(ridge2.score(X_train_scaled2, y_train2)))\n",
    "print(\"테스트 세트 점수: {:.2f}\".format(ridge2.score(X_test_scaled2, y_test2)))\n",
    "print(\"2019년 세트 점수: {:.2f}\".format(ridge2.score(X2_2019_scaled, y2_2019)))"
   ]
  },
  {
   "cell_type": "code",
   "execution_count": 25,
   "metadata": {
    "scrolled": false
   },
   "outputs": [
    {
     "name": "stdout",
     "output_type": "stream",
     "text": [
      "2019년 계약 예측\n",
      "[ 9.66539104 11.9143331  20.33550858]\n"
     ]
    }
   ],
   "source": [
    "print(\"2019년 계약 예측\\n{}\".format(ridge2.predict(X2_2019_scaled)))"
   ]
  },
  {
   "cell_type": "code",
   "execution_count": 26,
   "metadata": {},
   "outputs": [
    {
     "data": {
      "text/html": [
       "<div>\n",
       "<style scoped>\n",
       "    .dataframe tbody tr th:only-of-type {\n",
       "        vertical-align: middle;\n",
       "    }\n",
       "\n",
       "    .dataframe tbody tr th {\n",
       "        vertical-align: top;\n",
       "    }\n",
       "\n",
       "    .dataframe thead th {\n",
       "        text-align: right;\n",
       "    }\n",
       "</style>\n",
       "<table border=\"1\" class=\"dataframe\">\n",
       "  <thead>\n",
       "    <tr style=\"text-align: right;\">\n",
       "      <th></th>\n",
       "      <th>선수명</th>\n",
       "      <th>실제연봉</th>\n",
       "      <th>예측연봉</th>\n",
       "    </tr>\n",
       "  </thead>\n",
       "  <tbody>\n",
       "    <tr>\n",
       "      <th>1</th>\n",
       "      <td>윤성환</td>\n",
       "      <td>10.0</td>\n",
       "      <td>11.9</td>\n",
       "    </tr>\n",
       "    <tr>\n",
       "      <th>0</th>\n",
       "      <td>이보근</td>\n",
       "      <td>4.8</td>\n",
       "      <td>9.7</td>\n",
       "    </tr>\n",
       "    <tr>\n",
       "      <th>2</th>\n",
       "      <td>금민철</td>\n",
       "      <td>3.5</td>\n",
       "      <td>20.3</td>\n",
       "    </tr>\n",
       "  </tbody>\n",
       "</table>\n",
       "</div>"
      ],
      "text/plain": [
       "   선수명  실제연봉  예측연봉\n",
       "1  윤성환  10.0  11.9\n",
       "0  이보근   4.8   9.7\n",
       "2  금민철   3.5  20.3"
      ]
     },
     "execution_count": 26,
     "metadata": {},
     "output_type": "execute_result"
    }
   ],
   "source": [
    "pred2 = ridge2.predict(X2_2019_scaled)\n",
    "pred_df2 = pd.DataFrame(list(pred2))\n",
    "result2 = pd.concat([df2_2019_2['name'], df2_2019_2['salary'].round(1), pred_df2.round(1)], axis=1)\n",
    "result2.columns = ['선수명', '실제연봉', '예측연봉']\n",
    "result2.sort_values(by=\"실제연봉\", ascending=False)"
   ]
  },
  {
   "cell_type": "code",
   "execution_count": 27,
   "metadata": {
    "scrolled": true
   },
   "outputs": [
    {
     "data": {
      "text/html": [
       "<div>\n",
       "<style scoped>\n",
       "    .dataframe tbody tr th:only-of-type {\n",
       "        vertical-align: middle;\n",
       "    }\n",
       "\n",
       "    .dataframe tbody tr th {\n",
       "        vertical-align: top;\n",
       "    }\n",
       "\n",
       "    .dataframe thead th {\n",
       "        text-align: right;\n",
       "    }\n",
       "</style>\n",
       "<table border=\"1\" class=\"dataframe\">\n",
       "  <thead>\n",
       "    <tr style=\"text-align: right;\">\n",
       "      <th></th>\n",
       "      <th>요인</th>\n",
       "      <th>계수</th>\n",
       "    </tr>\n",
       "  </thead>\n",
       "  <tbody>\n",
       "    <tr>\n",
       "      <th>0</th>\n",
       "      <td>AGE</td>\n",
       "      <td>10.35</td>\n",
       "    </tr>\n",
       "    <tr>\n",
       "      <th>1</th>\n",
       "      <td>IBB</td>\n",
       "      <td>8.26</td>\n",
       "    </tr>\n",
       "    <tr>\n",
       "      <th>2</th>\n",
       "      <td>G</td>\n",
       "      <td>7.87</td>\n",
       "    </tr>\n",
       "    <tr>\n",
       "      <th>3</th>\n",
       "      <td>HBP</td>\n",
       "      <td>7.54</td>\n",
       "    </tr>\n",
       "    <tr>\n",
       "      <th>4</th>\n",
       "      <td>RBI</td>\n",
       "      <td>7.51</td>\n",
       "    </tr>\n",
       "    <tr>\n",
       "      <th>5</th>\n",
       "      <td>H_T</td>\n",
       "      <td>6.39</td>\n",
       "    </tr>\n",
       "    <tr>\n",
       "      <th>6</th>\n",
       "      <td>RBI_T</td>\n",
       "      <td>6.36</td>\n",
       "    </tr>\n",
       "    <tr>\n",
       "      <th>7</th>\n",
       "      <td>SO</td>\n",
       "      <td>6.31</td>\n",
       "    </tr>\n",
       "    <tr>\n",
       "      <th>8</th>\n",
       "      <td>R</td>\n",
       "      <td>5.66</td>\n",
       "    </tr>\n",
       "    <tr>\n",
       "      <th>9</th>\n",
       "      <td>H</td>\n",
       "      <td>5.29</td>\n",
       "    </tr>\n",
       "    <tr>\n",
       "      <th>10</th>\n",
       "      <td>POS</td>\n",
       "      <td>5.07</td>\n",
       "    </tr>\n",
       "    <tr>\n",
       "      <th>11</th>\n",
       "      <td>IBB_T</td>\n",
       "      <td>4.67</td>\n",
       "    </tr>\n",
       "    <tr>\n",
       "      <th>12</th>\n",
       "      <td>3B_T</td>\n",
       "      <td>4.63</td>\n",
       "    </tr>\n",
       "    <tr>\n",
       "      <th>13</th>\n",
       "      <td>HR</td>\n",
       "      <td>4.25</td>\n",
       "    </tr>\n",
       "    <tr>\n",
       "      <th>14</th>\n",
       "      <td>TB_T</td>\n",
       "      <td>4.24</td>\n",
       "    </tr>\n",
       "    <tr>\n",
       "      <th>15</th>\n",
       "      <td>G_T</td>\n",
       "      <td>3.74</td>\n",
       "    </tr>\n",
       "    <tr>\n",
       "      <th>16</th>\n",
       "      <td>BB</td>\n",
       "      <td>3.42</td>\n",
       "    </tr>\n",
       "    <tr>\n",
       "      <th>17</th>\n",
       "      <td>R_T</td>\n",
       "      <td>3.38</td>\n",
       "    </tr>\n",
       "    <tr>\n",
       "      <th>18</th>\n",
       "      <td>HR_T</td>\n",
       "      <td>3.24</td>\n",
       "    </tr>\n",
       "    <tr>\n",
       "      <th>19</th>\n",
       "      <td>2B_T</td>\n",
       "      <td>3.21</td>\n",
       "    </tr>\n",
       "    <tr>\n",
       "      <th>20</th>\n",
       "      <td>SF</td>\n",
       "      <td>2.88</td>\n",
       "    </tr>\n",
       "    <tr>\n",
       "      <th>21</th>\n",
       "      <td>SF_T</td>\n",
       "      <td>2.22</td>\n",
       "    </tr>\n",
       "    <tr>\n",
       "      <th>22</th>\n",
       "      <td>TB</td>\n",
       "      <td>2.19</td>\n",
       "    </tr>\n",
       "    <tr>\n",
       "      <th>23</th>\n",
       "      <td>BB_T</td>\n",
       "      <td>2.17</td>\n",
       "    </tr>\n",
       "    <tr>\n",
       "      <th>24</th>\n",
       "      <td>SAC</td>\n",
       "      <td>2.03</td>\n",
       "    </tr>\n",
       "    <tr>\n",
       "      <th>25</th>\n",
       "      <td>SO_T</td>\n",
       "      <td>1.96</td>\n",
       "    </tr>\n",
       "    <tr>\n",
       "      <th>26</th>\n",
       "      <td>SB</td>\n",
       "      <td>1.57</td>\n",
       "    </tr>\n",
       "    <tr>\n",
       "      <th>27</th>\n",
       "      <td>SAC_T</td>\n",
       "      <td>1.48</td>\n",
       "    </tr>\n",
       "    <tr>\n",
       "      <th>28</th>\n",
       "      <td>SB_T</td>\n",
       "      <td>1.26</td>\n",
       "    </tr>\n",
       "    <tr>\n",
       "      <th>29</th>\n",
       "      <td>3B</td>\n",
       "      <td>1.09</td>\n",
       "    </tr>\n",
       "    <tr>\n",
       "      <th>30</th>\n",
       "      <td>CS_T</td>\n",
       "      <td>0.92</td>\n",
       "    </tr>\n",
       "    <tr>\n",
       "      <th>31</th>\n",
       "      <td>AB</td>\n",
       "      <td>0.82</td>\n",
       "    </tr>\n",
       "    <tr>\n",
       "      <th>32</th>\n",
       "      <td>CS</td>\n",
       "      <td>0.64</td>\n",
       "    </tr>\n",
       "    <tr>\n",
       "      <th>33</th>\n",
       "      <td>PA</td>\n",
       "      <td>0.53</td>\n",
       "    </tr>\n",
       "    <tr>\n",
       "      <th>34</th>\n",
       "      <td>GDP</td>\n",
       "      <td>0.48</td>\n",
       "    </tr>\n",
       "    <tr>\n",
       "      <th>35</th>\n",
       "      <td>HBP_T</td>\n",
       "      <td>0.39</td>\n",
       "    </tr>\n",
       "    <tr>\n",
       "      <th>36</th>\n",
       "      <td>PA_T</td>\n",
       "      <td>0.25</td>\n",
       "    </tr>\n",
       "    <tr>\n",
       "      <th>37</th>\n",
       "      <td>2B</td>\n",
       "      <td>0.13</td>\n",
       "    </tr>\n",
       "    <tr>\n",
       "      <th>38</th>\n",
       "      <td>AB_T</td>\n",
       "      <td>0.13</td>\n",
       "    </tr>\n",
       "    <tr>\n",
       "      <th>39</th>\n",
       "      <td>GDP_T</td>\n",
       "      <td>0.13</td>\n",
       "    </tr>\n",
       "  </tbody>\n",
       "</table>\n",
       "</div>"
      ],
      "text/plain": [
       "       요인     계수\n",
       "0     AGE  10.35\n",
       "1     IBB   8.26\n",
       "2       G   7.87\n",
       "3     HBP   7.54\n",
       "4     RBI   7.51\n",
       "5     H_T   6.39\n",
       "6   RBI_T   6.36\n",
       "7      SO   6.31\n",
       "8       R   5.66\n",
       "9       H   5.29\n",
       "10    POS   5.07\n",
       "11  IBB_T   4.67\n",
       "12   3B_T   4.63\n",
       "13     HR   4.25\n",
       "14   TB_T   4.24\n",
       "15    G_T   3.74\n",
       "16     BB   3.42\n",
       "17    R_T   3.38\n",
       "18   HR_T   3.24\n",
       "19   2B_T   3.21\n",
       "20     SF   2.88\n",
       "21   SF_T   2.22\n",
       "22     TB   2.19\n",
       "23   BB_T   2.17\n",
       "24    SAC   2.03\n",
       "25   SO_T   1.96\n",
       "26     SB   1.57\n",
       "27  SAC_T   1.48\n",
       "28   SB_T   1.26\n",
       "29     3B   1.09\n",
       "30   CS_T   0.92\n",
       "31     AB   0.82\n",
       "32     CS   0.64\n",
       "33     PA   0.53\n",
       "34    GDP   0.48\n",
       "35  HBP_T   0.39\n",
       "36   PA_T   0.25\n",
       "37     2B   0.13\n",
       "38   AB_T   0.13\n",
       "39  GDP_T   0.13"
      ]
     },
     "execution_count": 27,
     "metadata": {},
     "output_type": "execute_result"
    }
   ],
   "source": [
    "coef = pd.DataFrame(list(ridge.coef_.round(2)))\n",
    "colname = pd.DataFrame(df.drop([\"year\", \"name\", \"period\", \"salary\"], axis=1).columns)\n",
    "\n",
    "coeffi = pd.concat([colname, abs(coef)], axis=1)\n",
    "coeffi.columns = ['요인', '계수']\n",
    "coeffisort = coeffi.sort_values(by=\"계수\", ascending=False)\n",
    "coeffisort = coeffisort.reset_index(drop=True)\n",
    "coeffisort"
   ]
  },
  {
   "cell_type": "code",
   "execution_count": 28,
   "metadata": {
    "scrolled": true
   },
   "outputs": [
    {
     "data": {
      "text/html": [
       "<div>\n",
       "<style scoped>\n",
       "    .dataframe tbody tr th:only-of-type {\n",
       "        vertical-align: middle;\n",
       "    }\n",
       "\n",
       "    .dataframe tbody tr th {\n",
       "        vertical-align: top;\n",
       "    }\n",
       "\n",
       "    .dataframe thead th {\n",
       "        text-align: right;\n",
       "    }\n",
       "</style>\n",
       "<table border=\"1\" class=\"dataframe\">\n",
       "  <thead>\n",
       "    <tr style=\"text-align: right;\">\n",
       "      <th></th>\n",
       "      <th>요인</th>\n",
       "      <th>계수</th>\n",
       "      <th>그룹</th>\n",
       "    </tr>\n",
       "  </thead>\n",
       "  <tbody>\n",
       "    <tr>\n",
       "      <th>0</th>\n",
       "      <td>AGE</td>\n",
       "      <td>10.35</td>\n",
       "      <td>0</td>\n",
       "    </tr>\n",
       "    <tr>\n",
       "      <th>1</th>\n",
       "      <td>IBB</td>\n",
       "      <td>8.26</td>\n",
       "      <td>1</td>\n",
       "    </tr>\n",
       "    <tr>\n",
       "      <th>2</th>\n",
       "      <td>G</td>\n",
       "      <td>7.87</td>\n",
       "      <td>0</td>\n",
       "    </tr>\n",
       "    <tr>\n",
       "      <th>3</th>\n",
       "      <td>HBP</td>\n",
       "      <td>7.54</td>\n",
       "      <td>1</td>\n",
       "    </tr>\n",
       "    <tr>\n",
       "      <th>4</th>\n",
       "      <td>RBI</td>\n",
       "      <td>7.51</td>\n",
       "      <td>1</td>\n",
       "    </tr>\n",
       "    <tr>\n",
       "      <th>5</th>\n",
       "      <td>H_T</td>\n",
       "      <td>6.39</td>\n",
       "      <td>1</td>\n",
       "    </tr>\n",
       "    <tr>\n",
       "      <th>6</th>\n",
       "      <td>RBI_T</td>\n",
       "      <td>6.36</td>\n",
       "      <td>1</td>\n",
       "    </tr>\n",
       "    <tr>\n",
       "      <th>7</th>\n",
       "      <td>SO</td>\n",
       "      <td>6.31</td>\n",
       "      <td>0</td>\n",
       "    </tr>\n",
       "    <tr>\n",
       "      <th>8</th>\n",
       "      <td>R</td>\n",
       "      <td>5.66</td>\n",
       "      <td>1</td>\n",
       "    </tr>\n",
       "    <tr>\n",
       "      <th>9</th>\n",
       "      <td>H</td>\n",
       "      <td>5.29</td>\n",
       "      <td>1</td>\n",
       "    </tr>\n",
       "    <tr>\n",
       "      <th>10</th>\n",
       "      <td>POS</td>\n",
       "      <td>5.07</td>\n",
       "      <td>1</td>\n",
       "    </tr>\n",
       "    <tr>\n",
       "      <th>11</th>\n",
       "      <td>IBB_T</td>\n",
       "      <td>4.67</td>\n",
       "      <td>0</td>\n",
       "    </tr>\n",
       "    <tr>\n",
       "      <th>12</th>\n",
       "      <td>3B_T</td>\n",
       "      <td>4.63</td>\n",
       "      <td>0</td>\n",
       "    </tr>\n",
       "    <tr>\n",
       "      <th>13</th>\n",
       "      <td>HR</td>\n",
       "      <td>4.25</td>\n",
       "      <td>0</td>\n",
       "    </tr>\n",
       "    <tr>\n",
       "      <th>14</th>\n",
       "      <td>TB_T</td>\n",
       "      <td>4.24</td>\n",
       "      <td>1</td>\n",
       "    </tr>\n",
       "    <tr>\n",
       "      <th>15</th>\n",
       "      <td>G_T</td>\n",
       "      <td>3.74</td>\n",
       "      <td>0</td>\n",
       "    </tr>\n",
       "    <tr>\n",
       "      <th>16</th>\n",
       "      <td>BB</td>\n",
       "      <td>3.42</td>\n",
       "      <td>0</td>\n",
       "    </tr>\n",
       "    <tr>\n",
       "      <th>17</th>\n",
       "      <td>R_T</td>\n",
       "      <td>3.38</td>\n",
       "      <td>1</td>\n",
       "    </tr>\n",
       "    <tr>\n",
       "      <th>18</th>\n",
       "      <td>HR_T</td>\n",
       "      <td>3.24</td>\n",
       "      <td>1</td>\n",
       "    </tr>\n",
       "    <tr>\n",
       "      <th>19</th>\n",
       "      <td>2B_T</td>\n",
       "      <td>3.21</td>\n",
       "      <td>0</td>\n",
       "    </tr>\n",
       "    <tr>\n",
       "      <th>20</th>\n",
       "      <td>SF</td>\n",
       "      <td>2.88</td>\n",
       "      <td>1</td>\n",
       "    </tr>\n",
       "    <tr>\n",
       "      <th>21</th>\n",
       "      <td>SF_T</td>\n",
       "      <td>2.22</td>\n",
       "      <td>0</td>\n",
       "    </tr>\n",
       "    <tr>\n",
       "      <th>22</th>\n",
       "      <td>TB</td>\n",
       "      <td>2.19</td>\n",
       "      <td>1</td>\n",
       "    </tr>\n",
       "    <tr>\n",
       "      <th>23</th>\n",
       "      <td>BB_T</td>\n",
       "      <td>2.17</td>\n",
       "      <td>0</td>\n",
       "    </tr>\n",
       "    <tr>\n",
       "      <th>24</th>\n",
       "      <td>SAC</td>\n",
       "      <td>2.03</td>\n",
       "      <td>1</td>\n",
       "    </tr>\n",
       "    <tr>\n",
       "      <th>25</th>\n",
       "      <td>SO_T</td>\n",
       "      <td>1.96</td>\n",
       "      <td>1</td>\n",
       "    </tr>\n",
       "    <tr>\n",
       "      <th>26</th>\n",
       "      <td>SB</td>\n",
       "      <td>1.57</td>\n",
       "      <td>1</td>\n",
       "    </tr>\n",
       "    <tr>\n",
       "      <th>27</th>\n",
       "      <td>SAC_T</td>\n",
       "      <td>1.48</td>\n",
       "      <td>0</td>\n",
       "    </tr>\n",
       "    <tr>\n",
       "      <th>28</th>\n",
       "      <td>SB_T</td>\n",
       "      <td>1.26</td>\n",
       "      <td>1</td>\n",
       "    </tr>\n",
       "    <tr>\n",
       "      <th>29</th>\n",
       "      <td>3B</td>\n",
       "      <td>1.09</td>\n",
       "      <td>0</td>\n",
       "    </tr>\n",
       "    <tr>\n",
       "      <th>30</th>\n",
       "      <td>CS_T</td>\n",
       "      <td>0.92</td>\n",
       "      <td>0</td>\n",
       "    </tr>\n",
       "    <tr>\n",
       "      <th>31</th>\n",
       "      <td>AB</td>\n",
       "      <td>0.82</td>\n",
       "      <td>1</td>\n",
       "    </tr>\n",
       "    <tr>\n",
       "      <th>32</th>\n",
       "      <td>CS</td>\n",
       "      <td>0.64</td>\n",
       "      <td>1</td>\n",
       "    </tr>\n",
       "    <tr>\n",
       "      <th>33</th>\n",
       "      <td>PA</td>\n",
       "      <td>0.53</td>\n",
       "      <td>1</td>\n",
       "    </tr>\n",
       "    <tr>\n",
       "      <th>34</th>\n",
       "      <td>GDP</td>\n",
       "      <td>0.48</td>\n",
       "      <td>1</td>\n",
       "    </tr>\n",
       "    <tr>\n",
       "      <th>35</th>\n",
       "      <td>HBP_T</td>\n",
       "      <td>0.39</td>\n",
       "      <td>1</td>\n",
       "    </tr>\n",
       "    <tr>\n",
       "      <th>36</th>\n",
       "      <td>PA_T</td>\n",
       "      <td>0.25</td>\n",
       "      <td>0</td>\n",
       "    </tr>\n",
       "    <tr>\n",
       "      <th>37</th>\n",
       "      <td>2B</td>\n",
       "      <td>0.13</td>\n",
       "      <td>1</td>\n",
       "    </tr>\n",
       "    <tr>\n",
       "      <th>38</th>\n",
       "      <td>AB_T</td>\n",
       "      <td>0.13</td>\n",
       "      <td>1</td>\n",
       "    </tr>\n",
       "    <tr>\n",
       "      <th>39</th>\n",
       "      <td>GDP_T</td>\n",
       "      <td>0.13</td>\n",
       "      <td>0</td>\n",
       "    </tr>\n",
       "  </tbody>\n",
       "</table>\n",
       "</div>"
      ],
      "text/plain": [
       "       요인     계수  그룹\n",
       "0     AGE  10.35   0\n",
       "1     IBB   8.26   1\n",
       "2       G   7.87   0\n",
       "3     HBP   7.54   1\n",
       "4     RBI   7.51   1\n",
       "5     H_T   6.39   1\n",
       "6   RBI_T   6.36   1\n",
       "7      SO   6.31   0\n",
       "8       R   5.66   1\n",
       "9       H   5.29   1\n",
       "10    POS   5.07   1\n",
       "11  IBB_T   4.67   0\n",
       "12   3B_T   4.63   0\n",
       "13     HR   4.25   0\n",
       "14   TB_T   4.24   1\n",
       "15    G_T   3.74   0\n",
       "16     BB   3.42   0\n",
       "17    R_T   3.38   1\n",
       "18   HR_T   3.24   1\n",
       "19   2B_T   3.21   0\n",
       "20     SF   2.88   1\n",
       "21   SF_T   2.22   0\n",
       "22     TB   2.19   1\n",
       "23   BB_T   2.17   0\n",
       "24    SAC   2.03   1\n",
       "25   SO_T   1.96   1\n",
       "26     SB   1.57   1\n",
       "27  SAC_T   1.48   0\n",
       "28   SB_T   1.26   1\n",
       "29     3B   1.09   0\n",
       "30   CS_T   0.92   0\n",
       "31     AB   0.82   1\n",
       "32     CS   0.64   1\n",
       "33     PA   0.53   1\n",
       "34    GDP   0.48   1\n",
       "35  HBP_T   0.39   1\n",
       "36   PA_T   0.25   0\n",
       "37     2B   0.13   1\n",
       "38   AB_T   0.13   1\n",
       "39  GDP_T   0.13   0"
      ]
     },
     "execution_count": 28,
     "metadata": {},
     "output_type": "execute_result"
    }
   ],
   "source": [
    "coef2 = pd.concat([colname, coef], axis=1)\n",
    "coef2.columns = ['요인', '계수']\n",
    "cogroup = []\n",
    "\n",
    "for i in range(40):\n",
    "    if coef2[\"계수\"][i] >= 0:\n",
    "        cogroup.append(1)\n",
    "    else:\n",
    "        cogroup.append(0)\n",
    "        \n",
    "cogroup_list = pd.Series(cogroup)\n",
    "coef2 = pd.concat([colname, abs(coef), cogroup_list], axis=1)\n",
    "coef2.columns = ['요인', '계수', '그룹']\n",
    "\n",
    "coef2\n",
    "\n",
    "coef2sort = coef2.sort_values(by=\"계수\", ascending=False)\n",
    "coeffisort = coef2sort.reset_index(drop=True)\n",
    "coeffisort"
   ]
  },
  {
   "cell_type": "code",
   "execution_count": 29,
   "metadata": {},
   "outputs": [
    {
     "data": {
      "text/plain": [
       "Text(0.5, 0, '요인')"
      ]
     },
     "execution_count": 29,
     "metadata": {},
     "output_type": "execute_result"
    },
    {
     "data": {
      "image/png": "[encoded data removed]",
      "text/plain": [
       "<Figure size 864x216 with 1 Axes>"
      ]
     },
     "metadata": {},
     "output_type": "display_data"
    }
   ],
   "source": [
    "plt.figure(figsize=(12, 3))\n",
    "plt.plot((coeffisort[\"계수\"][:20]), 'v', markersize=10)\n",
    "plt.xticks(range(20), coeffisort[\"요인\"][:20])\n",
    "plt.ylim(-1, 12)\n",
    "plt.ylabel(\"계수 영향력\")\n",
    "plt.xlabel(\"요인\")"
   ]
  },
  {
   "cell_type": "code",
   "execution_count": 30,
   "metadata": {},
   "outputs": [
    {
     "data": {
      "text/plain": [
       "0     10.35\n",
       "1      8.26\n",
       "2      7.87\n",
       "3      7.54\n",
       "4      7.51\n",
       "5      6.39\n",
       "6      6.36\n",
       "7      6.31\n",
       "8      5.66\n",
       "9      5.29\n",
       "10     5.07\n",
       "11     4.67\n",
       "12     4.63\n",
       "13     4.25\n",
       "14     4.24\n",
       "15     3.74\n",
       "16     3.42\n",
       "17     3.38\n",
       "18     3.24\n",
       "19     3.21\n",
       "Name: 계수, dtype: float64"
      ]
     },
     "execution_count": 30,
     "metadata": {},
     "output_type": "execute_result"
    }
   ],
   "source": [
    "coeffisort[\"계수\"][:20]"
   ]
  },
  {
   "cell_type": "code",
   "execution_count": 31,
   "metadata": {},
   "outputs": [],
   "source": [
    "coeffisort = coeffisort[:20]"
   ]
  },
  {
   "cell_type": "code",
   "execution_count": 32,
   "metadata": {},
   "outputs": [],
   "source": [
    "group0 = coeffisort[\"계수\"] - coeffisort[\"계수\"] + coeffisort[\"계수\"][coeffisort['그룹']==0]"
   ]
  },
  {
   "cell_type": "code",
   "execution_count": 33,
   "metadata": {},
   "outputs": [],
   "source": [
    "group1 = coeffisort[\"계수\"] - coeffisort[\"계수\"] + coeffisort[\"계수\"][coeffisort['그룹']==1]"
   ]
  },
  {
   "cell_type": "code",
   "execution_count": 34,
   "metadata": {},
   "outputs": [
    {
     "data": {
      "text/plain": [
       "<matplotlib.legend.Legend at 0x1f6f9292f60>"
      ]
     },
     "execution_count": 34,
     "metadata": {},
     "output_type": "execute_result"
    },
    {
     "data": {
      "image/png": "[encoded data removed]",
      "text/plain": [
       "<Figure size 720x216 with 1 Axes>"
      ]
     },
     "metadata": {},
     "output_type": "display_data"
    }
   ],
   "source": [
    "plt.style.use('ggplot')\n",
    "plt.figure(figsize=(10, 3))\n",
    "\n",
    "plt.bar(coeffisort[\"요인\"], group0, label=\"감소 영향 계수\", alpha = 0.7)\n",
    "plt.bar(coeffisort[\"요인\"], group1, label=\"증가 영향 계수\", alpha = 0.7)\n",
    "\n",
    "plt.title(\"계수 영향력 순위\")\n",
    "plt.ylabel(\"계수 영향력\")\n",
    "plt.xlabel(\"요인\")\n",
    "plt.legend(loc=1)"
   ]
  },
  {
   "cell_type": "code",
   "execution_count": 35,
   "metadata": {},
   "outputs": [],
   "source": [
    "sal_team = pd.Series(['KIA', '두산', '롯데', 'NC', 'SK',\n",
    "                     'LG', '넥센', '한화', '삼성', 'KT'])\n",
    "sal_total = pd.Series([1086500, 730600, 995000, 533900, 820000,\n",
    "                       807300, 582300, 883700, 730400, 538500])\n",
    "sal_win = pd.Series([70, 93, 68, 58, 78,\n",
    "                     68, 75, 77, 68, 59])"
   ]
  },
  {
   "cell_type": "code",
   "execution_count": 36,
   "metadata": {},
   "outputs": [
    {
     "data": {
      "text/plain": [
       "0    1.55\n",
       "1    0.79\n",
       "2    1.46\n",
       "3    0.92\n",
       "4    1.05\n",
       "5    1.19\n",
       "6    0.78\n",
       "7    1.15\n",
       "8    1.07\n",
       "9    0.91\n",
       "dtype: float64"
      ]
     },
     "execution_count": 36,
     "metadata": {},
     "output_type": "execute_result"
    }
   ],
   "source": [
    "sal_1win = (sal_total / sal_win / 10000).round(2)\n",
    "sal_1win"
   ]
  },
  {
   "cell_type": "code",
   "execution_count": 37,
   "metadata": {},
   "outputs": [
    {
     "data": {
      "text/html": [
       "<div>\n",
       "<style scoped>\n",
       "    .dataframe tbody tr th:only-of-type {\n",
       "        vertical-align: middle;\n",
       "    }\n",
       "\n",
       "    .dataframe tbody tr th {\n",
       "        vertical-align: top;\n",
       "    }\n",
       "\n",
       "    .dataframe thead th {\n",
       "        text-align: right;\n",
       "    }\n",
       "</style>\n",
       "<table border=\"1\" class=\"dataframe\">\n",
       "  <thead>\n",
       "    <tr style=\"text-align: right;\">\n",
       "      <th></th>\n",
       "      <th>팀명</th>\n",
       "      <th>1승당</th>\n",
       "    </tr>\n",
       "  </thead>\n",
       "  <tbody>\n",
       "    <tr>\n",
       "      <th>0</th>\n",
       "      <td>KIA</td>\n",
       "      <td>1.55</td>\n",
       "    </tr>\n",
       "    <tr>\n",
       "      <th>1</th>\n",
       "      <td>두산</td>\n",
       "      <td>0.79</td>\n",
       "    </tr>\n",
       "    <tr>\n",
       "      <th>2</th>\n",
       "      <td>롯데</td>\n",
       "      <td>1.46</td>\n",
       "    </tr>\n",
       "    <tr>\n",
       "      <th>3</th>\n",
       "      <td>NC</td>\n",
       "      <td>0.92</td>\n",
       "    </tr>\n",
       "    <tr>\n",
       "      <th>4</th>\n",
       "      <td>SK</td>\n",
       "      <td>1.05</td>\n",
       "    </tr>\n",
       "    <tr>\n",
       "      <th>5</th>\n",
       "      <td>LG</td>\n",
       "      <td>1.19</td>\n",
       "    </tr>\n",
       "    <tr>\n",
       "      <th>6</th>\n",
       "      <td>넥센</td>\n",
       "      <td>0.78</td>\n",
       "    </tr>\n",
       "    <tr>\n",
       "      <th>7</th>\n",
       "      <td>한화</td>\n",
       "      <td>1.15</td>\n",
       "    </tr>\n",
       "    <tr>\n",
       "      <th>8</th>\n",
       "      <td>삼성</td>\n",
       "      <td>1.07</td>\n",
       "    </tr>\n",
       "    <tr>\n",
       "      <th>9</th>\n",
       "      <td>KT</td>\n",
       "      <td>0.91</td>\n",
       "    </tr>\n",
       "  </tbody>\n",
       "</table>\n",
       "</div>"
      ],
      "text/plain": [
       "    팀명   1승당\n",
       "0  KIA  1.55\n",
       "1   두산  0.79\n",
       "2   롯데  1.46\n",
       "3   NC  0.92\n",
       "4   SK  1.05\n",
       "5   LG  1.19\n",
       "6   넥센  0.78\n",
       "7   한화  1.15\n",
       "8   삼성  1.07\n",
       "9   KT  0.91"
      ]
     },
     "execution_count": 37,
     "metadata": {},
     "output_type": "execute_result"
    }
   ],
   "source": [
    "sal_hap = pd.concat([sal_team, sal_1win], axis=1)\n",
    "sal_hap.columns = ['팀명', '1승당']\n",
    "sal_hap"
   ]
  },
  {
   "cell_type": "code",
   "execution_count": 38,
   "metadata": {},
   "outputs": [
    {
     "data": {
      "text/plain": [
       "<matplotlib.legend.Legend at 0x1f6f93af198>"
      ]
     },
     "execution_count": 38,
     "metadata": {},
     "output_type": "execute_result"
    },
    {
     "data": {
      "image/png": "[encoded data removed]",
      "text/plain": [
       "<Figure size 720x216 with 1 Axes>"
      ]
     },
     "metadata": {},
     "output_type": "display_data"
    }
   ],
   "source": [
    "plt.figure(figsize=(10, 3))\n",
    "plt.plot(sal_hap[\"1승당\"], 'v', markersize=10, alpha=0.8, label=\"\")\n",
    "plt.xticks(range(sal_hap.shape[0]), sal_hap[\"팀명\"])\n",
    "\n",
    "plt.title(\"2018 KBO 각 팀 별 1승당 지불 비용(단위: 억 원)\")\n",
    "plt.ylim(0.6, 1.7)\n",
    "plt.axhline(y = 1, clip_on = False, color='b', label=\"1억 원\")\n",
    "plt.ylabel(\"1승당 비용\")\n",
    "plt.xlabel(\"팀 명\")\n",
    "plt.legend(loc=1)"
   ]
  },
  {
   "cell_type": "code",
   "execution_count": 39,
   "metadata": {},
   "outputs": [],
   "source": [
    "XX = df.drop([\"year\", \"name\", \"period\", \"salary\"], axis=1)"
   ]
  },
  {
   "cell_type": "code",
   "execution_count": 40,
   "metadata": {},
   "outputs": [],
   "source": [
    "coef_mean = XX.mean()"
   ]
  },
  {
   "cell_type": "code",
   "execution_count": 41,
   "metadata": {},
   "outputs": [],
   "source": [
    "coef_mean[\"AGE\"] = 105.480000\n",
    "coef_mean[\"POS\"] = 105.480000"
   ]
  },
  {
   "cell_type": "code",
   "execution_count": 42,
   "metadata": {
    "scrolled": true
   },
   "outputs": [
    {
     "data": {
      "text/plain": [
       "AGE     -1091.396922\n",
       "POS       535.279336\n",
       "G        -829.609176\n",
       "PA        205.178606\n",
       "AB        274.395926\n",
       "R         287.068991\n",
       "H         517.065261\n",
       "2B          2.265079\n",
       "3B         -1.306324\n",
       "HR        -41.507531\n",
       "TB        321.380574\n",
       "RBI       381.743918\n",
       "SB         12.064025\n",
       "CS          2.132749\n",
       "BB       -137.599316\n",
       "HBP        38.708863\n",
       "IBB        12.670650\n",
       "SO       -381.954168\n",
       "GDP         4.079610\n",
       "SAC         9.544836\n",
       "SF          8.708477\n",
       "G_T     -4344.308087\n",
       "PA_T    -1051.374019\n",
       "AB_T      462.404624\n",
       "R_T      1779.567579\n",
       "H_T      6471.832892\n",
       "2B_T     -565.350662\n",
       "3B_T      -79.511666\n",
       "HR_T      316.710849\n",
       "TB_T     6431.208854\n",
       "RBI_T    3155.653216\n",
       "SB_T      132.196094\n",
       "CS_T      -41.062348\n",
       "BB_T     -843.007138\n",
       "HBP_T      21.376682\n",
       "IBB_T     -77.883200\n",
       "SO_T     1220.764012\n",
       "GDP_T     -10.319697\n",
       "SAC_T     -89.166754\n",
       "SF_T      -69.917549\n",
       "dtype: float64"
      ]
     },
     "execution_count": 42,
     "metadata": {},
     "output_type": "execute_result"
    }
   ],
   "source": [
    "ridge.coef_*coef_mean"
   ]
  },
  {
   "cell_type": "code",
   "execution_count": 43,
   "metadata": {},
   "outputs": [],
   "source": [
    "coef = pd.DataFrame(list((ridge.coef_*coef_mean)))\n",
    "colname = pd.DataFrame(df.drop([\"year\", \"name\", \"period\", \"salary\"], axis=1).columns)\n",
    "\n",
    "coeffi = pd.concat([colname, abs(coef)], axis=1)\n",
    "coeffi.columns = ['요인', '계수']\n",
    "coeffisort = coeffi.sort_values(by=\"계수\", ascending=False)\n",
    "coeffisort = coeffisort.reset_index(drop=True)"
   ]
  },
  {
   "cell_type": "code",
   "execution_count": 44,
   "metadata": {
    "scrolled": true
   },
   "outputs": [
    {
     "data": {
      "text/plain": [
       "32259.276260822666"
      ]
     },
     "execution_count": 44,
     "metadata": {},
     "output_type": "execute_result"
    }
   ],
   "source": [
    "sum(abs(coef[0]))"
   ]
  },
  {
   "cell_type": "code",
   "execution_count": 45,
   "metadata": {},
   "outputs": [],
   "source": [
    "coef2 = pd.concat([colname, coef], axis=1)\n",
    "coef2.columns = ['요인', '계수']\n",
    "cogroup = []\n",
    "\n",
    "for i in range(40):\n",
    "    if coef2[\"계수\"][i] >= 0:\n",
    "        cogroup.append(1)\n",
    "    else:\n",
    "        cogroup.append(0)\n",
    "        \n",
    "cogroup_list = pd.Series(cogroup)\n",
    "coef2 = pd.concat([colname, abs(coef), cogroup_list], axis=1)\n",
    "coef2.columns = ['요인', '계수', '그룹']\n",
    "\n",
    "coef2\n",
    "\n",
    "coef2sort = coef2.sort_values(by=\"계수\", ascending=False)\n",
    "coeffisort = coef2sort.reset_index(drop=True)"
   ]
  },
  {
   "cell_type": "code",
   "execution_count": 46,
   "metadata": {},
   "outputs": [],
   "source": [
    "coeffisort = coeffisort[:20]\n",
    "coeffisort[\"계수\"] = coeffisort[\"계수\"] / sum(abs(coef[0]))"
   ]
  },
  {
   "cell_type": "code",
   "execution_count": 47,
   "metadata": {},
   "outputs": [],
   "source": [
    "group0 = coeffisort[\"계수\"] - coeffisort[\"계수\"] + coeffisort[\"계수\"][coeffisort['그룹']==0]\n",
    "group1 = coeffisort[\"계수\"] - coeffisort[\"계수\"] + coeffisort[\"계수\"][coeffisort['그룹']==1]"
   ]
  },
  {
   "cell_type": "code",
   "execution_count": 48,
   "metadata": {},
   "outputs": [],
   "source": [
    "nu = [coeffisort[\"계수\"][0]]\n",
    "\n",
    "for i in range(0, 19):\n",
    "    su = nu[i] + coeffisort[\"계수\"][i+1]\n",
    "    nu.append(su)"
   ]
  },
  {
   "cell_type": "code",
   "execution_count": 49,
   "metadata": {},
   "outputs": [
    {
     "data": {
      "text/plain": [
       "<matplotlib.legend.Legend at 0x1f6f93f35c0>"
      ]
     },
     "execution_count": 49,
     "metadata": {},
     "output_type": "execute_result"
    },
    {
     "data": {
      "image/png": "[encoded data removed]",
      "text/plain": [
       "<Figure size 720x216 with 1 Axes>"
      ]
     },
     "metadata": {},
     "output_type": "display_data"
    }
   ],
   "source": [
    "plt.style.use('ggplot')\n",
    "plt.figure(figsize=(10, 3))\n",
    "\n",
    "plt.bar(coeffisort[\"요인\"], group0, label=\"감소 영향 비중\", alpha = 0.7, \n",
    "        width=1, edgecolor='black')\n",
    "plt.bar(coeffisort[\"요인\"], group1, label=\"증가 영향 비중\", alpha = 0.7, \n",
    "        width=1, edgecolor='black')\n",
    "plt.plot(coeffisort[\"요인\"], nu, marker='o', linestyle='solid',\n",
    "        color='g', label=\"영향력 누적 그래프\")\n",
    "\n",
    "plt.ylim(0, 1.1)\n",
    "plt.title(\"수정된 계수 영향력 순위\")\n",
    "plt.ylabel(\"계수 영향력\")\n",
    "plt.xlabel(\"요인\")\n",
    "plt.legend(loc=5)"
   ]
  },
  {
   "cell_type": "code",
   "execution_count": null,
   "metadata": {},
   "outputs": [],
   "source": []
  }
 ],
 "metadata": {
  "kernelspec": {
   "display_name": "Python 3",
   "language": "python",
   "name": "python3"
  },
  "language_info": {
   "codemirror_mode": {
    "name": "ipython",
    "version": 3
   },
   "file_extension": ".py",
   "mimetype": "text/x-python",
   "name": "python",
   "nbconvert_exporter": "python",
   "pygments_lexer": "ipython3",
   "version": "3.7.1"
  }
 },
 "nbformat": 4,
 "nbformat_minor": 2
}
